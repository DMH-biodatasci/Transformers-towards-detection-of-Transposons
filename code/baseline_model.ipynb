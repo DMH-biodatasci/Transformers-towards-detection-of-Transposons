{
 "cells": [
  {
   "cell_type": "markdown",
   "metadata": {
    "id": "ZeJ8iTi7qKAs"
   },
   "source": [
    "# Boundary detection of composite transposable elements\n",
    "\n",
    "## Notebook: Implement a baseline model\n",
    "\n",
    "### Description:\n",
    "\n",
    "Transposable elements are sequences in genomes that can change their position in the genome. Thus, they are also called “jumping genes”. They are able to affect the composition and size of genetic replicons. Our research interest in this project are composite transposable elements, which are flanked by two inverted repeats and transposable elements. Composite transposable elements are moving as one unit within a genome and are copying and inserting genes enclosed by itself. The following traits of composite transposable elements are making their detection challenging:\n",
    "\n",
    "Sometimes terminal information such as repeats or transposable elements are missing, which would theoretically determine the boundaries of a composite transposable element.\n",
    "Composite transposable elements are diverse in their genetic composition and size.\n",
    "Composite transposable elements are usually associated with essential and indispensable genes, which are having a high gene frequency across genomes, but also with genes of lower essentiality, which leads to significant drop in the gene frequency landscape. We hypothesize that the genetic frequency landscape of a replicon will follow a particular pattern, which can be used as a marker for putative regions of composite transposable elements. Thus, we are representing here an approach to detect boundaries of composite transposable elements using the langugage of genome sequences consisting out protein families labels.\n",
    "\n",
    "### Project Repo:\n",
    "\n",
    "https://github.com/DMH-dutte/Boundary_detection_comTEs\n",
    "\n",
    "Participants:\n",
    "\n",
    "Nicolas Steen\n",
    "\n",
    "Friedrich Kerchnawe\n",
    "\n",
    "Wang Yiqing\n",
    "\n",
    "Dustin Martin Hanke\n",
    "\n",
    "### Course and Semester:\n",
    "\n",
    "Transformers for Natural Language Processing and Beyond - Sommersemester 2022"
   ]
  },
  {
   "cell_type": "markdown",
   "metadata": {},
   "source": [
    "# Implement a baseline model for NER-task"
   ]
  },
  {
   "cell_type": "code",
   "execution_count": 1,
   "metadata": {
    "colab": {
     "base_uri": "https://localhost:8080/"
    },
    "executionInfo": {
     "elapsed": 23635,
     "status": "ok",
     "timestamp": 1655024628102,
     "user": {
      "displayName": "Nico S.",
      "userId": "10138344247765665103"
     },
     "user_tz": -120
    },
    "id": "N436Mzz6qKA3",
    "outputId": "1004d150-9195-4a6c-aae2-8283e82b824a"
   },
   "outputs": [
    {
     "name": "stdout",
     "output_type": "stream",
     "text": [
      "Mounted at /content/drive\n"
     ]
    }
   ],
   "source": [
    "import pandas as pd\n",
    "import numpy as np\n",
    "import pickle\n",
    "from tqdm import tqdm\n",
    "from sklearn.metrics import confusion_matrix, ConfusionMatrixDisplay\n",
    "from sklearn.metrics import accuracy_score, recall_score, precision_score, f1_score\n",
    "import matplotlib.pyplot as plt\n",
    "# from google.colab import drive\n",
    "# drive.mount('/content/drive')"
   ]
  },
  {
   "cell_type": "code",
   "execution_count": 2,
   "metadata": {
    "executionInfo": {
     "elapsed": 13,
     "status": "ok",
     "timestamp": 1655024628104,
     "user": {
      "displayName": "Nico S.",
      "userId": "10138344247765665103"
     },
     "user_tz": -120
    },
    "id": "ancValmcqKBC"
   },
   "outputs": [],
   "source": [
    "def compute_metrics(pred, labels):\n",
    "\n",
    "    accuracy = accuracy_score(y_true=labels, y_pred=pred)\n",
    "    recall = recall_score(y_true=labels, y_pred=pred)\n",
    "    precision = precision_score(y_true=labels, y_pred=pred)\n",
    "    f1 = f1_score(y_true=labels, y_pred=pred)\n",
    "    cm = confusion_matrix(all_labels, all_predictions)\n",
    "    cm_n = confusion_matrix(all_labels, all_predictions, normalize=\"true\")\n",
    "\n",
    "    return {\"accuracy\": accuracy, \"precision\": precision, \"recall\": recall, \"f1\": f1, \"cm\":cm, \"cm_normalized\":cm_n}\n",
    "\n",
    "def display_metrics(metrics):\n",
    "    disp = ConfusionMatrixDisplay(metrics[\"cm_normalized\"])\n",
    "    disp.plot()\n",
    "    plt.show()\n",
    "\n",
    "    print(f'\\nAccuracy:   {metrics[\"accuracy\"]*100:.2f}%')\n",
    "    print(f'precision:  {metrics[\"precision\"]*100:.2f}%')\n",
    "    print(f'recall:     {metrics[\"recall\"]*100:.2f}%')\n",
    "    print(f'f1:         {metrics[\"f1\"]*100:.2f}%')\n",
    "    print(f'\\nConfusion matrix:\\n{metrics[\"cm\"]}')"
   ]
  },
  {
   "cell_type": "code",
   "execution_count": 3,
   "metadata": {
    "colab": {
     "base_uri": "https://localhost:8080/",
     "height": 204
    },
    "executionInfo": {
     "elapsed": 13754,
     "status": "ok",
     "timestamp": 1655024672578,
     "user": {
      "displayName": "Nico S.",
      "userId": "10138344247765665103"
     },
     "user_tz": -120
    },
    "id": "s66NY4DpqKBF",
    "outputId": "20123811-2c09-48ff-85ca-edf8127146e5"
   },
   "outputs": [
    {
     "data": {
      "text/html": [
       "\n",
       "  <div id=\"df-fda3960d-45bd-48ce-9741-6bb0892302fb\">\n",
       "    <div class=\"colab-df-container\">\n",
       "      <div>\n",
       "<style scoped>\n",
       "    .dataframe tbody tr th:only-of-type {\n",
       "        vertical-align: middle;\n",
       "    }\n",
       "\n",
       "    .dataframe tbody tr th {\n",
       "        vertical-align: top;\n",
       "    }\n",
       "\n",
       "    .dataframe thead th {\n",
       "        text-align: right;\n",
       "    }\n",
       "</style>\n",
       "<table border=\"1\" class=\"dataframe\">\n",
       "  <thead>\n",
       "    <tr style=\"text-align: right;\">\n",
       "      <th></th>\n",
       "      <th>token_ids</th>\n",
       "      <th>attention_masks</th>\n",
       "      <th>labels</th>\n",
       "    </tr>\n",
       "  </thead>\n",
       "  <tbody>\n",
       "    <tr>\n",
       "      <th>104</th>\n",
       "      <td>[440, 4846, 4847, 4848, 4849, 4850, 4851, 4852...</td>\n",
       "      <td>[1, 1, 1, 1, 1, 1, 1, 1, 1, 1, 1, 1, 1, 1, 1, ...</td>\n",
       "      <td>[0, 0, 0, 0, 0, 0, 0, 0, 0, 0, 0, 0, 0, 0, 0, ...</td>\n",
       "    </tr>\n",
       "    <tr>\n",
       "      <th>105</th>\n",
       "      <td>[31, 2986, 2985, 2984, 2982, 2981, 2980, 2979,...</td>\n",
       "      <td>[1, 1, 1, 1, 1, 1, 1, 1, 1, 1, 1, 1, 1, 1, 1, ...</td>\n",
       "      <td>[0, 0, 0, 0, 0, 0, 0, 0, 0, 0, 0, 0, 0, 0, 0, ...</td>\n",
       "    </tr>\n",
       "    <tr>\n",
       "      <th>106</th>\n",
       "      <td>[4984, 4985, 4986, 4987, 4988, 4989, 4990, 499...</td>\n",
       "      <td>[1, 1, 1, 1, 1, 1, 1, 1, 1, 1, 1, 1, 1, 1, 1, ...</td>\n",
       "      <td>[0, 0, 0, 0, 0, 0, 0, 0, 0, 0, 0, 0, 0, 0, 0, ...</td>\n",
       "    </tr>\n",
       "    <tr>\n",
       "      <th>107</th>\n",
       "      <td>[2925, 2924, 2923, 2922, 2921, 2920, 2918, 291...</td>\n",
       "      <td>[1, 1, 1, 1, 1, 1, 1, 1, 1, 1, 1, 1, 1, 1, 1, ...</td>\n",
       "      <td>[0, 0, 0, 0, 0, 0, 0, 0, 0, 0, 0, 0, 0, 0, 0, ...</td>\n",
       "    </tr>\n",
       "    <tr>\n",
       "      <th>108</th>\n",
       "      <td>[2877, 2876, 2875, 5004, 5005, 2874, 2873, 287...</td>\n",
       "      <td>[1, 1, 1, 1, 1, 1, 1, 1, 1, 1, 1, 1, 1, 1, 1, ...</td>\n",
       "      <td>[0, 0, 0, 0, 0, 0, 0, 0, 0, 0, 0, 0, 0, 0, 0, ...</td>\n",
       "    </tr>\n",
       "  </tbody>\n",
       "</table>\n",
       "</div>\n",
       "      <button class=\"colab-df-convert\" onclick=\"convertToInteractive('df-fda3960d-45bd-48ce-9741-6bb0892302fb')\"\n",
       "              title=\"Convert this dataframe to an interactive table.\"\n",
       "              style=\"display:none;\">\n",
       "        \n",
       "  <svg xmlns=\"http://www.w3.org/2000/svg\" height=\"24px\"viewBox=\"0 0 24 24\"\n",
       "       width=\"24px\">\n",
       "    <path d=\"M0 0h24v24H0V0z\" fill=\"none\"/>\n",
       "    <path d=\"M18.56 5.44l.94 2.06.94-2.06 2.06-.94-2.06-.94-.94-2.06-.94 2.06-2.06.94zm-11 1L8.5 8.5l.94-2.06 2.06-.94-2.06-.94L8.5 2.5l-.94 2.06-2.06.94zm10 10l.94 2.06.94-2.06 2.06-.94-2.06-.94-.94-2.06-.94 2.06-2.06.94z\"/><path d=\"M17.41 7.96l-1.37-1.37c-.4-.4-.92-.59-1.43-.59-.52 0-1.04.2-1.43.59L10.3 9.45l-7.72 7.72c-.78.78-.78 2.05 0 2.83L4 21.41c.39.39.9.59 1.41.59.51 0 1.02-.2 1.41-.59l7.78-7.78 2.81-2.81c.8-.78.8-2.07 0-2.86zM5.41 20L4 18.59l7.72-7.72 1.47 1.35L5.41 20z\"/>\n",
       "  </svg>\n",
       "      </button>\n",
       "      \n",
       "  <style>\n",
       "    .colab-df-container {\n",
       "      display:flex;\n",
       "      flex-wrap:wrap;\n",
       "      gap: 12px;\n",
       "    }\n",
       "\n",
       "    .colab-df-convert {\n",
       "      background-color: #E8F0FE;\n",
       "      border: none;\n",
       "      border-radius: 50%;\n",
       "      cursor: pointer;\n",
       "      display: none;\n",
       "      fill: #1967D2;\n",
       "      height: 32px;\n",
       "      padding: 0 0 0 0;\n",
       "      width: 32px;\n",
       "    }\n",
       "\n",
       "    .colab-df-convert:hover {\n",
       "      background-color: #E2EBFA;\n",
       "      box-shadow: 0px 1px 2px rgba(60, 64, 67, 0.3), 0px 1px 3px 1px rgba(60, 64, 67, 0.15);\n",
       "      fill: #174EA6;\n",
       "    }\n",
       "\n",
       "    [theme=dark] .colab-df-convert {\n",
       "      background-color: #3B4455;\n",
       "      fill: #D2E3FC;\n",
       "    }\n",
       "\n",
       "    [theme=dark] .colab-df-convert:hover {\n",
       "      background-color: #434B5C;\n",
       "      box-shadow: 0px 1px 3px 1px rgba(0, 0, 0, 0.15);\n",
       "      filter: drop-shadow(0px 1px 2px rgba(0, 0, 0, 0.3));\n",
       "      fill: #FFFFFF;\n",
       "    }\n",
       "  </style>\n",
       "\n",
       "      <script>\n",
       "        const buttonEl =\n",
       "          document.querySelector('#df-fda3960d-45bd-48ce-9741-6bb0892302fb button.colab-df-convert');\n",
       "        buttonEl.style.display =\n",
       "          google.colab.kernel.accessAllowed ? 'block' : 'none';\n",
       "\n",
       "        async function convertToInteractive(key) {\n",
       "          const element = document.querySelector('#df-fda3960d-45bd-48ce-9741-6bb0892302fb');\n",
       "          const dataTable =\n",
       "            await google.colab.kernel.invokeFunction('convertToInteractive',\n",
       "                                                     [key], {});\n",
       "          if (!dataTable) return;\n",
       "\n",
       "          const docLinkHtml = 'Like what you see? Visit the ' +\n",
       "            '<a target=\"_blank\" href=https://colab.research.google.com/notebooks/data_table.ipynb>data table notebook</a>'\n",
       "            + ' to learn more about interactive tables.';\n",
       "          element.innerHTML = '';\n",
       "          dataTable['output_type'] = 'display_data';\n",
       "          await google.colab.output.renderOutput(dataTable, element);\n",
       "          const docLink = document.createElement('div');\n",
       "          docLink.innerHTML = docLinkHtml;\n",
       "          element.appendChild(docLink);\n",
       "        }\n",
       "      </script>\n",
       "    </div>\n",
       "  </div>\n",
       "  "
      ],
      "text/plain": [
       "                                             token_ids  \\\n",
       "104  [440, 4846, 4847, 4848, 4849, 4850, 4851, 4852...   \n",
       "105  [31, 2986, 2985, 2984, 2982, 2981, 2980, 2979,...   \n",
       "106  [4984, 4985, 4986, 4987, 4988, 4989, 4990, 499...   \n",
       "107  [2925, 2924, 2923, 2922, 2921, 2920, 2918, 291...   \n",
       "108  [2877, 2876, 2875, 5004, 5005, 2874, 2873, 287...   \n",
       "\n",
       "                                       attention_masks  \\\n",
       "104  [1, 1, 1, 1, 1, 1, 1, 1, 1, 1, 1, 1, 1, 1, 1, ...   \n",
       "105  [1, 1, 1, 1, 1, 1, 1, 1, 1, 1, 1, 1, 1, 1, 1, ...   \n",
       "106  [1, 1, 1, 1, 1, 1, 1, 1, 1, 1, 1, 1, 1, 1, 1, ...   \n",
       "107  [1, 1, 1, 1, 1, 1, 1, 1, 1, 1, 1, 1, 1, 1, 1, ...   \n",
       "108  [1, 1, 1, 1, 1, 1, 1, 1, 1, 1, 1, 1, 1, 1, 1, ...   \n",
       "\n",
       "                                                labels  \n",
       "104  [0, 0, 0, 0, 0, 0, 0, 0, 0, 0, 0, 0, 0, 0, 0, ...  \n",
       "105  [0, 0, 0, 0, 0, 0, 0, 0, 0, 0, 0, 0, 0, 0, 0, ...  \n",
       "106  [0, 0, 0, 0, 0, 0, 0, 0, 0, 0, 0, 0, 0, 0, 0, ...  \n",
       "107  [0, 0, 0, 0, 0, 0, 0, 0, 0, 0, 0, 0, 0, 0, 0, ...  \n",
       "108  [0, 0, 0, 0, 0, 0, 0, 0, 0, 0, 0, 0, 0, 0, 0, ...  "
      ]
     },
     "execution_count": 3,
     "metadata": {},
     "output_type": "execute_result"
    }
   ],
   "source": [
    "path = \"../data/\" #\"drive/MyDrive/TE_detection/data/processed_data/\"\n",
    "df = pd.read_pickle(r'../data/processed_data/training_set.pkl')\n",
    "df_test = pd.read_pickle(r'../data/processed_data/test_set.pkl')\n",
    "df = df[[\"token_ids\", \"attention_masks\",\"labels\"]]\n",
    "df_test = df_test[[\"token_ids\", \"attention_masks\",\"labels\"]]\n",
    "df.head()"
   ]
  },
  {
   "cell_type": "markdown",
   "metadata": {
    "id": "ANrEPFKnqKBM"
   },
   "source": [
    "## Calculate the probability for each token to be in a transposable element"
   ]
  },
  {
   "cell_type": "code",
   "execution_count": null,
   "metadata": {
    "colab": {
     "base_uri": "https://localhost:8080/"
    },
    "executionInfo": {
     "elapsed": 52556,
     "status": "ok",
     "timestamp": 1654983068191,
     "user": {
      "displayName": "Nico S.",
      "userId": "10138344247765665103"
     },
     "user_tz": -120
    },
    "id": "rScCsu2kqKBO",
    "outputId": "5be54c17-a779-46eb-f000-ce990cc491b5"
   },
   "outputs": [
    {
     "name": "stderr",
     "output_type": "stream",
     "text": [
      "209159it [00:52, 3992.93it/s]\n"
     ]
    }
   ],
   "source": [
    "results = {}\n",
    "\n",
    "#for token_line, label_line in tqdm(zip(df[\"token_ids\"], df[\"labels\"])):\n",
    "for idx, row in tqdm(df.iterrows()):\n",
    "    for elem, label in zip(row.token_ids, row.labels):\n",
    "        if elem not in results.keys():\n",
    "            results[elem] = {}\n",
    "            results[elem]['positives'] = 0\n",
    "            results[elem]['count'] = 0\n",
    "            results[elem]['p'] = 0\n",
    "        results[elem]['count'] += 1\n",
    "        if label == 1:\n",
    "            results[elem]['positives'] += 1\n",
    "        results[elem]['p'] = results[elem]['positives']/results[elem]['count']"
   ]
  },
  {
   "cell_type": "code",
   "execution_count": null,
   "metadata": {
    "colab": {
     "base_uri": "https://localhost:8080/",
     "height": 297
    },
    "executionInfo": {
     "elapsed": 191,
     "status": "ok",
     "timestamp": 1654983170537,
     "user": {
      "displayName": "Nico S.",
      "userId": "10138344247765665103"
     },
     "user_tz": -120
    },
    "id": "2L2CyCxEqKBR",
    "outputId": "04868010-da5e-4be2-81c4-d733e5a8fdcd"
   },
   "outputs": [
    {
     "data": {
      "text/html": [
       "\n",
       "  <div id=\"df-0bca33d9-10ef-46da-965e-602791ad7ddd\">\n",
       "    <div class=\"colab-df-container\">\n",
       "      <div>\n",
       "<style scoped>\n",
       "    .dataframe tbody tr th:only-of-type {\n",
       "        vertical-align: middle;\n",
       "    }\n",
       "\n",
       "    .dataframe tbody tr th {\n",
       "        vertical-align: top;\n",
       "    }\n",
       "\n",
       "    .dataframe thead th {\n",
       "        text-align: right;\n",
       "    }\n",
       "</style>\n",
       "<table border=\"1\" class=\"dataframe\">\n",
       "  <thead>\n",
       "    <tr style=\"text-align: right;\">\n",
       "      <th></th>\n",
       "      <th>index</th>\n",
       "      <th>positives</th>\n",
       "      <th>count</th>\n",
       "      <th>p</th>\n",
       "    </tr>\n",
       "  </thead>\n",
       "  <tbody>\n",
       "    <tr>\n",
       "      <th>count</th>\n",
       "      <td>32468.000000</td>\n",
       "      <td>32468.000000</td>\n",
       "      <td>32468.000000</td>\n",
       "      <td>32468.000000</td>\n",
       "    </tr>\n",
       "    <tr>\n",
       "      <th>mean</th>\n",
       "      <td>16271.040963</td>\n",
       "      <td>5.900363</td>\n",
       "      <td>966.300665</td>\n",
       "      <td>0.007705</td>\n",
       "    </tr>\n",
       "    <tr>\n",
       "      <th>std</th>\n",
       "      <td>9404.789746</td>\n",
       "      <td>115.082844</td>\n",
       "      <td>3616.420900</td>\n",
       "      <td>0.074606</td>\n",
       "    </tr>\n",
       "    <tr>\n",
       "      <th>min</th>\n",
       "      <td>0.000000</td>\n",
       "      <td>0.000000</td>\n",
       "      <td>1.000000</td>\n",
       "      <td>0.000000</td>\n",
       "    </tr>\n",
       "    <tr>\n",
       "      <th>25%</th>\n",
       "      <td>8126.750000</td>\n",
       "      <td>0.000000</td>\n",
       "      <td>9.000000</td>\n",
       "      <td>0.000000</td>\n",
       "    </tr>\n",
       "    <tr>\n",
       "      <th>50%</th>\n",
       "      <td>16256.500000</td>\n",
       "      <td>0.000000</td>\n",
       "      <td>44.000000</td>\n",
       "      <td>0.000000</td>\n",
       "    </tr>\n",
       "    <tr>\n",
       "      <th>75%</th>\n",
       "      <td>24404.250000</td>\n",
       "      <td>0.000000</td>\n",
       "      <td>643.000000</td>\n",
       "      <td>0.000000</td>\n",
       "    </tr>\n",
       "    <tr>\n",
       "      <th>max</th>\n",
       "      <td>32644.000000</td>\n",
       "      <td>6050.000000</td>\n",
       "      <td>547653.000000</td>\n",
       "      <td>1.000000</td>\n",
       "    </tr>\n",
       "  </tbody>\n",
       "</table>\n",
       "</div>\n",
       "      <button class=\"colab-df-convert\" onclick=\"convertToInteractive('df-0bca33d9-10ef-46da-965e-602791ad7ddd')\"\n",
       "              title=\"Convert this dataframe to an interactive table.\"\n",
       "              style=\"display:none;\">\n",
       "        \n",
       "  <svg xmlns=\"http://www.w3.org/2000/svg\" height=\"24px\"viewBox=\"0 0 24 24\"\n",
       "       width=\"24px\">\n",
       "    <path d=\"M0 0h24v24H0V0z\" fill=\"none\"/>\n",
       "    <path d=\"M18.56 5.44l.94 2.06.94-2.06 2.06-.94-2.06-.94-.94-2.06-.94 2.06-2.06.94zm-11 1L8.5 8.5l.94-2.06 2.06-.94-2.06-.94L8.5 2.5l-.94 2.06-2.06.94zm10 10l.94 2.06.94-2.06 2.06-.94-2.06-.94-.94-2.06-.94 2.06-2.06.94z\"/><path d=\"M17.41 7.96l-1.37-1.37c-.4-.4-.92-.59-1.43-.59-.52 0-1.04.2-1.43.59L10.3 9.45l-7.72 7.72c-.78.78-.78 2.05 0 2.83L4 21.41c.39.39.9.59 1.41.59.51 0 1.02-.2 1.41-.59l7.78-7.78 2.81-2.81c.8-.78.8-2.07 0-2.86zM5.41 20L4 18.59l7.72-7.72 1.47 1.35L5.41 20z\"/>\n",
       "  </svg>\n",
       "      </button>\n",
       "      \n",
       "  <style>\n",
       "    .colab-df-container {\n",
       "      display:flex;\n",
       "      flex-wrap:wrap;\n",
       "      gap: 12px;\n",
       "    }\n",
       "\n",
       "    .colab-df-convert {\n",
       "      background-color: #E8F0FE;\n",
       "      border: none;\n",
       "      border-radius: 50%;\n",
       "      cursor: pointer;\n",
       "      display: none;\n",
       "      fill: #1967D2;\n",
       "      height: 32px;\n",
       "      padding: 0 0 0 0;\n",
       "      width: 32px;\n",
       "    }\n",
       "\n",
       "    .colab-df-convert:hover {\n",
       "      background-color: #E2EBFA;\n",
       "      box-shadow: 0px 1px 2px rgba(60, 64, 67, 0.3), 0px 1px 3px 1px rgba(60, 64, 67, 0.15);\n",
       "      fill: #174EA6;\n",
       "    }\n",
       "\n",
       "    [theme=dark] .colab-df-convert {\n",
       "      background-color: #3B4455;\n",
       "      fill: #D2E3FC;\n",
       "    }\n",
       "\n",
       "    [theme=dark] .colab-df-convert:hover {\n",
       "      background-color: #434B5C;\n",
       "      box-shadow: 0px 1px 3px 1px rgba(0, 0, 0, 0.15);\n",
       "      filter: drop-shadow(0px 1px 2px rgba(0, 0, 0, 0.3));\n",
       "      fill: #FFFFFF;\n",
       "    }\n",
       "  </style>\n",
       "\n",
       "      <script>\n",
       "        const buttonEl =\n",
       "          document.querySelector('#df-0bca33d9-10ef-46da-965e-602791ad7ddd button.colab-df-convert');\n",
       "        buttonEl.style.display =\n",
       "          google.colab.kernel.accessAllowed ? 'block' : 'none';\n",
       "\n",
       "        async function convertToInteractive(key) {\n",
       "          const element = document.querySelector('#df-0bca33d9-10ef-46da-965e-602791ad7ddd');\n",
       "          const dataTable =\n",
       "            await google.colab.kernel.invokeFunction('convertToInteractive',\n",
       "                                                     [key], {});\n",
       "          if (!dataTable) return;\n",
       "\n",
       "          const docLinkHtml = 'Like what you see? Visit the ' +\n",
       "            '<a target=\"_blank\" href=https://colab.research.google.com/notebooks/data_table.ipynb>data table notebook</a>'\n",
       "            + ' to learn more about interactive tables.';\n",
       "          element.innerHTML = '';\n",
       "          dataTable['output_type'] = 'display_data';\n",
       "          await google.colab.output.renderOutput(dataTable, element);\n",
       "          const docLink = document.createElement('div');\n",
       "          docLink.innerHTML = docLinkHtml;\n",
       "          element.appendChild(docLink);\n",
       "        }\n",
       "      </script>\n",
       "    </div>\n",
       "  </div>\n",
       "  "
      ],
      "text/plain": [
       "              index     positives          count             p\n",
       "count  32468.000000  32468.000000   32468.000000  32468.000000\n",
       "mean   16271.040963      5.900363     966.300665      0.007705\n",
       "std     9404.789746    115.082844    3616.420900      0.074606\n",
       "min        0.000000      0.000000       1.000000      0.000000\n",
       "25%     8126.750000      0.000000       9.000000      0.000000\n",
       "50%    16256.500000      0.000000      44.000000      0.000000\n",
       "75%    24404.250000      0.000000     643.000000      0.000000\n",
       "max    32644.000000   6050.000000  547653.000000      1.000000"
      ]
     },
     "execution_count": 5,
     "metadata": {},
     "output_type": "execute_result"
    }
   ],
   "source": [
    "stats = pd.DataFrame({\"index\":list(results.keys()),\n",
    "            \"positives\":[results[elem]['positives'] for elem in results.keys()],\n",
    "            \"count\":[results[elem]['count'] for elem in results.keys()],\n",
    "            \"p\":[results[elem]['p'] for elem in results.keys()]\n",
    "            })\n",
    "stats.describe()"
   ]
  },
  {
   "cell_type": "code",
   "execution_count": null,
   "metadata": {
    "colab": {
     "base_uri": "https://localhost:8080/",
     "height": 204
    },
    "executionInfo": {
     "elapsed": 189,
     "status": "ok",
     "timestamp": 1654983176062,
     "user": {
      "displayName": "Nico S.",
      "userId": "10138344247765665103"
     },
     "user_tz": -120
    },
    "id": "QBL8ekfgqKBV",
    "outputId": "de157c32-a1b4-4785-e6af-df40385af919"
   },
   "outputs": [
    {
     "data": {
      "text/html": [
       "\n",
       "  <div id=\"df-c678b4ec-696b-4613-980c-16c5505b6769\">\n",
       "    <div class=\"colab-df-container\">\n",
       "      <div>\n",
       "<style scoped>\n",
       "    .dataframe tbody tr th:only-of-type {\n",
       "        vertical-align: middle;\n",
       "    }\n",
       "\n",
       "    .dataframe tbody tr th {\n",
       "        vertical-align: top;\n",
       "    }\n",
       "\n",
       "    .dataframe thead th {\n",
       "        text-align: right;\n",
       "    }\n",
       "</style>\n",
       "<table border=\"1\" class=\"dataframe\">\n",
       "  <thead>\n",
       "    <tr style=\"text-align: right;\">\n",
       "      <th></th>\n",
       "      <th>index</th>\n",
       "      <th>positives</th>\n",
       "      <th>count</th>\n",
       "      <th>p</th>\n",
       "    </tr>\n",
       "  </thead>\n",
       "  <tbody>\n",
       "    <tr>\n",
       "      <th>10212</th>\n",
       "      <td>11143</td>\n",
       "      <td>74</td>\n",
       "      <td>74</td>\n",
       "      <td>1.0</td>\n",
       "    </tr>\n",
       "    <tr>\n",
       "      <th>29839</th>\n",
       "      <td>30112</td>\n",
       "      <td>24</td>\n",
       "      <td>24</td>\n",
       "      <td>1.0</td>\n",
       "    </tr>\n",
       "    <tr>\n",
       "      <th>22776</th>\n",
       "      <td>22791</td>\n",
       "      <td>1</td>\n",
       "      <td>1</td>\n",
       "      <td>1.0</td>\n",
       "    </tr>\n",
       "    <tr>\n",
       "      <th>21143</th>\n",
       "      <td>21366</td>\n",
       "      <td>7</td>\n",
       "      <td>7</td>\n",
       "      <td>1.0</td>\n",
       "    </tr>\n",
       "    <tr>\n",
       "      <th>31749</th>\n",
       "      <td>22691</td>\n",
       "      <td>1</td>\n",
       "      <td>1</td>\n",
       "      <td>1.0</td>\n",
       "    </tr>\n",
       "  </tbody>\n",
       "</table>\n",
       "</div>\n",
       "      <button class=\"colab-df-convert\" onclick=\"convertToInteractive('df-c678b4ec-696b-4613-980c-16c5505b6769')\"\n",
       "              title=\"Convert this dataframe to an interactive table.\"\n",
       "              style=\"display:none;\">\n",
       "        \n",
       "  <svg xmlns=\"http://www.w3.org/2000/svg\" height=\"24px\"viewBox=\"0 0 24 24\"\n",
       "       width=\"24px\">\n",
       "    <path d=\"M0 0h24v24H0V0z\" fill=\"none\"/>\n",
       "    <path d=\"M18.56 5.44l.94 2.06.94-2.06 2.06-.94-2.06-.94-.94-2.06-.94 2.06-2.06.94zm-11 1L8.5 8.5l.94-2.06 2.06-.94-2.06-.94L8.5 2.5l-.94 2.06-2.06.94zm10 10l.94 2.06.94-2.06 2.06-.94-2.06-.94-.94-2.06-.94 2.06-2.06.94z\"/><path d=\"M17.41 7.96l-1.37-1.37c-.4-.4-.92-.59-1.43-.59-.52 0-1.04.2-1.43.59L10.3 9.45l-7.72 7.72c-.78.78-.78 2.05 0 2.83L4 21.41c.39.39.9.59 1.41.59.51 0 1.02-.2 1.41-.59l7.78-7.78 2.81-2.81c.8-.78.8-2.07 0-2.86zM5.41 20L4 18.59l7.72-7.72 1.47 1.35L5.41 20z\"/>\n",
       "  </svg>\n",
       "      </button>\n",
       "      \n",
       "  <style>\n",
       "    .colab-df-container {\n",
       "      display:flex;\n",
       "      flex-wrap:wrap;\n",
       "      gap: 12px;\n",
       "    }\n",
       "\n",
       "    .colab-df-convert {\n",
       "      background-color: #E8F0FE;\n",
       "      border: none;\n",
       "      border-radius: 50%;\n",
       "      cursor: pointer;\n",
       "      display: none;\n",
       "      fill: #1967D2;\n",
       "      height: 32px;\n",
       "      padding: 0 0 0 0;\n",
       "      width: 32px;\n",
       "    }\n",
       "\n",
       "    .colab-df-convert:hover {\n",
       "      background-color: #E2EBFA;\n",
       "      box-shadow: 0px 1px 2px rgba(60, 64, 67, 0.3), 0px 1px 3px 1px rgba(60, 64, 67, 0.15);\n",
       "      fill: #174EA6;\n",
       "    }\n",
       "\n",
       "    [theme=dark] .colab-df-convert {\n",
       "      background-color: #3B4455;\n",
       "      fill: #D2E3FC;\n",
       "    }\n",
       "\n",
       "    [theme=dark] .colab-df-convert:hover {\n",
       "      background-color: #434B5C;\n",
       "      box-shadow: 0px 1px 3px 1px rgba(0, 0, 0, 0.15);\n",
       "      filter: drop-shadow(0px 1px 2px rgba(0, 0, 0, 0.3));\n",
       "      fill: #FFFFFF;\n",
       "    }\n",
       "  </style>\n",
       "\n",
       "      <script>\n",
       "        const buttonEl =\n",
       "          document.querySelector('#df-c678b4ec-696b-4613-980c-16c5505b6769 button.colab-df-convert');\n",
       "        buttonEl.style.display =\n",
       "          google.colab.kernel.accessAllowed ? 'block' : 'none';\n",
       "\n",
       "        async function convertToInteractive(key) {\n",
       "          const element = document.querySelector('#df-c678b4ec-696b-4613-980c-16c5505b6769');\n",
       "          const dataTable =\n",
       "            await google.colab.kernel.invokeFunction('convertToInteractive',\n",
       "                                                     [key], {});\n",
       "          if (!dataTable) return;\n",
       "\n",
       "          const docLinkHtml = 'Like what you see? Visit the ' +\n",
       "            '<a target=\"_blank\" href=https://colab.research.google.com/notebooks/data_table.ipynb>data table notebook</a>'\n",
       "            + ' to learn more about interactive tables.';\n",
       "          element.innerHTML = '';\n",
       "          dataTable['output_type'] = 'display_data';\n",
       "          await google.colab.output.renderOutput(dataTable, element);\n",
       "          const docLink = document.createElement('div');\n",
       "          docLink.innerHTML = docLinkHtml;\n",
       "          element.appendChild(docLink);\n",
       "        }\n",
       "      </script>\n",
       "    </div>\n",
       "  </div>\n",
       "  "
      ],
      "text/plain": [
       "       index  positives  count    p\n",
       "10212  11143         74     74  1.0\n",
       "29839  30112         24     24  1.0\n",
       "22776  22791          1      1  1.0\n",
       "21143  21366          7      7  1.0\n",
       "31749  22691          1      1  1.0"
      ]
     },
     "execution_count": 6,
     "metadata": {},
     "output_type": "execute_result"
    }
   ],
   "source": [
    "# some tokens are always located inside of a TE\n",
    "stats.sort_values(by=['p'], ascending=False).head(5)"
   ]
  },
  {
   "cell_type": "code",
   "execution_count": null,
   "metadata": {
    "colab": {
     "base_uri": "https://localhost:8080/"
    },
    "executionInfo": {
     "elapsed": 190,
     "status": "ok",
     "timestamp": 1654983179935,
     "user": {
      "displayName": "Nico S.",
      "userId": "10138344247765665103"
     },
     "user_tz": -120
    },
    "id": "nvT3RnT8qKBZ",
    "outputId": "d2765427-1690-467d-ee7f-764f84564087"
   },
   "outputs": [
    {
     "name": "stdout",
     "output_type": "stream",
     "text": [
      "55 (0.17%) tokens are ALWAYS inside a TE!\n",
      "244 (0.75%) tokens are often inside a TE!\n",
      "97.70% of tokens are NEVER inside a TE!\n"
     ]
    }
   ],
   "source": [
    "print(f\"{sum(stats.p == 1)} ({sum(stats.p == 1)/stats.shape[0]*100:.2f}%) tokens are ALWAYS inside a TE!\")\n",
    "print(f\"{sum(stats.p >= 0.5)} ({sum(stats.p >= 0.5)/stats.shape[0]*100:.2f}%) tokens are often inside a TE!\")\n",
    "print(f\"{sum(stats.p == 0)/stats.shape[0]*100:.2f}% of tokens are NEVER inside a TE!\")"
   ]
  },
  {
   "cell_type": "code",
   "execution_count": null,
   "metadata": {
    "colab": {
     "base_uri": "https://localhost:8080/"
    },
    "executionInfo": {
     "elapsed": 33877,
     "status": "ok",
     "timestamp": 1654983216933,
     "user": {
      "displayName": "Nico S.",
      "userId": "10138344247765665103"
     },
     "user_tz": -120
    },
    "id": "qTVMv-LQqKBf",
    "outputId": "661599bb-395a-48a8-9736-542f25878c01"
   },
   "outputs": [
    {
     "name": "stderr",
     "output_type": "stream",
     "text": [
      "209159it [00:22, 9456.80it/s]\n"
     ]
    }
   ],
   "source": [
    "predictions = [np.array([int(results[_id]['p'] >= 0.5) for _id in sample]) for sample in df[\"token_ids\"]]\n",
    "df[\"preds\"] = predictions\n",
    "\n",
    "all_labels = []\n",
    "all_predictions = []\n",
    "\n",
    "for idx, row in tqdm(df.iterrows()):\n",
    "    all_labels.extend(row.labels[row.attention_masks==1])\n",
    "    all_predictions.extend(row.preds[row.attention_masks==1])"
   ]
  },
  {
   "cell_type": "code",
   "execution_count": null,
   "metadata": {
    "colab": {
     "base_uri": "https://localhost:8080/"
    },
    "executionInfo": {
     "elapsed": 207,
     "status": "ok",
     "timestamp": 1654983218394,
     "user": {
      "displayName": "Nico S.",
      "userId": "10138344247765665103"
     },
     "user_tz": -120
    },
    "id": "aXt3uQISqKBl",
    "outputId": "8d3043e3-250c-4a7d-f969-c12f52e5178e"
   },
   "outputs": [
    {
     "name": "stdout",
     "output_type": "stream",
     "text": [
      "0.62% of the data are true positives!\n"
     ]
    }
   ],
   "source": [
    "print(f\"{sum(all_labels)/len(all_labels)*100:.2f}% of the data are true positives!\")"
   ]
  },
  {
   "cell_type": "code",
   "execution_count": null,
   "metadata": {
    "colab": {
     "base_uri": "https://localhost:8080/",
     "height": 432
    },
    "executionInfo": {
     "elapsed": 126871,
     "status": "ok",
     "timestamp": 1654983367492,
     "user": {
      "displayName": "Nico S.",
      "userId": "10138344247765665103"
     },
     "user_tz": -120
    },
    "id": "-tDP66GuqKBn",
    "outputId": "1959e9e2-62de-423c-d1ad-1a4b929da9c3"
   },
   "outputs": [
    {
     "data": {
      "image/png": "[encoded data removed]",
      "text/plain": [
       "<Figure size 432x288 with 2 Axes>"
      ]
     },
     "metadata": {
      "needs_background": "light"
     },
     "output_type": "display_data"
    },
    {
     "name": "stdout",
     "output_type": "stream",
     "text": [
      "\n",
      "Accuracy:   99.66%\n",
      "precision:  77.92%\n",
      "recall:     63.42%\n",
      "f1:         69.93%\n",
      "\n",
      "Confusion matrix:\n",
      "[[30600185    34439]\n",
      " [   70071   121502]]\n"
     ]
    }
   ],
   "source": [
    "train_metrics = compute_metrics(all_predictions, all_labels)\n",
    "display_metrics(train_metrics)"
   ]
  },
  {
   "cell_type": "markdown",
   "metadata": {
    "id": "Qdp5De2HqKB2"
   },
   "source": [
    "## Evaluation on Test-data"
   ]
  },
  {
   "cell_type": "code",
   "execution_count": null,
   "metadata": {
    "colab": {
     "base_uri": "https://localhost:8080/"
    },
    "executionInfo": {
     "elapsed": 328,
     "status": "ok",
     "timestamp": 1654983367809,
     "user": {
      "displayName": "Nico S.",
      "userId": "10138344247765665103"
     },
     "user_tz": -120
    },
    "id": "SmqyxoswqKB5",
    "outputId": "b301c5b6-8a67-4113-cf98-282094cd6ecb"
   },
   "outputs": [
    {
     "name": "stdout",
     "output_type": "stream",
     "text": [
      "83 unique tokens are unknown!\n",
      "Total count: 83\n"
     ]
    }
   ],
   "source": [
    "my_train_tokens = results.keys()\n",
    "unknown_tokens = []\n",
    "\n",
    "for sample in df_test[\"token_ids\"]:\n",
    "    for _id in sample:\n",
    "        if _id not in my_train_tokens:\n",
    "            unknown_tokens.append(_id)\n",
    "            results[_id] = {}\n",
    "            results[_id]['positives'] = 0\n",
    "            results[_id]['count'] = 0\n",
    "            results[_id]['p'] = 0\n",
    "\n",
    "print(f\"{len(list(set(unknown_tokens)))} unique tokens are unknown!\")\n",
    "print(f\"Total count: {len(unknown_tokens)}\")"
   ]
  },
  {
   "cell_type": "code",
   "execution_count": null,
   "metadata": {
    "colab": {
     "base_uri": "https://localhost:8080/",
     "height": 449
    },
    "executionInfo": {
     "elapsed": 9884,
     "status": "ok",
     "timestamp": 1654983377688,
     "user": {
      "displayName": "Nico S.",
      "userId": "10138344247765665103"
     },
     "user_tz": -120
    },
    "id": "WobDIerDqKB-",
    "outputId": "dea0d392-3cf5-4a00-9e49-5b7f4c0f2c94"
   },
   "outputs": [
    {
     "name": "stderr",
     "output_type": "stream",
     "text": [
      "12668it [00:01, 10214.20it/s]\n"
     ]
    },
    {
     "data": {
      "image/png": "[encoded data removed]",
      "text/plain": [
       "<Figure size 432x288 with 2 Axes>"
      ]
     },
     "metadata": {
      "needs_background": "light"
     },
     "output_type": "display_data"
    },
    {
     "name": "stdout",
     "output_type": "stream",
     "text": [
      "\n",
      "Accuracy:   99.66%\n",
      "precision:  78.44%\n",
      "recall:     63.95%\n",
      "f1:         70.46%\n",
      "\n",
      "Confusion matrix:\n",
      "[[1854793    2108]\n",
      " [   4324    7670]]\n"
     ]
    }
   ],
   "source": [
    "predictions = [np.array([int(results[_id]['p'] >= 0.5) for _id in sample]) for sample in df_test[\"token_ids\"]]\n",
    "df_test[\"preds\"] = predictions\n",
    "\n",
    "all_labels = []\n",
    "all_predictions = []\n",
    "\n",
    "for idx, row in tqdm(df_test.iterrows()):\n",
    "    all_labels.extend(row.labels[row.attention_masks==1])\n",
    "    all_predictions.extend(row.preds[row.attention_masks==1])\n",
    "\n",
    "test_metrics = compute_metrics(all_predictions, all_labels)\n",
    "display_metrics(test_metrics)"
   ]
  },
  {
   "cell_type": "markdown",
   "metadata": {
    "id": "ZJNAzPtMqKCG"
   },
   "source": [
    "### Using a lower treshold"
   ]
  },
  {
   "cell_type": "code",
   "execution_count": null,
   "metadata": {
    "colab": {
     "base_uri": "https://localhost:8080/",
     "height": 432
    },
    "executionInfo": {
     "elapsed": 9543,
     "status": "ok",
     "timestamp": 1654983387223,
     "user": {
      "displayName": "Nico S.",
      "userId": "10138344247765665103"
     },
     "user_tz": -120
    },
    "id": "aGujgcDDqKCM",
    "outputId": "077df3fe-2bd7-4154-dd2c-0cc3878b801d"
   },
   "outputs": [
    {
     "data": {
      "image/png": "[encoded data removed]",
      "text/plain": [
       "<Figure size 432x288 with 2 Axes>"
      ]
     },
     "metadata": {
      "needs_background": "light"
     },
     "output_type": "display_data"
    },
    {
     "name": "stdout",
     "output_type": "stream",
     "text": [
      "\n",
      "Accuracy:   99.59%\n",
      "precision:  65.00%\n",
      "recall:     78.96%\n",
      "f1:         71.30%\n",
      "\n",
      "Confusion matrix:\n",
      "[[1851801    5100]\n",
      " [   2523    9471]]\n"
     ]
    }
   ],
   "source": [
    "threshold = 0.3\n",
    "predictions = [np.array([int(results[_id]['p'] >= threshold) for _id in sample]) for sample in df_test[\"token_ids\"]]\n",
    "df_test[\"preds\"] = predictions\n",
    "all_labels = []\n",
    "all_predictions = []\n",
    "for idx, row in df_test.iterrows():\n",
    "    all_labels.extend(row.labels[row.attention_masks==1])\n",
    "    all_predictions.extend(row.preds[row.attention_masks==1])\n",
    "\n",
    "test_metrics_03 = compute_metrics(all_predictions, all_labels)\n",
    "display_metrics(test_metrics_03)"
   ]
  },
  {
   "cell_type": "markdown",
   "metadata": {
    "id": "X4DG9ASVqKCO"
   },
   "source": [
    "## Bigram Probabilities"
   ]
  },
  {
   "cell_type": "code",
   "execution_count": null,
   "metadata": {
    "colab": {
     "base_uri": "https://localhost:8080/"
    },
    "executionInfo": {
     "elapsed": 7306713,
     "status": "ok",
     "timestamp": 1654991184936,
     "user": {
      "displayName": "Nico S.",
      "userId": "10138344247765665103"
     },
     "user_tz": -120
    },
    "id": "O98k0Iy0qKCS",
    "outputId": "59601a42-93a5-49f2-f1fd-29ab42888366"
   },
   "outputs": [
    {
     "name": "stderr",
     "output_type": "stream",
     "text": [
      "100%|██████████| 209159/209159 [2:01:44<00:00, 28.63it/s]\n"
     ]
    }
   ],
   "source": [
    "results_bigrams = {}\n",
    "\n",
    "for i in tqdm(range(0, df.shape[0])):\n",
    "    for j in range(0, df.iloc[i].attention_masks.sum()-1):\n",
    "        bigram = (df.iloc[i].token_ids[j], df.iloc[i].token_ids[j+1])\n",
    "        if bigram not in results_bigrams.keys():\n",
    "            results_bigrams[bigram] = {\"total_count\":0, (0,0):{}, (0,1):{}, (1,0):{}, (1,1):{}}\n",
    "            for key in [(0,0), (0,1), (1,0), (1,1)]:\n",
    "                results_bigrams[bigram][key]['count'] = 0\n",
    "                results_bigrams[bigram][key]['p'] = 0\n",
    "        results_bigrams[bigram][\"total_count\"] += 1\n",
    "        key = (df.iloc[i].labels[j], df.iloc[i].labels[j+1])\n",
    "\n",
    "        results_bigrams[bigram][key][\"count\"] += 1\n",
    "        results_bigrams[bigram][key]['p'] = results_bigrams[bigram][key][\"count\"]/results_bigrams[bigram]['total_count']\n",
    "\n",
    "import pickle\n",
    "with open('../data/results_bigrams.pkl', 'wb') as handle:\n",
    "    pickle.dump(results_bigrams, handle, protocol=pickle.HIGHEST_PROTOCOL)"
   ]
  },
  {
   "cell_type": "code",
   "execution_count": 5,
   "metadata": {
    "executionInfo": {
     "elapsed": 2814,
     "status": "ok",
     "timestamp": 1655024717610,
     "user": {
      "displayName": "Nico S.",
      "userId": "10138344247765665103"
     },
     "user_tz": -120
    },
    "id": "kLi7ddxHLxUb"
   },
   "outputs": [],
   "source": [
    "with open('../data/results_bigrams.pkl', 'rb') as handle:\n",
    "    results_bigrams = pickle.load(handle)"
   ]
  },
  {
   "cell_type": "code",
   "execution_count": 6,
   "metadata": {
    "colab": {
     "base_uri": "https://localhost:8080/",
     "height": 297
    },
    "executionInfo": {
     "elapsed": 1647,
     "status": "ok",
     "timestamp": 1655024728599,
     "user": {
      "displayName": "Nico S.",
      "userId": "10138344247765665103"
     },
     "user_tz": -120
    },
    "id": "SwxbKTznqKCV",
    "outputId": "6ea60a41-7bf8-4e07-e46b-460987ec3ce4"
   },
   "outputs": [
    {
     "data": {
      "text/html": [
       "\n",
       "  <div id=\"df-b9bbaf1e-354f-41fc-8815-3ad7ac1780d1\">\n",
       "    <div class=\"colab-df-container\">\n",
       "      <div>\n",
       "<style scoped>\n",
       "    .dataframe tbody tr th:only-of-type {\n",
       "        vertical-align: middle;\n",
       "    }\n",
       "\n",
       "    .dataframe tbody tr th {\n",
       "        vertical-align: top;\n",
       "    }\n",
       "\n",
       "    .dataframe thead th {\n",
       "        text-align: right;\n",
       "    }\n",
       "</style>\n",
       "<table border=\"1\" class=\"dataframe\">\n",
       "  <thead>\n",
       "    <tr style=\"text-align: right;\">\n",
       "      <th></th>\n",
       "      <th>positives</th>\n",
       "      <th>p</th>\n",
       "    </tr>\n",
       "  </thead>\n",
       "  <tbody>\n",
       "    <tr>\n",
       "      <th>count</th>\n",
       "      <td>849300.000000</td>\n",
       "      <td>849300.000000</td>\n",
       "    </tr>\n",
       "    <tr>\n",
       "      <th>mean</th>\n",
       "      <td>36.049733</td>\n",
       "      <td>0.251058</td>\n",
       "    </tr>\n",
       "    <tr>\n",
       "      <th>std</th>\n",
       "      <td>268.969968</td>\n",
       "      <td>0.432231</td>\n",
       "    </tr>\n",
       "    <tr>\n",
       "      <th>min</th>\n",
       "      <td>0.000000</td>\n",
       "      <td>0.000000</td>\n",
       "    </tr>\n",
       "    <tr>\n",
       "      <th>25%</th>\n",
       "      <td>0.000000</td>\n",
       "      <td>0.000000</td>\n",
       "    </tr>\n",
       "    <tr>\n",
       "      <th>50%</th>\n",
       "      <td>0.000000</td>\n",
       "      <td>0.000000</td>\n",
       "    </tr>\n",
       "    <tr>\n",
       "      <th>75%</th>\n",
       "      <td>1.000000</td>\n",
       "      <td>0.652174</td>\n",
       "    </tr>\n",
       "    <tr>\n",
       "      <th>max</th>\n",
       "      <td>12943.000000</td>\n",
       "      <td>1.000000</td>\n",
       "    </tr>\n",
       "  </tbody>\n",
       "</table>\n",
       "</div>\n",
       "      <button class=\"colab-df-convert\" onclick=\"convertToInteractive('df-b9bbaf1e-354f-41fc-8815-3ad7ac1780d1')\"\n",
       "              title=\"Convert this dataframe to an interactive table.\"\n",
       "              style=\"display:none;\">\n",
       "        \n",
       "  <svg xmlns=\"http://www.w3.org/2000/svg\" height=\"24px\"viewBox=\"0 0 24 24\"\n",
       "       width=\"24px\">\n",
       "    <path d=\"M0 0h24v24H0V0z\" fill=\"none\"/>\n",
       "    <path d=\"M18.56 5.44l.94 2.06.94-2.06 2.06-.94-2.06-.94-.94-2.06-.94 2.06-2.06.94zm-11 1L8.5 8.5l.94-2.06 2.06-.94-2.06-.94L8.5 2.5l-.94 2.06-2.06.94zm10 10l.94 2.06.94-2.06 2.06-.94-2.06-.94-.94-2.06-.94 2.06-2.06.94z\"/><path d=\"M17.41 7.96l-1.37-1.37c-.4-.4-.92-.59-1.43-.59-.52 0-1.04.2-1.43.59L10.3 9.45l-7.72 7.72c-.78.78-.78 2.05 0 2.83L4 21.41c.39.39.9.59 1.41.59.51 0 1.02-.2 1.41-.59l7.78-7.78 2.81-2.81c.8-.78.8-2.07 0-2.86zM5.41 20L4 18.59l7.72-7.72 1.47 1.35L5.41 20z\"/>\n",
       "  </svg>\n",
       "      </button>\n",
       "      \n",
       "  <style>\n",
       "    .colab-df-container {\n",
       "      display:flex;\n",
       "      flex-wrap:wrap;\n",
       "      gap: 12px;\n",
       "    }\n",
       "\n",
       "    .colab-df-convert {\n",
       "      background-color: #E8F0FE;\n",
       "      border: none;\n",
       "      border-radius: 50%;\n",
       "      cursor: pointer;\n",
       "      display: none;\n",
       "      fill: #1967D2;\n",
       "      height: 32px;\n",
       "      padding: 0 0 0 0;\n",
       "      width: 32px;\n",
       "    }\n",
       "\n",
       "    .colab-df-convert:hover {\n",
       "      background-color: #E2EBFA;\n",
       "      box-shadow: 0px 1px 2px rgba(60, 64, 67, 0.3), 0px 1px 3px 1px rgba(60, 64, 67, 0.15);\n",
       "      fill: #174EA6;\n",
       "    }\n",
       "\n",
       "    [theme=dark] .colab-df-convert {\n",
       "      background-color: #3B4455;\n",
       "      fill: #D2E3FC;\n",
       "    }\n",
       "\n",
       "    [theme=dark] .colab-df-convert:hover {\n",
       "      background-color: #434B5C;\n",
       "      box-shadow: 0px 1px 3px 1px rgba(0, 0, 0, 0.15);\n",
       "      filter: drop-shadow(0px 1px 2px rgba(0, 0, 0, 0.3));\n",
       "      fill: #FFFFFF;\n",
       "    }\n",
       "  </style>\n",
       "\n",
       "      <script>\n",
       "        const buttonEl =\n",
       "          document.querySelector('#df-b9bbaf1e-354f-41fc-8815-3ad7ac1780d1 button.colab-df-convert');\n",
       "        buttonEl.style.display =\n",
       "          google.colab.kernel.accessAllowed ? 'block' : 'none';\n",
       "\n",
       "        async function convertToInteractive(key) {\n",
       "          const element = document.querySelector('#df-b9bbaf1e-354f-41fc-8815-3ad7ac1780d1');\n",
       "          const dataTable =\n",
       "            await google.colab.kernel.invokeFunction('convertToInteractive',\n",
       "                                                     [key], {});\n",
       "          if (!dataTable) return;\n",
       "\n",
       "          const docLinkHtml = 'Like what you see? Visit the ' +\n",
       "            '<a target=\"_blank\" href=https://colab.research.google.com/notebooks/data_table.ipynb>data table notebook</a>'\n",
       "            + ' to learn more about interactive tables.';\n",
       "          element.innerHTML = '';\n",
       "          dataTable['output_type'] = 'display_data';\n",
       "          await google.colab.output.renderOutput(dataTable, element);\n",
       "          const docLink = document.createElement('div');\n",
       "          docLink.innerHTML = docLinkHtml;\n",
       "          element.appendChild(docLink);\n",
       "        }\n",
       "      </script>\n",
       "    </div>\n",
       "  </div>\n",
       "  "
      ],
      "text/plain": [
       "           positives              p\n",
       "count  849300.000000  849300.000000\n",
       "mean       36.049733       0.251058\n",
       "std       268.969968       0.432231\n",
       "min         0.000000       0.000000\n",
       "25%         0.000000       0.000000\n",
       "50%         0.000000       0.000000\n",
       "75%         1.000000       0.652174\n",
       "max     12943.000000       1.000000"
      ]
     },
     "execution_count": 6,
     "metadata": {},
     "output_type": "execute_result"
    }
   ],
   "source": [
    "stats = pd.DataFrame({\n",
    "            \"index\":[(bigram, key) for bigram in results_bigrams.keys() for key in [(0,0), (0,1), (1,0), (1,1)]],\n",
    "            \"positives\":[results_bigrams[bigram][key][\"count\"] for bigram in results_bigrams.keys() for key in [(0,0), (0,1), (1,0), (1,1)]],\n",
    "            \"p\":[results_bigrams[bigram][key][\"p\"] for bigram in results_bigrams.keys() for key in [(0,0), (0,1), (1,0), (1,1)]]\n",
    "            })\n",
    "stats.describe()"
   ]
  },
  {
   "cell_type": "code",
   "execution_count": 7,
   "metadata": {
    "colab": {
     "base_uri": "https://localhost:8080/",
     "height": 359
    },
    "executionInfo": {
     "elapsed": 793,
     "status": "ok",
     "timestamp": 1655024740864,
     "user": {
      "displayName": "Nico S.",
      "userId": "10138344247765665103"
     },
     "user_tz": -120
    },
    "id": "GkvSZHUFqKCW",
    "outputId": "152c2c20-630f-4cee-e361-eb00b513c6c0"
   },
   "outputs": [
    {
     "data": {
      "text/html": [
       "\n",
       "  <div id=\"df-7d059ee7-5738-4599-b31e-f679204afaf6\">\n",
       "    <div class=\"colab-df-container\">\n",
       "      <div>\n",
       "<style scoped>\n",
       "    .dataframe tbody tr th:only-of-type {\n",
       "        vertical-align: middle;\n",
       "    }\n",
       "\n",
       "    .dataframe tbody tr th {\n",
       "        vertical-align: top;\n",
       "    }\n",
       "\n",
       "    .dataframe thead th {\n",
       "        text-align: right;\n",
       "    }\n",
       "</style>\n",
       "<table border=\"1\" class=\"dataframe\">\n",
       "  <thead>\n",
       "    <tr style=\"text-align: right;\">\n",
       "      <th></th>\n",
       "      <th>index</th>\n",
       "      <th>positives</th>\n",
       "      <th>p</th>\n",
       "      <th>bigram</th>\n",
       "      <th>key</th>\n",
       "    </tr>\n",
       "  </thead>\n",
       "  <tbody>\n",
       "    <tr>\n",
       "      <th>424650</th>\n",
       "      <td>((9319, 12041), (1, 0))</td>\n",
       "      <td>2</td>\n",
       "      <td>1.0</td>\n",
       "      <td>(9319, 12041)</td>\n",
       "      <td>(1, 0)</td>\n",
       "    </tr>\n",
       "    <tr>\n",
       "      <th>135322</th>\n",
       "      <td>((6290, 13027), (1, 0))</td>\n",
       "      <td>1</td>\n",
       "      <td>1.0</td>\n",
       "      <td>(6290, 13027)</td>\n",
       "      <td>(1, 0)</td>\n",
       "    </tr>\n",
       "    <tr>\n",
       "      <th>760737</th>\n",
       "      <td>((135, 2612), (0, 1))</td>\n",
       "      <td>3</td>\n",
       "      <td>1.0</td>\n",
       "      <td>(135, 2612)</td>\n",
       "      <td>(0, 1)</td>\n",
       "    </tr>\n",
       "    <tr>\n",
       "      <th>760742</th>\n",
       "      <td>((10752, 16951), (1, 0))</td>\n",
       "      <td>3</td>\n",
       "      <td>1.0</td>\n",
       "      <td>(10752, 16951)</td>\n",
       "      <td>(1, 0)</td>\n",
       "    </tr>\n",
       "    <tr>\n",
       "      <th>454625</th>\n",
       "      <td>((4597, 10752), (0, 1))</td>\n",
       "      <td>6</td>\n",
       "      <td>1.0</td>\n",
       "      <td>(4597, 10752)</td>\n",
       "      <td>(0, 1)</td>\n",
       "    </tr>\n",
       "    <tr>\n",
       "      <th>454630</th>\n",
       "      <td>((2612, 13309), (1, 0))</td>\n",
       "      <td>3</td>\n",
       "      <td>1.0</td>\n",
       "      <td>(2612, 13309)</td>\n",
       "      <td>(1, 0)</td>\n",
       "    </tr>\n",
       "    <tr>\n",
       "      <th>135311</th>\n",
       "      <td>((6287, 13026), (1, 1))</td>\n",
       "      <td>1</td>\n",
       "      <td>1.0</td>\n",
       "      <td>(6287, 13026)</td>\n",
       "      <td>(1, 1)</td>\n",
       "    </tr>\n",
       "    <tr>\n",
       "      <th>454641</th>\n",
       "      <td>((16851, 2612), (0, 1))</td>\n",
       "      <td>6</td>\n",
       "      <td>1.0</td>\n",
       "      <td>(16851, 2612)</td>\n",
       "      <td>(0, 1)</td>\n",
       "    </tr>\n",
       "    <tr>\n",
       "      <th>135314</th>\n",
       "      <td>((13026, 8479), (1, 0))</td>\n",
       "      <td>1</td>\n",
       "      <td>1.0</td>\n",
       "      <td>(13026, 8479)</td>\n",
       "      <td>(1, 0)</td>\n",
       "    </tr>\n",
       "    <tr>\n",
       "      <th>454646</th>\n",
       "      <td>((10752, 11619), (1, 0))</td>\n",
       "      <td>6</td>\n",
       "      <td>1.0</td>\n",
       "      <td>(10752, 11619)</td>\n",
       "      <td>(1, 0)</td>\n",
       "    </tr>\n",
       "  </tbody>\n",
       "</table>\n",
       "</div>\n",
       "      <button class=\"colab-df-convert\" onclick=\"convertToInteractive('df-7d059ee7-5738-4599-b31e-f679204afaf6')\"\n",
       "              title=\"Convert this dataframe to an interactive table.\"\n",
       "              style=\"display:none;\">\n",
       "        \n",
       "  <svg xmlns=\"http://www.w3.org/2000/svg\" height=\"24px\"viewBox=\"0 0 24 24\"\n",
       "       width=\"24px\">\n",
       "    <path d=\"M0 0h24v24H0V0z\" fill=\"none\"/>\n",
       "    <path d=\"M18.56 5.44l.94 2.06.94-2.06 2.06-.94-2.06-.94-.94-2.06-.94 2.06-2.06.94zm-11 1L8.5 8.5l.94-2.06 2.06-.94-2.06-.94L8.5 2.5l-.94 2.06-2.06.94zm10 10l.94 2.06.94-2.06 2.06-.94-2.06-.94-.94-2.06-.94 2.06-2.06.94z\"/><path d=\"M17.41 7.96l-1.37-1.37c-.4-.4-.92-.59-1.43-.59-.52 0-1.04.2-1.43.59L10.3 9.45l-7.72 7.72c-.78.78-.78 2.05 0 2.83L4 21.41c.39.39.9.59 1.41.59.51 0 1.02-.2 1.41-.59l7.78-7.78 2.81-2.81c.8-.78.8-2.07 0-2.86zM5.41 20L4 18.59l7.72-7.72 1.47 1.35L5.41 20z\"/>\n",
       "  </svg>\n",
       "      </button>\n",
       "      \n",
       "  <style>\n",
       "    .colab-df-container {\n",
       "      display:flex;\n",
       "      flex-wrap:wrap;\n",
       "      gap: 12px;\n",
       "    }\n",
       "\n",
       "    .colab-df-convert {\n",
       "      background-color: #E8F0FE;\n",
       "      border: none;\n",
       "      border-radius: 50%;\n",
       "      cursor: pointer;\n",
       "      display: none;\n",
       "      fill: #1967D2;\n",
       "      height: 32px;\n",
       "      padding: 0 0 0 0;\n",
       "      width: 32px;\n",
       "    }\n",
       "\n",
       "    .colab-df-convert:hover {\n",
       "      background-color: #E2EBFA;\n",
       "      box-shadow: 0px 1px 2px rgba(60, 64, 67, 0.3), 0px 1px 3px 1px rgba(60, 64, 67, 0.15);\n",
       "      fill: #174EA6;\n",
       "    }\n",
       "\n",
       "    [theme=dark] .colab-df-convert {\n",
       "      background-color: #3B4455;\n",
       "      fill: #D2E3FC;\n",
       "    }\n",
       "\n",
       "    [theme=dark] .colab-df-convert:hover {\n",
       "      background-color: #434B5C;\n",
       "      box-shadow: 0px 1px 3px 1px rgba(0, 0, 0, 0.15);\n",
       "      filter: drop-shadow(0px 1px 2px rgba(0, 0, 0, 0.3));\n",
       "      fill: #FFFFFF;\n",
       "    }\n",
       "  </style>\n",
       "\n",
       "      <script>\n",
       "        const buttonEl =\n",
       "          document.querySelector('#df-7d059ee7-5738-4599-b31e-f679204afaf6 button.colab-df-convert');\n",
       "        buttonEl.style.display =\n",
       "          google.colab.kernel.accessAllowed ? 'block' : 'none';\n",
       "\n",
       "        async function convertToInteractive(key) {\n",
       "          const element = document.querySelector('#df-7d059ee7-5738-4599-b31e-f679204afaf6');\n",
       "          const dataTable =\n",
       "            await google.colab.kernel.invokeFunction('convertToInteractive',\n",
       "                                                     [key], {});\n",
       "          if (!dataTable) return;\n",
       "\n",
       "          const docLinkHtml = 'Like what you see? Visit the ' +\n",
       "            '<a target=\"_blank\" href=https://colab.research.google.com/notebooks/data_table.ipynb>data table notebook</a>'\n",
       "            + ' to learn more about interactive tables.';\n",
       "          element.innerHTML = '';\n",
       "          dataTable['output_type'] = 'display_data';\n",
       "          await google.colab.output.renderOutput(dataTable, element);\n",
       "          const docLink = document.createElement('div');\n",
       "          docLink.innerHTML = docLinkHtml;\n",
       "          element.appendChild(docLink);\n",
       "        }\n",
       "      </script>\n",
       "    </div>\n",
       "  </div>\n",
       "  "
      ],
      "text/plain": [
       "                           index  positives    p          bigram     key\n",
       "424650   ((9319, 12041), (1, 0))          2  1.0   (9319, 12041)  (1, 0)\n",
       "135322   ((6290, 13027), (1, 0))          1  1.0   (6290, 13027)  (1, 0)\n",
       "760737     ((135, 2612), (0, 1))          3  1.0     (135, 2612)  (0, 1)\n",
       "760742  ((10752, 16951), (1, 0))          3  1.0  (10752, 16951)  (1, 0)\n",
       "454625   ((4597, 10752), (0, 1))          6  1.0   (4597, 10752)  (0, 1)\n",
       "454630   ((2612, 13309), (1, 0))          3  1.0   (2612, 13309)  (1, 0)\n",
       "135311   ((6287, 13026), (1, 1))          1  1.0   (6287, 13026)  (1, 1)\n",
       "454641   ((16851, 2612), (0, 1))          6  1.0   (16851, 2612)  (0, 1)\n",
       "135314   ((13026, 8479), (1, 0))          1  1.0   (13026, 8479)  (1, 0)\n",
       "454646  ((10752, 11619), (1, 0))          6  1.0  (10752, 11619)  (1, 0)"
      ]
     },
     "execution_count": 7,
     "metadata": {},
     "output_type": "execute_result"
    }
   ],
   "source": [
    "stats[\"bigram\"] = stats[\"index\"].apply(lambda x: x[0])\n",
    "stats[\"key\"] = stats[\"index\"].apply(lambda x: x[1])\n",
    "stats[stats.key!=(0,0)].sort_values(by=['p'], ascending=False).head(10)"
   ]
  },
  {
   "cell_type": "code",
   "execution_count": 64,
   "metadata": {
    "colab": {
     "base_uri": "https://localhost:8080/"
    },
    "executionInfo": {
     "elapsed": 237552,
     "status": "ok",
     "timestamp": 1655029545954,
     "user": {
      "displayName": "Nico S.",
      "userId": "10138344247765665103"
     },
     "user_tz": -120
    },
    "id": "CMqbV9kQqKCX",
    "outputId": "169b2fb3-c866-4b9d-a4f4-43af95a240b1"
   },
   "outputs": [
    {
     "name": "stderr",
     "output_type": "stream",
     "text": [
      "100%|██████████| 12668/12668 [03:56<00:00, 53.61it/s]\n"
     ]
    }
   ],
   "source": [
    "predictions = []\n",
    "all_bigram_keys = results_bigrams.keys()\n",
    "unknown_bigrams = []\n",
    "labels = [(1,1), (1,0), (0,1),(0,0)]\n",
    "\n",
    "for idx in tqdm(range(df_test.shape[0])):\n",
    "    predictions.append([0]*150)\n",
    "    for i in range(df.iloc[idx].attention_masks.sum()-1):\n",
    "        bigram = df_test.iloc[idx].token_ids[i], df_test.iloc[idx].token_ids[i+1]\n",
    "        if bigram not in all_bigram_keys:\n",
    "            unknown_bigrams.append(bigram)\n",
    "            continue\n",
    "        if results_bigrams[bigram][(1,0)][\"p\"] >= 0.5:\n",
    "            predictions[idx][i] = 1\n",
    "        if results_bigrams[bigram][(0,1)][\"p\"] >= 0.5:\n",
    "            predictions[idx][i+1] = 1\n",
    "        if results_bigrams[bigram][(1,1)][\"p\"] >= 0.5:\n",
    "            predictions[idx][i] = 1\n",
    "            predictions[idx][i+1] = 1\n",
    "            \n",
    "\n",
    "predictions = [np.array(pred) for pred in predictions]\n",
    "df_test[\"preds\"] = predictions\n",
    "\n",
    "# save the dataframe\n",
    "df_test.to_pickle('../data/df_test_bigrams.pkl')"
   ]
  },
  {
   "cell_type": "code",
   "execution_count": null,
   "metadata": {
    "id": "qnBO0E1rqKCa"
   },
   "outputs": [],
   "source": [
    "# load the dataframe\n",
    "df_test = pd.read_pickle('../data/df_test_bigrams.pkl')"
   ]
  },
  {
   "cell_type": "code",
   "execution_count": 65,
   "metadata": {
    "colab": {
     "base_uri": "https://localhost:8080/",
     "height": 449
    },
    "executionInfo": {
     "elapsed": 9128,
     "status": "ok",
     "timestamp": 1655029562751,
     "user": {
      "displayName": "Nico S.",
      "userId": "10138344247765665103"
     },
     "user_tz": -120
    },
    "id": "NXziJodkYjpT",
    "outputId": "54856ff5-6b50-4169-a7ef-8c3c48f366fa"
   },
   "outputs": [
    {
     "name": "stderr",
     "output_type": "stream",
     "text": [
      "12668it [00:01, 9047.14it/s]\n"
     ]
    },
    {
     "data": {
      "image/png": "[encoded data removed]",
      "text/plain": [
       "<Figure size 432x288 with 2 Axes>"
      ]
     },
     "metadata": {
      "needs_background": "light"
     },
     "output_type": "display_data"
    },
    {
     "name": "stdout",
     "output_type": "stream",
     "text": [
      "\n",
      "Accuracy:   99.72%\n",
      "precision:  76.77%\n",
      "recall:     81.10%\n",
      "f1:         78.88%\n",
      "\n",
      "Confusion matrix:\n",
      "[[1853958    2943]\n",
      " [   2267    9727]]\n"
     ]
    }
   ],
   "source": [
    "all_labels = []\n",
    "all_predictions = []\n",
    "for idx, row in tqdm(df_test.iterrows()):\n",
    "    all_labels.extend(row.labels[row.attention_masks==1])\n",
    "    all_predictions.extend(row.preds[row.attention_masks==1])\n",
    "\n",
    "metrics = compute_metrics(all_predictions, all_labels)\n",
    "display_metrics(metrics)"
   ]
  }
 ],
 "metadata": {
  "accelerator": "GPU",
  "colab": {
   "collapsed_sections": [],
   "name": "baseline_model.ipynb",
   "provenance": []
  },
  "kernelspec": {
   "display_name": "Python 3 (ipykernel)",
   "language": "python",
   "name": "python3"
  },
  "language_info": {
   "codemirror_mode": {
    "name": "ipython",
    "version": 3
   },
   "file_extension": ".py",
   "mimetype": "text/x-python",
   "name": "python",
   "nbconvert_exporter": "python",
   "pygments_lexer": "ipython3",
   "version": "3.10.4"
  },
  "vscode": {
   "interpreter": {
    "hash": "feea0870b387ea25a972936e098e5fb2b844c9fbea4588ad6e7ee2c4459ae1d1"
   }
  }
 },
 "nbformat": 4,
 "nbformat_minor": 4
}
