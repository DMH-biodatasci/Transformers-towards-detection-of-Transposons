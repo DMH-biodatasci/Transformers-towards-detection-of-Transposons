{
 "cells": [
  {
   "cell_type": "markdown",
   "id": "132ecb64-0155-4f93-848e-b51dd4cacd1b",
   "metadata": {},
   "source": [
    "# MCL Frequency, bigram, trigram & more"
   ]
  },
  {
   "cell_type": "code",
   "execution_count": 84,
   "id": "f450e34d-ede8-49e7-bb5a-ae7801b3a175",
   "metadata": {},
   "outputs": [],
   "source": [
    "import pandas as pd\n",
    "import os\n",
    "import numpy as np\n",
    "import collections\n",
    "import timeit\n",
    "from matplotlib import pyplot as plt\n",
    "import shelve\n",
    "import collections \n",
    "from itertools import chain\n",
    "import seaborn as sns"
   ]
  },
  {
   "cell_type": "code",
   "execution_count": 3,
   "id": "b4ae6def-943b-4167-9d33-8ecd3b704525",
   "metadata": {},
   "outputs": [],
   "source": [
    "df = pd.read_csv(os.path.join(\"..\", \"data\", \"original_data\", \"tn.contig.filter.tsv\"), sep=\"\\t\")\n",
    "characteristics = pd.read_csv('../data/characteristics.csv')"
   ]
  },
  {
   "cell_type": "code",
   "execution_count": 37,
   "id": "c3e75f35-71ac-477c-94a6-15529980bf0f",
   "metadata": {},
   "outputs": [
    {
     "data": {
      "text/html": [
       "<div>\n",
       "<style scoped>\n",
       "    .dataframe tbody tr th:only-of-type {\n",
       "        vertical-align: middle;\n",
       "    }\n",
       "\n",
       "    .dataframe tbody tr th {\n",
       "        vertical-align: top;\n",
       "    }\n",
       "\n",
       "    .dataframe thead th {\n",
       "        text-align: right;\n",
       "    }\n",
       "</style>\n",
       "<table border=\"1\" class=\"dataframe\">\n",
       "  <thead>\n",
       "    <tr style=\"text-align: right;\">\n",
       "      <th></th>\n",
       "      <th>Unnamed: 0</th>\n",
       "      <th>origin</th>\n",
       "      <th>tokens</th>\n",
       "      <th>labels</th>\n",
       "      <th>length</th>\n",
       "      <th>num_TE</th>\n",
       "      <th>max_len_TE</th>\n",
       "    </tr>\n",
       "  </thead>\n",
       "  <tbody>\n",
       "    <tr>\n",
       "      <th>0</th>\n",
       "      <td>0</td>\n",
       "      <td>100.fasta</td>\n",
       "      <td>['mcl00578', 'mcl00294', 'mcl01096', 'mcl01000...</td>\n",
       "      <td>[0.0, 0.0, 0.0, 0.0, 0.0, 0.0, 0.0, 0.0, 0.0, ...</td>\n",
       "      <td>5269</td>\n",
       "      <td>15</td>\n",
       "      <td>3</td>\n",
       "    </tr>\n",
       "    <tr>\n",
       "      <th>1</th>\n",
       "      <td>1</td>\n",
       "      <td>10000.fasta</td>\n",
       "      <td>['mcl02431', 'mcl06548', 'mcl04067', 'mcl09083...</td>\n",
       "      <td>[0.0, 0.0, 0.0, 0.0, 0.0, 0.0, 0.0, 0.0, 0.0, ...</td>\n",
       "      <td>123</td>\n",
       "      <td>0</td>\n",
       "      <td>0</td>\n",
       "    </tr>\n",
       "    <tr>\n",
       "      <th>2</th>\n",
       "      <td>2</td>\n",
       "      <td>10008.fasta</td>\n",
       "      <td>['mcl0000X', 'mcl01971', 'mcl02107', 'mcl01276...</td>\n",
       "      <td>[0.0, 0.0, 0.0, 0.0, 0.0, 0.0, 0.0, 0.0, 0.0, ...</td>\n",
       "      <td>4346</td>\n",
       "      <td>6</td>\n",
       "      <td>4</td>\n",
       "    </tr>\n",
       "    <tr>\n",
       "      <th>3</th>\n",
       "      <td>3</td>\n",
       "      <td>10009.fasta</td>\n",
       "      <td>['mcl09252', 'mcl09004', 'mcl11223', 'mcl09170...</td>\n",
       "      <td>[0.0, 0.0, 0.0, 0.0, 0.0, 0.0, 0.0, 0.0, 0.0, ...</td>\n",
       "      <td>212</td>\n",
       "      <td>13</td>\n",
       "      <td>3</td>\n",
       "    </tr>\n",
       "    <tr>\n",
       "      <th>4</th>\n",
       "      <td>4</td>\n",
       "      <td>10013.fasta</td>\n",
       "      <td>['mcl01241', 'mcl00150', 'mcl01386', 'mcl00603...</td>\n",
       "      <td>[0.0, 0.0, 0.0, 0.0, 0.0, 0.0, 0.0, 0.0, 0.0, ...</td>\n",
       "      <td>4221</td>\n",
       "      <td>7</td>\n",
       "      <td>19</td>\n",
       "    </tr>\n",
       "  </tbody>\n",
       "</table>\n",
       "</div>"
      ],
      "text/plain": [
       "   Unnamed: 0       origin                                             tokens  \\\n",
       "0           0    100.fasta  ['mcl00578', 'mcl00294', 'mcl01096', 'mcl01000...   \n",
       "1           1  10000.fasta  ['mcl02431', 'mcl06548', 'mcl04067', 'mcl09083...   \n",
       "2           2  10008.fasta  ['mcl0000X', 'mcl01971', 'mcl02107', 'mcl01276...   \n",
       "3           3  10009.fasta  ['mcl09252', 'mcl09004', 'mcl11223', 'mcl09170...   \n",
       "4           4  10013.fasta  ['mcl01241', 'mcl00150', 'mcl01386', 'mcl00603...   \n",
       "\n",
       "                                              labels  length  num_TE  \\\n",
       "0  [0.0, 0.0, 0.0, 0.0, 0.0, 0.0, 0.0, 0.0, 0.0, ...    5269      15   \n",
       "1  [0.0, 0.0, 0.0, 0.0, 0.0, 0.0, 0.0, 0.0, 0.0, ...     123       0   \n",
       "2  [0.0, 0.0, 0.0, 0.0, 0.0, 0.0, 0.0, 0.0, 0.0, ...    4346       6   \n",
       "3  [0.0, 0.0, 0.0, 0.0, 0.0, 0.0, 0.0, 0.0, 0.0, ...     212      13   \n",
       "4  [0.0, 0.0, 0.0, 0.0, 0.0, 0.0, 0.0, 0.0, 0.0, ...    4221       7   \n",
       "\n",
       "   max_len_TE  \n",
       "0           3  \n",
       "1           0  \n",
       "2           4  \n",
       "3           3  \n",
       "4          19  "
      ]
     },
     "execution_count": 37,
     "metadata": {},
     "output_type": "execute_result"
    }
   ],
   "source": [
    "characteristics.head()"
   ]
  },
  {
   "cell_type": "code",
   "execution_count": 78,
   "id": "e9774b19-88d8-4028-abd1-b0922d0fce8d",
   "metadata": {},
   "outputs": [],
   "source": [
    "# Flatten list\n",
    "\n",
    "tokens = characteristics[\"tokens\"].to_list()\n",
    "\n",
    "tok_list = []\n",
    "for tok in tokens:\n",
    "    tok = tok.strip('][')\n",
    "    tok = tok.replace(\"'\", \"\")\n",
    "    tok = tok.split(', ')\n",
    "    tok_list.append(tok)\n",
    "\n",
    "tok_list = [item for sublist in tok_list for item in sublist]"
   ]
  },
  {
   "cell_type": "code",
   "execution_count": 87,
   "id": "9afd24df-5a51-4776-8f65-0aba3d276c8f",
   "metadata": {},
   "outputs": [],
   "source": [
    "token_frequency = collections.Counter(tok_list)\n",
    "freq_df = pd.DataFrame(data={'MCL Frequencies':token_frequency.values()})"
   ]
  },
  {
   "cell_type": "code",
   "execution_count": 91,
   "id": "b0f7dba7-f046-41e8-a272-56a50bc47204",
   "metadata": {},
   "outputs": [
    {
     "data": {
      "text/plain": [
       "<AxesSubplot:xlabel='MCL Frequencies', ylabel='Proportion'>"
      ]
     },
     "execution_count": 91,
     "metadata": {},
     "output_type": "execute_result"
    },
    {
     "data": {
      "image/png": "[encoded data removed]",
      "text/plain": [
       "<Figure size 576x360 with 1 Axes>"
      ]
     },
     "metadata": {
      "needs_background": "light"
     },
     "output_type": "display_data"
    }
   ],
   "source": [
    "f, ax = plt.subplots(figsize=(8, 5))\n",
    "ax.set(xscale=\"log\")\n",
    "sns.ecdfplot(data=freq_df, ax=ax, x=\"MCL Frequencies\")"
   ]
  }
 ],
 "metadata": {
  "kernelspec": {
   "display_name": "Python 3 (ipykernel)",
   "language": "python",
   "name": "python3"
  },
  "language_info": {
   "codemirror_mode": {
    "name": "ipython",
    "version": 3
   },
   "file_extension": ".py",
   "mimetype": "text/x-python",
   "name": "python",
   "nbconvert_exporter": "python",
   "pygments_lexer": "ipython3",
   "version": "3.10.4"
  }
 },
 "nbformat": 4,
 "nbformat_minor": 5
}
