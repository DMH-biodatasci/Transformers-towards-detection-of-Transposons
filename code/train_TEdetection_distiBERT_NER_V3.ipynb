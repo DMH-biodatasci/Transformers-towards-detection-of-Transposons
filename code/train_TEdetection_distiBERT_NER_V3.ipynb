{
 "cells": [
  {
   "cell_type": "markdown",
   "id": "c7e26834-80a2-4254-a16a-5ec5e4a321ea",
   "metadata": {
    "id": "B8AYL8QtwjD7"
   },
   "source": [
    "# Boundary detection of composite transposable elements\n",
    "\n",
    "## Notebook: Named entity recognition (use for Server/Cluster without global Internet access)\n",
    "\n",
    "### Description:\n",
    "\n",
    "Transposable elements are sequences in genomes that can change their position in the genome. Thus, they are also called “jumping genes”. They are able to affect the composition and size of genetic replicons. Our research interest in this project are composite transposable elements, which are flanked by two inverted repeats and transposable elements. Composite transposable elements are moving as one unit within a genome and are copying and inserting genes enclosed by itself. The following traits of composite transposable elements are making their detection challenging:\n",
    "\n",
    "Sometimes terminal information such as repeats or transposable elements are missing, which would theoretically determine the boundaries of a composite transposable element.\n",
    "Composite transposable elements are diverse in their genetic composition and size.\n",
    "Composite transposable elements are usually associated with essential and indispensable genes, which are having a high gene frequency across genomes, but also with genes of lower essentiality, which leads to significant drop in the gene frequency landscape. We hypothesize that the genetic frequency landscape of a replicon will follow a particular pattern, which can be used as a marker for putative regions of composite transposable elements. Thus, we are representing here an approach to detect boundaries of composite transposable elements using the langugage of genome sequences consisting out protein families labels.\n",
    "\n",
    "### Project Repo:\n",
    "\n",
    "https://github.com/DMH-dutte/Boundary_detection_comTEs\n",
    "\n",
    "Participants:\n",
    "\n",
    "Nicolas Steen\n",
    "\n",
    "Friedrich Kerchnawe\n",
    "\n",
    "Wang Yiqing\n",
    "\n",
    "Dustin Martin Hanke\n",
    "\n",
    "### Course and Semester:\n",
    "\n",
    "Transformers for Natural Language Processing and Beyond - Sommersemester 2022"
   ]
  },
  {
   "cell_type": "markdown",
   "id": "907060ec-70b7-45cc-b8ac-e4279da41f5a",
   "metadata": {},
   "source": [
    "# Train TEdetection Model for Named Entity Recognition \n",
    "based model TEdetection_distiBERT_mLM_V2"
   ]
  },
  {
   "cell_type": "code",
   "execution_count": 1,
   "id": "w8GcfB62udba",
   "metadata": {
    "executionInfo": {
     "elapsed": 5230,
     "status": "ok",
     "timestamp": 1654109138374,
     "user": {
      "displayName": "Friedrich Kerchnawe",
      "userId": "14877452091479911141"
     },
     "user_tz": -120
    },
    "id": "w8GcfB62udba"
   },
   "outputs": [],
   "source": [
    "model_name = \"TEdetection_distiBERT_NER_V2\""
   ]
  },
  {
   "cell_type": "markdown",
   "id": "69058e57",
   "metadata": {
    "id": "69058e57"
   },
   "source": [
    "## Load and Preprocess data"
   ]
  },
  {
   "cell_type": "code",
   "execution_count": 7,
   "id": "CZnyME3LW2t9",
   "metadata": {
    "colab": {
     "base_uri": "https://localhost:8080/"
    },
    "executionInfo": {
     "elapsed": 297,
     "status": "ok",
     "timestamp": 1654109139210,
     "user": {
      "displayName": "Friedrich Kerchnawe",
      "userId": "14877452091479911141"
     },
     "user_tz": -120
    },
    "id": "CZnyME3LW2t9",
    "outputId": "29a177cf-0d0f-472a-94db-6a58df9c38b5"
   },
   "outputs": [
    {
     "name": "stdout",
     "output_type": "stream",
     "text": [
      "Wed Jun  1 18:45:37 2022       \n",
      "+-----------------------------------------------------------------------------+\n",
      "| NVIDIA-SMI 460.32.03    Driver Version: 460.32.03    CUDA Version: 11.2     |\n",
      "|-------------------------------+----------------------+----------------------+\n",
      "| GPU  Name        Persistence-M| Bus-Id        Disp.A | Volatile Uncorr. ECC |\n",
      "| Fan  Temp  Perf  Pwr:Usage/Cap|         Memory-Usage | GPU-Util  Compute M. |\n",
      "|                               |                      |               MIG M. |\n",
      "|===============================+======================+======================|\n",
      "|   0  Tesla P100-PCIE...  Off  | 00000000:00:04.0 Off |                    0 |\n",
      "| N/A   38C    P0    27W / 250W |      0MiB / 16280MiB |      0%      Default |\n",
      "|                               |                      |                  N/A |\n",
      "+-------------------------------+----------------------+----------------------+\n",
      "                                                                               \n",
      "+-----------------------------------------------------------------------------+\n",
      "| Processes:                                                                  |\n",
      "|  GPU   GI   CI        PID   Type   Process name                  GPU Memory |\n",
      "|        ID   ID                                                   Usage      |\n",
      "|=============================================================================|\n",
      "|  No running processes found                                                 |\n",
      "+-----------------------------------------------------------------------------+\n"
     ]
    }
   ],
   "source": [
    "gpu_info = !nvidia-smi\n",
    "gpu_info = '\\n'.join(gpu_info)\n",
    "if gpu_info.find('failed') >= 0:\n",
    "  print('Not connected to a GPU')\n",
    "else:\n",
    "  print(gpu_info)"
   ]
  },
  {
   "cell_type": "code",
   "execution_count": 2,
   "id": "ZdpLEhqhmrfJ",
   "metadata": {
    "colab": {
     "base_uri": "https://localhost:8080/"
    },
    "executionInfo": {
     "elapsed": 8707,
     "status": "ok",
     "timestamp": 1654109165260,
     "user": {
      "displayName": "Friedrich Kerchnawe",
      "userId": "14877452091479911141"
     },
     "user_tz": -120
    },
    "id": "ZdpLEhqhmrfJ",
    "outputId": "67c006f5-100d-44e6-a28a-360ecab3038c"
   },
   "outputs": [
    {
     "name": "stderr",
     "output_type": "stream",
     "text": [
      "2022-06-08 16:42:07.033611: I tensorflow/core/util/util.cc:169] oneDNN custom operations are on. You may see slightly different numerical results due to floating-point round-off errors from different computation orders. To turn them off, set the environment variable `TF_ENABLE_ONEDNN_OPTS=0`.\n"
     ]
    },
    {
     "name": "stdout",
     "output_type": "stream",
     "text": [
      "4.19.2\n"
     ]
    }
   ],
   "source": [
    "import transformers\n",
    "print(transformers.__version__)"
   ]
  },
  {
   "cell_type": "code",
   "execution_count": 3,
   "id": "8b02a413",
   "metadata": {
    "executionInfo": {
     "elapsed": 41,
     "status": "ok",
     "timestamp": 1654109165262,
     "user": {
      "displayName": "Friedrich Kerchnawe",
      "userId": "14877452091479911141"
     },
     "user_tz": -120
    },
    "id": "8b02a413"
   },
   "outputs": [],
   "source": [
    "import os\n",
    "import numpy as np\n",
    "import numpy.ma as ma\n",
    "import pandas as pd\n",
    "import tensorflow as tf\n",
    "from tensorflow import keras\n",
    "import shelve\n",
    "from datetime import datetime\n",
    "import matplotlib.pyplot as plt"
   ]
  },
  {
   "cell_type": "code",
   "execution_count": 5,
   "id": "09ZQH9SBv1Wr",
   "metadata": {
    "colab": {
     "base_uri": "https://localhost:8080/"
    },
    "executionInfo": {
     "elapsed": 31968,
     "status": "ok",
     "timestamp": 1654109197192,
     "user": {
      "displayName": "Friedrich Kerchnawe",
      "userId": "14877452091479911141"
     },
     "user_tz": -120
    },
    "id": "09ZQH9SBv1Wr",
    "outputId": "87c0bbaa-4132-41e5-d66c-5e9f1dfe4749"
   },
   "outputs": [
    {
     "data": {
      "text/plain": [
       "<bound method Shelf.close of <shelve.DbfilenameShelf object at 0x14e54a357e80>>"
      ]
     },
     "execution_count": 5,
     "metadata": {},
     "output_type": "execute_result"
    }
   ],
   "source": [
    "\n",
    "results = shelve.open(os.path.join(\"..\", \"data\", \"prep_trainvalidationtest_1\"),'r')\n",
    "df = results[\"chunks\"]\n",
    "tok = results[\"tokenize_table\"]\n",
    "results.close"
   ]
  },
  {
   "cell_type": "code",
   "execution_count": 6,
   "id": "5AaWymBq1cnv",
   "metadata": {
    "colab": {
     "base_uri": "https://localhost:8080/",
     "height": 191
    },
    "executionInfo": {
     "elapsed": 39,
     "status": "ok",
     "timestamp": 1654109197196,
     "user": {
      "displayName": "Friedrich Kerchnawe",
      "userId": "14877452091479911141"
     },
     "user_tz": -120
    },
    "id": "5AaWymBq1cnv",
    "outputId": "f539a1aa-7883-47a9-df58-226a06cef6e6"
   },
   "outputs": [
    {
     "data": {
      "text/html": [
       "<div>\n",
       "<style scoped>\n",
       "    .dataframe tbody tr th:only-of-type {\n",
       "        vertical-align: middle;\n",
       "    }\n",
       "\n",
       "    .dataframe tbody tr th {\n",
       "        vertical-align: top;\n",
       "    }\n",
       "\n",
       "    .dataframe thead th {\n",
       "        text-align: right;\n",
       "    }\n",
       "</style>\n",
       "<table border=\"1\" class=\"dataframe\">\n",
       "  <thead>\n",
       "    <tr style=\"text-align: right;\">\n",
       "      <th></th>\n",
       "      <th>origin</th>\n",
       "      <th>chunk</th>\n",
       "      <th>set</th>\n",
       "      <th>tokens</th>\n",
       "      <th>token_ids</th>\n",
       "      <th>attention_masks</th>\n",
       "      <th>labels</th>\n",
       "    </tr>\n",
       "  </thead>\n",
       "  <tbody>\n",
       "    <tr>\n",
       "      <th>0</th>\n",
       "      <td>100.fasta</td>\n",
       "      <td>1</td>\n",
       "      <td>test</td>\n",
       "      <td>[mcl00578, mcl00294, mcl01096, mcl01000, mcl01...</td>\n",
       "      <td>[11, 12, 13, 14, 15, 16, 17, 18, 19, 20, 21, 2...</td>\n",
       "      <td>[1, 1, 1, 1, 1, 1, 1, 1, 1, 1, 1, 1, 1, 1, 1, ...</td>\n",
       "      <td>[0, 0, 0, 0, 0, 0, 0, 0, 0, 0, 0, 0, 0, 0, 0, ...</td>\n",
       "    </tr>\n",
       "    <tr>\n",
       "      <th>1</th>\n",
       "      <td>100.fasta</td>\n",
       "      <td>2</td>\n",
       "      <td>test</td>\n",
       "      <td>[mcl01236, mcl00376, mcl04030, mcl00368, mcl01...</td>\n",
       "      <td>[61, 62, 63, 64, 65, 66, 67, 68, 69, 70, 71, 7...</td>\n",
       "      <td>[1, 1, 1, 1, 1, 1, 1, 1, 1, 1, 1, 1, 1, 1, 1, ...</td>\n",
       "      <td>[0, 0, 0, 0, 0, 0, 0, 0, 0, 0, 0, 0, 0, 0, 0, ...</td>\n",
       "    </tr>\n",
       "  </tbody>\n",
       "</table>\n",
       "</div>"
      ],
      "text/plain": [
       "      origin  chunk   set                                             tokens  \\\n",
       "0  100.fasta      1  test  [mcl00578, mcl00294, mcl01096, mcl01000, mcl01...   \n",
       "1  100.fasta      2  test  [mcl01236, mcl00376, mcl04030, mcl00368, mcl01...   \n",
       "\n",
       "                                           token_ids  \\\n",
       "0  [11, 12, 13, 14, 15, 16, 17, 18, 19, 20, 21, 2...   \n",
       "1  [61, 62, 63, 64, 65, 66, 67, 68, 69, 70, 71, 7...   \n",
       "\n",
       "                                     attention_masks  \\\n",
       "0  [1, 1, 1, 1, 1, 1, 1, 1, 1, 1, 1, 1, 1, 1, 1, ...   \n",
       "1  [1, 1, 1, 1, 1, 1, 1, 1, 1, 1, 1, 1, 1, 1, 1, ...   \n",
       "\n",
       "                                              labels  \n",
       "0  [0, 0, 0, 0, 0, 0, 0, 0, 0, 0, 0, 0, 0, 0, 0, ...  \n",
       "1  [0, 0, 0, 0, 0, 0, 0, 0, 0, 0, 0, 0, 0, 0, 0, ...  "
      ]
     },
     "execution_count": 6,
     "metadata": {},
     "output_type": "execute_result"
    }
   ],
   "source": [
    "df.head(2)"
   ]
  },
  {
   "cell_type": "markdown",
   "id": "KDxqEb7tmFkl",
   "metadata": {
    "id": "KDxqEb7tmFkl"
   },
   "source": [
    "##eliminate all chunks with only one token\n",
    "\n",
    "without context an attention mechanism is useless"
   ]
  },
  {
   "cell_type": "code",
   "execution_count": 7,
   "id": "uSa_5ZGdmING",
   "metadata": {
    "executionInfo": {
     "elapsed": 6635,
     "status": "ok",
     "timestamp": 1654109338780,
     "user": {
      "displayName": "Friedrich Kerchnawe",
      "userId": "14877452091479911141"
     },
     "user_tz": -120
    },
    "id": "uSa_5ZGdmING"
   },
   "outputs": [],
   "source": [
    "# get length of each chunk\n",
    "l = []\n",
    "for row in list(df[\"attention_masks\"]):\n",
    "  l.append(sum(row))\n",
    "df[\"length\"] = l"
   ]
  },
  {
   "cell_type": "code",
   "execution_count": 8,
   "id": "LLgVQjSHmaeN",
   "metadata": {
    "executionInfo": {
     "elapsed": 338,
     "status": "ok",
     "timestamp": 1654109355114,
     "user": {
      "displayName": "Friedrich Kerchnawe",
      "userId": "14877452091479911141"
     },
     "user_tz": -120
    },
    "id": "LLgVQjSHmaeN"
   },
   "outputs": [],
   "source": [
    "df = df[df[\"length\"] > 1]"
   ]
  },
  {
   "cell_type": "code",
   "execution_count": 9,
   "id": "xoRsH4rVmex-",
   "metadata": {
    "colab": {
     "base_uri": "https://localhost:8080/"
    },
    "executionInfo": {
     "elapsed": 9,
     "status": "ok",
     "timestamp": 1654109372209,
     "user": {
      "displayName": "Friedrich Kerchnawe",
      "userId": "14877452091479911141"
     },
     "user_tz": -120
    },
    "id": "xoRsH4rVmex-",
    "outputId": "11874ae6-a062-42bb-fc10-e7706067990d"
   },
   "outputs": [
    {
     "name": "stdout",
     "output_type": "stream",
     "text": [
      "number of chunks: 234404\n",
      "number of unique tokens in the data:  32634\n",
      "length of each chunk in the data:  150\n",
      "length of shortest chunk : 2\n"
     ]
    }
   ],
   "source": [
    "print(\"number of chunks:\", df.shape[0])\n",
    "print(\"number of unique tokens in the data: \", len(tok.keys()))\n",
    "print(\"length of each chunk in the data: \", len(df[\"token_ids\"].iloc[0]))\n",
    "print(\"length of shortest chunk :\", df[\"length\"].min())"
   ]
  },
  {
   "cell_type": "markdown",
   "id": "o4uUZiXcy9Xk",
   "metadata": {
    "id": "o4uUZiXcy9Xk"
   },
   "source": [
    "## Shuffle data"
   ]
  },
  {
   "cell_type": "code",
   "execution_count": 10,
   "id": "TbUfvd9My9ls",
   "metadata": {
    "executionInfo": {
     "elapsed": 246,
     "status": "ok",
     "timestamp": 1654109399725,
     "user": {
      "displayName": "Friedrich Kerchnawe",
      "userId": "14877452091479911141"
     },
     "user_tz": -120
    },
    "id": "TbUfvd9My9ls"
   },
   "outputs": [],
   "source": [
    "np.random.seed(4711)\n",
    "df = df.sample(frac=1).reset_index(drop=True)"
   ]
  },
  {
   "cell_type": "markdown",
   "id": "h9B1F6QvyGKj",
   "metadata": {
    "id": "h9B1F6QvyGKj"
   },
   "source": [
    "## extract training and validation data for NER task"
   ]
  },
  {
   "cell_type": "code",
   "execution_count": 11,
   "id": "F2Jz6xQtR_nd",
   "metadata": {
    "executionInfo": {
     "elapsed": 1198,
     "status": "ok",
     "timestamp": 1654109405112,
     "user": {
      "displayName": "Friedrich Kerchnawe",
      "userId": "14877452091479911141"
     },
     "user_tz": -120
    },
    "id": "F2Jz6xQtR_nd"
   },
   "outputs": [],
   "source": [
    "df_training_tkn = df[df[\"set\"] == \"training\"][\"token_ids\"]\n",
    "training_tokens = np.array([x for x in df_training_tkn.tolist()])\n",
    "df_training_lbs = df[df[\"set\"] == \"training\"][\"labels\"]\n",
    "training_labels = np.array([x for x in df_training_lbs.tolist()])\n",
    "df_training_att = df[df[\"set\"] == \"training\"][\"attention_masks\"]\n",
    "training_attention_masks = np.array([x for x in df_training_att.tolist()])\n",
    "\n",
    "df_validation_tkn = df[df[\"set\"] == \"validation\"][\"token_ids\"]\n",
    "validation_tokens = np.array([x for x in df_validation_tkn.tolist()])\n",
    "df_validation_lbs = df[df[\"set\"] == \"validation\"][\"labels\"]\n",
    "validation_labels = np.array([x for x in df_validation_lbs.tolist()])\n",
    "df_validation_att = df[df[\"set\"] == \"validation\"][\"attention_masks\"]\n",
    "validation_attention_masks = np.array([x for x in df_validation_att.tolist()])"
   ]
  },
  {
   "cell_type": "markdown",
   "id": "Yb2qWACXAyT_",
   "metadata": {
    "id": "Yb2qWACXAyT_"
   },
   "source": [
    "##Check the prepared data\n",
    "\n",
    "\n",
    "*   df                        : dataframe with all input data (training, validation, test)\n",
    "*  \n",
    "*   training_tokens           : np_array with training tokens\n",
    "*   training_labels           : np_array with training labels (named entities)\n",
    "*   training_attention_masks  : np_array with training attention masks\n",
    "*  \n",
    "*   validation_tokens           : np_array with validation tokens\n",
    "*   validation_labels           : np_array with validation labels (named entities)\n",
    "*   validation_attention_masks  : np_array with validation attention masks\n",
    "\n",
    "\n"
   ]
  },
  {
   "cell_type": "code",
   "execution_count": 12,
   "id": "aNYqKrFqGquJ",
   "metadata": {
    "colab": {
     "base_uri": "https://localhost:8080/"
    },
    "executionInfo": {
     "elapsed": 251,
     "status": "ok",
     "timestamp": 1654109412246,
     "user": {
      "displayName": "Friedrich Kerchnawe",
      "userId": "14877452091479911141"
     },
     "user_tz": -120
    },
    "id": "aNYqKrFqGquJ",
    "outputId": "0a531ebb-9022-45a8-9f54-d2ae26f00824"
   },
   "outputs": [
    {
     "data": {
      "text/plain": [
       "array([4466, 4465, 4464, 4463, 4462, 4461, 4460, 4459, 4458, 4457, 4456,\n",
       "       4455, 4454, 4453, 4452, 4451, 4450, 4449])"
      ]
     },
     "execution_count": 12,
     "metadata": {},
     "output_type": "execute_result"
    }
   ],
   "source": [
    "validation_tokens[110][44:62]"
   ]
  },
  {
   "cell_type": "code",
   "execution_count": 13,
   "id": "a581B2cGYOk7",
   "metadata": {
    "colab": {
     "base_uri": "https://localhost:8080/"
    },
    "executionInfo": {
     "elapsed": 311,
     "status": "ok",
     "timestamp": 1654109413814,
     "user": {
      "displayName": "Friedrich Kerchnawe",
      "userId": "14877452091479911141"
     },
     "user_tz": -120
    },
    "id": "a581B2cGYOk7",
    "outputId": "81f9208d-81c7-44ae-a8a8-e9ab440995fd"
   },
   "outputs": [
    {
     "data": {
      "text/plain": [
       "array([0, 0, 0, 0, 0, 0, 0, 0, 0, 0, 0, 0, 0, 0, 0, 0, 0, 0])"
      ]
     },
     "execution_count": 13,
     "metadata": {},
     "output_type": "execute_result"
    }
   ],
   "source": [
    "validation_labels[110][44:62]"
   ]
  },
  {
   "cell_type": "code",
   "execution_count": 14,
   "id": "z90ZGxXDG7gi",
   "metadata": {
    "colab": {
     "base_uri": "https://localhost:8080/"
    },
    "executionInfo": {
     "elapsed": 8,
     "status": "ok",
     "timestamp": 1654109415307,
     "user": {
      "displayName": "Friedrich Kerchnawe",
      "userId": "14877452091479911141"
     },
     "user_tz": -120
    },
    "id": "z90ZGxXDG7gi",
    "outputId": "7b81a0c8-babb-4a61-e0ee-632ec976caaa"
   },
   "outputs": [
    {
     "data": {
      "text/plain": [
       "array([1, 1, 1, 1, 1, 1, 1, 1, 1, 1, 1, 1, 1, 1, 1, 1, 1, 1])"
      ]
     },
     "execution_count": 14,
     "metadata": {},
     "output_type": "execute_result"
    }
   ],
   "source": [
    "validation_attention_masks[110][44:62]"
   ]
  },
  {
   "cell_type": "markdown",
   "id": "d3305e1f",
   "metadata": {
    "id": "d3305e1f"
   },
   "source": [
    "### Convert the data to dictionaries\n",
    "\n",
    "\n",
    "    there are three possibilities you can use to gather all the input Tensors in the first positional argument :\n",
    "\n",
    "    a single Tensor with input_ids only and nothing else: model(inputs_ids)\n",
    "    a list of varying length with one or several input Tensors IN THE ORDER given in the docstring: model([input_ids, attention_mask])\n",
    "    a dictionary with one or several input Tensors associated to the input names given in the docstring: model({\"input_ids\": input_ids})\n",
    "\n",
    "    we will work with a dictionary\n"
   ]
  },
  {
   "cell_type": "code",
   "execution_count": 16,
   "id": "eef3f73e",
   "metadata": {
    "id": "eef3f73e"
   },
   "outputs": [
    {
     "name": "stderr",
     "output_type": "stream",
     "text": [
      "2022-06-08 16:43:27.903495: I tensorflow/core/platform/cpu_feature_guard.cc:193] This TensorFlow binary is optimized with oneAPI Deep Neural Network Library (oneDNN) to use the following CPU instructions in performance-critical operations:  AVX2 AVX512F AVX512_VNNI FMA\n",
      "To enable them in other operations, rebuild TensorFlow with the appropriate compiler flags.\n",
      "2022-06-08 16:43:39.463991: I tensorflow/core/common_runtime/gpu/gpu_device.cc:1532] Created device /job:localhost/replica:0/task:0/device:GPU:0 with 29880 MB memory:  -> device: 0, name: Tesla V100-SXM2-32GB, pci bus id: 0000:61:00.0, compute capability: 7.0\n",
      "2022-06-08 16:43:39.465763: I tensorflow/core/common_runtime/gpu/gpu_device.cc:1532] Created device /job:localhost/replica:0/task:0/device:GPU:1 with 29880 MB memory:  -> device: 1, name: Tesla V100-SXM2-32GB, pci bus id: 0000:62:00.0, compute capability: 7.0\n",
      "2022-06-08 16:43:39.467486: I tensorflow/core/common_runtime/gpu/gpu_device.cc:1532] Created device /job:localhost/replica:0/task:0/device:GPU:2 with 29880 MB memory:  -> device: 2, name: Tesla V100-SXM2-32GB, pci bus id: 0000:89:00.0, compute capability: 7.0\n",
      "2022-06-08 16:43:39.469102: I tensorflow/core/common_runtime/gpu/gpu_device.cc:1532] Created device /job:localhost/replica:0/task:0/device:GPU:3 with 29880 MB memory:  -> device: 3, name: Tesla V100-SXM2-32GB, pci bus id: 0000:8a:00.0, compute capability: 7.0\n"
     ]
    }
   ],
   "source": [
    "# not used, training dict will be created in training loop, batch by batch (see below)\n",
    "\n",
    "tf_train_dict = { 'input_ids': tf.convert_to_tensor(training_tokens), #[0:100]),\n",
    "            'attention_mask': tf.convert_to_tensor(training_attention_masks), #[0:100]),\n",
    "           'labels': tf.convert_to_tensor(training_labels) #[0:100])\n",
    "         }"
   ]
  },
  {
   "cell_type": "code",
   "execution_count": 26,
   "id": "4535020a-b754-4ab1-8b6b-17ea6a67d05f",
   "metadata": {},
   "outputs": [
    {
     "data": {
      "text/plain": [
       "array([ 4029,  4028,  4027,  4026,  4025,  4024,  4023,  4022, 13911,\n",
       "        8283,  4021,  4020,  4019,  4018,  4017,  4016,  4015,  4014,\n",
       "        4013,  4012,  4011,  4010,  5971,  4009,  4008,  4007,  4006,\n",
       "        4004,  4003,  4002,  5970, 10236, 10237,  3998, 10238,  2016,\n",
       "       10239, 10240, 10241, 10242, 10243,  5969,  3997,  3996,  5968,\n",
       "        3995,  3994,  3993,  5967,  3992,  3991,  3990,  3989,  3988,\n",
       "        3983,  3982,  3981,  3979,  3978,  3977, 10244,  3976,  3975,\n",
       "        3974,  3973,  3972,  3971,  3970,  3969,  3968,  3967,  3966,\n",
       "        3965,  3964,  3963,  3962,  3961, 14666,  3960,  3959,  3958,\n",
       "        3957,  3956, 10245, 10246, 10247, 10248, 10249, 12552, 10250,\n",
       "       10251, 10252, 10253, 10254, 10255, 10256, 10257, 10258, 10259,\n",
       "       10260, 10261,  3955,  3949,  9125,  5913,  6973,  5914,  5915,\n",
       "        5916,  5917,  6974,  3947,  3946,  3945,  3942,  5676,  5677,\n",
       "        5678,  5679,  3941,  3940,  3939,  3938,  3937,  3936,  3935,\n",
       "        3934,  3933,  3932,  3931,  3930,  3928,  3927,  3926,  3911,\n",
       "        3910,  3908,  3907,  3906,  3905,  3904, 10262, 10263,  3903,\n",
       "        3902,  3901,  3900,  3899,  5949,  3898])"
      ]
     },
     "execution_count": 26,
     "metadata": {},
     "output_type": "execute_result"
    }
   ],
   "source": [
    "training_tokens[0]"
   ]
  },
  {
   "cell_type": "code",
   "execution_count": 17,
   "id": "49525cad",
   "metadata": {
    "executionInfo": {
     "elapsed": 16341,
     "status": "ok",
     "timestamp": 1654109438051,
     "user": {
      "displayName": "Friedrich Kerchnawe",
      "userId": "14877452091479911141"
     },
     "user_tz": -120
    },
    "id": "49525cad"
   },
   "outputs": [],
   "source": [
    "tf_val_dict = { 'input_ids': tf.convert_to_tensor(validation_tokens), #[0:20]),\n",
    "           'attention_mask': tf.convert_to_tensor(validation_attention_masks), #[0:20]),\n",
    "           'labels': tf.convert_to_tensor(validation_labels), #[0:20])\n",
    "         }"
   ]
  },
  {
   "cell_type": "markdown",
   "id": "vNVUIh2GuKe7",
   "metadata": {
    "id": "vNVUIh2GuKe7"
   },
   "source": [
    "## Functions for saving model-weights\n",
    "\n",
    "    # Restore the weights\n",
    "    model.load_weights(path)\n",
    "\n",
    "    # Evaluate the model\n",
    "    loss, acc = model.evaluate(test_images, test_labels, verbose=2)\n",
    "    print(\"Restored model, accuracy: {:5.2f}%\".format(100 * acc))"
   ]
  },
  {
   "cell_type": "code",
   "execution_count": 18,
   "id": "_YNjhMr8uOVj",
   "metadata": {
    "executionInfo": {
     "elapsed": 5,
     "status": "ok",
     "timestamp": 1654109440549,
     "user": {
      "displayName": "Friedrich Kerchnawe",
      "userId": "14877452091479911141"
     },
     "user_tz": -120
    },
    "id": "_YNjhMr8uOVj"
   },
   "outputs": [],
   "source": [
    "def save_my_model_weights():\n",
    "    d = str(datetime.now())\n",
    "    checkpoint_name = model_name + \"-\" + d[0:10] + \"-\" + d[11:13] + \"-\" + d[14:16]\n",
    "    checkpoint_dir = os.path.join(\"drive\", \"MyDrive\", \"Project TE\", \"models\", checkpoint_name)\n",
    "    model.save_weights(checkpoint_dir)\n",
    "    return"
   ]
  },
  {
   "cell_type": "markdown",
   "id": "08a10cb4",
   "metadata": {
    "id": "08a10cb4"
   },
   "source": [
    "## Load the pretrained model\n",
    "    our pretrained model is based on DistilBERT and was trained as a masked Language Model \n"
   ]
  },
  {
   "cell_type": "code",
   "execution_count": 19,
   "id": "14XZrOG0XnUh",
   "metadata": {
    "colab": {
     "base_uri": "https://localhost:8080/",
     "height": 188,
     "referenced_widgets": [
      "7ca0456155e24892acdb36d679f47689",
      "ec8d15bf63f74d03b99eda6613a2894a",
      "d867ee934e244e6c96879ad774702488",
      "dd44ced5c8f645cf9747b35f28397ff9",
      "945df6f1f03b4666b97e9395481f7620",
      "2af12aef252e49e7b6560b4220881cb7",
      "d938de44dea1487ba5f5e429f1434a99",
      "6d012d5ed23f431fa8e73c36b0015860",
      "5037e0c3f52c40ce9005dd1fad34bdc5",
      "e01471ee22764873a0013d25cebc34c8",
      "e07ddf0c01754f3d88bece1960acc962",
      "24562ad8e1784c5bb11136fc10ebbf68",
      "01a211c6ef974621a114d88a74f6c53d",
      "fdcfa8b8dd7241699b1daee28f3d094f",
      "ed40f7f28e86463c85ba7109fdb2fafe",
      "e01178f46c7f455b95705b19d8a82b52",
      "a7578911a8004c329bc24775751db996",
      "9c7ead32aec94c369e09147fcfbbc74a",
      "fd8f3c4842f14315847adb3a942d6371",
      "c055cd1022364285961aac45c52969fa",
      "df0e3b1161c74849912a2990698a2caa",
      "fd8fa8354af74104b088f3cb5c82b9bd"
     ]
    },
    "executionInfo": {
     "elapsed": 21421,
     "status": "ok",
     "timestamp": 1654109530440,
     "user": {
      "displayName": "Friedrich Kerchnawe",
      "userId": "14877452091479911141"
     },
     "user_tz": -120
    },
    "id": "14XZrOG0XnUh",
    "outputId": "c0c18d3b-f0ee-4bc0-d7ef-e47d00e78c3e"
   },
   "outputs": [
    {
     "name": "stderr",
     "output_type": "stream",
     "text": [
      "Some layers from the model checkpoint at models/MLM_3 were not used when initializing TFDistilBertForTokenClassification: ['vocab_layer_norm', 'vocab_projector', 'vocab_transform']\n",
      "- This IS expected if you are initializing TFDistilBertForTokenClassification from the checkpoint of a model trained on another task or with another architecture (e.g. initializing a BertForSequenceClassification model from a BertForPreTraining model).\n",
      "- This IS NOT expected if you are initializing TFDistilBertForTokenClassification from the checkpoint of a model that you expect to be exactly identical (initializing a BertForSequenceClassification model from a BertForSequenceClassification model).\n",
      "Some layers of TFDistilBertForTokenClassification were not initialized from the model checkpoint at models/MLM_3 and are newly initialized: ['dropout_19', 'classifier']\n",
      "You should probably TRAIN this model on a down-stream task to be able to use it for predictions and inference.\n"
     ]
    }
   ],
   "source": [
    "from transformers import TFAutoModelForTokenClassification\n",
    "  \n",
    "#tokenizer = AutoTokenizer.from_pretrained(\"bert-base-uncased\")\n",
    "model = TFAutoModelForTokenClassification.from_pretrained(\"models/MLM_3\")"
   ]
  },
  {
   "cell_type": "code",
   "execution_count": 20,
   "id": "971aef06",
   "metadata": {
    "colab": {
     "base_uri": "https://localhost:8080/"
    },
    "executionInfo": {
     "elapsed": 63,
     "status": "ok",
     "timestamp": 1654109530441,
     "user": {
      "displayName": "Friedrich Kerchnawe",
      "userId": "14877452091479911141"
     },
     "user_tz": -120
    },
    "id": "971aef06",
    "outputId": "efa3c418-2639-4088-ffb8-7d50a9bb9543"
   },
   "outputs": [
    {
     "name": "stdout",
     "output_type": "stream",
     "text": [
      "Model: \"tf_distil_bert_for_token_classification\"\n",
      "_________________________________________________________________\n",
      " Layer (type)                Output Shape              Param #   \n",
      "=================================================================\n",
      " distilbert (TFDistilBertMai  multiple                 67715328  \n",
      " nLayer)                                                         \n",
      "                                                                 \n",
      " dropout_19 (Dropout)        multiple                  0         \n",
      "                                                                 \n",
      " classifier (Dense)          multiple                  1538      \n",
      "                                                                 \n",
      "=================================================================\n",
      "Total params: 67,716,866\n",
      "Trainable params: 67,716,866\n",
      "Non-trainable params: 0\n",
      "_________________________________________________________________\n"
     ]
    }
   ],
   "source": [
    "model.summary()"
   ]
  },
  {
   "cell_type": "markdown",
   "id": "45877776",
   "metadata": {
    "id": "45877776"
   },
   "source": [
    "## Compile the model\n",
    "configure the training hyperparameters and call compile() and fit(). We’ll use a learning rate schedule with some warmup to improve the stability of training. "
   ]
  },
  {
   "cell_type": "code",
   "execution_count": 21,
   "id": "aabd6b7b",
   "metadata": {
    "colab": {
     "base_uri": "https://localhost:8080/"
    },
    "executionInfo": {
     "elapsed": 25,
     "status": "ok",
     "timestamp": 1654109530442,
     "user": {
      "displayName": "Friedrich Kerchnawe",
      "userId": "14877452091479911141"
     },
     "user_tz": -120
    },
    "id": "aabd6b7b",
    "outputId": "03329889-7e29-44c2-99dd-c0fa8da716bc"
   },
   "outputs": [
    {
     "name": "stderr",
     "output_type": "stream",
     "text": [
      "No loss specified in compile() - the model's internal loss computation will be used as the loss. Don't panic - this is a common way to train TensorFlow models in Transformers! To disable this behaviour, please pass a loss argument, or explicitly pass `loss=None` if you do not want your model to compute a loss.\n"
     ]
    }
   ],
   "source": [
    "# with tensorflow\n",
    "\n",
    "from transformers import create_optimizer\n",
    "\n",
    "num_train_steps = len(training_tokens) #[0:100])   ## change this when training with the full data\n",
    "optimizer, schedule = create_optimizer(\n",
    "    init_lr=2e-5,\n",
    "    num_warmup_steps=1_000,\n",
    "    num_train_steps=num_train_steps,\n",
    "    weight_decay_rate=0.01,\n",
    ")\n",
    "model.compile(optimizer=optimizer)"
   ]
  },
  {
   "cell_type": "markdown",
   "id": "15f046b3-e2cd-42fc-8343-9e4d21a05edf",
   "metadata": {},
   "source": [
    "# Train the model"
   ]
  },
  {
   "cell_type": "code",
   "execution_count": 24,
   "id": "6633e719-9d45-43d0-8b9f-7b8898de313e",
   "metadata": {},
   "outputs": [
    {
     "name": "stdout",
     "output_type": "stream",
     "text": [
      "6532/6532 [==============================] - 1088s 165ms/step - loss: 0.0141 - val_loss: 0.0037\n"
     ]
    }
   ],
   "source": [
    "history = model.fit(tf_train_dict, validation_data=tf_val_dict, epochs=1, batch_size = 32, verbose=1)"
   ]
  },
  {
   "cell_type": "code",
   "execution_count": 25,
   "id": "28d95ec8-5956-4356-9cca-d3f842300662",
   "metadata": {},
   "outputs": [],
   "source": [
    "model.save_pretrained(\"models/NER_1\") "
   ]
  },
  {
   "cell_type": "markdown",
   "id": "792279df",
   "metadata": {
    "id": "792279df"
   },
   "source": [
    "## Get an output from is NER model"
   ]
  },
  {
   "cell_type": "code",
   "execution_count": null,
   "id": "c809ff2a",
   "metadata": {
    "id": "c809ff2a"
   },
   "outputs": [],
   "source": [
    "def get_prediction(i, predictions):\n",
    "    probs = tf.nn.softmax(predictions[0, i])\n",
    "    result = tf.math.top_k(probs, k=2)\n",
    "    pred = [result.indices.numpy(), result.values.numpy()]\n",
    "\n",
    "    return pred"
   ]
  },
  {
   "cell_type": "markdown",
   "id": "jn-0VRwLNSXW",
   "metadata": {
    "id": "jn-0VRwLNSXW"
   },
   "source": [
    "####Restore model\n",
    "  run this only if necessary"
   ]
  },
  {
   "cell_type": "markdown",
   "id": "f3f10f9d",
   "metadata": {
    "id": "f3f10f9d"
   },
   "source": [
    "#### Define input: Select a single chunk input from data"
   ]
  },
  {
   "cell_type": "code",
   "execution_count": null,
   "id": "2e6d956a",
   "metadata": {
    "id": "2e6d956a"
   },
   "outputs": [],
   "source": [
    "test_element = 110     #750      #1300#1000#110\n",
    "input = validation_tokens[test_element]\n",
    "target = validation_labels[test_element]"
   ]
  },
  {
   "cell_type": "markdown",
   "id": "ee2313e0",
   "metadata": {
    "id": "ee2313e0"
   },
   "source": [
    "#### Predict with the pretrained model"
   ]
  },
  {
   "cell_type": "code",
   "execution_count": null,
   "id": "8d9bc08b",
   "metadata": {
    "id": "8d9bc08b"
   },
   "outputs": [],
   "source": [
    "outputs = model(input)"
   ]
  },
  {
   "cell_type": "markdown",
   "id": "8947f1ec",
   "metadata": {
    "id": "8947f1ec"
   },
   "source": [
    "#### Evaluate the result"
   ]
  },
  {
   "cell_type": "code",
   "execution_count": null,
   "id": "c6CFImSPuxzq",
   "metadata": {
    "colab": {
     "base_uri": "https://localhost:8080/"
    },
    "executionInfo": {
     "elapsed": 434,
     "status": "ok",
     "timestamp": 1654001499473,
     "user": {
      "displayName": "Friedrich Kerchnawe",
      "userId": "14877452091479911141"
     },
     "user_tz": -120
    },
    "id": "c6CFImSPuxzq",
    "outputId": "0551cf82-ca87-43f8-91c0-2961ee356445"
   },
   "outputs": [
    {
     "name": "stdout",
     "output_type": "stream",
     "text": [
      "prediction: [0, 0, 0, 0, 0, 0, 0, 0, 0, 0, 0, 0, 0, 0, 0, 0, 0, 0, 0, 0, 0, 0, 0, 0, 0, 0, 0, 0, 0, 0, 0, 0, 0, 0, 0, 0, 0, 0, 0, 0, 0, 0, 0, 0, 0, 1, 0, 0, 0, 0, 0, 0, 0, 0, 0, 0, 0, 0, 0, 0, 0, 0, 0, 0, 0, 0, 0, 0, 0, 0, 0, 0, 0, 0, 0, 0, 0, 0, 0, 0, 0, 0, 0, 0, 0, 0, 0, 0, 0, 0, 0, 0, 0, 0, 0, 0, 0, 0, 0, 0, 0, 0, 0, 0, 0, 0, 0, 0, 0, 0, 0, 0, 0, 0, 0, 0, 0, 0, 0, 0, 0, 0, 0, 0, 0, 0, 0, 0, 0, 0, 0, 0, 0, 0, 0, 0, 0, 0, 0, 0, 0, 0, 0, 0, 0, 0, 0, 0, 0, 0]\n",
      "target    : [0, 0, 0, 0, 0, 0, 0, 0, 0, 0, 0, 0, 0, 0, 0, 0, 0, 0, 0, 0, 0, 0, 0, 0, 0, 0, 0, 0, 0, 0, 0, 0, 0, 0, 0, 0, 0, 0, 0, 0, 0, 0, 0, 0, 0, 1, 1, 0, 0, 0, 0, 0, 0, 0, 0, 0, 0, 0, 0, 0, 0, 0, 0, 0, 0, 0, 0, 0, 0, 0, 0, 0, 0, 0, 0, 0, 0, 0, 0, 0, 0, 0, 0, 0, 0, 0, 0, 0, 0, 0, 0, 0, 0, 0, 0, 0, 0, 1, 1, 1, 0, 0, 0, 0, 0, 0, 0, 0, 0, 0, 0, 0, 0, 0, 0, 0, 0, 0, 0, 0, 0, 0, 0, 0, 0, 0, 0, 0, 0, 0, 0, 0, 0, 0, 0, 0, 0, 0, 0, 0, 0, 0, 0, 0, 0, 0, 0, 0, 0, 0]\n"
     ]
    }
   ],
   "source": [
    "i = 0\n",
    "pred_arr = np.zeros(150)\n",
    "for x in input:\n",
    "    pred_arr[i] = get_prediction(i, outputs[0])[0][0]\n",
    "    i = i+1\n",
    "print(\"prediction:\", list(pred_arr.astype(int)))\n",
    "print(\"target    :\",list(target))"
   ]
  }
 ],
 "metadata": {
  "accelerator": "GPU",
  "colab": {
   "background_execution": "on",
   "collapsed_sections": [],
   "name": "train_TEdetection_distiBERT_NER_V2.ipynb",
   "provenance": [
    {
     "file_id": "1n1t0uRrUlNG3I5-4t1NFuRk3dIvmMCpx",
     "timestamp": 1654107304495
    },
    {
     "file_id": "1FHIRGODDg-yA_yckehXKrkr5HQ48Yumx",
     "timestamp": 1653809952767
    },
    {
     "file_id": "1-5o-ERtt2pRedlWPah9rt90P0Oyg39H2",
     "timestamp": 1653673776612
    }
   ]
  },
  "kernelspec": {
   "display_name": "Python 3 (ipykernel)",
   "language": "python",
   "name": "python3"
  },
  "language_info": {
   "codemirror_mode": {
    "name": "ipython",
    "version": 3
   },
   "file_extension": ".py",
   "mimetype": "text/x-python",
   "name": "python",
   "nbconvert_exporter": "python",
   "pygments_lexer": "ipython3",
   "version": "3.10.4"
  },
  "widgets": {
   "application/vnd.jupyter.widget-state+json": {
    "01a211c6ef974621a114d88a74f6c53d": {
     "model_module": "@jupyter-widgets/controls",
     "model_module_version": "1.5.0",
     "model_name": "HTMLModel",
     "state": {
      "_dom_classes": [],
      "_model_module": "@jupyter-widgets/controls",
      "_model_module_version": "1.5.0",
      "_model_name": "HTMLModel",
      "_view_count": null,
      "_view_module": "@jupyter-widgets/controls",
      "_view_module_version": "1.5.0",
      "_view_name": "HTMLView",
      "description": "",
      "description_tooltip": null,
      "layout": "IPY_MODEL_a7578911a8004c329bc24775751db996",
      "placeholder": "​",
      "style": "IPY_MODEL_9c7ead32aec94c369e09147fcfbbc74a",
      "value": "Downloading: 100%"
     }
    },
    "055fc8cd36b849949aa9b2c6df27c05a": {
     "model_module": "@jupyter-widgets/base",
     "model_module_version": "1.2.0",
     "model_name": "LayoutModel",
     "state": {
      "_model_module": "@jupyter-widgets/base",
      "_model_module_version": "1.2.0",
      "_model_name": "LayoutModel",
      "_view_count": null,
      "_view_module": "@jupyter-widgets/base",
      "_view_module_version": "1.2.0",
      "_view_name": "LayoutView",
      "align_content": null,
      "align_items": null,
      "align_self": null,
      "border": null,
      "bottom": null,
      "display": null,
      "flex": null,
      "flex_flow": null,
      "grid_area": null,
      "grid_auto_columns": null,
      "grid_auto_flow": null,
      "grid_auto_rows": null,
      "grid_column": null,
      "grid_gap": null,
      "grid_row": null,
      "grid_template_areas": null,
      "grid_template_columns": null,
      "grid_template_rows": null,
      "height": null,
      "justify_content": null,
      "justify_items": null,
      "left": null,
      "margin": null,
      "max_height": null,
      "max_width": null,
      "min_height": null,
      "min_width": null,
      "object_fit": null,
      "object_position": null,
      "order": null,
      "overflow": null,
      "overflow_x": null,
      "overflow_y": null,
      "padding": null,
      "right": null,
      "top": null,
      "visibility": null,
      "width": null
     }
    },
    "0911af7445b94a469a9ac26820dc6d19": {
     "model_module": "@jupyter-widgets/base",
     "model_module_version": "1.2.0",
     "model_name": "LayoutModel",
     "state": {
      "_model_module": "@jupyter-widgets/base",
      "_model_module_version": "1.2.0",
      "_model_name": "LayoutModel",
      "_view_count": null,
      "_view_module": "@jupyter-widgets/base",
      "_view_module_version": "1.2.0",
      "_view_name": "LayoutView",
      "align_content": null,
      "align_items": null,
      "align_self": null,
      "border": null,
      "bottom": null,
      "display": null,
      "flex": null,
      "flex_flow": null,
      "grid_area": null,
      "grid_auto_columns": null,
      "grid_auto_flow": null,
      "grid_auto_rows": null,
      "grid_column": null,
      "grid_gap": null,
      "grid_row": null,
      "grid_template_areas": null,
      "grid_template_columns": null,
      "grid_template_rows": null,
      "height": null,
      "justify_content": null,
      "justify_items": null,
      "left": null,
      "margin": null,
      "max_height": null,
      "max_width": null,
      "min_height": null,
      "min_width": null,
      "object_fit": null,
      "object_position": null,
      "order": null,
      "overflow": null,
      "overflow_x": null,
      "overflow_y": null,
      "padding": null,
      "right": null,
      "top": null,
      "visibility": null,
      "width": null
     }
    },
    "097005edf34349d8a7950f8bd02f92aa": {
     "model_module": "@jupyter-widgets/base",
     "model_module_version": "1.2.0",
     "model_name": "LayoutModel",
     "state": {
      "_model_module": "@jupyter-widgets/base",
      "_model_module_version": "1.2.0",
      "_model_name": "LayoutModel",
      "_view_count": null,
      "_view_module": "@jupyter-widgets/base",
      "_view_module_version": "1.2.0",
      "_view_name": "LayoutView",
      "align_content": null,
      "align_items": "center",
      "align_self": null,
      "border": null,
      "bottom": null,
      "display": "flex",
      "flex": null,
      "flex_flow": "column",
      "grid_area": null,
      "grid_auto_columns": null,
      "grid_auto_flow": null,
      "grid_auto_rows": null,
      "grid_column": null,
      "grid_gap": null,
      "grid_row": null,
      "grid_template_areas": null,
      "grid_template_columns": null,
      "grid_template_rows": null,
      "height": null,
      "justify_content": null,
      "justify_items": null,
      "left": null,
      "margin": null,
      "max_height": null,
      "max_width": null,
      "min_height": null,
      "min_width": null,
      "object_fit": null,
      "object_position": null,
      "order": null,
      "overflow": null,
      "overflow_x": null,
      "overflow_y": null,
      "padding": null,
      "right": null,
      "top": null,
      "visibility": null,
      "width": "50%"
     }
    },
    "1e5ca82d5d5a4680a649cd74c2f888b7": {
     "model_module": "@jupyter-widgets/controls",
     "model_module_version": "1.5.0",
     "model_name": "HTMLModel",
     "state": {
      "_dom_classes": [],
      "_model_module": "@jupyter-widgets/controls",
      "_model_module_version": "1.5.0",
      "_model_name": "HTMLModel",
      "_view_count": null,
      "_view_module": "@jupyter-widgets/controls",
      "_view_module_version": "1.5.0",
      "_view_name": "HTMLView",
      "description": "",
      "description_tooltip": null,
      "layout": "IPY_MODEL_cdd43218591446b89ec1f4647b52eef7",
      "placeholder": "​",
      "style": "IPY_MODEL_eb271718ef694c688057f33253d22a2e",
      "value": "Upload file tf_model.h5: 100%"
     }
    },
    "21b4f29ab3ce4e5b99c8409021a1ebca": {
     "model_module": "@jupyter-widgets/controls",
     "model_module_version": "1.5.0",
     "model_name": "HBoxModel",
     "state": {
      "_dom_classes": [],
      "_model_module": "@jupyter-widgets/controls",
      "_model_module_version": "1.5.0",
      "_model_name": "HBoxModel",
      "_view_count": null,
      "_view_module": "@jupyter-widgets/controls",
      "_view_module_version": "1.5.0",
      "_view_name": "HBoxView",
      "box_style": "",
      "children": [
       "IPY_MODEL_1e5ca82d5d5a4680a649cd74c2f888b7",
       "IPY_MODEL_32e3890da983493f83071675887ee206",
       "IPY_MODEL_b899414ad3104501a949e1d7a09c0b2b"
      ],
      "layout": "IPY_MODEL_26ceb5fba0b34859a233c0c7110e4774"
     }
    },
    "24562ad8e1784c5bb11136fc10ebbf68": {
     "model_module": "@jupyter-widgets/controls",
     "model_module_version": "1.5.0",
     "model_name": "HBoxModel",
     "state": {
      "_dom_classes": [],
      "_model_module": "@jupyter-widgets/controls",
      "_model_module_version": "1.5.0",
      "_model_name": "HBoxModel",
      "_view_count": null,
      "_view_module": "@jupyter-widgets/controls",
      "_view_module_version": "1.5.0",
      "_view_name": "HBoxView",
      "box_style": "",
      "children": [
       "IPY_MODEL_01a211c6ef974621a114d88a74f6c53d",
       "IPY_MODEL_fdcfa8b8dd7241699b1daee28f3d094f",
       "IPY_MODEL_ed40f7f28e86463c85ba7109fdb2fafe"
      ],
      "layout": "IPY_MODEL_e01178f46c7f455b95705b19d8a82b52"
     }
    },
    "26ceb5fba0b34859a233c0c7110e4774": {
     "model_module": "@jupyter-widgets/base",
     "model_module_version": "1.2.0",
     "model_name": "LayoutModel",
     "state": {
      "_model_module": "@jupyter-widgets/base",
      "_model_module_version": "1.2.0",
      "_model_name": "LayoutModel",
      "_view_count": null,
      "_view_module": "@jupyter-widgets/base",
      "_view_module_version": "1.2.0",
      "_view_name": "LayoutView",
      "align_content": null,
      "align_items": null,
      "align_self": null,
      "border": null,
      "bottom": null,
      "display": null,
      "flex": null,
      "flex_flow": null,
      "grid_area": null,
      "grid_auto_columns": null,
      "grid_auto_flow": null,
      "grid_auto_rows": null,
      "grid_column": null,
      "grid_gap": null,
      "grid_row": null,
      "grid_template_areas": null,
      "grid_template_columns": null,
      "grid_template_rows": null,
      "height": null,
      "justify_content": null,
      "justify_items": null,
      "left": null,
      "margin": null,
      "max_height": null,
      "max_width": null,
      "min_height": null,
      "min_width": null,
      "object_fit": null,
      "object_position": null,
      "order": null,
      "overflow": null,
      "overflow_x": null,
      "overflow_y": null,
      "padding": null,
      "right": null,
      "top": null,
      "visibility": null,
      "width": null
     }
    },
    "2a5bb27dd7b74a538bec730b8a5afcac": {
     "model_module": "@jupyter-widgets/controls",
     "model_module_version": "1.5.0",
     "model_name": "PasswordModel",
     "state": {
      "_dom_classes": [],
      "_model_module": "@jupyter-widgets/controls",
      "_model_module_version": "1.5.0",
      "_model_name": "PasswordModel",
      "_view_count": null,
      "_view_module": "@jupyter-widgets/controls",
      "_view_module_version": "1.5.0",
      "_view_name": "PasswordView",
      "continuous_update": true,
      "description": "Token:",
      "description_tooltip": null,
      "disabled": false,
      "layout": "IPY_MODEL_055fc8cd36b849949aa9b2c6df27c05a",
      "placeholder": "​",
      "style": "IPY_MODEL_d9ccb60da9794e97a03a302d5032d4e6",
      "value": ""
     }
    },
    "2af12aef252e49e7b6560b4220881cb7": {
     "model_module": "@jupyter-widgets/base",
     "model_module_version": "1.2.0",
     "model_name": "LayoutModel",
     "state": {
      "_model_module": "@jupyter-widgets/base",
      "_model_module_version": "1.2.0",
      "_model_name": "LayoutModel",
      "_view_count": null,
      "_view_module": "@jupyter-widgets/base",
      "_view_module_version": "1.2.0",
      "_view_name": "LayoutView",
      "align_content": null,
      "align_items": null,
      "align_self": null,
      "border": null,
      "bottom": null,
      "display": null,
      "flex": null,
      "flex_flow": null,
      "grid_area": null,
      "grid_auto_columns": null,
      "grid_auto_flow": null,
      "grid_auto_rows": null,
      "grid_column": null,
      "grid_gap": null,
      "grid_row": null,
      "grid_template_areas": null,
      "grid_template_columns": null,
      "grid_template_rows": null,
      "height": null,
      "justify_content": null,
      "justify_items": null,
      "left": null,
      "margin": null,
      "max_height": null,
      "max_width": null,
      "min_height": null,
      "min_width": null,
      "object_fit": null,
      "object_position": null,
      "order": null,
      "overflow": null,
      "overflow_x": null,
      "overflow_y": null,
      "padding": null,
      "right": null,
      "top": null,
      "visibility": null,
      "width": null
     }
    },
    "32e3890da983493f83071675887ee206": {
     "model_module": "@jupyter-widgets/controls",
     "model_module_version": "1.5.0",
     "model_name": "FloatProgressModel",
     "state": {
      "_dom_classes": [],
      "_model_module": "@jupyter-widgets/controls",
      "_model_module_version": "1.5.0",
      "_model_name": "FloatProgressModel",
      "_view_count": null,
      "_view_module": "@jupyter-widgets/controls",
      "_view_module_version": "1.5.0",
      "_view_name": "ProgressView",
      "bar_style": "success",
      "description": "",
      "description_tooltip": null,
      "layout": "IPY_MODEL_c13f48bd94f4447fbf948a10e1910832",
      "max": 270994792,
      "min": 0,
      "orientation": "horizontal",
      "style": "IPY_MODEL_cefa23bf0d5847cb94ee3644827b5a00",
      "value": 270994792
     }
    },
    "3cbcc59b3c574c8e906730f45e8765f6": {
     "model_module": "@jupyter-widgets/base",
     "model_module_version": "1.2.0",
     "model_name": "LayoutModel",
     "state": {
      "_model_module": "@jupyter-widgets/base",
      "_model_module_version": "1.2.0",
      "_model_name": "LayoutModel",
      "_view_count": null,
      "_view_module": "@jupyter-widgets/base",
      "_view_module_version": "1.2.0",
      "_view_name": "LayoutView",
      "align_content": null,
      "align_items": null,
      "align_self": null,
      "border": null,
      "bottom": null,
      "display": null,
      "flex": null,
      "flex_flow": null,
      "grid_area": null,
      "grid_auto_columns": null,
      "grid_auto_flow": null,
      "grid_auto_rows": null,
      "grid_column": null,
      "grid_gap": null,
      "grid_row": null,
      "grid_template_areas": null,
      "grid_template_columns": null,
      "grid_template_rows": null,
      "height": null,
      "justify_content": null,
      "justify_items": null,
      "left": null,
      "margin": null,
      "max_height": null,
      "max_width": null,
      "min_height": null,
      "min_width": null,
      "object_fit": null,
      "object_position": null,
      "order": null,
      "overflow": null,
      "overflow_x": null,
      "overflow_y": null,
      "padding": null,
      "right": null,
      "top": null,
      "visibility": null,
      "width": null
     }
    },
    "459cfa7c01ab443d8dd6f972ed299dd8": {
     "model_module": "@jupyter-widgets/controls",
     "model_module_version": "1.5.0",
     "model_name": "ButtonStyleModel",
     "state": {
      "_model_module": "@jupyter-widgets/controls",
      "_model_module_version": "1.5.0",
      "_model_name": "ButtonStyleModel",
      "_view_count": null,
      "_view_module": "@jupyter-widgets/base",
      "_view_module_version": "1.2.0",
      "_view_name": "StyleView",
      "button_color": null,
      "font_weight": ""
     }
    },
    "5037e0c3f52c40ce9005dd1fad34bdc5": {
     "model_module": "@jupyter-widgets/controls",
     "model_module_version": "1.5.0",
     "model_name": "ProgressStyleModel",
     "state": {
      "_model_module": "@jupyter-widgets/controls",
      "_model_module_version": "1.5.0",
      "_model_name": "ProgressStyleModel",
      "_view_count": null,
      "_view_module": "@jupyter-widgets/base",
      "_view_module_version": "1.2.0",
      "_view_name": "StyleView",
      "bar_color": null,
      "description_width": ""
     }
    },
    "594c2de8be944daea56876cc1a95a59b": {
     "model_module": "@jupyter-widgets/controls",
     "model_module_version": "1.5.0",
     "model_name": "HTMLModel",
     "state": {
      "_dom_classes": [],
      "_model_module": "@jupyter-widgets/controls",
      "_model_module_version": "1.5.0",
      "_model_name": "HTMLModel",
      "_view_count": null,
      "_view_module": "@jupyter-widgets/controls",
      "_view_module_version": "1.5.0",
      "_view_name": "HTMLView",
      "description": "",
      "description_tooltip": null,
      "layout": "IPY_MODEL_b13d2275ea6f4a5b8c4b0f04eaacf684",
      "placeholder": "​",
      "style": "IPY_MODEL_6d052935bd004e0abb2c285d6e37f5c4",
      "value": "\n<b>Pro Tip:</b> If you don't already have one, you can create a dedicated\n'notebooks' token with 'write' access, that you can then easily reuse for all\nnotebooks. <br> <i>Logging in with your username and password is deprecated and\nwon't be possible anymore in the near future. You can still use them for now by\nclicking below.</i> </center>"
     }
    },
    "65364cff155c4faaa8d61630065f416b": {
     "model_module": "@jupyter-widgets/controls",
     "model_module_version": "1.5.0",
     "model_name": "VBoxModel",
     "state": {
      "_dom_classes": [],
      "_model_module": "@jupyter-widgets/controls",
      "_model_module_version": "1.5.0",
      "_model_name": "VBoxModel",
      "_view_count": null,
      "_view_module": "@jupyter-widgets/controls",
      "_view_module_version": "1.5.0",
      "_view_name": "VBoxView",
      "box_style": "",
      "children": [
       "IPY_MODEL_b01825ae4e4145c9a8ea00cbc6c8aef0",
       "IPY_MODEL_2a5bb27dd7b74a538bec730b8a5afcac",
       "IPY_MODEL_fc80cbed86c74db984c8db62e5044143",
       "IPY_MODEL_594c2de8be944daea56876cc1a95a59b",
       "IPY_MODEL_fbbba6b6ed8e453a8d3e97961c8e1b4d"
      ],
      "layout": "IPY_MODEL_097005edf34349d8a7950f8bd02f92aa"
     }
    },
    "6d012d5ed23f431fa8e73c36b0015860": {
     "model_module": "@jupyter-widgets/base",
     "model_module_version": "1.2.0",
     "model_name": "LayoutModel",
     "state": {
      "_model_module": "@jupyter-widgets/base",
      "_model_module_version": "1.2.0",
      "_model_name": "LayoutModel",
      "_view_count": null,
      "_view_module": "@jupyter-widgets/base",
      "_view_module_version": "1.2.0",
      "_view_name": "LayoutView",
      "align_content": null,
      "align_items": null,
      "align_self": null,
      "border": null,
      "bottom": null,
      "display": null,
      "flex": null,
      "flex_flow": null,
      "grid_area": null,
      "grid_auto_columns": null,
      "grid_auto_flow": null,
      "grid_auto_rows": null,
      "grid_column": null,
      "grid_gap": null,
      "grid_row": null,
      "grid_template_areas": null,
      "grid_template_columns": null,
      "grid_template_rows": null,
      "height": null,
      "justify_content": null,
      "justify_items": null,
      "left": null,
      "margin": null,
      "max_height": null,
      "max_width": null,
      "min_height": null,
      "min_width": null,
      "object_fit": null,
      "object_position": null,
      "order": null,
      "overflow": null,
      "overflow_x": null,
      "overflow_y": null,
      "padding": null,
      "right": null,
      "top": null,
      "visibility": null,
      "width": null
     }
    },
    "6d052935bd004e0abb2c285d6e37f5c4": {
     "model_module": "@jupyter-widgets/controls",
     "model_module_version": "1.5.0",
     "model_name": "DescriptionStyleModel",
     "state": {
      "_model_module": "@jupyter-widgets/controls",
      "_model_module_version": "1.5.0",
      "_model_name": "DescriptionStyleModel",
      "_view_count": null,
      "_view_module": "@jupyter-widgets/base",
      "_view_module_version": "1.2.0",
      "_view_name": "StyleView",
      "description_width": ""
     }
    },
    "7ca0456155e24892acdb36d679f47689": {
     "model_module": "@jupyter-widgets/controls",
     "model_module_version": "1.5.0",
     "model_name": "HBoxModel",
     "state": {
      "_dom_classes": [],
      "_model_module": "@jupyter-widgets/controls",
      "_model_module_version": "1.5.0",
      "_model_name": "HBoxModel",
      "_view_count": null,
      "_view_module": "@jupyter-widgets/controls",
      "_view_module_version": "1.5.0",
      "_view_name": "HBoxView",
      "box_style": "",
      "children": [
       "IPY_MODEL_ec8d15bf63f74d03b99eda6613a2894a",
       "IPY_MODEL_d867ee934e244e6c96879ad774702488",
       "IPY_MODEL_dd44ced5c8f645cf9747b35f28397ff9"
      ],
      "layout": "IPY_MODEL_945df6f1f03b4666b97e9395481f7620"
     }
    },
    "945df6f1f03b4666b97e9395481f7620": {
     "model_module": "@jupyter-widgets/base",
     "model_module_version": "1.2.0",
     "model_name": "LayoutModel",
     "state": {
      "_model_module": "@jupyter-widgets/base",
      "_model_module_version": "1.2.0",
      "_model_name": "LayoutModel",
      "_view_count": null,
      "_view_module": "@jupyter-widgets/base",
      "_view_module_version": "1.2.0",
      "_view_name": "LayoutView",
      "align_content": null,
      "align_items": null,
      "align_self": null,
      "border": null,
      "bottom": null,
      "display": null,
      "flex": null,
      "flex_flow": null,
      "grid_area": null,
      "grid_auto_columns": null,
      "grid_auto_flow": null,
      "grid_auto_rows": null,
      "grid_column": null,
      "grid_gap": null,
      "grid_row": null,
      "grid_template_areas": null,
      "grid_template_columns": null,
      "grid_template_rows": null,
      "height": null,
      "justify_content": null,
      "justify_items": null,
      "left": null,
      "margin": null,
      "max_height": null,
      "max_width": null,
      "min_height": null,
      "min_width": null,
      "object_fit": null,
      "object_position": null,
      "order": null,
      "overflow": null,
      "overflow_x": null,
      "overflow_y": null,
      "padding": null,
      "right": null,
      "top": null,
      "visibility": null,
      "width": null
     }
    },
    "9c7ead32aec94c369e09147fcfbbc74a": {
     "model_module": "@jupyter-widgets/controls",
     "model_module_version": "1.5.0",
     "model_name": "DescriptionStyleModel",
     "state": {
      "_model_module": "@jupyter-widgets/controls",
      "_model_module_version": "1.5.0",
      "_model_name": "DescriptionStyleModel",
      "_view_count": null,
      "_view_module": "@jupyter-widgets/base",
      "_view_module_version": "1.2.0",
      "_view_name": "StyleView",
      "description_width": ""
     }
    },
    "a0c06b62b15c4729b431f594697279b6": {
     "model_module": "@jupyter-widgets/controls",
     "model_module_version": "1.5.0",
     "model_name": "ButtonStyleModel",
     "state": {
      "_model_module": "@jupyter-widgets/controls",
      "_model_module_version": "1.5.0",
      "_model_name": "ButtonStyleModel",
      "_view_count": null,
      "_view_module": "@jupyter-widgets/base",
      "_view_module_version": "1.2.0",
      "_view_name": "StyleView",
      "button_color": null,
      "font_weight": ""
     }
    },
    "a1a42ab075154c8b8a6536b126fdd693": {
     "model_module": "@jupyter-widgets/base",
     "model_module_version": "1.2.0",
     "model_name": "LayoutModel",
     "state": {
      "_model_module": "@jupyter-widgets/base",
      "_model_module_version": "1.2.0",
      "_model_name": "LayoutModel",
      "_view_count": null,
      "_view_module": "@jupyter-widgets/base",
      "_view_module_version": "1.2.0",
      "_view_name": "LayoutView",
      "align_content": null,
      "align_items": null,
      "align_self": null,
      "border": null,
      "bottom": null,
      "display": null,
      "flex": null,
      "flex_flow": null,
      "grid_area": null,
      "grid_auto_columns": null,
      "grid_auto_flow": null,
      "grid_auto_rows": null,
      "grid_column": null,
      "grid_gap": null,
      "grid_row": null,
      "grid_template_areas": null,
      "grid_template_columns": null,
      "grid_template_rows": null,
      "height": null,
      "justify_content": null,
      "justify_items": null,
      "left": null,
      "margin": null,
      "max_height": null,
      "max_width": null,
      "min_height": null,
      "min_width": null,
      "object_fit": null,
      "object_position": null,
      "order": null,
      "overflow": null,
      "overflow_x": null,
      "overflow_y": null,
      "padding": null,
      "right": null,
      "top": null,
      "visibility": null,
      "width": null
     }
    },
    "a27a5bc666b04fdf936001a4abe375fa": {
     "model_module": "@jupyter-widgets/controls",
     "model_module_version": "1.5.0",
     "model_name": "DescriptionStyleModel",
     "state": {
      "_model_module": "@jupyter-widgets/controls",
      "_model_module_version": "1.5.0",
      "_model_name": "DescriptionStyleModel",
      "_view_count": null,
      "_view_module": "@jupyter-widgets/base",
      "_view_module_version": "1.2.0",
      "_view_name": "StyleView",
      "description_width": ""
     }
    },
    "a7578911a8004c329bc24775751db996": {
     "model_module": "@jupyter-widgets/base",
     "model_module_version": "1.2.0",
     "model_name": "LayoutModel",
     "state": {
      "_model_module": "@jupyter-widgets/base",
      "_model_module_version": "1.2.0",
      "_model_name": "LayoutModel",
      "_view_count": null,
      "_view_module": "@jupyter-widgets/base",
      "_view_module_version": "1.2.0",
      "_view_name": "LayoutView",
      "align_content": null,
      "align_items": null,
      "align_self": null,
      "border": null,
      "bottom": null,
      "display": null,
      "flex": null,
      "flex_flow": null,
      "grid_area": null,
      "grid_auto_columns": null,
      "grid_auto_flow": null,
      "grid_auto_rows": null,
      "grid_column": null,
      "grid_gap": null,
      "grid_row": null,
      "grid_template_areas": null,
      "grid_template_columns": null,
      "grid_template_rows": null,
      "height": null,
      "justify_content": null,
      "justify_items": null,
      "left": null,
      "margin": null,
      "max_height": null,
      "max_width": null,
      "min_height": null,
      "min_width": null,
      "object_fit": null,
      "object_position": null,
      "order": null,
      "overflow": null,
      "overflow_x": null,
      "overflow_y": null,
      "padding": null,
      "right": null,
      "top": null,
      "visibility": null,
      "width": null
     }
    },
    "b01825ae4e4145c9a8ea00cbc6c8aef0": {
     "model_module": "@jupyter-widgets/controls",
     "model_module_version": "1.5.0",
     "model_name": "HTMLModel",
     "state": {
      "_dom_classes": [],
      "_model_module": "@jupyter-widgets/controls",
      "_model_module_version": "1.5.0",
      "_model_name": "HTMLModel",
      "_view_count": null,
      "_view_module": "@jupyter-widgets/controls",
      "_view_module_version": "1.5.0",
      "_view_name": "HTMLView",
      "description": "",
      "description_tooltip": null,
      "layout": "IPY_MODEL_a1a42ab075154c8b8a6536b126fdd693",
      "placeholder": "​",
      "style": "IPY_MODEL_a27a5bc666b04fdf936001a4abe375fa",
      "value": "<center> <img\nsrc=https://huggingface.co/front/assets/huggingface_logo-noborder.svg\nalt='Hugging Face'> <br> Copy a token from <a\nhref=\"https://huggingface.co/settings/tokens\" target=\"_blank\">your Hugging Face\ntokens page</a> and paste it below. <br> Immediately click login after copying\nyour token or it might be stored in plain text in this notebook file. </center>"
     }
    },
    "b13d2275ea6f4a5b8c4b0f04eaacf684": {
     "model_module": "@jupyter-widgets/base",
     "model_module_version": "1.2.0",
     "model_name": "LayoutModel",
     "state": {
      "_model_module": "@jupyter-widgets/base",
      "_model_module_version": "1.2.0",
      "_model_name": "LayoutModel",
      "_view_count": null,
      "_view_module": "@jupyter-widgets/base",
      "_view_module_version": "1.2.0",
      "_view_name": "LayoutView",
      "align_content": null,
      "align_items": null,
      "align_self": null,
      "border": null,
      "bottom": null,
      "display": null,
      "flex": null,
      "flex_flow": null,
      "grid_area": null,
      "grid_auto_columns": null,
      "grid_auto_flow": null,
      "grid_auto_rows": null,
      "grid_column": null,
      "grid_gap": null,
      "grid_row": null,
      "grid_template_areas": null,
      "grid_template_columns": null,
      "grid_template_rows": null,
      "height": null,
      "justify_content": null,
      "justify_items": null,
      "left": null,
      "margin": null,
      "max_height": null,
      "max_width": null,
      "min_height": null,
      "min_width": null,
      "object_fit": null,
      "object_position": null,
      "order": null,
      "overflow": null,
      "overflow_x": null,
      "overflow_y": null,
      "padding": null,
      "right": null,
      "top": null,
      "visibility": null,
      "width": null
     }
    },
    "b899414ad3104501a949e1d7a09c0b2b": {
     "model_module": "@jupyter-widgets/controls",
     "model_module_version": "1.5.0",
     "model_name": "HTMLModel",
     "state": {
      "_dom_classes": [],
      "_model_module": "@jupyter-widgets/controls",
      "_model_module_version": "1.5.0",
      "_model_name": "HTMLModel",
      "_view_count": null,
      "_view_module": "@jupyter-widgets/controls",
      "_view_module_version": "1.5.0",
      "_view_name": "HTMLView",
      "description": "",
      "description_tooltip": null,
      "layout": "IPY_MODEL_e53429449b0d429ea05f8b22a2eec8d2",
      "placeholder": "​",
      "style": "IPY_MODEL_c459b81e4f254ac9bd0597e524ee32a8",
      "value": " 258M/258M [04:03&lt;00:00, 852kB/s]"
     }
    },
    "c055cd1022364285961aac45c52969fa": {
     "model_module": "@jupyter-widgets/controls",
     "model_module_version": "1.5.0",
     "model_name": "ProgressStyleModel",
     "state": {
      "_model_module": "@jupyter-widgets/controls",
      "_model_module_version": "1.5.0",
      "_model_name": "ProgressStyleModel",
      "_view_count": null,
      "_view_module": "@jupyter-widgets/base",
      "_view_module_version": "1.2.0",
      "_view_name": "StyleView",
      "bar_color": null,
      "description_width": ""
     }
    },
    "c13f48bd94f4447fbf948a10e1910832": {
     "model_module": "@jupyter-widgets/base",
     "model_module_version": "1.2.0",
     "model_name": "LayoutModel",
     "state": {
      "_model_module": "@jupyter-widgets/base",
      "_model_module_version": "1.2.0",
      "_model_name": "LayoutModel",
      "_view_count": null,
      "_view_module": "@jupyter-widgets/base",
      "_view_module_version": "1.2.0",
      "_view_name": "LayoutView",
      "align_content": null,
      "align_items": null,
      "align_self": null,
      "border": null,
      "bottom": null,
      "display": null,
      "flex": null,
      "flex_flow": null,
      "grid_area": null,
      "grid_auto_columns": null,
      "grid_auto_flow": null,
      "grid_auto_rows": null,
      "grid_column": null,
      "grid_gap": null,
      "grid_row": null,
      "grid_template_areas": null,
      "grid_template_columns": null,
      "grid_template_rows": null,
      "height": null,
      "justify_content": null,
      "justify_items": null,
      "left": null,
      "margin": null,
      "max_height": null,
      "max_width": null,
      "min_height": null,
      "min_width": null,
      "object_fit": null,
      "object_position": null,
      "order": null,
      "overflow": null,
      "overflow_x": null,
      "overflow_y": null,
      "padding": null,
      "right": null,
      "top": null,
      "visibility": null,
      "width": null
     }
    },
    "c459b81e4f254ac9bd0597e524ee32a8": {
     "model_module": "@jupyter-widgets/controls",
     "model_module_version": "1.5.0",
     "model_name": "DescriptionStyleModel",
     "state": {
      "_model_module": "@jupyter-widgets/controls",
      "_model_module_version": "1.5.0",
      "_model_name": "DescriptionStyleModel",
      "_view_count": null,
      "_view_module": "@jupyter-widgets/base",
      "_view_module_version": "1.2.0",
      "_view_name": "StyleView",
      "description_width": ""
     }
    },
    "cdd43218591446b89ec1f4647b52eef7": {
     "model_module": "@jupyter-widgets/base",
     "model_module_version": "1.2.0",
     "model_name": "LayoutModel",
     "state": {
      "_model_module": "@jupyter-widgets/base",
      "_model_module_version": "1.2.0",
      "_model_name": "LayoutModel",
      "_view_count": null,
      "_view_module": "@jupyter-widgets/base",
      "_view_module_version": "1.2.0",
      "_view_name": "LayoutView",
      "align_content": null,
      "align_items": null,
      "align_self": null,
      "border": null,
      "bottom": null,
      "display": null,
      "flex": null,
      "flex_flow": null,
      "grid_area": null,
      "grid_auto_columns": null,
      "grid_auto_flow": null,
      "grid_auto_rows": null,
      "grid_column": null,
      "grid_gap": null,
      "grid_row": null,
      "grid_template_areas": null,
      "grid_template_columns": null,
      "grid_template_rows": null,
      "height": null,
      "justify_content": null,
      "justify_items": null,
      "left": null,
      "margin": null,
      "max_height": null,
      "max_width": null,
      "min_height": null,
      "min_width": null,
      "object_fit": null,
      "object_position": null,
      "order": null,
      "overflow": null,
      "overflow_x": null,
      "overflow_y": null,
      "padding": null,
      "right": null,
      "top": null,
      "visibility": null,
      "width": null
     }
    },
    "cefa23bf0d5847cb94ee3644827b5a00": {
     "model_module": "@jupyter-widgets/controls",
     "model_module_version": "1.5.0",
     "model_name": "ProgressStyleModel",
     "state": {
      "_model_module": "@jupyter-widgets/controls",
      "_model_module_version": "1.5.0",
      "_model_name": "ProgressStyleModel",
      "_view_count": null,
      "_view_module": "@jupyter-widgets/base",
      "_view_module_version": "1.2.0",
      "_view_name": "StyleView",
      "bar_color": null,
      "description_width": ""
     }
    },
    "d867ee934e244e6c96879ad774702488": {
     "model_module": "@jupyter-widgets/controls",
     "model_module_version": "1.5.0",
     "model_name": "FloatProgressModel",
     "state": {
      "_dom_classes": [],
      "_model_module": "@jupyter-widgets/controls",
      "_model_module_version": "1.5.0",
      "_model_name": "FloatProgressModel",
      "_view_count": null,
      "_view_module": "@jupyter-widgets/controls",
      "_view_module_version": "1.5.0",
      "_view_name": "ProgressView",
      "bar_style": "success",
      "description": "",
      "description_tooltip": null,
      "layout": "IPY_MODEL_6d012d5ed23f431fa8e73c36b0015860",
      "max": 524,
      "min": 0,
      "orientation": "horizontal",
      "style": "IPY_MODEL_5037e0c3f52c40ce9005dd1fad34bdc5",
      "value": 524
     }
    },
    "d938de44dea1487ba5f5e429f1434a99": {
     "model_module": "@jupyter-widgets/controls",
     "model_module_version": "1.5.0",
     "model_name": "DescriptionStyleModel",
     "state": {
      "_model_module": "@jupyter-widgets/controls",
      "_model_module_version": "1.5.0",
      "_model_name": "DescriptionStyleModel",
      "_view_count": null,
      "_view_module": "@jupyter-widgets/base",
      "_view_module_version": "1.2.0",
      "_view_name": "StyleView",
      "description_width": ""
     }
    },
    "d9ccb60da9794e97a03a302d5032d4e6": {
     "model_module": "@jupyter-widgets/controls",
     "model_module_version": "1.5.0",
     "model_name": "DescriptionStyleModel",
     "state": {
      "_model_module": "@jupyter-widgets/controls",
      "_model_module_version": "1.5.0",
      "_model_name": "DescriptionStyleModel",
      "_view_count": null,
      "_view_module": "@jupyter-widgets/base",
      "_view_module_version": "1.2.0",
      "_view_name": "StyleView",
      "description_width": ""
     }
    },
    "dd44ced5c8f645cf9747b35f28397ff9": {
     "model_module": "@jupyter-widgets/controls",
     "model_module_version": "1.5.0",
     "model_name": "HTMLModel",
     "state": {
      "_dom_classes": [],
      "_model_module": "@jupyter-widgets/controls",
      "_model_module_version": "1.5.0",
      "_model_name": "HTMLModel",
      "_view_count": null,
      "_view_module": "@jupyter-widgets/controls",
      "_view_module_version": "1.5.0",
      "_view_name": "HTMLView",
      "description": "",
      "description_tooltip": null,
      "layout": "IPY_MODEL_e01471ee22764873a0013d25cebc34c8",
      "placeholder": "​",
      "style": "IPY_MODEL_e07ddf0c01754f3d88bece1960acc962",
      "value": " 524/524 [00:00&lt;00:00, 11.8kB/s]"
     }
    },
    "df0e3b1161c74849912a2990698a2caa": {
     "model_module": "@jupyter-widgets/base",
     "model_module_version": "1.2.0",
     "model_name": "LayoutModel",
     "state": {
      "_model_module": "@jupyter-widgets/base",
      "_model_module_version": "1.2.0",
      "_model_name": "LayoutModel",
      "_view_count": null,
      "_view_module": "@jupyter-widgets/base",
      "_view_module_version": "1.2.0",
      "_view_name": "LayoutView",
      "align_content": null,
      "align_items": null,
      "align_self": null,
      "border": null,
      "bottom": null,
      "display": null,
      "flex": null,
      "flex_flow": null,
      "grid_area": null,
      "grid_auto_columns": null,
      "grid_auto_flow": null,
      "grid_auto_rows": null,
      "grid_column": null,
      "grid_gap": null,
      "grid_row": null,
      "grid_template_areas": null,
      "grid_template_columns": null,
      "grid_template_rows": null,
      "height": null,
      "justify_content": null,
      "justify_items": null,
      "left": null,
      "margin": null,
      "max_height": null,
      "max_width": null,
      "min_height": null,
      "min_width": null,
      "object_fit": null,
      "object_position": null,
      "order": null,
      "overflow": null,
      "overflow_x": null,
      "overflow_y": null,
      "padding": null,
      "right": null,
      "top": null,
      "visibility": null,
      "width": null
     }
    },
    "e01178f46c7f455b95705b19d8a82b52": {
     "model_module": "@jupyter-widgets/base",
     "model_module_version": "1.2.0",
     "model_name": "LayoutModel",
     "state": {
      "_model_module": "@jupyter-widgets/base",
      "_model_module_version": "1.2.0",
      "_model_name": "LayoutModel",
      "_view_count": null,
      "_view_module": "@jupyter-widgets/base",
      "_view_module_version": "1.2.0",
      "_view_name": "LayoutView",
      "align_content": null,
      "align_items": null,
      "align_self": null,
      "border": null,
      "bottom": null,
      "display": null,
      "flex": null,
      "flex_flow": null,
      "grid_area": null,
      "grid_auto_columns": null,
      "grid_auto_flow": null,
      "grid_auto_rows": null,
      "grid_column": null,
      "grid_gap": null,
      "grid_row": null,
      "grid_template_areas": null,
      "grid_template_columns": null,
      "grid_template_rows": null,
      "height": null,
      "justify_content": null,
      "justify_items": null,
      "left": null,
      "margin": null,
      "max_height": null,
      "max_width": null,
      "min_height": null,
      "min_width": null,
      "object_fit": null,
      "object_position": null,
      "order": null,
      "overflow": null,
      "overflow_x": null,
      "overflow_y": null,
      "padding": null,
      "right": null,
      "top": null,
      "visibility": null,
      "width": null
     }
    },
    "e01471ee22764873a0013d25cebc34c8": {
     "model_module": "@jupyter-widgets/base",
     "model_module_version": "1.2.0",
     "model_name": "LayoutModel",
     "state": {
      "_model_module": "@jupyter-widgets/base",
      "_model_module_version": "1.2.0",
      "_model_name": "LayoutModel",
      "_view_count": null,
      "_view_module": "@jupyter-widgets/base",
      "_view_module_version": "1.2.0",
      "_view_name": "LayoutView",
      "align_content": null,
      "align_items": null,
      "align_self": null,
      "border": null,
      "bottom": null,
      "display": null,
      "flex": null,
      "flex_flow": null,
      "grid_area": null,
      "grid_auto_columns": null,
      "grid_auto_flow": null,
      "grid_auto_rows": null,
      "grid_column": null,
      "grid_gap": null,
      "grid_row": null,
      "grid_template_areas": null,
      "grid_template_columns": null,
      "grid_template_rows": null,
      "height": null,
      "justify_content": null,
      "justify_items": null,
      "left": null,
      "margin": null,
      "max_height": null,
      "max_width": null,
      "min_height": null,
      "min_width": null,
      "object_fit": null,
      "object_position": null,
      "order": null,
      "overflow": null,
      "overflow_x": null,
      "overflow_y": null,
      "padding": null,
      "right": null,
      "top": null,
      "visibility": null,
      "width": null
     }
    },
    "e07ddf0c01754f3d88bece1960acc962": {
     "model_module": "@jupyter-widgets/controls",
     "model_module_version": "1.5.0",
     "model_name": "DescriptionStyleModel",
     "state": {
      "_model_module": "@jupyter-widgets/controls",
      "_model_module_version": "1.5.0",
      "_model_name": "DescriptionStyleModel",
      "_view_count": null,
      "_view_module": "@jupyter-widgets/base",
      "_view_module_version": "1.2.0",
      "_view_name": "StyleView",
      "description_width": ""
     }
    },
    "e53429449b0d429ea05f8b22a2eec8d2": {
     "model_module": "@jupyter-widgets/base",
     "model_module_version": "1.2.0",
     "model_name": "LayoutModel",
     "state": {
      "_model_module": "@jupyter-widgets/base",
      "_model_module_version": "1.2.0",
      "_model_name": "LayoutModel",
      "_view_count": null,
      "_view_module": "@jupyter-widgets/base",
      "_view_module_version": "1.2.0",
      "_view_name": "LayoutView",
      "align_content": null,
      "align_items": null,
      "align_self": null,
      "border": null,
      "bottom": null,
      "display": null,
      "flex": null,
      "flex_flow": null,
      "grid_area": null,
      "grid_auto_columns": null,
      "grid_auto_flow": null,
      "grid_auto_rows": null,
      "grid_column": null,
      "grid_gap": null,
      "grid_row": null,
      "grid_template_areas": null,
      "grid_template_columns": null,
      "grid_template_rows": null,
      "height": null,
      "justify_content": null,
      "justify_items": null,
      "left": null,
      "margin": null,
      "max_height": null,
      "max_width": null,
      "min_height": null,
      "min_width": null,
      "object_fit": null,
      "object_position": null,
      "order": null,
      "overflow": null,
      "overflow_x": null,
      "overflow_y": null,
      "padding": null,
      "right": null,
      "top": null,
      "visibility": null,
      "width": null
     }
    },
    "eb271718ef694c688057f33253d22a2e": {
     "model_module": "@jupyter-widgets/controls",
     "model_module_version": "1.5.0",
     "model_name": "DescriptionStyleModel",
     "state": {
      "_model_module": "@jupyter-widgets/controls",
      "_model_module_version": "1.5.0",
      "_model_name": "DescriptionStyleModel",
      "_view_count": null,
      "_view_module": "@jupyter-widgets/base",
      "_view_module_version": "1.2.0",
      "_view_name": "StyleView",
      "description_width": ""
     }
    },
    "ec8d15bf63f74d03b99eda6613a2894a": {
     "model_module": "@jupyter-widgets/controls",
     "model_module_version": "1.5.0",
     "model_name": "HTMLModel",
     "state": {
      "_dom_classes": [],
      "_model_module": "@jupyter-widgets/controls",
      "_model_module_version": "1.5.0",
      "_model_name": "HTMLModel",
      "_view_count": null,
      "_view_module": "@jupyter-widgets/controls",
      "_view_module_version": "1.5.0",
      "_view_name": "HTMLView",
      "description": "",
      "description_tooltip": null,
      "layout": "IPY_MODEL_2af12aef252e49e7b6560b4220881cb7",
      "placeholder": "​",
      "style": "IPY_MODEL_d938de44dea1487ba5f5e429f1434a99",
      "value": "Downloading: 100%"
     }
    },
    "ed40f7f28e86463c85ba7109fdb2fafe": {
     "model_module": "@jupyter-widgets/controls",
     "model_module_version": "1.5.0",
     "model_name": "HTMLModel",
     "state": {
      "_dom_classes": [],
      "_model_module": "@jupyter-widgets/controls",
      "_model_module_version": "1.5.0",
      "_model_name": "HTMLModel",
      "_view_count": null,
      "_view_module": "@jupyter-widgets/controls",
      "_view_module_version": "1.5.0",
      "_view_name": "HTMLView",
      "description": "",
      "description_tooltip": null,
      "layout": "IPY_MODEL_df0e3b1161c74849912a2990698a2caa",
      "placeholder": "​",
      "style": "IPY_MODEL_fd8fa8354af74104b088f3cb5c82b9bd",
      "value": " 357M/357M [00:16&lt;00:00, 52.1MB/s]"
     }
    },
    "fbbba6b6ed8e453a8d3e97961c8e1b4d": {
     "model_module": "@jupyter-widgets/controls",
     "model_module_version": "1.5.0",
     "model_name": "ButtonModel",
     "state": {
      "_dom_classes": [],
      "_model_module": "@jupyter-widgets/controls",
      "_model_module_version": "1.5.0",
      "_model_name": "ButtonModel",
      "_view_count": null,
      "_view_module": "@jupyter-widgets/controls",
      "_view_module_version": "1.5.0",
      "_view_name": "ButtonView",
      "button_style": "",
      "description": "Use password",
      "disabled": false,
      "icon": "",
      "layout": "IPY_MODEL_3cbcc59b3c574c8e906730f45e8765f6",
      "style": "IPY_MODEL_a0c06b62b15c4729b431f594697279b6",
      "tooltip": ""
     }
    },
    "fc80cbed86c74db984c8db62e5044143": {
     "model_module": "@jupyter-widgets/controls",
     "model_module_version": "1.5.0",
     "model_name": "ButtonModel",
     "state": {
      "_dom_classes": [],
      "_model_module": "@jupyter-widgets/controls",
      "_model_module_version": "1.5.0",
      "_model_name": "ButtonModel",
      "_view_count": null,
      "_view_module": "@jupyter-widgets/controls",
      "_view_module_version": "1.5.0",
      "_view_name": "ButtonView",
      "button_style": "",
      "description": "Login",
      "disabled": false,
      "icon": "",
      "layout": "IPY_MODEL_0911af7445b94a469a9ac26820dc6d19",
      "style": "IPY_MODEL_459cfa7c01ab443d8dd6f972ed299dd8",
      "tooltip": ""
     }
    },
    "fd8f3c4842f14315847adb3a942d6371": {
     "model_module": "@jupyter-widgets/base",
     "model_module_version": "1.2.0",
     "model_name": "LayoutModel",
     "state": {
      "_model_module": "@jupyter-widgets/base",
      "_model_module_version": "1.2.0",
      "_model_name": "LayoutModel",
      "_view_count": null,
      "_view_module": "@jupyter-widgets/base",
      "_view_module_version": "1.2.0",
      "_view_name": "LayoutView",
      "align_content": null,
      "align_items": null,
      "align_self": null,
      "border": null,
      "bottom": null,
      "display": null,
      "flex": null,
      "flex_flow": null,
      "grid_area": null,
      "grid_auto_columns": null,
      "grid_auto_flow": null,
      "grid_auto_rows": null,
      "grid_column": null,
      "grid_gap": null,
      "grid_row": null,
      "grid_template_areas": null,
      "grid_template_columns": null,
      "grid_template_rows": null,
      "height": null,
      "justify_content": null,
      "justify_items": null,
      "left": null,
      "margin": null,
      "max_height": null,
      "max_width": null,
      "min_height": null,
      "min_width": null,
      "object_fit": null,
      "object_position": null,
      "order": null,
      "overflow": null,
      "overflow_x": null,
      "overflow_y": null,
      "padding": null,
      "right": null,
      "top": null,
      "visibility": null,
      "width": null
     }
    },
    "fd8fa8354af74104b088f3cb5c82b9bd": {
     "model_module": "@jupyter-widgets/controls",
     "model_module_version": "1.5.0",
     "model_name": "DescriptionStyleModel",
     "state": {
      "_model_module": "@jupyter-widgets/controls",
      "_model_module_version": "1.5.0",
      "_model_name": "DescriptionStyleModel",
      "_view_count": null,
      "_view_module": "@jupyter-widgets/base",
      "_view_module_version": "1.2.0",
      "_view_name": "StyleView",
      "description_width": ""
     }
    },
    "fdcfa8b8dd7241699b1daee28f3d094f": {
     "model_module": "@jupyter-widgets/controls",
     "model_module_version": "1.5.0",
     "model_name": "FloatProgressModel",
     "state": {
      "_dom_classes": [],
      "_model_module": "@jupyter-widgets/controls",
      "_model_module_version": "1.5.0",
      "_model_name": "FloatProgressModel",
      "_view_count": null,
      "_view_module": "@jupyter-widgets/controls",
      "_view_module_version": "1.5.0",
      "_view_name": "ProgressView",
      "bar_style": "success",
      "description": "",
      "description_tooltip": null,
      "layout": "IPY_MODEL_fd8f3c4842f14315847adb3a942d6371",
      "max": 374251756,
      "min": 0,
      "orientation": "horizontal",
      "style": "IPY_MODEL_c055cd1022364285961aac45c52969fa",
      "value": 374251756
     }
    }
   }
  }
 },
 "nbformat": 4,
 "nbformat_minor": 5
}
