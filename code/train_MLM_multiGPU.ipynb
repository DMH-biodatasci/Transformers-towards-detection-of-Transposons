{
 "cells": [
  {
   "cell_type": "markdown",
   "id": "69058e57",
   "metadata": {
    "id": "69058e57"
   },
   "source": [
    "## Load and Preprocess data"
   ]
  },
  {
   "cell_type": "code",
   "execution_count": null,
   "id": "w8GcfB62udba",
   "metadata": {
    "id": "w8GcfB62udba"
   },
   "outputs": [],
   "source": [
    "model_name = \"TEdetection_distiBERT_mLM_E3\""
   ]
  },
  {
   "cell_type": "markdown",
   "id": "6c9573df-c434-4b12-9be4-33932e35cd1d",
   "metadata": {},
   "source": [
    "### Check for physical devices, if TF is recognizin them"
   ]
  },
  {
   "cell_type": "code",
   "execution_count": null,
   "id": "8b02a413",
   "metadata": {
    "id": "8b02a413"
   },
   "outputs": [],
   "source": [
    "import os\n",
    "import numpy as np\n",
    "import pandas as pd\n",
    "import tensorflow as tf\n",
    "from tensorflow import keras\n",
    "import shelve\n",
    "from datetime import datetime\n",
    "import matplotlib.pyplot as plt\n",
    "import transformers\n",
    "print(transformers.__version__)\n",
    "print(tf.config.list_physical_devices())"
   ]
  },
  {
   "cell_type": "code",
   "execution_count": null,
   "id": "09ZQH9SBv1Wr",
   "metadata": {
    "colab": {
     "base_uri": "https://localhost:8080/"
    },
    "executionInfo": {
     "elapsed": 25359,
     "status": "ok",
     "timestamp": 1654061934992,
     "user": {
      "displayName": "Friedrich Kerchnawe",
      "userId": "14877452091479911141"
     },
     "user_tz": -120
    },
    "id": "09ZQH9SBv1Wr",
    "outputId": "d6061a56-5032-472a-9a23-bb7146d87d0b"
   },
   "outputs": [],
   "source": [
    "#results = shelve.open(os.path.join(\"drive\", \"MyDrive\", \"Project TE\", \"data\", \"prep_trainvalidationtest_1\"),'r')\n",
    "## Needs to fit your path\n",
    "#e.g. /gxfs_work1/cau/sunam188/Transposon/Boundary_detection_comTEs\n",
    "#results = shelve.open(os.path.join(\"gxfs_work1\", \"cau\", \"sunam188\",  \"Transposon\", \"Boundary_detection_comTEs\", \"data\", \"prep_trainvalidationtest_1\"),'r')\n",
    "results = shelve.open(os.path.join(\"..\", \"data\", \"prep_trainvalidationtest_1\"),'r')\n",
    "df = results[\"chunks\"]\n",
    "tok = results[\"tokenize_table\"]\n",
    "results.close\n",
    "\n",
    "np.random.seed(4711)\n",
    "df = df.sample(frac=1).reset_index(drop=True) # shuffle data\n",
    "\n",
    "\n",
    "# get length of each chunk\n",
    "l = []\n",
    "for row in list(df[\"attention_masks\"]):\n",
    "  l.append(sum(row))\n",
    "df[\"length\"] = l\n",
    "\n",
    "print(\"number of chunks:\", df.shape[0])\n",
    "print(\"number of unique tokens in the data: \", len(tok.keys()))\n",
    "print(\"length of each chunk in the data: \", len(df[\"token_ids\"].iloc[0]))\n",
    "print(\"length of shortest chunk :\", df[\"length\"].min())"
   ]
  },
  {
   "cell_type": "markdown",
   "id": "WPY5P-7ZiA4A",
   "metadata": {
    "id": "WPY5P-7ZiA4A"
   },
   "source": [
    "##eliminate all chunks with only one token\n",
    "\n",
    "without context an attention mechanism is useless  \n",
    "additionally, a comTE has a minimum size of 2"
   ]
  },
  {
   "cell_type": "code",
   "execution_count": null,
   "id": "G4-m3G6JkcSv",
   "metadata": {
    "colab": {
     "base_uri": "https://localhost:8080/"
    },
    "executionInfo": {
     "elapsed": 33,
     "status": "ok",
     "timestamp": 1654061941260,
     "user": {
      "displayName": "Friedrich Kerchnawe",
      "userId": "14877452091479911141"
     },
     "user_tz": -120
    },
    "id": "G4-m3G6JkcSv",
    "outputId": "8fc674dd-840f-4617-d185-f0c3e118779c"
   },
   "outputs": [],
   "source": [
    "df = df[df[\"length\"] > 1]\n",
    "print(\"number of chunks:\", df.shape[0])\n",
    "print(\"number of unique tokens in the data: \", len(tok.keys()))\n",
    "print(\"length of each chunk in the data: \", len(df[\"token_ids\"].iloc[0]))\n",
    "print(\"length of shortest chunk :\", df[\"length\"].min())"
   ]
  },
  {
   "cell_type": "markdown",
   "id": "9e9132ee",
   "metadata": {
    "id": "9e9132ee"
   },
   "source": [
    "## Build masked training and validation data"
   ]
  },
  {
   "cell_type": "code",
   "execution_count": null,
   "id": "f610b739",
   "metadata": {
    "id": "f610b739"
   },
   "outputs": [],
   "source": [
    "mask_token_id = 1 # to be checked if the model requires another pre-defined token-id\n",
    "\n",
    "def get_masked_input_and_labels(encoded_texts):\n",
    "    # 15% BERT masking\n",
    "    inp_mask = np.random.rand(*encoded_texts.shape) < 0.15\n",
    "    # Do not mask special tokens\n",
    "    inp_mask[encoded_texts <= 11] = False\n",
    "    # Set targets to -1 by default, it means ignore\n",
    "    #labels = -1 * np.ones(encoded_texts.shape, dtype=int)\n",
    "    # Set labels for masked tokens\n",
    "    #labels[inp_mask] = encoded_texts[inp_mask]\n",
    "\n",
    "    # Prepare input\n",
    "    encoded_texts_masked = np.copy(encoded_texts)\n",
    "    encoded_texts_masked[inp_mask] = mask_token_id\n",
    "    \n",
    "    # y_labels would be same as encoded_texts i.e input tokens\n",
    "    y_labels = np.copy(encoded_texts)\n",
    "\n",
    "    return encoded_texts_masked, y_labels\n"
   ]
  },
  {
   "cell_type": "code",
   "execution_count": null,
   "id": "83b61940",
   "metadata": {
    "id": "83b61940"
   },
   "outputs": [],
   "source": [
    "df_training = df[df[\"set\"] == \"training\"][\"token_ids\"]\n",
    "df_validation = df[df[\"set\"] == \"validation\"][\"token_ids\"]"
   ]
  },
  {
   "cell_type": "code",
   "execution_count": null,
   "id": "46f7c6e5",
   "metadata": {
    "id": "46f7c6e5"
   },
   "outputs": [],
   "source": [
    "training_masked, training_labels = get_masked_input_and_labels(np.array([x for x in df_training.tolist()]))\n",
    "validation_masked, validation_labels = get_masked_input_and_labels(np.array([x for x in df_validation.tolist()]))"
   ]
  },
  {
   "cell_type": "code",
   "execution_count": null,
   "id": "5a8f44ef",
   "metadata": {
    "id": "5a8f44ef"
   },
   "outputs": [],
   "source": [
    "training_attention_mask = np.array([x for x in df[df[\"set\"] == \"training\"][\"attention_masks\"]])\n",
    "validation_attention_mask = np.array([x for x in df[df[\"set\"] == \"validation\"][\"attention_masks\"]])"
   ]
  },
  {
   "cell_type": "code",
   "execution_count": 9,
   "id": "6739ab23",
   "metadata": {
    "colab": {
     "base_uri": "https://localhost:8080/"
    },
    "executionInfo": {
     "elapsed": 61,
     "status": "ok",
     "timestamp": 1654061942600,
     "user": {
      "displayName": "Friedrich Kerchnawe",
      "userId": "14877452091479911141"
     },
     "user_tz": -120
    },
    "id": "6739ab23",
    "outputId": "ed841c48-243d-40b1-dbde-ac4982ea272e"
   },
   "outputs": [],
   "source": [
    "#training_masked[0][0:10]\n",
    "#training_labels[0][0:10]\n",
    "#training_attention_mask[0]\n",
    "#validation_masked[0]\n",
    "#validation_labels"
   ]
  },
  {
   "cell_type": "markdown",
   "id": "d3305e1f",
   "metadata": {
    "id": "d3305e1f"
   },
   "source": [
    "### Convert the data dictionaries\n",
    "\n",
    "\n",
    "    there are three possibilities you can use to gather all the input Tensors in the first positional argument :\n",
    "\n",
    "    a single Tensor with input_ids only and nothing else: model(inputs_ids)\n",
    "    a list of varying length with one or several input Tensors IN THE ORDER given in the docstring: model([input_ids, attention_mask])\n",
    "    a dictionary with one or several input Tensors associated to the input names given in the docstring: model({\"input_ids\": input_ids})\n"
   ]
  },
  {
   "cell_type": "code",
   "execution_count": null,
   "id": "eef3f73e",
   "metadata": {
    "id": "eef3f73e"
   },
   "outputs": [],
   "source": [
    "# data has been reduced to first 100 rows for training and 20 rows for validation.\n",
    "# This should be changed to the full data as soon as we see the model.fit running without bugs\n",
    "\n",
    "tf_train_dict = { 'input_ids': tf.convert_to_tensor(training_masked), #[0:100]),\n",
    "           'attention_mask': tf.convert_to_tensor(training_attention_mask), #[0:100]),\n",
    "           'labels': tf.convert_to_tensor(training_labels) #[0:100])\n",
    "         }\n",
    "\n",
    "tf_val_dict = { 'input_ids': tf.convert_to_tensor(validation_masked), #[0:20]),\n",
    "           'attention_mask': tf.convert_to_tensor(validation_attention_mask), #[0:20]),\n",
    "           'labels': tf.convert_to_tensor(validation_labels), #[0:20])\n",
    "         }"
   ]
  },
  {
   "cell_type": "raw",
   "id": "da224dbf-6d63-4af3-8c9c-d57cdb31b84b",
   "metadata": {},
   "source": [
    "from datasets.dataset_dict import DatasetDict\n",
    "from datasets import Dataset\n",
    "\n",
    "d = {'train':Dataset.from_dict(tf_train_dict),\n",
    "    'val':Dataset.from_dict(tf_val_dict)}\n",
    "\n",
    "DatasetDict(d)"
   ]
  },
  {
   "cell_type": "markdown",
   "id": "vNVUIh2GuKe7",
   "metadata": {
    "id": "vNVUIh2GuKe7"
   },
   "source": [
    "## Functions for saving models and weights\n",
    "\n",
    "    # Restore the weights\n",
    "    model.load_weights(path)\n",
    "\n",
    "    # Evaluate the model\n",
    "    loss, acc = model.evaluate(test_images, test_labels, verbose=2)\n",
    "    print(\"Restored model, accuracy: {:5.2f}%\".format(100 * acc))"
   ]
  },
  {
   "cell_type": "code",
   "execution_count": null,
   "id": "_YNjhMr8uOVj",
   "metadata": {
    "id": "_YNjhMr8uOVj"
   },
   "outputs": [],
   "source": [
    "def save_my_model_weights():\n",
    "    d = str(datetime.now())\n",
    "    checkpoint_name = model_name + \"-\" + d[0:10] + \"-\" + d[11:13] + \"-\" + d[14:16]\n",
    "    checkpoint_dir = os.path.join(\"..\", \"models\", checkpoint_name)\n",
    "    model.save_weights(checkpoint_dir)\n",
    "    return"
   ]
  },
  {
   "cell_type": "markdown",
   "id": "08a10cb4",
   "metadata": {
    "id": "08a10cb4"
   },
   "source": [
    "## Initialize the model\n",
    "    freshly initialize a DistilBERT model. We’ll use the same configuration for our model as for the distilbert-base-uncased model, so we load the pretrained configuration, make sure that the tokenizer size matches the model vocabulary size and max length of embeddings matches length of our chunks. \n"
   ]
  },
  {
   "cell_type": "markdown",
   "id": "87f54e96-ea55-4ddc-85f8-bed0afa843e9",
   "metadata": {},
   "source": [
    "# Load online or offline distilBert:"
   ]
  },
  {
   "cell_type": "code",
   "execution_count": null,
   "id": "41eb11e9",
   "metadata": {
    "id": "41eb11e9"
   },
   "outputs": [],
   "source": [
    "from transformers import TFDistilBertForMaskedLM, AutoConfig\n",
    "\n",
    "############\n",
    "## ONLINE ##\n",
    "############\n",
    "'''\n",
    "config = AutoConfig.from_pretrained(\n",
    "    \"distilbert-base-uncased\",\n",
    "    vocab_size=len(tok.keys())+11,   # +11 for the reserved special tokens\n",
    "    max_position_embeddings=len(df[\"token_ids\"].iloc[0])\n",
    ")\n",
    "'''\n",
    "#############\n",
    "## OFFLINE ##\n",
    "#############\n",
    "config_file = \"/gxfs_work1/cau/sunam188/Transposon/distilbert-base-uncased/config.json\"\n",
    "\n",
    "\n",
    "config_file = \"distilbert-base-uncased/config.json\"\n",
    "\n",
    "config = AutoConfig.from_pretrained(\n",
    "    config_file,\n",
    "    vocab_size=len(tok.keys())+11,   # +10 for the reserved special tokens\n",
    "    max_position_embeddings=len(df[\"token_ids\"].iloc[0])\n",
    ")"
   ]
  },
  {
   "cell_type": "markdown",
   "id": "f64d0c01",
   "metadata": {
    "id": "f64d0c01"
   },
   "source": [
    "## Load a new (not pretrained) model\n",
    "Load a new model. Note that we don’t use the from_pretrained() function, since we’re actually initializing a model ourself:"
   ]
  },
  {
   "cell_type": "markdown",
   "id": "80e0a10e-74bf-4e4d-941b-177458478852",
   "metadata": {},
   "source": [
    "## Compile the model\n",
    "configure the training hyperparameters and call compile() and fit(). We’ll use a learning rate schedule with some warmup to improve the stability of training:"
   ]
  },
  {
   "cell_type": "raw",
   "id": "ad889936-1ca0-4d02-9caf-608bd286c3c3",
   "metadata": {},
   "source": [
    "from transformers import Trainer, TrainingArguments\n",
    "\n",
    "args = TrainingArguments(\n",
    "    output_dir=\"trainer_arguments\",\n",
    "    per_device_train_batch_size=32,\n",
    "    per_device_eval_batch_size=32,\n",
    "    evaluation_strategy=\"steps\",\n",
    "    eval_steps=5_000,\n",
    "    logging_steps=5_000,\n",
    "    gradient_accumulation_steps=8,\n",
    "    num_train_epochs=1,\n",
    "    weight_decay=0.1,\n",
    "    warmup_steps=1_000,\n",
    "    lr_scheduler_type=\"cosine\",\n",
    "    learning_rate=5e-5,\n",
    "    save_steps=5_000,\n",
    "    fp16=True,\n",
    "    push_to_hub=False,\n",
    ")\n",
    "'''\n",
    "trainer = Trainer(\n",
    "    model=model,\n",
    "    tokenizer=tokenizer,\n",
    "    args=args,\n",
    "    data_collator=data_collator,\n",
    "    train_dataset=tokenized_datasets[\"train\"],\n",
    "    eval_dataset=tokenized_datasets[\"valid\"],\n",
    ")\n",
    "'''"
   ]
  },
  {
   "cell_type": "code",
   "execution_count": null,
   "id": "58932631-6a9e-4cf6-96dc-0dd852eb3ff3",
   "metadata": {},
   "outputs": [],
   "source": [
    "from transformers import create_optimizer\n",
    "import tensorflow as tf\n",
    "\n",
    "mirrored_strategy = tf.distribute.MirroredStrategy()\n",
    "\n",
    "with mirrored_strategy.scope():\n",
    "    \n",
    "    model = TFDistilBertForMaskedLM(config)\n",
    "    model(model.dummy_inputs)  \n",
    "    model.compile()\n",
    "    \n",
    "    num_train_steps = len(training_masked) #[0:100])   ## change this when training with the full data\n",
    "   \n",
    "    optimizer, schedule = create_optimizer(\n",
    "        init_lr=5e-5,\n",
    "        num_warmup_steps=1_000,\n",
    "        num_train_steps=num_train_steps,\n",
    "        weight_decay_rate=0.01,\n",
    "    )\n",
    "    \n",
    "    model.compile(optimizer=optimizer)"
   ]
  },
  {
   "cell_type": "markdown",
   "id": "cc44e913-6546-4201-9aed-d3790a566211",
   "metadata": {},
   "source": [
    "### Training "
   ]
  },
  {
   "cell_type": "code",
   "execution_count": null,
   "id": "ed5c909d-7d50-4e9e-a0bc-67d42eb055af",
   "metadata": {},
   "outputs": [],
   "source": [
    "#history = model.fit(tf_train_dict, validation_data=tf_val_dict, epochs=3, batch_size = 32, verbose=1)"
   ]
  },
  {
   "cell_type": "code",
   "execution_count": null,
   "id": "b139efca-dbeb-4b12-99c3-639c441acc55",
   "metadata": {},
   "outputs": [],
   "source": [
    "#model.save_pretrained(\"models/MLM_3\") "
   ]
  },
  {
   "cell_type": "markdown",
   "id": "3c4dcee5-e9c8-4ed2-890b-c4193b99398a",
   "metadata": {},
   "source": [
    "# Reload model:"
   ]
  },
  {
   "cell_type": "code",
   "execution_count": null,
   "id": "1c301ac3-35d9-49a6-b41c-02bd67873095",
   "metadata": {},
   "outputs": [],
   "source": [
    "#model = TFDistilBertForMaskedLM.from_pretrained(\"models/MLM_3\")"
   ]
  },
  {
   "cell_type": "markdown",
   "id": "6b599b8a",
   "metadata": {
    "id": "6b599b8a"
   },
   "source": [
    "## Train the model"
   ]
  },
  {
   "cell_type": "code",
   "execution_count": null,
   "id": "7OGPZzhYplsM",
   "metadata": {
    "id": "7OGPZzhYplsM"
   },
   "outputs": [],
   "source": [
    "#loss = history.history[\"loss\"]\n",
    "#val_loss = history.history['val_loss']\n",
    "#print(loss)\n",
    "#print(val_loss)\n",
    "loss = []\n",
    "val_loss = []"
   ]
  },
  {
   "cell_type": "code",
   "execution_count": null,
   "id": "59376c28-a84a-4471-8a40-0bc07786aace",
   "metadata": {},
   "outputs": [],
   "source": [
    "t_p = {   # training parameters\n",
    "        \"nb_all_train_rows\": len(training_masked), # rows in training data\n",
    "\n",
    "        \"mini_batch_size\": 32, # rows per mini_batch (tensorflow parameter)\n",
    "        \"batch_size\": 512, # mini_batches per batch (inner loop)\n",
    "        \"step_size\": 1, # batches per step (print progress)\n",
    "        \"epochs\": 3, # how many times full data will be processed (outer loop)\n",
    "\n",
    "        \"start_row\": 0, # for full data training: start_row = 0\n",
    "                          # for partial data training: early_stop = x (only from x. rows in data will be used for training)\n",
    "        \"early_stop\": 200, # for full data training: early_stop = nb_all_train_rows\n",
    "                           # for partial data training: early_stop = x (only x rows in data will be used for training)\n",
    "}\n",
    "t_p[\"early_stop\"] = t_p[\"nb_all_train_rows\"]\n",
    "t_p"
   ]
  },
  {
   "cell_type": "code",
   "execution_count": null,
   "id": "b3a3661a-77a4-4edf-a80f-5582f5689588",
   "metadata": {},
   "outputs": [],
   "source": [
    "steps = (t_p[\"early_stop\"] - t_p[\"start_row\"]) / t_p[\"mini_batch_size\"] / t_p[\"batch_size\"] / t_p[\"step_size\"]\n",
    "if steps % 1 > 0:\n",
    "    steps = steps + 1\n",
    "steps = int(steps)\n",
    "\n",
    "for epoch in range(0,t_p[\"epochs\"]):\n",
    "    step = 0\n",
    "    for start in range(t_p[\"start_row\"], min(t_p[\"early_stop\"]+t_p[\"start_row\"], t_p[\"nb_all_train_rows\"]) , t_p[\"mini_batch_size\"] * t_p[\"batch_size\"]):\n",
    "        if step % t_p[\"step_size\"] == 0:\n",
    "            print(\"epoch\", epoch+1, \"/\", t_p[\"epochs\"], \", step\", (step // t_p[\"step_size\"]) + 1, \"/\", steps)\n",
    "        step = step + 1    \n",
    "        end = min(start + t_p[\"mini_batch_size\"] * t_p[\"batch_size\"], min(t_p[\"early_stop\"]+t_p[\"start_row\"], t_p[\"nb_all_train_rows\"])) \n",
    "        print (\"start/end/length\", start, \"/\", end, \"/\", end-start)\n",
    "        mini_batch = { 'input_ids': tf.convert_to_tensor(training_masked[start: end]),\n",
    "                      'attention_mask': tf.convert_to_tensor(training_attention_mask[start: end]),\n",
    "                      'labels': tf.convert_to_tensor(training_labels[start: end])\n",
    "         }\n",
    "\n",
    "        history = model.fit(mini_batch, validation_data=tf_val_dict, epochs=1, batch_size = t_p[\"mini_batch_size\"], verbose=1) #, callbacks=[callback])\n",
    "        loss.extend(list(history.history['loss']))\n",
    "        val_loss.extend(list(history.history['val_loss']))\n",
    "\n",
    "    save_my_model_weights() # save after each epoch\n",
    "\n",
    "print(\"--------------------------- end ---------------------------------\")"
   ]
  },
  {
   "cell_type": "code",
   "execution_count": null,
   "id": "b6ff07b1-5c02-4d1e-837b-13e7409df30d",
   "metadata": {},
   "outputs": [],
   "source": []
  },
  {
   "cell_type": "markdown",
   "id": "ecdc5ab3-22c8-433f-8a45-6caa7f683b6a",
   "metadata": {},
   "source": [
    "### Tensorboard"
   ]
  },
  {
   "cell_type": "code",
   "execution_count": null,
   "id": "a40a0c80-e1c1-45fe-bf17-5544f94fce59",
   "metadata": {},
   "outputs": [],
   "source": [
    "'''\n",
    "import tensorboard as tb\n",
    "#root_logdir = os.path.join(os.curdir, \"logs\")\n",
    "\n",
    "def get_run_logdir(name: str = \"\"):\n",
    "  \"\"\"\n",
    "  Prepends time of a run to the specified name of the run.\n",
    "  This new string (with time prepended) will be used as directory name.\n",
    "  \"\"\"\n",
    "  import time\n",
    "  run_id = time.strftime(\"%m_%d-%H_%M\")\n",
    "  run_name = run_id + name\n",
    "  return os.path.join('../logs', run_name)\n",
    "\n",
    "tensorboard_cb = keras.callbacks.TensorBoard(get_run_logdir(\"MLM_4\"), \n",
    "                                             histogram_freq=1,)\n",
    "'''"
   ]
  },
  {
   "cell_type": "markdown",
   "id": "39SNCxxIuMux",
   "metadata": {
    "id": "39SNCxxIuMux"
   },
   "source": [
    "####Plot training and validation loss per step"
   ]
  },
  {
   "cell_type": "code",
   "execution_count": 30,
   "id": "K4bfxxaxthZM",
   "metadata": {
    "colab": {
     "base_uri": "https://localhost:8080/",
     "height": 606
    },
    "executionInfo": {
     "elapsed": 339,
     "status": "ok",
     "timestamp": 1654101621764,
     "user": {
      "displayName": "Friedrich Kerchnawe",
      "userId": "14877452091479911141"
     },
     "user_tz": -120
    },
    "id": "K4bfxxaxthZM",
    "outputId": "a7aecc90-2120-4cae-fcac-c76a0db16989"
   },
   "outputs": [
    {
     "data": {
      "image/png": "[encoded data removed]",
      "text/plain": [
       "<Figure size 864x576 with 1 Axes>"
      ]
     },
     "metadata": {
      "needs_background": "light"
     },
     "output_type": "display_data"
    }
   ],
   "source": [
    "plt.rcParams[\"figure.figsize\"] = (12,8)\n",
    "plt.plot(range(1, len(loss)+1),loss)\n",
    "plt.plot(range(1, len(val_loss)+1),val_loss)\n",
    "plt.ylabel('Loss', fontsize=18)\n",
    "plt.xlabel('Epochs', fontsize=18)\n",
    "plt.legend(['loss', 'val_loss'])\n",
    "plt.xticks([1,2,3])\n",
    "plt.show()"
   ]
  },
  {
   "cell_type": "markdown",
   "id": "792279df",
   "metadata": {
    "id": "792279df"
   },
   "source": [
    "## Get an output from a pretrained model"
   ]
  },
  {
   "cell_type": "markdown",
   "id": "140f2c99-5bc4-4283-9041-50e7bb7466ef",
   "metadata": {},
   "source": [
    "# Perplexity"
   ]
  },
  {
   "cell_type": "code",
   "execution_count": null,
   "id": "91bbb651-6d14-4ac1-8343-86d31f81c409",
   "metadata": {},
   "outputs": [],
   "source": []
  },
  {
   "cell_type": "code",
   "execution_count": 62,
   "id": "c809ff2a",
   "metadata": {
    "id": "c809ff2a"
   },
   "outputs": [],
   "source": [
    "def get_prediction(i, predictions):\n",
    "    probs = tf.nn.softmax(predictions[0, i])\n",
    "    result = tf.math.top_k(probs, k=3)\n",
    "    pred = [result.indices.numpy(), result.values.numpy()]\n",
    "\n",
    "    return pred"
   ]
  },
  {
   "cell_type": "markdown",
   "id": "jn-0VRwLNSXW",
   "metadata": {
    "id": "jn-0VRwLNSXW"
   },
   "source": [
    "####Restore model\n",
    "  run this only if necessary"
   ]
  },
  {
   "cell_type": "code",
   "execution_count": null,
   "id": "TSH5hwPUNigd",
   "metadata": {
    "colab": {
     "base_uri": "https://localhost:8080/",
     "height": 131
    },
    "executionInfo": {
     "elapsed": 275,
     "status": "error",
     "timestamp": 1654106912762,
     "user": {
      "displayName": "Friedrich Kerchnawe",
      "userId": "14877452091479911141"
     },
     "user_tz": -120
    },
    "id": "TSH5hwPUNigd",
    "outputId": "a9d3d0fe-d3a9-4905-9824-c82206c89e75"
   },
   "outputs": [
    {
     "ename": "SyntaxError",
     "evalue": "ignored",
     "output_type": "error",
     "traceback": [
      "\u001b[0;36m  File \u001b[0;32m\"<ipython-input-59-0b304e7d6d24>\"\u001b[0;36m, line \u001b[0;32m2\u001b[0m\n\u001b[0;31m    break # intensional break\u001b[0m\n\u001b[0m                             ^\u001b[0m\n\u001b[0;31mSyntaxError\u001b[0m\u001b[0;31m:\u001b[0m 'break' outside loop\n"
     ]
    }
   ],
   "source": [
    "# Restore the model\n",
    "break # intensional break\n",
    "\n",
    "checkpoint_name = \"TE_basic_V3-2022-06-01-15-34\" # copy paste checkpoint name \n",
    "checkpoint_dir = os.path.join(\"drive\", \"MyDrive\", \"Project TE\", \"models\", \".\", checkpoint_name)\n",
    "model.load_weights(checkpoint_dir)"
   ]
  },
  {
   "cell_type": "markdown",
   "id": "f3f10f9d",
   "metadata": {
    "id": "f3f10f9d"
   },
   "source": [
    "#### Define input: Select a single chunk input from data"
   ]
  },
  {
   "cell_type": "code",
   "execution_count": 39,
   "id": "2e6d956a",
   "metadata": {
    "id": "2e6d956a"
   },
   "outputs": [],
   "source": [
    "test_element = 101\n",
    "input = validation_masked[test_element]\n",
    "target = validation_labels[test_element]"
   ]
  },
  {
   "cell_type": "markdown",
   "id": "ee2313e0",
   "metadata": {
    "id": "ee2313e0"
   },
   "source": [
    "#### Predict with the pretrained model"
   ]
  },
  {
   "cell_type": "code",
   "execution_count": 40,
   "id": "8d9bc08b",
   "metadata": {
    "id": "8d9bc08b"
   },
   "outputs": [],
   "source": [
    "outputs = model(input)"
   ]
  },
  {
   "cell_type": "markdown",
   "id": "8947f1ec",
   "metadata": {
    "id": "8947f1ec"
   },
   "source": [
    "#### Evaluate the result"
   ]
  },
  {
   "cell_type": "code",
   "execution_count": 41,
   "id": "35ca296e",
   "metadata": {
    "colab": {
     "base_uri": "https://localhost:8080/"
    },
    "executionInfo": {
     "elapsed": 292,
     "status": "ok",
     "timestamp": 1654103343733,
     "user": {
      "displayName": "Friedrich Kerchnawe",
      "userId": "14877452091479911141"
     },
     "user_tz": -120
    },
    "id": "35ca296e",
    "outputId": "4afa8db3-28e7-4389-c6d5-3d7a3d860cce"
   },
   "outputs": [
    {
     "data": {
      "text/plain": [
       "array([  583,   582,   581,   580,   579,     1,   577,   576,     1,\n",
       "         574,   573,   572,   571,   570,   569,   568,   567,   566,\n",
       "       10102, 17140, 10103,     1,   562,     1,  5588,   560,   559,\n",
       "         558,   557,   556,   555,   554,   553,   552,   551,   550,\n",
       "           1,   548,   547,   546,  5590,   545,     1,   543,   542,\n",
       "         541,   540,   539,     1,   537,     1,   535,   534,   533,\n",
       "           1,   531,   530,   528,   527,     1,   525,     1,   522,\n",
       "         521,   520,     1,   518,     1,   516,   515,   514,   513,\n",
       "         512,   511,   510,   509,   508,   507,   506,   505,     1,\n",
       "           1,   502,   501,   500,   499,   498,   497,     1,   495,\n",
       "         480,   479,   478,   477,   476,   475,   474,   473,   472,\n",
       "         471,   470,   469,   468,   467,     1,   465,   464,   463,\n",
       "         462,   461,   460,     1,   458,     1,   456,   455,   454,\n",
       "       10439, 10438, 10030, 10437, 10436, 10435,   453,   452,   451,\n",
       "         379,   378,   377,   376,   375,   374,   373,   372,   371,\n",
       "         370,   369,   368,   367,   366,   365,   364,  5615,  5616,\n",
       "        5617,     1,   362,   361,   360,   359])"
      ]
     },
     "execution_count": 41,
     "metadata": {},
     "output_type": "execute_result"
    }
   ],
   "source": [
    "input"
   ]
  },
  {
   "cell_type": "code",
   "execution_count": 66,
   "id": "8318467e",
   "metadata": {
    "colab": {
     "base_uri": "https://localhost:8080/"
    },
    "executionInfo": {
     "elapsed": 291,
     "status": "ok",
     "timestamp": 1654103346763,
     "user": {
      "displayName": "Friedrich Kerchnawe",
      "userId": "14877452091479911141"
     },
     "user_tz": -120
    },
    "id": "8318467e",
    "outputId": "fdd6326f-8c88-4206-b9ae-361fcab791e8"
   },
   "outputs": [
    {
     "data": {
      "text/plain": [
       "array([  583,   582,   581,   580,   579,   578,   577,   576,   575,\n",
       "         574,   573,   572,   571,   570,   569,   568,   567,   566,\n",
       "       10102, 17140, 10103,   564,   562,   561,  5588,   560,   559,\n",
       "         558,   557,   556,   555,   554,   553,   552,   551,   550,\n",
       "         549,   548,   547,   546,  5590,   545,   544,   543,   542,\n",
       "         541,   540,   539,   538,   537,   536,   535,   534,   533,\n",
       "         532,   531,   530,   528,   527,   526,   525,   524,   522,\n",
       "         521,   520,   519,   518,   517,   516,   515,   514,   513,\n",
       "         512,   511,   510,   509,   508,   507,   506,   505,   504,\n",
       "         503,   502,   501,   500,   499,   498,   497,   496,   495,\n",
       "         480,   479,   478,   477,   476,   475,   474,   473,   472,\n",
       "         471,   470,   469,   468,   467,   466,   465,   464,   463,\n",
       "         462,   461,   460,   459,   458,   457,   456,   455,   454,\n",
       "       10439, 10438, 10030, 10437, 10436, 10435,   453,   452,   451,\n",
       "         379,   378,   377,   376,   375,   374,   373,   372,   371,\n",
       "         370,   369,   368,   367,   366,   365,   364,  5615,  5616,\n",
       "        5617,   363,   362,   361,   360,   359])"
      ]
     },
     "execution_count": 66,
     "metadata": {},
     "output_type": "execute_result"
    }
   ],
   "source": [
    "target"
   ]
  },
  {
   "cell_type": "code",
   "execution_count": 67,
   "id": "7ee977e9",
   "metadata": {
    "colab": {
     "base_uri": "https://localhost:8080/"
    },
    "executionInfo": {
     "elapsed": 272,
     "status": "ok",
     "timestamp": 1654103350344,
     "user": {
      "displayName": "Friedrich Kerchnawe",
      "userId": "14877452091479911141"
     },
     "user_tz": -120
    },
    "id": "7ee977e9",
    "outputId": "bce50b70-2019-41ec-e275-54f4a2e51e89"
   },
   "outputs": [
    {
     "name": "stdout",
     "output_type": "stream",
     "text": [
      "at position:  5 \n",
      "\tprediction is: [578 581 573] \n",
      "\tweight is: [9.9883777e-01 4.7075839e-04 2.8129146e-04] \n",
      "\ttarget was:  578\n",
      "at position:  8 \n",
      "\tprediction is: [ 575 2080  573] \n",
      "\tweight is: [9.9628061e-01 2.2761121e-03 5.3364265e-04] \n",
      "\ttarget was:  575\n",
      "at position:  21 \n",
      "\tprediction is: [565 564 563] \n",
      "\tweight is: [0.46452388 0.2944387  0.14914113] \n",
      "\ttarget was:  564\n",
      "at position:  23 \n",
      "\tprediction is: [ 561 5589  563] \n",
      "\tweight is: [0.99051636 0.00546949 0.00271413] \n",
      "\ttarget was:  561\n",
      "at position:  36 \n",
      "\tprediction is: [549 548 546] \n",
      "\tweight is: [9.9998796e-01 2.4211006e-06 2.3203806e-06] \n",
      "\ttarget was:  549\n",
      "at position:  42 \n",
      "\tprediction is: [ 544 5596 9157] \n",
      "\tweight is: [9.9965191e-01 1.6808271e-04 3.8568764e-05] \n",
      "\ttarget was:  544\n",
      "at position:  48 \n",
      "\tprediction is: [538 536 535] \n",
      "\tweight is: [9.9927849e-01 6.2826357e-04 1.7137507e-05] \n",
      "\ttarget was:  538\n",
      "at position:  50 \n",
      "\tprediction is: [536 538 540] \n",
      "\tweight is: [9.9075413e-01 8.8091670e-03 1.2749979e-04] \n",
      "\ttarget was:  536\n",
      "at position:  54 \n",
      "\tprediction is: [532 535 528] \n",
      "\tweight is: [9.9996245e-01 5.8486844e-06 5.0682120e-06] \n",
      "\ttarget was:  532\n",
      "at position:  59 \n",
      "\tprediction is: [526 524 529] \n",
      "\tweight is: [9.964786e-01 3.108874e-03 1.691811e-04] \n",
      "\ttarget was:  526\n",
      "at position:  61 \n",
      "\tprediction is: [524 523 526] \n",
      "\tweight is: [0.6889216  0.29940674 0.00423507] \n",
      "\ttarget was:  524\n",
      "at position:  65 \n",
      "\tprediction is: [519 517 522] \n",
      "\tweight is: [0.99247026 0.00343385 0.00132925] \n",
      "\ttarget was:  519\n",
      "at position:  67 \n",
      "\tprediction is: [517 519 515] \n",
      "\tweight is: [9.976030e-01 1.762416e-03 1.598217e-04] \n",
      "\ttarget was:  517\n",
      "at position:  80 \n",
      "\tprediction is: [504 503 507] \n",
      "\tweight is: [9.9735165e-01 2.6421414e-03 7.8634315e-07] \n",
      "\ttarget was:  504\n",
      "at position:  81 \n",
      "\tprediction is: [503 504 499] \n",
      "\tweight is: [6.3517845e-01 3.6474606e-01 2.0313042e-05] \n",
      "\ttarget was:  503\n",
      "at position:  88 \n",
      "\tprediction is: [  496 13295  7462] \n",
      "\tweight is: [9.9858618e-01 1.2454259e-03 4.5030411e-05] \n",
      "\ttarget was:  496\n",
      "at position:  104 \n",
      "\tprediction is: [466 469 468] \n",
      "\tweight is: [9.9987364e-01 6.9299778e-05 1.8852361e-05] \n",
      "\ttarget was:  466\n",
      "at position:  111 \n",
      "\tprediction is: [  459   457 24213] \n",
      "\tweight is: [9.9988592e-01 5.4588996e-05 2.3641556e-05] \n",
      "\ttarget was:  459\n",
      "at position:  113 \n",
      "\tprediction is: [ 457  459 7462] \n",
      "\tweight is: [9.1981030e-01 7.9834476e-02 7.5844291e-05] \n",
      "\ttarget was:  457\n",
      "at position:  145 \n",
      "\tprediction is: [  363  5615 24497] \n",
      "\tweight is: [9.9656218e-01 2.6473412e-03 2.8798691e-04] \n",
      "\ttarget was:  363\n"
     ]
    }
   ],
   "source": [
    "i = 0\n",
    "for x in input:\n",
    "    if x == 1:\n",
    "        print(\"at position: \", i, \n",
    "              \"\\n\\tprediction is:\", get_prediction(i, outputs[0])[0],\n",
    "              \"\\n\\tweight is:\", get_prediction(i, outputs[0])[1],\n",
    "              \"\\n\\ttarget was: \", target[i])\n",
    "    i = i+1\n",
    "            "
   ]
  },
  {
   "cell_type": "markdown",
   "id": "ca2e1763",
   "metadata": {
    "id": "ca2e1763"
   },
   "source": [
    "## Log in to huggingface"
   ]
  },
  {
   "cell_type": "markdown",
   "id": "c43a9295",
   "metadata": {
    "id": "c43a9295"
   },
   "source": [
    "from huggingface_hub import notebook_login\n",
    "\n",
    "notebook_login()"
   ]
  },
  {
   "cell_type": "code",
   "execution_count": null,
   "id": "SYcOj9jdP5ky",
   "metadata": {
    "colab": {
     "base_uri": "https://localhost:8080/",
     "height": 387,
     "referenced_widgets": [
      "01f6db34d65d4ca6894d3ff0c87862a3",
      "bc23dd8867e94617818f49ebb8fa23b2",
      "e84bfdd29dd54883a92efec2ce708b2c",
      "2f9d5271e12e432fa01b3af0cdf9a745",
      "80a9b310da8a4c6782a43601721c420f",
      "a0fdb777432c49f592979247173120e1",
      "68a1be4d729c4e48a31f191fd3e87335",
      "33d63377ddf2410a8f2f9fbe0628a215",
      "f3afd874255b485fbdc7946f65be5959",
      "c38f28a89a3742fba3f644a9d92e55b7",
      "ed953e50265a40bbbb3bbd6c8dd3a519",
      "530cca82fd47481fa3657907043c6a69",
      "fc0dc89877724ed6a21e622725580368",
      "125b80e8cfd5472789079037cd48653a",
      "6da0826233fc40e589c452940b097fff",
      "bbe2ddf4f4eb4f8fb736d58f453ac411",
      "a6ad3363164941eab1bc8ba9f41fbaf9"
     ]
    },
    "executionInfo": {
     "elapsed": 313,
     "status": "ok",
     "timestamp": 1654103364538,
     "user": {
      "displayName": "Friedrich Kerchnawe",
      "userId": "14877452091479911141"
     },
     "user_tz": -120
    },
    "id": "SYcOj9jdP5ky",
    "outputId": "8d760eca-a071-4f3d-9f0a-3049f41db4c5"
   },
   "outputs": [
    {
     "name": "stdout",
     "output_type": "stream",
     "text": [
      "Login successful\n",
      "Your token has been saved to /root/.huggingface/token\n",
      "\u001b[1m\u001b[31mAuthenticated through git-credential store but this isn't the helper defined on your machine.\n",
      "You might have to re-authenticate when pushing to the Hugging Face Hub. Run the following command in your terminal in case you want to set this credential helper as the default\n",
      "\n",
      "git config --global credential.helper store\u001b[0m\n"
     ]
    }
   ],
   "source": [
    "from huggingface_hub import notebook_login\n",
    "\n",
    "notebook_login()"
   ]
  },
  {
   "cell_type": "markdown",
   "id": "qfFLSrd7QMoS",
   "metadata": {
    "id": "qfFLSrd7QMoS"
   },
   "source": [
    "#### Push the model to hub"
   ]
  },
  {
   "cell_type": "code",
   "execution_count": null,
   "id": "00y9Um6JP8cj",
   "metadata": {
    "colab": {
     "base_uri": "https://localhost:8080/",
     "height": 261,
     "referenced_widgets": [
      "f0227269da10484b9e2f13fdd0f19370",
      "853dc9f08ba44a02b0fcd27b1ccb9181",
      "93d87fcf11b5423ca3657b2f587ae164",
      "89c97bbc1bf94ce6a948bd4a6e7aebd3",
      "02301f8eeb33460ea803b364f59c5ae1",
      "20d3c94222c34843b05518377890f17f",
      "c5d6bdb2649542f89a7600cf13458740",
      "5deacbeca75844a9bc9ad96a9134ce87",
      "59c6d860cd2c49058b72fdcaa01094d9",
      "2a8a51417ba44002997df5bc4cdf1fd0",
      "ee1a9a59641c4c02b18f34b2122d850e"
     ]
    },
    "executionInfo": {
     "elapsed": 314224,
     "status": "ok",
     "timestamp": 1654103743797,
     "user": {
      "displayName": "Friedrich Kerchnawe",
      "userId": "14877452091479911141"
     },
     "user_tz": -120
    },
    "id": "00y9Um6JP8cj",
    "outputId": "98ff3ef1-f9df-48dc-fe55-4d153a89c2c8"
   },
   "outputs": [
    {
     "name": "stderr",
     "output_type": "stream",
     "text": [
      "/usr/local/lib/python3.7/dist-packages/huggingface_hub/utils/_deprecation.py:43: FutureWarning: Pass token='TEdetection_distiBERT_mLM_V2' as keyword args. From version 0.8 passing these as positional arguments will result in an error\n",
      "  FutureWarning,\n",
      "/usr/local/lib/python3.7/dist-packages/huggingface_hub/hf_api.py:676: FutureWarning: `create_repo` now takes `token` as an optional positional argument. Be sure to adapt your code!\n",
      "  FutureWarning,\n",
      "Cloning https://huggingface.co/FritzOS/TEdetection_distiBERT_mLM_V2 into local empty directory.\n"
     ]
    },
    {
     "data": {
      "application/vnd.jupyter.widget-view+json": {
       "model_id": "f0227269da10484b9e2f13fdd0f19370",
       "version_major": 2,
       "version_minor": 0
      },
      "text/plain": [
       "Upload file tf_model.h5:   0%|          | 3.34k/357M [00:00<?, ?B/s]"
      ]
     },
     "metadata": {},
     "output_type": "display_data"
    },
    {
     "name": "stderr",
     "output_type": "stream",
     "text": [
      "remote: Enforcing permissions...        \n",
      "remote: Allowed refs: all        \n",
      "To https://huggingface.co/FritzOS/TEdetection_distiBERT_mLM_V2\n",
      "   e95f822..aaebda3  main -> main\n",
      "\n"
     ]
    },
    {
     "data": {
      "application/vnd.google.colaboratory.intrinsic+json": {
       "type": "string"
      },
      "text/plain": [
       "'https://huggingface.co/FritzOS/TEdetection_distiBERT_mLM_V2/commit/aaebda3b3f120ffd62ed8dbd3d9fd815c224e2b5'"
      ]
     },
     "execution_count": 57,
     "metadata": {},
     "output_type": "execute_result"
    }
   ],
   "source": [
    "from transformers import AutoModel\n",
    "\n",
    "# Push the model to your namespace with the name model_name and have a local clone in the\n",
    "# *model_name* folder.\n",
    "model.push_to_hub(model_name, use_auth_token=\"...\")"
   ]
  }
 ],
 "metadata": {
  "accelerator": "GPU",
  "colab": {
   "background_execution": "on",
   "collapsed_sections": [],
   "name": "train_TEdetection_distiBERT_mLM_V2.ipynb",
   "provenance": [
    {
     "file_id": "1FHIRGODDg-yA_yckehXKrkr5HQ48Yumx",
     "timestamp": 1654106979241
    },
    {
     "file_id": "1-5o-ERtt2pRedlWPah9rt90P0Oyg39H2",
     "timestamp": 1653673776612
    }
   ]
  },
  "kernelspec": {
   "display_name": "Python 3 (ipykernel)",
   "language": "python",
   "name": "python3"
  },
  "language_info": {
   "codemirror_mode": {
    "name": "ipython",
    "version": 3
   },
   "file_extension": ".py",
   "mimetype": "text/x-python",
   "name": "python",
   "nbconvert_exporter": "python",
   "pygments_lexer": "ipython3",
   "version": "3.10.4"
  },
  "widgets": {
   "application/vnd.jupyter.widget-state+json": {
    "01f6db34d65d4ca6894d3ff0c87862a3": {
     "model_module": "@jupyter-widgets/controls",
     "model_module_version": "1.5.0",
     "model_name": "VBoxModel",
     "state": {
      "_dom_classes": [],
      "_model_module": "@jupyter-widgets/controls",
      "_model_module_version": "1.5.0",
      "_model_name": "VBoxModel",
      "_view_count": null,
      "_view_module": "@jupyter-widgets/controls",
      "_view_module_version": "1.5.0",
      "_view_name": "VBoxView",
      "box_style": "",
      "children": [
       "IPY_MODEL_bc23dd8867e94617818f49ebb8fa23b2",
       "IPY_MODEL_e84bfdd29dd54883a92efec2ce708b2c",
       "IPY_MODEL_2f9d5271e12e432fa01b3af0cdf9a745",
       "IPY_MODEL_80a9b310da8a4c6782a43601721c420f",
       "IPY_MODEL_a0fdb777432c49f592979247173120e1"
      ],
      "layout": "IPY_MODEL_68a1be4d729c4e48a31f191fd3e87335"
     }
    },
    "02301f8eeb33460ea803b364f59c5ae1": {
     "model_module": "@jupyter-widgets/base",
     "model_module_version": "1.2.0",
     "model_name": "LayoutModel",
     "state": {
      "_model_module": "@jupyter-widgets/base",
      "_model_module_version": "1.2.0",
      "_model_name": "LayoutModel",
      "_view_count": null,
      "_view_module": "@jupyter-widgets/base",
      "_view_module_version": "1.2.0",
      "_view_name": "LayoutView",
      "align_content": null,
      "align_items": null,
      "align_self": null,
      "border": null,
      "bottom": null,
      "display": null,
      "flex": null,
      "flex_flow": null,
      "grid_area": null,
      "grid_auto_columns": null,
      "grid_auto_flow": null,
      "grid_auto_rows": null,
      "grid_column": null,
      "grid_gap": null,
      "grid_row": null,
      "grid_template_areas": null,
      "grid_template_columns": null,
      "grid_template_rows": null,
      "height": null,
      "justify_content": null,
      "justify_items": null,
      "left": null,
      "margin": null,
      "max_height": null,
      "max_width": null,
      "min_height": null,
      "min_width": null,
      "object_fit": null,
      "object_position": null,
      "order": null,
      "overflow": null,
      "overflow_x": null,
      "overflow_y": null,
      "padding": null,
      "right": null,
      "top": null,
      "visibility": null,
      "width": null
     }
    },
    "125b80e8cfd5472789079037cd48653a": {
     "model_module": "@jupyter-widgets/base",
     "model_module_version": "1.2.0",
     "model_name": "LayoutModel",
     "state": {
      "_model_module": "@jupyter-widgets/base",
      "_model_module_version": "1.2.0",
      "_model_name": "LayoutModel",
      "_view_count": null,
      "_view_module": "@jupyter-widgets/base",
      "_view_module_version": "1.2.0",
      "_view_name": "LayoutView",
      "align_content": null,
      "align_items": null,
      "align_self": null,
      "border": null,
      "bottom": null,
      "display": null,
      "flex": null,
      "flex_flow": null,
      "grid_area": null,
      "grid_auto_columns": null,
      "grid_auto_flow": null,
      "grid_auto_rows": null,
      "grid_column": null,
      "grid_gap": null,
      "grid_row": null,
      "grid_template_areas": null,
      "grid_template_columns": null,
      "grid_template_rows": null,
      "height": null,
      "justify_content": null,
      "justify_items": null,
      "left": null,
      "margin": null,
      "max_height": null,
      "max_width": null,
      "min_height": null,
      "min_width": null,
      "object_fit": null,
      "object_position": null,
      "order": null,
      "overflow": null,
      "overflow_x": null,
      "overflow_y": null,
      "padding": null,
      "right": null,
      "top": null,
      "visibility": null,
      "width": null
     }
    },
    "20d3c94222c34843b05518377890f17f": {
     "model_module": "@jupyter-widgets/base",
     "model_module_version": "1.2.0",
     "model_name": "LayoutModel",
     "state": {
      "_model_module": "@jupyter-widgets/base",
      "_model_module_version": "1.2.0",
      "_model_name": "LayoutModel",
      "_view_count": null,
      "_view_module": "@jupyter-widgets/base",
      "_view_module_version": "1.2.0",
      "_view_name": "LayoutView",
      "align_content": null,
      "align_items": null,
      "align_self": null,
      "border": null,
      "bottom": null,
      "display": null,
      "flex": null,
      "flex_flow": null,
      "grid_area": null,
      "grid_auto_columns": null,
      "grid_auto_flow": null,
      "grid_auto_rows": null,
      "grid_column": null,
      "grid_gap": null,
      "grid_row": null,
      "grid_template_areas": null,
      "grid_template_columns": null,
      "grid_template_rows": null,
      "height": null,
      "justify_content": null,
      "justify_items": null,
      "left": null,
      "margin": null,
      "max_height": null,
      "max_width": null,
      "min_height": null,
      "min_width": null,
      "object_fit": null,
      "object_position": null,
      "order": null,
      "overflow": null,
      "overflow_x": null,
      "overflow_y": null,
      "padding": null,
      "right": null,
      "top": null,
      "visibility": null,
      "width": null
     }
    },
    "2a8a51417ba44002997df5bc4cdf1fd0": {
     "model_module": "@jupyter-widgets/base",
     "model_module_version": "1.2.0",
     "model_name": "LayoutModel",
     "state": {
      "_model_module": "@jupyter-widgets/base",
      "_model_module_version": "1.2.0",
      "_model_name": "LayoutModel",
      "_view_count": null,
      "_view_module": "@jupyter-widgets/base",
      "_view_module_version": "1.2.0",
      "_view_name": "LayoutView",
      "align_content": null,
      "align_items": null,
      "align_self": null,
      "border": null,
      "bottom": null,
      "display": null,
      "flex": null,
      "flex_flow": null,
      "grid_area": null,
      "grid_auto_columns": null,
      "grid_auto_flow": null,
      "grid_auto_rows": null,
      "grid_column": null,
      "grid_gap": null,
      "grid_row": null,
      "grid_template_areas": null,
      "grid_template_columns": null,
      "grid_template_rows": null,
      "height": null,
      "justify_content": null,
      "justify_items": null,
      "left": null,
      "margin": null,
      "max_height": null,
      "max_width": null,
      "min_height": null,
      "min_width": null,
      "object_fit": null,
      "object_position": null,
      "order": null,
      "overflow": null,
      "overflow_x": null,
      "overflow_y": null,
      "padding": null,
      "right": null,
      "top": null,
      "visibility": null,
      "width": null
     }
    },
    "2f9d5271e12e432fa01b3af0cdf9a745": {
     "model_module": "@jupyter-widgets/controls",
     "model_module_version": "1.5.0",
     "model_name": "ButtonModel",
     "state": {
      "_dom_classes": [],
      "_model_module": "@jupyter-widgets/controls",
      "_model_module_version": "1.5.0",
      "_model_name": "ButtonModel",
      "_view_count": null,
      "_view_module": "@jupyter-widgets/controls",
      "_view_module_version": "1.5.0",
      "_view_name": "ButtonView",
      "button_style": "",
      "description": "Login",
      "disabled": false,
      "icon": "",
      "layout": "IPY_MODEL_530cca82fd47481fa3657907043c6a69",
      "style": "IPY_MODEL_fc0dc89877724ed6a21e622725580368",
      "tooltip": ""
     }
    },
    "33d63377ddf2410a8f2f9fbe0628a215": {
     "model_module": "@jupyter-widgets/base",
     "model_module_version": "1.2.0",
     "model_name": "LayoutModel",
     "state": {
      "_model_module": "@jupyter-widgets/base",
      "_model_module_version": "1.2.0",
      "_model_name": "LayoutModel",
      "_view_count": null,
      "_view_module": "@jupyter-widgets/base",
      "_view_module_version": "1.2.0",
      "_view_name": "LayoutView",
      "align_content": null,
      "align_items": null,
      "align_self": null,
      "border": null,
      "bottom": null,
      "display": null,
      "flex": null,
      "flex_flow": null,
      "grid_area": null,
      "grid_auto_columns": null,
      "grid_auto_flow": null,
      "grid_auto_rows": null,
      "grid_column": null,
      "grid_gap": null,
      "grid_row": null,
      "grid_template_areas": null,
      "grid_template_columns": null,
      "grid_template_rows": null,
      "height": null,
      "justify_content": null,
      "justify_items": null,
      "left": null,
      "margin": null,
      "max_height": null,
      "max_width": null,
      "min_height": null,
      "min_width": null,
      "object_fit": null,
      "object_position": null,
      "order": null,
      "overflow": null,
      "overflow_x": null,
      "overflow_y": null,
      "padding": null,
      "right": null,
      "top": null,
      "visibility": null,
      "width": null
     }
    },
    "530cca82fd47481fa3657907043c6a69": {
     "model_module": "@jupyter-widgets/base",
     "model_module_version": "1.2.0",
     "model_name": "LayoutModel",
     "state": {
      "_model_module": "@jupyter-widgets/base",
      "_model_module_version": "1.2.0",
      "_model_name": "LayoutModel",
      "_view_count": null,
      "_view_module": "@jupyter-widgets/base",
      "_view_module_version": "1.2.0",
      "_view_name": "LayoutView",
      "align_content": null,
      "align_items": null,
      "align_self": null,
      "border": null,
      "bottom": null,
      "display": null,
      "flex": null,
      "flex_flow": null,
      "grid_area": null,
      "grid_auto_columns": null,
      "grid_auto_flow": null,
      "grid_auto_rows": null,
      "grid_column": null,
      "grid_gap": null,
      "grid_row": null,
      "grid_template_areas": null,
      "grid_template_columns": null,
      "grid_template_rows": null,
      "height": null,
      "justify_content": null,
      "justify_items": null,
      "left": null,
      "margin": null,
      "max_height": null,
      "max_width": null,
      "min_height": null,
      "min_width": null,
      "object_fit": null,
      "object_position": null,
      "order": null,
      "overflow": null,
      "overflow_x": null,
      "overflow_y": null,
      "padding": null,
      "right": null,
      "top": null,
      "visibility": null,
      "width": null
     }
    },
    "59c6d860cd2c49058b72fdcaa01094d9": {
     "model_module": "@jupyter-widgets/controls",
     "model_module_version": "1.5.0",
     "model_name": "ProgressStyleModel",
     "state": {
      "_model_module": "@jupyter-widgets/controls",
      "_model_module_version": "1.5.0",
      "_model_name": "ProgressStyleModel",
      "_view_count": null,
      "_view_module": "@jupyter-widgets/base",
      "_view_module_version": "1.2.0",
      "_view_name": "StyleView",
      "bar_color": null,
      "description_width": ""
     }
    },
    "5deacbeca75844a9bc9ad96a9134ce87": {
     "model_module": "@jupyter-widgets/base",
     "model_module_version": "1.2.0",
     "model_name": "LayoutModel",
     "state": {
      "_model_module": "@jupyter-widgets/base",
      "_model_module_version": "1.2.0",
      "_model_name": "LayoutModel",
      "_view_count": null,
      "_view_module": "@jupyter-widgets/base",
      "_view_module_version": "1.2.0",
      "_view_name": "LayoutView",
      "align_content": null,
      "align_items": null,
      "align_self": null,
      "border": null,
      "bottom": null,
      "display": null,
      "flex": null,
      "flex_flow": null,
      "grid_area": null,
      "grid_auto_columns": null,
      "grid_auto_flow": null,
      "grid_auto_rows": null,
      "grid_column": null,
      "grid_gap": null,
      "grid_row": null,
      "grid_template_areas": null,
      "grid_template_columns": null,
      "grid_template_rows": null,
      "height": null,
      "justify_content": null,
      "justify_items": null,
      "left": null,
      "margin": null,
      "max_height": null,
      "max_width": null,
      "min_height": null,
      "min_width": null,
      "object_fit": null,
      "object_position": null,
      "order": null,
      "overflow": null,
      "overflow_x": null,
      "overflow_y": null,
      "padding": null,
      "right": null,
      "top": null,
      "visibility": null,
      "width": null
     }
    },
    "68a1be4d729c4e48a31f191fd3e87335": {
     "model_module": "@jupyter-widgets/base",
     "model_module_version": "1.2.0",
     "model_name": "LayoutModel",
     "state": {
      "_model_module": "@jupyter-widgets/base",
      "_model_module_version": "1.2.0",
      "_model_name": "LayoutModel",
      "_view_count": null,
      "_view_module": "@jupyter-widgets/base",
      "_view_module_version": "1.2.0",
      "_view_name": "LayoutView",
      "align_content": null,
      "align_items": "center",
      "align_self": null,
      "border": null,
      "bottom": null,
      "display": "flex",
      "flex": null,
      "flex_flow": "column",
      "grid_area": null,
      "grid_auto_columns": null,
      "grid_auto_flow": null,
      "grid_auto_rows": null,
      "grid_column": null,
      "grid_gap": null,
      "grid_row": null,
      "grid_template_areas": null,
      "grid_template_columns": null,
      "grid_template_rows": null,
      "height": null,
      "justify_content": null,
      "justify_items": null,
      "left": null,
      "margin": null,
      "max_height": null,
      "max_width": null,
      "min_height": null,
      "min_width": null,
      "object_fit": null,
      "object_position": null,
      "order": null,
      "overflow": null,
      "overflow_x": null,
      "overflow_y": null,
      "padding": null,
      "right": null,
      "top": null,
      "visibility": null,
      "width": "50%"
     }
    },
    "6da0826233fc40e589c452940b097fff": {
     "model_module": "@jupyter-widgets/controls",
     "model_module_version": "1.5.0",
     "model_name": "DescriptionStyleModel",
     "state": {
      "_model_module": "@jupyter-widgets/controls",
      "_model_module_version": "1.5.0",
      "_model_name": "DescriptionStyleModel",
      "_view_count": null,
      "_view_module": "@jupyter-widgets/base",
      "_view_module_version": "1.2.0",
      "_view_name": "StyleView",
      "description_width": ""
     }
    },
    "80a9b310da8a4c6782a43601721c420f": {
     "model_module": "@jupyter-widgets/controls",
     "model_module_version": "1.5.0",
     "model_name": "HTMLModel",
     "state": {
      "_dom_classes": [],
      "_model_module": "@jupyter-widgets/controls",
      "_model_module_version": "1.5.0",
      "_model_name": "HTMLModel",
      "_view_count": null,
      "_view_module": "@jupyter-widgets/controls",
      "_view_module_version": "1.5.0",
      "_view_name": "HTMLView",
      "description": "",
      "description_tooltip": null,
      "layout": "IPY_MODEL_125b80e8cfd5472789079037cd48653a",
      "placeholder": "​",
      "style": "IPY_MODEL_6da0826233fc40e589c452940b097fff",
      "value": "\n<b>Pro Tip:</b> If you don't already have one, you can create a dedicated\n'notebooks' token with 'write' access, that you can then easily reuse for all\nnotebooks. <br> <i>Logging in with your username and password is deprecated and\nwon't be possible anymore in the near future. You can still use them for now by\nclicking below.</i> </center>"
     }
    },
    "853dc9f08ba44a02b0fcd27b1ccb9181": {
     "model_module": "@jupyter-widgets/controls",
     "model_module_version": "1.5.0",
     "model_name": "HTMLModel",
     "state": {
      "_dom_classes": [],
      "_model_module": "@jupyter-widgets/controls",
      "_model_module_version": "1.5.0",
      "_model_name": "HTMLModel",
      "_view_count": null,
      "_view_module": "@jupyter-widgets/controls",
      "_view_module_version": "1.5.0",
      "_view_name": "HTMLView",
      "description": "",
      "description_tooltip": null,
      "layout": "IPY_MODEL_20d3c94222c34843b05518377890f17f",
      "placeholder": "​",
      "style": "IPY_MODEL_c5d6bdb2649542f89a7600cf13458740",
      "value": "Upload file tf_model.h5: 100%"
     }
    },
    "89c97bbc1bf94ce6a948bd4a6e7aebd3": {
     "model_module": "@jupyter-widgets/controls",
     "model_module_version": "1.5.0",
     "model_name": "HTMLModel",
     "state": {
      "_dom_classes": [],
      "_model_module": "@jupyter-widgets/controls",
      "_model_module_version": "1.5.0",
      "_model_name": "HTMLModel",
      "_view_count": null,
      "_view_module": "@jupyter-widgets/controls",
      "_view_module_version": "1.5.0",
      "_view_name": "HTMLView",
      "description": "",
      "description_tooltip": null,
      "layout": "IPY_MODEL_2a8a51417ba44002997df5bc4cdf1fd0",
      "placeholder": "​",
      "style": "IPY_MODEL_ee1a9a59641c4c02b18f34b2122d850e",
      "value": " 357M/357M [04:51&lt;00:00, 744kB/s]"
     }
    },
    "93d87fcf11b5423ca3657b2f587ae164": {
     "model_module": "@jupyter-widgets/controls",
     "model_module_version": "1.5.0",
     "model_name": "FloatProgressModel",
     "state": {
      "_dom_classes": [],
      "_model_module": "@jupyter-widgets/controls",
      "_model_module_version": "1.5.0",
      "_model_name": "FloatProgressModel",
      "_view_count": null,
      "_view_module": "@jupyter-widgets/controls",
      "_view_module_version": "1.5.0",
      "_view_name": "ProgressView",
      "bar_style": "success",
      "description": "",
      "description_tooltip": null,
      "layout": "IPY_MODEL_5deacbeca75844a9bc9ad96a9134ce87",
      "max": 374251756,
      "min": 0,
      "orientation": "horizontal",
      "style": "IPY_MODEL_59c6d860cd2c49058b72fdcaa01094d9",
      "value": 374251756
     }
    },
    "a0fdb777432c49f592979247173120e1": {
     "model_module": "@jupyter-widgets/controls",
     "model_module_version": "1.5.0",
     "model_name": "ButtonModel",
     "state": {
      "_dom_classes": [],
      "_model_module": "@jupyter-widgets/controls",
      "_model_module_version": "1.5.0",
      "_model_name": "ButtonModel",
      "_view_count": null,
      "_view_module": "@jupyter-widgets/controls",
      "_view_module_version": "1.5.0",
      "_view_name": "ButtonView",
      "button_style": "",
      "description": "Use password",
      "disabled": false,
      "icon": "",
      "layout": "IPY_MODEL_bbe2ddf4f4eb4f8fb736d58f453ac411",
      "style": "IPY_MODEL_a6ad3363164941eab1bc8ba9f41fbaf9",
      "tooltip": ""
     }
    },
    "a6ad3363164941eab1bc8ba9f41fbaf9": {
     "model_module": "@jupyter-widgets/controls",
     "model_module_version": "1.5.0",
     "model_name": "ButtonStyleModel",
     "state": {
      "_model_module": "@jupyter-widgets/controls",
      "_model_module_version": "1.5.0",
      "_model_name": "ButtonStyleModel",
      "_view_count": null,
      "_view_module": "@jupyter-widgets/base",
      "_view_module_version": "1.2.0",
      "_view_name": "StyleView",
      "button_color": null,
      "font_weight": ""
     }
    },
    "bbe2ddf4f4eb4f8fb736d58f453ac411": {
     "model_module": "@jupyter-widgets/base",
     "model_module_version": "1.2.0",
     "model_name": "LayoutModel",
     "state": {
      "_model_module": "@jupyter-widgets/base",
      "_model_module_version": "1.2.0",
      "_model_name": "LayoutModel",
      "_view_count": null,
      "_view_module": "@jupyter-widgets/base",
      "_view_module_version": "1.2.0",
      "_view_name": "LayoutView",
      "align_content": null,
      "align_items": null,
      "align_self": null,
      "border": null,
      "bottom": null,
      "display": null,
      "flex": null,
      "flex_flow": null,
      "grid_area": null,
      "grid_auto_columns": null,
      "grid_auto_flow": null,
      "grid_auto_rows": null,
      "grid_column": null,
      "grid_gap": null,
      "grid_row": null,
      "grid_template_areas": null,
      "grid_template_columns": null,
      "grid_template_rows": null,
      "height": null,
      "justify_content": null,
      "justify_items": null,
      "left": null,
      "margin": null,
      "max_height": null,
      "max_width": null,
      "min_height": null,
      "min_width": null,
      "object_fit": null,
      "object_position": null,
      "order": null,
      "overflow": null,
      "overflow_x": null,
      "overflow_y": null,
      "padding": null,
      "right": null,
      "top": null,
      "visibility": null,
      "width": null
     }
    },
    "bc23dd8867e94617818f49ebb8fa23b2": {
     "model_module": "@jupyter-widgets/controls",
     "model_module_version": "1.5.0",
     "model_name": "HTMLModel",
     "state": {
      "_dom_classes": [],
      "_model_module": "@jupyter-widgets/controls",
      "_model_module_version": "1.5.0",
      "_model_name": "HTMLModel",
      "_view_count": null,
      "_view_module": "@jupyter-widgets/controls",
      "_view_module_version": "1.5.0",
      "_view_name": "HTMLView",
      "description": "",
      "description_tooltip": null,
      "layout": "IPY_MODEL_33d63377ddf2410a8f2f9fbe0628a215",
      "placeholder": "​",
      "style": "IPY_MODEL_f3afd874255b485fbdc7946f65be5959",
      "value": "<center> <img\nsrc=https://huggingface.co/front/assets/huggingface_logo-noborder.svg\nalt='Hugging Face'> <br> Copy a token from <a\nhref=\"https://huggingface.co/settings/tokens\" target=\"_blank\">your Hugging Face\ntokens page</a> and paste it below. <br> Immediately click login after copying\nyour token or it might be stored in plain text in this notebook file. </center>"
     }
    },
    "c38f28a89a3742fba3f644a9d92e55b7": {
     "model_module": "@jupyter-widgets/base",
     "model_module_version": "1.2.0",
     "model_name": "LayoutModel",
     "state": {
      "_model_module": "@jupyter-widgets/base",
      "_model_module_version": "1.2.0",
      "_model_name": "LayoutModel",
      "_view_count": null,
      "_view_module": "@jupyter-widgets/base",
      "_view_module_version": "1.2.0",
      "_view_name": "LayoutView",
      "align_content": null,
      "align_items": null,
      "align_self": null,
      "border": null,
      "bottom": null,
      "display": null,
      "flex": null,
      "flex_flow": null,
      "grid_area": null,
      "grid_auto_columns": null,
      "grid_auto_flow": null,
      "grid_auto_rows": null,
      "grid_column": null,
      "grid_gap": null,
      "grid_row": null,
      "grid_template_areas": null,
      "grid_template_columns": null,
      "grid_template_rows": null,
      "height": null,
      "justify_content": null,
      "justify_items": null,
      "left": null,
      "margin": null,
      "max_height": null,
      "max_width": null,
      "min_height": null,
      "min_width": null,
      "object_fit": null,
      "object_position": null,
      "order": null,
      "overflow": null,
      "overflow_x": null,
      "overflow_y": null,
      "padding": null,
      "right": null,
      "top": null,
      "visibility": null,
      "width": null
     }
    },
    "c5d6bdb2649542f89a7600cf13458740": {
     "model_module": "@jupyter-widgets/controls",
     "model_module_version": "1.5.0",
     "model_name": "DescriptionStyleModel",
     "state": {
      "_model_module": "@jupyter-widgets/controls",
      "_model_module_version": "1.5.0",
      "_model_name": "DescriptionStyleModel",
      "_view_count": null,
      "_view_module": "@jupyter-widgets/base",
      "_view_module_version": "1.2.0",
      "_view_name": "StyleView",
      "description_width": ""
     }
    },
    "e84bfdd29dd54883a92efec2ce708b2c": {
     "model_module": "@jupyter-widgets/controls",
     "model_module_version": "1.5.0",
     "model_name": "PasswordModel",
     "state": {
      "_dom_classes": [],
      "_model_module": "@jupyter-widgets/controls",
      "_model_module_version": "1.5.0",
      "_model_name": "PasswordModel",
      "_view_count": null,
      "_view_module": "@jupyter-widgets/controls",
      "_view_module_version": "1.5.0",
      "_view_name": "PasswordView",
      "continuous_update": true,
      "description": "Token:",
      "description_tooltip": null,
      "disabled": false,
      "layout": "IPY_MODEL_c38f28a89a3742fba3f644a9d92e55b7",
      "placeholder": "​",
      "style": "IPY_MODEL_ed953e50265a40bbbb3bbd6c8dd3a519",
      "value": ""
     }
    },
    "ed953e50265a40bbbb3bbd6c8dd3a519": {
     "model_module": "@jupyter-widgets/controls",
     "model_module_version": "1.5.0",
     "model_name": "DescriptionStyleModel",
     "state": {
      "_model_module": "@jupyter-widgets/controls",
      "_model_module_version": "1.5.0",
      "_model_name": "DescriptionStyleModel",
      "_view_count": null,
      "_view_module": "@jupyter-widgets/base",
      "_view_module_version": "1.2.0",
      "_view_name": "StyleView",
      "description_width": ""
     }
    },
    "ee1a9a59641c4c02b18f34b2122d850e": {
     "model_module": "@jupyter-widgets/controls",
     "model_module_version": "1.5.0",
     "model_name": "DescriptionStyleModel",
     "state": {
      "_model_module": "@jupyter-widgets/controls",
      "_model_module_version": "1.5.0",
      "_model_name": "DescriptionStyleModel",
      "_view_count": null,
      "_view_module": "@jupyter-widgets/base",
      "_view_module_version": "1.2.0",
      "_view_name": "StyleView",
      "description_width": ""
     }
    },
    "f0227269da10484b9e2f13fdd0f19370": {
     "model_module": "@jupyter-widgets/controls",
     "model_module_version": "1.5.0",
     "model_name": "HBoxModel",
     "state": {
      "_dom_classes": [],
      "_model_module": "@jupyter-widgets/controls",
      "_model_module_version": "1.5.0",
      "_model_name": "HBoxModel",
      "_view_count": null,
      "_view_module": "@jupyter-widgets/controls",
      "_view_module_version": "1.5.0",
      "_view_name": "HBoxView",
      "box_style": "",
      "children": [
       "IPY_MODEL_853dc9f08ba44a02b0fcd27b1ccb9181",
       "IPY_MODEL_93d87fcf11b5423ca3657b2f587ae164",
       "IPY_MODEL_89c97bbc1bf94ce6a948bd4a6e7aebd3"
      ],
      "layout": "IPY_MODEL_02301f8eeb33460ea803b364f59c5ae1"
     }
    },
    "f3afd874255b485fbdc7946f65be5959": {
     "model_module": "@jupyter-widgets/controls",
     "model_module_version": "1.5.0",
     "model_name": "DescriptionStyleModel",
     "state": {
      "_model_module": "@jupyter-widgets/controls",
      "_model_module_version": "1.5.0",
      "_model_name": "DescriptionStyleModel",
      "_view_count": null,
      "_view_module": "@jupyter-widgets/base",
      "_view_module_version": "1.2.0",
      "_view_name": "StyleView",
      "description_width": ""
     }
    },
    "fc0dc89877724ed6a21e622725580368": {
     "model_module": "@jupyter-widgets/controls",
     "model_module_version": "1.5.0",
     "model_name": "ButtonStyleModel",
     "state": {
      "_model_module": "@jupyter-widgets/controls",
      "_model_module_version": "1.5.0",
      "_model_name": "ButtonStyleModel",
      "_view_count": null,
      "_view_module": "@jupyter-widgets/base",
      "_view_module_version": "1.2.0",
      "_view_name": "StyleView",
      "button_color": null,
      "font_weight": ""
     }
    }
   }
  }
 },
 "nbformat": 4,
 "nbformat_minor": 5
}
