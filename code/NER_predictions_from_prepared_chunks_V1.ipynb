{
 "cells": [
  {
   "cell_type": "markdown",
   "id": "B8AYL8QtwjD7",
   "metadata": {
    "id": "B8AYL8QtwjD7"
   },
   "source": [
    "# TEdetection: NER_application_V1"
   ]
  },
  {
   "cell_type": "markdown",
   "id": "69058e57",
   "metadata": {
    "id": "69058e57"
   },
   "source": [
    "## Load and Preprocess data"
   ]
  },
  {
   "cell_type": "code",
   "execution_count": 1,
   "id": "ZdpLEhqhmrfJ",
   "metadata": {
    "colab": {
     "base_uri": "https://localhost:8080/"
    },
    "executionInfo": {
     "elapsed": 9792,
     "status": "ok",
     "timestamp": 1653985958899,
     "user": {
      "displayName": "Friedrich Kerchnawe",
      "userId": "14877452091479911141"
     },
     "user_tz": -120
    },
    "id": "ZdpLEhqhmrfJ",
    "outputId": "6f4b6828-b264-4daa-9a3b-f75aba8cba1c"
   },
   "outputs": [
    {
     "name": "stdout",
     "output_type": "stream",
     "text": [
      "4.19.2\n"
     ]
    }
   ],
   "source": [
    "import transformers\n",
    "print(transformers.__version__)"
   ]
  },
  {
   "cell_type": "code",
   "execution_count": 2,
   "id": "8b02a413",
   "metadata": {
    "executionInfo": {
     "elapsed": 35,
     "status": "ok",
     "timestamp": 1653985958901,
     "user": {
      "displayName": "Friedrich Kerchnawe",
      "userId": "14877452091479911141"
     },
     "user_tz": -120
    },
    "id": "8b02a413"
   },
   "outputs": [],
   "source": [
    "import os\n",
    "import numpy as np\n",
    "import numpy.ma as ma\n",
    "import pandas as pd\n",
    "import tensorflow as tf\n",
    "from tensorflow import keras\n",
    "import shelve\n",
    "from datetime import datetime\n",
    "import matplotlib.pyplot as plt"
   ]
  },
  {
   "cell_type": "code",
   "execution_count": 3,
   "id": "09ZQH9SBv1Wr",
   "metadata": {
    "colab": {
     "base_uri": "https://localhost:8080/"
    },
    "executionInfo": {
     "elapsed": 54225,
     "status": "ok",
     "timestamp": 1653986013096,
     "user": {
      "displayName": "Friedrich Kerchnawe",
      "userId": "14877452091479911141"
     },
     "user_tz": -120
    },
    "id": "09ZQH9SBv1Wr",
    "outputId": "51abac20-12c3-4a0c-e96d-d695b645339c"
   },
   "outputs": [
    {
     "data": {
      "text/plain": [
       "<bound method Shelf.close of <shelve.DbfilenameShelf object at 0x0000026781DF1F40>>"
      ]
     },
     "execution_count": 3,
     "metadata": {},
     "output_type": "execute_result"
    }
   ],
   "source": [
    "results = shelve.open(os.path.join(\"..\", \"data\", \"prep_trainvalidationtest_1\"))\n",
    "df = results[\"chunks\"]\n",
    "tokenize_table = results[\"tokenize_table\"]\n",
    "results.close"
   ]
  },
  {
   "cell_type": "code",
   "execution_count": 4,
   "id": "5AaWymBq1cnv",
   "metadata": {
    "colab": {
     "base_uri": "https://localhost:8080/",
     "height": 191
    },
    "executionInfo": {
     "elapsed": 66,
     "status": "ok",
     "timestamp": 1653986013097,
     "user": {
      "displayName": "Friedrich Kerchnawe",
      "userId": "14877452091479911141"
     },
     "user_tz": -120
    },
    "id": "5AaWymBq1cnv",
    "outputId": "8e77341e-89be-4f4b-a29c-2d947dbfb3da"
   },
   "outputs": [
    {
     "data": {
      "text/html": [
       "<div>\n",
       "<style scoped>\n",
       "    .dataframe tbody tr th:only-of-type {\n",
       "        vertical-align: middle;\n",
       "    }\n",
       "\n",
       "    .dataframe tbody tr th {\n",
       "        vertical-align: top;\n",
       "    }\n",
       "\n",
       "    .dataframe thead th {\n",
       "        text-align: right;\n",
       "    }\n",
       "</style>\n",
       "<table border=\"1\" class=\"dataframe\">\n",
       "  <thead>\n",
       "    <tr style=\"text-align: right;\">\n",
       "      <th></th>\n",
       "      <th>origin</th>\n",
       "      <th>chunk</th>\n",
       "      <th>set</th>\n",
       "      <th>tokens</th>\n",
       "      <th>token_ids</th>\n",
       "      <th>attention_masks</th>\n",
       "      <th>labels</th>\n",
       "    </tr>\n",
       "  </thead>\n",
       "  <tbody>\n",
       "    <tr>\n",
       "      <th>0</th>\n",
       "      <td>100.fasta</td>\n",
       "      <td>1</td>\n",
       "      <td>test</td>\n",
       "      <td>[mcl00578, mcl00294, mcl01096, mcl01000, mcl01...</td>\n",
       "      <td>[11, 12, 13, 14, 15, 16, 17, 18, 19, 20, 21, 2...</td>\n",
       "      <td>[1, 1, 1, 1, 1, 1, 1, 1, 1, 1, 1, 1, 1, 1, 1, ...</td>\n",
       "      <td>[0, 0, 0, 0, 0, 0, 0, 0, 0, 0, 0, 0, 0, 0, 0, ...</td>\n",
       "    </tr>\n",
       "    <tr>\n",
       "      <th>1</th>\n",
       "      <td>100.fasta</td>\n",
       "      <td>2</td>\n",
       "      <td>test</td>\n",
       "      <td>[mcl01236, mcl00376, mcl04030, mcl00368, mcl01...</td>\n",
       "      <td>[61, 62, 63, 64, 65, 66, 67, 68, 69, 70, 71, 7...</td>\n",
       "      <td>[1, 1, 1, 1, 1, 1, 1, 1, 1, 1, 1, 1, 1, 1, 1, ...</td>\n",
       "      <td>[0, 0, 0, 0, 0, 0, 0, 0, 0, 0, 0, 0, 0, 0, 0, ...</td>\n",
       "    </tr>\n",
       "  </tbody>\n",
       "</table>\n",
       "</div>"
      ],
      "text/plain": [
       "      origin  chunk   set                                             tokens  \\\n",
       "0  100.fasta      1  test  [mcl00578, mcl00294, mcl01096, mcl01000, mcl01...   \n",
       "1  100.fasta      2  test  [mcl01236, mcl00376, mcl04030, mcl00368, mcl01...   \n",
       "\n",
       "                                           token_ids  \\\n",
       "0  [11, 12, 13, 14, 15, 16, 17, 18, 19, 20, 21, 2...   \n",
       "1  [61, 62, 63, 64, 65, 66, 67, 68, 69, 70, 71, 7...   \n",
       "\n",
       "                                     attention_masks  \\\n",
       "0  [1, 1, 1, 1, 1, 1, 1, 1, 1, 1, 1, 1, 1, 1, 1, ...   \n",
       "1  [1, 1, 1, 1, 1, 1, 1, 1, 1, 1, 1, 1, 1, 1, 1, ...   \n",
       "\n",
       "                                              labels  \n",
       "0  [0, 0, 0, 0, 0, 0, 0, 0, 0, 0, 0, 0, 0, 0, 0, ...  \n",
       "1  [0, 0, 0, 0, 0, 0, 0, 0, 0, 0, 0, 0, 0, 0, 0, ...  "
      ]
     },
     "execution_count": 4,
     "metadata": {},
     "output_type": "execute_result"
    }
   ],
   "source": [
    "df.head(2)"
   ]
  },
  {
   "cell_type": "markdown",
   "id": "h9B1F6QvyGKj",
   "metadata": {
    "id": "h9B1F6QvyGKj"
   },
   "source": [
    "## extract training and validation data for NER task"
   ]
  },
  {
   "cell_type": "code",
   "execution_count": 5,
   "id": "F2Jz6xQtR_nd",
   "metadata": {
    "executionInfo": {
     "elapsed": 1901,
     "status": "ok",
     "timestamp": 1653987180361,
     "user": {
      "displayName": "Friedrich Kerchnawe",
      "userId": "14877452091479911141"
     },
     "user_tz": -120
    },
    "id": "F2Jz6xQtR_nd"
   },
   "outputs": [],
   "source": [
    "df_training_tkn = df[df[\"set\"] == \"training\"][\"token_ids\"]\n",
    "training_tokens = np.array([x for x in df_training_tkn.tolist()])\n",
    "df_training_lbs = df[df[\"set\"] == \"training\"][\"labels\"]\n",
    "training_labels = np.array([x for x in df_training_lbs.tolist()])\n",
    "df_training_att = df[df[\"set\"] == \"training\"][\"attention_masks\"]\n",
    "training_attention_masks = np.array([x for x in df_training_att.tolist()])\n",
    "\n",
    "df_validation_tkn = df[df[\"set\"] == \"validation\"][\"token_ids\"]\n",
    "validation_tokens = np.array([x for x in df_validation_tkn.tolist()])\n",
    "df_validation_lbs = df[df[\"set\"] == \"validation\"][\"labels\"]\n",
    "validation_labels = np.array([x for x in df_validation_lbs.tolist()])\n",
    "df_validation_att = df[df[\"set\"] == \"validation\"][\"attention_masks\"]\n",
    "validation_attention_masks = np.array([x for x in df_validation_att.tolist()])"
   ]
  },
  {
   "cell_type": "markdown",
   "id": "Yb2qWACXAyT_",
   "metadata": {
    "id": "Yb2qWACXAyT_"
   },
   "source": [
    "##Check the prepared data\n",
    "\n",
    "\n",
    "*   df                        : dataframe with all input data (training, validation, test)\n",
    "*  \n",
    "*   training_tokens           : np_array with training tokens\n",
    "*   training_labels           : np_array with training labels (named entities)\n",
    "*   training_attention_masks  : np_array with training attention masks\n",
    "*  \n",
    "*   validation_tokens           : np_array with validation tokens\n",
    "*   validation_labels           : np_array with validation labels (named entities)\n",
    "*   validation_attention_masks  : np_array with validation attention masks\n",
    "\n",
    "\n"
   ]
  },
  {
   "cell_type": "code",
   "execution_count": 6,
   "id": "aNYqKrFqGquJ",
   "metadata": {
    "colab": {
     "base_uri": "https://localhost:8080/"
    },
    "executionInfo": {
     "elapsed": 268,
     "status": "ok",
     "timestamp": 1653987183880,
     "user": {
      "displayName": "Friedrich Kerchnawe",
      "userId": "14877452091479911141"
     },
     "user_tz": -120
    },
    "id": "aNYqKrFqGquJ",
    "outputId": "5aafeb63-a477-41a0-f6f6-658769358334"
   },
   "outputs": [
    {
     "data": {
      "text/plain": [
       "array([1788, 1787, 1786, 1785, 1784, 1783, 1782, 1780, 1779, 1778, 1777,\n",
       "       1776, 5238, 1775, 1774, 1773, 1772, 1771])"
      ]
     },
     "execution_count": 6,
     "metadata": {},
     "output_type": "execute_result"
    }
   ],
   "source": [
    "validation_tokens[110][44:62]"
   ]
  },
  {
   "cell_type": "code",
   "execution_count": 7,
   "id": "a581B2cGYOk7",
   "metadata": {
    "colab": {
     "base_uri": "https://localhost:8080/"
    },
    "executionInfo": {
     "elapsed": 11,
     "status": "ok",
     "timestamp": 1653987185014,
     "user": {
      "displayName": "Friedrich Kerchnawe",
      "userId": "14877452091479911141"
     },
     "user_tz": -120
    },
    "id": "a581B2cGYOk7",
    "outputId": "6081f0e0-0717-4840-9498-4cc1e5f03a93"
   },
   "outputs": [
    {
     "data": {
      "text/plain": [
       "array([0, 0, 0, 0, 0, 0, 0, 0, 0, 0, 0, 0, 0, 0, 0, 0, 0, 0])"
      ]
     },
     "execution_count": 7,
     "metadata": {},
     "output_type": "execute_result"
    }
   ],
   "source": [
    "validation_labels[110][44:62]"
   ]
  },
  {
   "cell_type": "code",
   "execution_count": 8,
   "id": "z90ZGxXDG7gi",
   "metadata": {
    "colab": {
     "base_uri": "https://localhost:8080/"
    },
    "executionInfo": {
     "elapsed": 5,
     "status": "ok",
     "timestamp": 1653987186535,
     "user": {
      "displayName": "Friedrich Kerchnawe",
      "userId": "14877452091479911141"
     },
     "user_tz": -120
    },
    "id": "z90ZGxXDG7gi",
    "outputId": "f5704d59-b39c-4ac1-f7d8-640c8434f051"
   },
   "outputs": [
    {
     "data": {
      "text/plain": [
       "array([1, 1, 1, 1, 1, 1, 1, 1, 1, 1, 1, 1, 1, 1, 1, 1, 1, 1])"
      ]
     },
     "execution_count": 8,
     "metadata": {},
     "output_type": "execute_result"
    }
   ],
   "source": [
    "validation_attention_masks[110][44:62]"
   ]
  },
  {
   "cell_type": "markdown",
   "id": "08a10cb4",
   "metadata": {
    "id": "08a10cb4"
   },
   "source": [
    "## Load the pretrained model"
   ]
  },
  {
   "cell_type": "code",
   "execution_count": 9,
   "id": "14XZrOG0XnUh",
   "metadata": {
    "colab": {
     "base_uri": "https://localhost:8080/"
    },
    "executionInfo": {
     "elapsed": 1237,
     "status": "ok",
     "timestamp": 1653991322954,
     "user": {
      "displayName": "Friedrich Kerchnawe",
      "userId": "14877452091479911141"
     },
     "user_tz": -120
    },
    "id": "14XZrOG0XnUh",
    "outputId": "a18ef617-206f-4f97-ec52-296cf7bb9fa3"
   },
   "outputs": [
    {
     "name": "stderr",
     "output_type": "stream",
     "text": [
      "All model checkpoint layers were used when initializing TFDistilBertForTokenClassification.\n",
      "\n",
      "All the layers of TFDistilBertForTokenClassification were initialized from the model checkpoint at FritzOS/TEdetection_distiBERT_NER_V2.\n",
      "If your task is similar to the task the model of the checkpoint was trained on, you can already use TFDistilBertForTokenClassification for predictions without further training.\n"
     ]
    }
   ],
   "source": [
    "from transformers import TFAutoModelForTokenClassification\n",
    "  \n",
    "#tokenizer = AutoTokenizer.from_pretrained(\"bert-base-uncased\")\n",
    "model = TFAutoModelForTokenClassification.from_pretrained(\"FritzOS/TEdetection_distiBERT_NER_V2\")"
   ]
  },
  {
   "cell_type": "code",
   "execution_count": 10,
   "id": "971aef06",
   "metadata": {
    "colab": {
     "base_uri": "https://localhost:8080/"
    },
    "executionInfo": {
     "elapsed": 30,
     "status": "ok",
     "timestamp": 1653991324134,
     "user": {
      "displayName": "Friedrich Kerchnawe",
      "userId": "14877452091479911141"
     },
     "user_tz": -120
    },
    "id": "971aef06",
    "outputId": "8b2acacc-fa8d-44a0-d8cc-3b2e076f41ea"
   },
   "outputs": [
    {
     "name": "stdout",
     "output_type": "stream",
     "text": [
      "Model: \"tf_distil_bert_for_token_classification\"\n",
      "_________________________________________________________________\n",
      " Layer (type)                Output Shape              Param #   \n",
      "=================================================================\n",
      " distilbert (TFDistilBertMai  multiple                 67715328  \n",
      " nLayer)                                                         \n",
      "                                                                 \n",
      " dropout_19 (Dropout)        multiple                  0         \n",
      "                                                                 \n",
      " classifier (Dense)          multiple                  1538      \n",
      "                                                                 \n",
      "=================================================================\n",
      "Total params: 67,716,866\n",
      "Trainable params: 67,716,866\n",
      "Non-trainable params: 0\n",
      "_________________________________________________________________\n"
     ]
    }
   ],
   "source": [
    "model.summary()"
   ]
  },
  {
   "cell_type": "markdown",
   "id": "792279df",
   "metadata": {
    "id": "792279df"
   },
   "source": [
    "## Get an output from this NER model"
   ]
  },
  {
   "cell_type": "code",
   "execution_count": 11,
   "id": "80e0c9bf",
   "metadata": {},
   "outputs": [],
   "source": [
    "chunk_len = 150\n",
    "chunk_offset = 50"
   ]
  },
  {
   "cell_type": "code",
   "execution_count": 12,
   "id": "efe433b7",
   "metadata": {},
   "outputs": [],
   "source": [
    "def prediction_metrics(prediction, target):\n",
    "    p_bool = prediction.astype(bool)\n",
    "    t_bool = target.astype(bool)\n",
    "    c_p = np.sum(p_bool & t_bool) # correct positives\n",
    "    f_n = np.sum(np.logical_not(p_bool) & t_bool) # false negative\n",
    "    f_p = np.sum(p_bool & np.logical_not(t_bool)) # false positives\n",
    "    c_n = np.sum(np.logical_not(p_bool) & np.logical_not(t_bool)) # correct negatives\n",
    "    p = np.sum(t_bool)\n",
    "    n = np.sum(np.logical_not(t_bool))\n",
    "    return p, n, c_p, f_n, f_p, c_n"
   ]
  },
  {
   "cell_type": "code",
   "execution_count": 13,
   "id": "e38c3e4e",
   "metadata": {},
   "outputs": [],
   "source": [
    "def merge_chunks(sequence_chunks):\n",
    "    n = np.shape(sequence_chunks)[0]\n",
    "    l = np.shape(sequence_chunks)[1]\n",
    "    output_sequence = np.zeros(n * l - (n-1) * (l-chunk_offset))\n",
    "    \n",
    "    p = 0\n",
    "    for chunk in sequence_chunks:\n",
    "        output_sequence[p:p+l] = output_sequence[p:p+l] + chunk\n",
    "        p = p + chunk_offset\n",
    "    \n",
    "    return output_sequence.astype(bool).astype(int)"
   ]
  },
  {
   "cell_type": "code",
   "execution_count": 14,
   "id": "c809ff2a",
   "metadata": {
    "executionInfo": {
     "elapsed": 289,
     "status": "ok",
     "timestamp": 1653990833506,
     "user": {
      "displayName": "Friedrich Kerchnawe",
      "userId": "14877452091479911141"
     },
     "user_tz": -120
    },
    "id": "c809ff2a"
   },
   "outputs": [],
   "source": [
    "def get_prediction_element(i, predictions):\n",
    "    probs = tf.nn.softmax(predictions[0, i])\n",
    "    result = tf.math.top_k(probs, k=2)\n",
    "    pred = [result.indices.numpy(), result.values.numpy()]\n",
    "\n",
    "    return pred[0][0]"
   ]
  },
  {
   "cell_type": "code",
   "execution_count": 18,
   "id": "d8a6b403",
   "metadata": {},
   "outputs": [],
   "source": [
    "def get_prediction_chunk(input_chunk):\n",
    "    outputs = model(input_chunk)\n",
    "    i = 0\n",
    "    pred_arr = np.zeros(150)\n",
    "    for x in input_chunk:\n",
    "        pred_arr[i] = get_prediction_element(i, outputs[0])\n",
    "        i = i+1\n",
    "    return pred_arr.astype(int)"
   ]
  },
  {
   "cell_type": "code",
   "execution_count": 16,
   "id": "e3e26e0c",
   "metadata": {},
   "outputs": [],
   "source": [
    "def get_prediction_sequence(input_sequence_chunks):\n",
    "    output_sequence_chunks = np.zeros(np.shape(input_sequence_chunks))\n",
    "    i = 0\n",
    "    for chunks in input_sequence_chunks:\n",
    "        output_sequence_chunks[i] = get_prediction_chunk(input_sequence_chunks[i])\n",
    "        i = i + 1\n",
    "    return merge_chunks(output_sequence_chunks)\n",
    "    "
   ]
  },
  {
   "cell_type": "markdown",
   "id": "f3f10f9d",
   "metadata": {
    "id": "f3f10f9d"
   },
   "source": [
    "### Predict  TEs in a single chunk"
   ]
  },
  {
   "cell_type": "code",
   "execution_count": 19,
   "id": "c6CFImSPuxzq",
   "metadata": {
    "colab": {
     "base_uri": "https://localhost:8080/"
    },
    "executionInfo": {
     "elapsed": 434,
     "status": "ok",
     "timestamp": 1654001499473,
     "user": {
      "displayName": "Friedrich Kerchnawe",
      "userId": "14877452091479911141"
     },
     "user_tz": -120
    },
    "id": "c6CFImSPuxzq",
    "outputId": "0551cf82-ca87-43f8-91c0-2961ee356445"
   },
   "outputs": [
    {
     "name": "stdout",
     "output_type": "stream",
     "text": [
      "prediction: [0, 0, 0, 0, 0, 0, 0, 0, 0, 0, 0, 0, 0, 0, 0, 0, 0, 0, 0, 0, 0, 0, 0, 0, 0, 0, 0, 0, 0, 0, 0, 0, 0, 0, 0, 0, 0, 0, 0, 0, 0, 0, 0, 0, 0, 0, 0, 0, 0, 0, 0, 0, 0, 0, 0, 0, 0, 0, 0, 0, 0, 0, 0, 0, 0, 0, 0, 0, 0, 0, 0, 0, 0, 0, 0, 0, 0, 0, 0, 0, 0, 0, 0, 0, 0, 0, 0, 0, 0, 0, 0, 0, 0, 0, 0, 0, 0, 0, 0, 0, 0, 0, 0, 0, 0, 0, 0, 0, 0, 0, 0, 0, 0, 0, 0, 0, 0, 0, 0, 0, 0, 0, 0, 0, 0, 0, 0, 0, 0, 0, 0, 0, 0, 0, 0, 0, 0, 0, 0, 0, 0, 0, 1, 1, 0, 0, 0, 0, 0, 0]\n",
      "target    : [0, 0, 0, 0, 0, 0, 0, 0, 0, 0, 0, 0, 0, 0, 0, 0, 0, 0, 0, 0, 0, 0, 0, 0, 0, 0, 0, 0, 0, 0, 0, 0, 0, 0, 0, 0, 0, 0, 0, 0, 0, 0, 0, 0, 0, 0, 0, 0, 0, 0, 0, 0, 0, 0, 0, 0, 0, 0, 0, 0, 0, 0, 0, 0, 0, 0, 0, 0, 0, 0, 0, 0, 0, 0, 0, 0, 0, 0, 0, 0, 0, 0, 0, 0, 0, 0, 0, 0, 0, 0, 0, 0, 0, 0, 0, 0, 0, 0, 0, 0, 0, 0, 0, 0, 0, 0, 0, 0, 0, 0, 0, 0, 0, 0, 0, 0, 0, 0, 0, 0, 0, 0, 0, 0, 0, 0, 0, 0, 0, 0, 0, 0, 0, 0, 0, 0, 0, 0, 0, 0, 0, 0, 1, 1, 0, 0, 0, 0, 0, 0]\n"
     ]
    }
   ],
   "source": [
    "test_element = 1100#1300#1100 #110\n",
    "input_chunk = validation_tokens[test_element]\n",
    "target = validation_labels[test_element]\n",
    "\n",
    "print(\"prediction:\", list(get_prediction_chunk(input_chunk)))\n",
    "print(\"target    :\",list(target))"
   ]
  },
  {
   "cell_type": "markdown",
   "id": "d24e4b00",
   "metadata": {},
   "source": [
    "### Predict TEs in a full sequence"
   ]
  },
  {
   "cell_type": "code",
   "execution_count": 20,
   "id": "aa385b45",
   "metadata": {},
   "outputs": [
    {
     "data": {
      "text/plain": [
       "array(['10161.fasta', '10164.fasta', '10183.fasta', '10187.fasta',\n",
       "       '10227.fasta', '10267.fasta', '10284.fasta', '10332.fasta',\n",
       "       '10340.fasta', '10421.fasta', '10424.fasta', '10477.fasta',\n",
       "       '10505.fasta', '10530.fasta', '10544.fasta', '10608.fasta',\n",
       "       '10618.fasta', '10619.fasta', '10628.fasta', '10713.fasta',\n",
       "       '10716.fasta', '10781.fasta', '10784.fasta', '1107.fasta',\n",
       "       '1144.fasta', '1173.fasta', '1214.fasta', '1222.fasta',\n",
       "       '1229.fasta', '1250.fasta', '1283.fasta', '1336.fasta',\n",
       "       '1346.fasta', '1380.fasta', '1403.fasta', '1414.fasta',\n",
       "       '1422.fasta', '1425.fasta', '1439.fasta', '145.fasta',\n",
       "       '1479.fasta', '1492.fasta', '1502.fasta', '1514.fasta',\n",
       "       '1540.fasta', '1549.fasta', '1552.fasta', '1567.fasta',\n",
       "       '1575.fasta', '1587.fasta', '1588.fasta', '1647.fasta',\n",
       "       '1656.fasta', '1667.fasta', '1681.fasta', '1691.fasta',\n",
       "       '1706.fasta', '1770.fasta', '1781.fasta', '180.fasta',\n",
       "       '1807.fasta', '1809.fasta', '1823.fasta', '1851.fasta',\n",
       "       '1898.fasta', '1906.fasta', '1925.fasta', '1974.fasta',\n",
       "       '1976.fasta', '1992.fasta', '1998.fasta', '2011.fasta',\n",
       "       '2014.fasta', '2024.fasta', '2037.fasta', '2039.fasta',\n",
       "       '2041.fasta', '2042.fasta', '2070.fasta', '2159.fasta',\n",
       "       '2175.fasta', '220.fasta', '2236.fasta', '226.fasta', '2267.fasta',\n",
       "       '2269.fasta', '2277.fasta', '2288.fasta', '2292.fasta',\n",
       "       '2304.fasta', '2317.fasta', '2320.fasta', '2323.fasta',\n",
       "       '2333.fasta', '2344.fasta', '2347.fasta', '2348.fasta',\n",
       "       '2402.fasta', '2429.fasta', '2432.fasta', '244.fasta',\n",
       "       '2470.fasta', '252.fasta', '2578.fasta', '262.fasta', '2641.fasta',\n",
       "       '2659.fasta', '2674.fasta', '268.fasta', '2693.fasta',\n",
       "       '2730.fasta', '2734.fasta', '2739.fasta', '2741.fasta',\n",
       "       '275.fasta', '2774.fasta', '2778.fasta', '2779.fasta', '284.fasta',\n",
       "       '2861.fasta', '2871.fasta', '2882.fasta', '2911.fasta',\n",
       "       '2917.fasta', '296.fasta', '2967.fasta', '2978.fasta',\n",
       "       '2991.fasta', '2997.fasta', '2998.fasta', '305.fasta',\n",
       "       '3098.fasta', '3109.fasta', '3115.fasta', '3135.fasta',\n",
       "       '3141.fasta', '3167.fasta', '3169.fasta', '3172.fasta',\n",
       "       '3188.fasta', '32.fasta', '3212.fasta', '3216.fasta', '3228.fasta',\n",
       "       '3229.fasta', '3319.fasta', '3353.fasta', '336.fasta',\n",
       "       '3361.fasta', '3364.fasta', '3368.fasta', '3391.fasta',\n",
       "       '3394.fasta', '3427.fasta', '3432.fasta', '3435.fasta',\n",
       "       '3467.fasta', '3501.fasta', '3506.fasta', '3523.fasta',\n",
       "       '3527.fasta', '3529.fasta', '3535.fasta', '3554.fasta',\n",
       "       '3565.fasta', '3568.fasta', '3585.fasta', '3596.fasta',\n",
       "       '3610.fasta', '3637.fasta', '3645.fasta', '365.fasta',\n",
       "       '3654.fasta', '3695.fasta', '3710.fasta', '3712.fasta',\n",
       "       '3758.fasta', '3787.fasta', '3792.fasta', '3823.fasta',\n",
       "       '3828.fasta', '3862.fasta', '3868.fasta', '3884.fasta',\n",
       "       '3889.fasta', '3894.fasta', '3923.fasta', '4026.fasta',\n",
       "       '4041.fasta', '4062.fasta', '4081.fasta', '4084.fasta',\n",
       "       '4106.fasta', '4116.fasta', '4121.fasta', '4133.fasta',\n",
       "       '4143.fasta', '4180.fasta', '4214.fasta', '4227.fasta',\n",
       "       '4238.fasta', '4254.fasta', '4256.fasta', '4262.fasta',\n",
       "       '4277.fasta', '4290.fasta', '4295.fasta', '4303.fasta',\n",
       "       '4321.fasta', '4333.fasta', '4335.fasta', '4341.fasta',\n",
       "       '4372.fasta', '4380.fasta', '4387.fasta', '4397.fasta',\n",
       "       '4413.fasta', '4460.fasta', '4467.fasta', '4490.fasta',\n",
       "       '4493.fasta', '4539.fasta', '4561.fasta', '4588.fasta',\n",
       "       '4604.fasta', '468.fasta', '4751.fasta', '4771.fasta',\n",
       "       '4785.fasta', '4789.fasta', '4799.fasta', '4827.fasta',\n",
       "       '4952.fasta', '4961.fasta', '4968.fasta', '4989.fasta',\n",
       "       '499.fasta', '500.fasta', '505.fasta', '5066.fasta', '5069.fasta',\n",
       "       '5092.fasta', '5141.fasta', '5151.fasta', '518.fasta',\n",
       "       '5184.fasta', '5189.fasta', '5190.fasta', '5221.fasta',\n",
       "       '5241.fasta', '5285.fasta', '53.fasta', '5312.fasta', '5346.fasta',\n",
       "       '537.fasta', '5372.fasta', '5380.fasta', '5398.fasta',\n",
       "       '5405.fasta', '5428.fasta', '5439.fasta', '5469.fasta',\n",
       "       '5485.fasta', '5490.fasta', '55.fasta', '5503.fasta', '5518.fasta',\n",
       "       '5523.fasta', '5524.fasta', '5540.fasta', '5547.fasta',\n",
       "       '5637.fasta', '5638.fasta', '5646.fasta', '5677.fasta',\n",
       "       '5708.fasta', '5738.fasta', '5752.fasta', '5764.fasta',\n",
       "       '5779.fasta', '5820.fasta', '5850.fasta', '5869.fasta',\n",
       "       '5875.fasta', '5876.fasta', '5907.fasta', '5913.fasta',\n",
       "       '5917.fasta', '593.fasta', '5930.fasta', '5942.fasta',\n",
       "       '5948.fasta', '5950.fasta', '5961.fasta', '5976.fasta',\n",
       "       '6054.fasta', '6057.fasta', '6058.fasta', '6066.fasta',\n",
       "       '607.fasta', '6076.fasta', '6082.fasta', '6083.fasta',\n",
       "       '6112.fasta', '6118.fasta', '6119.fasta', '6122.fasta',\n",
       "       '6158.fasta', '6173.fasta', '6179.fasta', '6234.fasta',\n",
       "       '6270.fasta', '6276.fasta', '6302.fasta', '6321.fasta',\n",
       "       '6342.fasta', '6351.fasta', '636.fasta', '6381.fasta',\n",
       "       '6397.fasta', '6415.fasta', '6428.fasta', '6461.fasta',\n",
       "       '6463.fasta', '6470.fasta', '65.fasta', '650.fasta', '6509.fasta',\n",
       "       '6581.fasta', '6592.fasta', '6633.fasta', '6634.fasta',\n",
       "       '6658.fasta', '6667.fasta', '6681.fasta', '6682.fasta',\n",
       "       '6708.fasta', '6740.fasta', '675.fasta', '6774.fasta', '678.fasta',\n",
       "       '6786.fasta', '6847.fasta', '6861.fasta', '6871.fasta',\n",
       "       '6911.fasta', '6960.fasta', '6970.fasta', '6971.fasta',\n",
       "       '6990.fasta', '7013.fasta', '7020.fasta', '7075.fasta',\n",
       "       '7172.fasta', '7173.fasta', '7197.fasta', '7209.fasta',\n",
       "       '7231.fasta', '7282.fasta', '7289.fasta', '734.fasta',\n",
       "       '7350.fasta', '7402.fasta', '7427.fasta', '7447.fasta',\n",
       "       '7484.fasta', '7538.fasta', '7566.fasta', '7593.fasta',\n",
       "       '7656.fasta', '7724.fasta', '7730.fasta', '7736.fasta',\n",
       "       '7768.fasta', '7774.fasta', '7803.fasta', '7806.fasta',\n",
       "       '7834.fasta', '7843.fasta', '7888.fasta', '7899.fasta',\n",
       "       '7902.fasta', '791.fasta', '7913.fasta', '7915.fasta',\n",
       "       '7917.fasta', '7928.fasta', '7937.fasta', '7942.fasta',\n",
       "       '7962.fasta', '7973.fasta', '7985.fasta', '7986.fasta',\n",
       "       '7991.fasta', '8004.fasta', '8037.fasta', '8043.fasta',\n",
       "       '8045.fasta', '8064.fasta', '8066.fasta', '8069.fasta',\n",
       "       '8083.fasta', '8141.fasta', '8166.fasta', '8172.fasta',\n",
       "       '8198.fasta', '8200.fasta', '8203.fasta', '8205.fasta',\n",
       "       '8208.fasta', '8209.fasta', '835.fasta', '8513.fasta',\n",
       "       '8524.fasta', '8533.fasta', '8535.fasta', '8584.fasta',\n",
       "       '8587.fasta', '8591.fasta', '8620.fasta', '8648.fasta',\n",
       "       '8687.fasta', '8688.fasta', '8693.fasta', '8715.fasta',\n",
       "       '8754.fasta', '8781.fasta', '881.fasta', '8822.fasta',\n",
       "       '8824.fasta', '8834.fasta', '8846.fasta', '8853.fasta',\n",
       "       '8859.fasta', '8860.fasta', '8868.fasta', '8871.fasta',\n",
       "       '8903.fasta', '8980.fasta', '8999.fasta', '9021.fasta',\n",
       "       '9061.fasta', '9076.fasta', '9083.fasta', '9084.fasta',\n",
       "       '9088.fasta', '9092.fasta', '9102.fasta', '9130.fasta',\n",
       "       '9143.fasta', '9146.fasta', '9221.fasta', '9222.fasta',\n",
       "       '9225.fasta', '9241.fasta', '9317.fasta', '9327.fasta',\n",
       "       '9351.fasta', '9416.fasta', '9463.fasta', '9465.fasta',\n",
       "       '9487.fasta', '9569.fasta', '9602.fasta', '9617.fasta',\n",
       "       '9626.fasta', '9640.fasta', '9662.fasta', '9696.fasta',\n",
       "       '9727.fasta', '9898.fasta', '9917.fasta', '9926.fasta',\n",
       "       '9956.fasta', '9963.fasta'], dtype=object)"
      ]
     },
     "execution_count": 20,
     "metadata": {},
     "output_type": "execute_result"
    }
   ],
   "source": [
    "df[df[\"set\"] == \"validation\"][\"origin\"].unique()"
   ]
  },
  {
   "cell_type": "code",
   "execution_count": 21,
   "id": "0c112e1a",
   "metadata": {},
   "outputs": [],
   "source": [
    "test_origin = \"9917.fasta\""
   ]
  },
  {
   "cell_type": "code",
   "execution_count": 22,
   "id": "6bd8ea69",
   "metadata": {},
   "outputs": [
    {
     "data": {
      "text/html": [
       "<div>\n",
       "<style scoped>\n",
       "    .dataframe tbody tr th:only-of-type {\n",
       "        vertical-align: middle;\n",
       "    }\n",
       "\n",
       "    .dataframe tbody tr th {\n",
       "        vertical-align: top;\n",
       "    }\n",
       "\n",
       "    .dataframe thead th {\n",
       "        text-align: right;\n",
       "    }\n",
       "</style>\n",
       "<table border=\"1\" class=\"dataframe\">\n",
       "  <thead>\n",
       "    <tr style=\"text-align: right;\">\n",
       "      <th></th>\n",
       "      <th>origin</th>\n",
       "      <th>chunk</th>\n",
       "      <th>set</th>\n",
       "      <th>tokens</th>\n",
       "      <th>token_ids</th>\n",
       "      <th>attention_masks</th>\n",
       "      <th>labels</th>\n",
       "    </tr>\n",
       "  </thead>\n",
       "  <tbody>\n",
       "    <tr>\n",
       "      <th>231652</th>\n",
       "      <td>9917.fasta</td>\n",
       "      <td>1</td>\n",
       "      <td>validation</td>\n",
       "      <td>[mcl02669, mcl10438, mcl19039, mcl13554, mcl07...</td>\n",
       "      <td>[3086, 6942, 8633, 7914, 6827, 8632, 2666, 863...</td>\n",
       "      <td>[1, 1, 1, 1, 1, 1, 1, 1, 1, 1, 1, 1, 1, 1, 1, ...</td>\n",
       "      <td>[0, 0, 0, 0, 0, 0, 0, 0, 0, 0, 0, 0, 0, 0, 0, ...</td>\n",
       "    </tr>\n",
       "    <tr>\n",
       "      <th>231653</th>\n",
       "      <td>9917.fasta</td>\n",
       "      <td>2</td>\n",
       "      <td>validation</td>\n",
       "      <td>[mcl07562, mcl06161, mcl02540, mcl07348, mcl13...</td>\n",
       "      <td>[7461, 8396, 3930, 6320, 6319, 6318, 6317, 630...</td>\n",
       "      <td>[1, 1, 1, 1, 1, 1, 1, 1, 1, 1, 1, 1, 1, 1, 1, ...</td>\n",
       "      <td>[0, 0, 0, 0, 0, 0, 0, 0, 0, 0, 0, 0, 0, 0, 0, ...</td>\n",
       "    </tr>\n",
       "    <tr>\n",
       "      <th>231654</th>\n",
       "      <td>9917.fasta</td>\n",
       "      <td>3</td>\n",
       "      <td>validation</td>\n",
       "      <td>[mcl08882, mcl09187, mcl00035, mcl08902, mcl08...</td>\n",
       "      <td>[6245, 6244, 786, 6243, 6242, 6241, 6240, 6239...</td>\n",
       "      <td>[1, 1, 1, 1, 1, 1, 1, 1, 1, 1, 1, 1, 1, 1, 1, ...</td>\n",
       "      <td>[0, 0, 0, 0, 0, 0, 0, 0, 0, 0, 0, 0, 0, 0, 0, ...</td>\n",
       "    </tr>\n",
       "  </tbody>\n",
       "</table>\n",
       "</div>"
      ],
      "text/plain": [
       "            origin  chunk         set  \\\n",
       "231652  9917.fasta      1  validation   \n",
       "231653  9917.fasta      2  validation   \n",
       "231654  9917.fasta      3  validation   \n",
       "\n",
       "                                                   tokens  \\\n",
       "231652  [mcl02669, mcl10438, mcl19039, mcl13554, mcl07...   \n",
       "231653  [mcl07562, mcl06161, mcl02540, mcl07348, mcl13...   \n",
       "231654  [mcl08882, mcl09187, mcl00035, mcl08902, mcl08...   \n",
       "\n",
       "                                                token_ids  \\\n",
       "231652  [3086, 6942, 8633, 7914, 6827, 8632, 2666, 863...   \n",
       "231653  [7461, 8396, 3930, 6320, 6319, 6318, 6317, 630...   \n",
       "231654  [6245, 6244, 786, 6243, 6242, 6241, 6240, 6239...   \n",
       "\n",
       "                                          attention_masks  \\\n",
       "231652  [1, 1, 1, 1, 1, 1, 1, 1, 1, 1, 1, 1, 1, 1, 1, ...   \n",
       "231653  [1, 1, 1, 1, 1, 1, 1, 1, 1, 1, 1, 1, 1, 1, 1, ...   \n",
       "231654  [1, 1, 1, 1, 1, 1, 1, 1, 1, 1, 1, 1, 1, 1, 1, ...   \n",
       "\n",
       "                                                   labels  \n",
       "231652  [0, 0, 0, 0, 0, 0, 0, 0, 0, 0, 0, 0, 0, 0, 0, ...  \n",
       "231653  [0, 0, 0, 0, 0, 0, 0, 0, 0, 0, 0, 0, 0, 0, 0, ...  \n",
       "231654  [0, 0, 0, 0, 0, 0, 0, 0, 0, 0, 0, 0, 0, 0, 0, ...  "
      ]
     },
     "execution_count": 22,
     "metadata": {},
     "output_type": "execute_result"
    }
   ],
   "source": [
    "df[df[\"origin\"] == test_origin].head()"
   ]
  },
  {
   "cell_type": "code",
   "execution_count": 23,
   "id": "e3a04cf8",
   "metadata": {},
   "outputs": [],
   "source": [
    "count = df[df[\"origin\"] == test_origin][\"attention_masks\"].count()\n",
    "len_sequence = chunk_offset*(count-1)+df[(df[\"origin\"] == test_origin) & (df[\"chunk\"] == count)][\"attention_masks\"].iloc[0].sum()\n",
    "\n",
    "c_arr = df[df[\"origin\"] == test_origin][\"token_ids\"].to_numpy()\n",
    "c_arr = np.array(c_arr.tolist())\n",
    "predictions = get_prediction_sequence(c_arr)[0:len_sequence]\n",
    "\n",
    "c_arr = df[df[\"origin\"] == test_origin][\"labels\"].to_numpy()\n",
    "c_arr = np.array(c_arr.tolist())\n",
    "targets = merge_chunks(c_arr)[0:len_sequence]"
   ]
  },
  {
   "cell_type": "code",
   "execution_count": 24,
   "id": "9be8d0c9",
   "metadata": {},
   "outputs": [
    {
     "name": "stdout",
     "output_type": "stream",
     "text": [
      "Evaluation for genome sequence:  9917.fasta\n",
      "prediction: [0, 0, 0, 0, 0, 0, 0, 0, 0, 0, 0, 0, 0, 0, 0, 0, 0, 0, 0, 0, 0, 0, 0, 0, 0, 0, 0, 0, 0, 0, 0, 0, 0, 0, 0, 0, 0, 0, 0, 0, 0, 0, 0, 0, 0, 0, 0, 0, 0, 0, 0, 0, 0, 0, 0, 0, 0, 0, 0, 0, 0, 0, 0, 0, 0, 0, 0, 0, 0, 0, 0, 0, 0, 0, 0, 0, 0, 0, 0, 0, 0, 0, 0, 0, 0, 0, 0, 0, 0, 0, 0, 0, 0, 0, 0, 0, 0, 0, 0, 0, 0, 0, 0, 0, 0, 0, 0, 0, 0, 0, 0, 0, 0, 0, 0, 0, 0, 0, 0, 0, 0, 0, 0, 0, 0, 0, 0, 0, 0, 0, 0, 0, 0, 0, 0, 0, 0, 0, 0, 0, 0, 0, 0, 0, 0, 0, 0, 0, 0, 0, 0, 0, 0, 0, 0, 0, 0, 0, 0, 0, 0, 0, 0, 0, 0, 0, 0, 0, 0, 0, 0, 0, 0, 0, 0, 0, 0, 0, 0, 0, 0, 0, 0, 0, 0, 0, 0, 0, 0, 0, 0, 0, 1, 1, 0, 0, 0, 0, 0, 0, 0, 0, 0, 0, 0, 0, 0, 0, 1, 1, 1, 1, 1, 0, 1, 1, 0, 0, 1, 0, 1, 0, 0, 0, 0, 0, 0, 0, 0, 0, 0, 0]\n",
      "target    : [0, 0, 0, 0, 0, 0, 0, 0, 0, 0, 0, 0, 0, 0, 0, 0, 0, 0, 0, 0, 0, 0, 0, 0, 0, 0, 0, 0, 0, 0, 0, 0, 0, 0, 0, 0, 0, 0, 0, 0, 0, 0, 0, 0, 0, 0, 0, 0, 0, 0, 0, 0, 0, 0, 0, 0, 0, 0, 0, 0, 0, 0, 0, 0, 0, 0, 0, 0, 0, 0, 0, 0, 0, 0, 0, 0, 0, 0, 0, 0, 0, 0, 0, 0, 0, 0, 0, 0, 0, 0, 0, 0, 0, 0, 0, 0, 0, 0, 0, 0, 0, 0, 0, 0, 0, 0, 0, 0, 0, 0, 0, 0, 0, 0, 0, 0, 0, 0, 0, 0, 0, 0, 0, 0, 0, 0, 0, 0, 0, 0, 0, 0, 0, 0, 0, 0, 0, 0, 0, 0, 0, 0, 0, 0, 0, 0, 0, 0, 0, 0, 0, 0, 0, 0, 0, 0, 0, 0, 0, 0, 0, 0, 0, 0, 0, 0, 0, 0, 0, 0, 0, 0, 0, 0, 0, 0, 0, 0, 0, 0, 0, 0, 0, 0, 0, 0, 0, 0, 0, 0, 0, 0, 1, 1, 0, 0, 0, 0, 0, 0, 0, 0, 0, 0, 0, 0, 0, 0, 1, 1, 1, 1, 0, 0, 1, 1, 0, 0, 0, 0, 0, 0, 0, 0, 0, 0, 0, 0, 0, 0, 0, 0]\n"
     ]
    }
   ],
   "source": [
    "print(\"Evaluation for genome sequence: \", test_origin)\n",
    "print(\"prediction:\", list(predictions))\n",
    "print(\"target    :\",list(targets))"
   ]
  },
  {
   "cell_type": "code",
   "execution_count": 25,
   "id": "fb29b1fe",
   "metadata": {},
   "outputs": [],
   "source": [
    "p, n, c_p, f_n, f_p, c_n = prediction_metrics(predictions, targets)"
   ]
  },
  {
   "cell_type": "code",
   "execution_count": 26,
   "id": "48e2011d",
   "metadata": {},
   "outputs": [
    {
     "name": "stdout",
     "output_type": "stream",
     "text": [
      "correct positives 8 / 8\n",
      "false   negatives 0 / 8\n",
      "false   positives 3 / 224\n",
      "correct negatives 221 / 224\n"
     ]
    }
   ],
   "source": [
    "print(\"correct positives\", c_p , \"/\", p)\n",
    "print(\"false   negatives\", f_n , \"/\", p)\n",
    "print(\"false   positives\", f_p , \"/\", n)\n",
    "print(\"correct negatives\", c_n , \"/\", n)"
   ]
  },
  {
   "cell_type": "markdown",
   "id": "273bdcbc",
   "metadata": {},
   "source": [
    "### Predict validation set"
   ]
  },
  {
   "cell_type": "code",
   "execution_count": null,
   "id": "c68ad031",
   "metadata": {},
   "outputs": [],
   "source": [
    "p = 0\n",
    "n = 0\n",
    "c_p = 0\n",
    "f_n = 0\n",
    "f_p = 0\n",
    "c_n = 0\n",
    "\n",
    "for test_origin in df[df[\"set\"] == \"validation\"][\"origin\"].unique():\n",
    "    count = df[df[\"origin\"] == test_origin][\"attention_masks\"].count()\n",
    "    len_sequence = chunk_offset*(count-1)+df[(df[\"origin\"] == test_origin) & (df[\"chunk\"] == count)][\"attention_masks\"].iloc[0].sum()\n",
    "\n",
    "    c_arr = df[df[\"origin\"] == test_origin][\"token_ids\"].to_numpy()\n",
    "    c_arr = np.array(c_arr.tolist())\n",
    "    predictions = get_prediction_sequence(c_arr)[0:len_sequence]\n",
    "\n",
    "    c_arr = df[df[\"origin\"] == test_origin][\"labels\"].to_numpy()\n",
    "    c_arr = np.array(c_arr.tolist())\n",
    "    targets = merge_chunks(c_arr)[0:len_sequence]\n",
    "    \n",
    "    hp, hn, hc_p, hf_n, hf_p, hc_n = prediction_metrics(predictions, targets)\n",
    "    \n",
    "    p = p + hp\n",
    "    n = n + hn\n",
    "    c_p = c_p + hc_p\n",
    "    f_n = f_n + hf_n\n",
    "    f_p = f_p + hf_p\n",
    "    c_n = c_n + hc_n\n",
    "    \n",
    "print(\"correct positives\", c_p , \"/\", p)\n",
    "print(\"false   negatives\", f_n , \"/\", p)\n",
    "print(\"false   positives\", f_p , \"/\", n)\n",
    "print(\"correct negatives\", c_n , \"/\", n)"
   ]
  },
  {
   "cell_type": "markdown",
   "id": "2b1b8d7a",
   "metadata": {},
   "source": [
    "## Evaluate Model on Test-Set"
   ]
  },
  {
   "cell_type": "code",
   "execution_count": null,
   "id": "75047b1c",
   "metadata": {},
   "outputs": [],
   "source": [
    "from tqdm import tqdm\n",
    "df_test = pd.read_pickle(os.path.join(path,\"test_set.pkl\"))\n",
    "# df_test = df[df[\"set\"] == \"test\"]\n",
    "threshold = 0.5\n",
    "batch_size = 128\n",
    "\n",
    "all_token_ids = df_test[\"token_ids\"].tolist()\n",
    "all_attention_masks = df_test[\"attention_masks\"].tolist()\n",
    "nested_labels = df_test[\"labels\"].tolist()\n",
    "\n",
    "all_predictions = []\n",
    "all_labels = []\n",
    "\n",
    "for i in tqdm(range(df_test.shape[0] // batch_size)):\n",
    "    start, end = (i * batch_size, i * batch_size + batch_size)\n",
    "    input_ids = tf.convert_to_tensor(all_token_ids[start:end])\n",
    "    attention_mask = tf.convert_to_tensor(all_attention_masks[start:end])\n",
    "    batched_labels = nested_labels[start:end]\n",
    "    outputs = model(input_ids=input_ids, attention_mask=attention_mask)\n",
    "    probs = tf.nn.softmax(outputs[\"logits\"])\n",
    "    for batch in range(batch_size):\n",
    "        predictions = [int(prob) for prob in probs[batch][:,1]>threshold]\n",
    "        labels = batched_labels[batch]\n",
    "        all_predictions.extend(predictions)\n",
    "        all_labels.extend(labels)\n",
    "\n",
    "print(\"Percentage of positives:\")\n",
    "print(f\"{sum(all_labels)/len(all_labels)*100}%\")"
   ]
  },
  {
   "cell_type": "code",
   "execution_count": null,
   "id": "1903460d",
   "metadata": {},
   "outputs": [],
   "source": [
    "from sklearn.metrics import confusion_matrix, ConfusionMatrixDisplay\n",
    "from sklearn.metrics import accuracy_score, recall_score, precision_score, f1_score\n",
    "def compute_metrics(pred, labels):\n",
    "\n",
    "    accuracy = accuracy_score(y_true=labels, y_pred=pred)\n",
    "    recall = recall_score(y_true=labels, y_pred=pred)\n",
    "    precision = precision_score(y_true=labels, y_pred=pred)\n",
    "    f1 = f1_score(y_true=labels, y_pred=pred)\n",
    "    cm = confusion_matrix(all_labels, all_predictions)\n",
    "    cm_n = confusion_matrix(all_labels, all_predictions, normalize=\"true\")\n",
    "\n",
    "    return {\"accuracy\": accuracy, \"precision\": precision, \"recall\": recall, \"f1\": f1, \"cm\":cm, \"cm_normalized\":cm_n}\n",
    "\n",
    "print(f\"Using threshold {threshold}...\\n\")\n",
    "metrics = compute_metrics(all_predictions, all_labels)\n",
    "\n",
    "disp = ConfusionMatrixDisplay(metrics[\"cm\"])\n",
    "disp.plot()\n",
    "plt.show()\n",
    "\n",
    "print(f'\\nAccuracy:   {metrics[\"accuracy\"]*100:.2f}%')\n",
    "print(f'precision:  {metrics[\"precision\"]*100:.2f}%')\n",
    "print(f'recall:     {metrics[\"recall\"]*100:.2f}%')\n",
    "print(f'f1:         {metrics[\"f1\"]*100:.2f}%')\n",
    "print(f'\\nConfusion matrix:\\n{metrics[\"cm\"]}')"
   ]
  }
 ],
 "metadata": {
  "accelerator": "GPU",
  "colab": {
   "background_execution": "on",
   "collapsed_sections": [],
   "name": "train_NER_M_V1.ipynb",
   "provenance": [
    {
     "file_id": "1FHIRGODDg-yA_yckehXKrkr5HQ48Yumx",
     "timestamp": 1653809952767
    },
    {
     "file_id": "1-5o-ERtt2pRedlWPah9rt90P0Oyg39H2",
     "timestamp": 1653673776612
    }
   ]
  },
  "kernelspec": {
   "display_name": "Python 3 (ipykernel)",
   "language": "python",
   "name": "python3"
  },
  "language_info": {
   "codemirror_mode": {
    "name": "ipython",
    "version": 3
   },
   "file_extension": ".py",
   "mimetype": "text/x-python",
   "name": "python",
   "nbconvert_exporter": "python",
   "pygments_lexer": "ipython3",
   "version": "3.9.7"
  },
  "widgets": {
   "application/vnd.jupyter.widget-state+json": {
    "02ffa87dacb3445fba2df4dc3ad65dcb": {
     "model_module": "@jupyter-widgets/controls",
     "model_module_version": "1.5.0",
     "model_name": "DescriptionStyleModel",
     "state": {
      "_model_module": "@jupyter-widgets/controls",
      "_model_module_version": "1.5.0",
      "_model_name": "DescriptionStyleModel",
      "_view_count": null,
      "_view_module": "@jupyter-widgets/base",
      "_view_module_version": "1.2.0",
      "_view_name": "StyleView",
      "description_width": ""
     }
    },
    "03878898914844dfa67e0c69e68b9ece": {
     "model_module": "@jupyter-widgets/controls",
     "model_module_version": "1.5.0",
     "model_name": "DescriptionStyleModel",
     "state": {
      "_model_module": "@jupyter-widgets/controls",
      "_model_module_version": "1.5.0",
      "_model_name": "DescriptionStyleModel",
      "_view_count": null,
      "_view_module": "@jupyter-widgets/base",
      "_view_module_version": "1.2.0",
      "_view_name": "StyleView",
      "description_width": ""
     }
    },
    "06407e86ffa44e6ca6ae330fb03b987f": {
     "model_module": "@jupyter-widgets/controls",
     "model_module_version": "1.5.0",
     "model_name": "HTMLModel",
     "state": {
      "_dom_classes": [],
      "_model_module": "@jupyter-widgets/controls",
      "_model_module_version": "1.5.0",
      "_model_name": "HTMLModel",
      "_view_count": null,
      "_view_module": "@jupyter-widgets/controls",
      "_view_module_version": "1.5.0",
      "_view_name": "HTMLView",
      "description": "",
      "description_tooltip": null,
      "layout": "IPY_MODEL_364965ebe49048a5b966fe1cfe5797c0",
      "placeholder": "​",
      "style": "IPY_MODEL_2f0c8de36b1d44b9b578284203a56b47",
      "value": "Upload file tf_model.h5: 100%"
     }
    },
    "07e3e8a2144b47f8831677d8dfda5ad4": {
     "model_module": "@jupyter-widgets/controls",
     "model_module_version": "1.5.0",
     "model_name": "HBoxModel",
     "state": {
      "_dom_classes": [],
      "_model_module": "@jupyter-widgets/controls",
      "_model_module_version": "1.5.0",
      "_model_name": "HBoxModel",
      "_view_count": null,
      "_view_module": "@jupyter-widgets/controls",
      "_view_module_version": "1.5.0",
      "_view_name": "HBoxView",
      "box_style": "",
      "children": [
       "IPY_MODEL_06407e86ffa44e6ca6ae330fb03b987f",
       "IPY_MODEL_997312a2670f4776998fbebea80e41bd",
       "IPY_MODEL_66b068907e944977abbe12594001fb5b"
      ],
      "layout": "IPY_MODEL_570e98562746414ea6453cbbf8528bd2"
     }
    },
    "2f0c8de36b1d44b9b578284203a56b47": {
     "model_module": "@jupyter-widgets/controls",
     "model_module_version": "1.5.0",
     "model_name": "DescriptionStyleModel",
     "state": {
      "_model_module": "@jupyter-widgets/controls",
      "_model_module_version": "1.5.0",
      "_model_name": "DescriptionStyleModel",
      "_view_count": null,
      "_view_module": "@jupyter-widgets/base",
      "_view_module_version": "1.2.0",
      "_view_name": "StyleView",
      "description_width": ""
     }
    },
    "33ffba3fe2b0429f88877b7d79451e81": {
     "model_module": "@jupyter-widgets/base",
     "model_module_version": "1.2.0",
     "model_name": "LayoutModel",
     "state": {
      "_model_module": "@jupyter-widgets/base",
      "_model_module_version": "1.2.0",
      "_model_name": "LayoutModel",
      "_view_count": null,
      "_view_module": "@jupyter-widgets/base",
      "_view_module_version": "1.2.0",
      "_view_name": "LayoutView",
      "align_content": null,
      "align_items": null,
      "align_self": null,
      "border": null,
      "bottom": null,
      "display": null,
      "flex": null,
      "flex_flow": null,
      "grid_area": null,
      "grid_auto_columns": null,
      "grid_auto_flow": null,
      "grid_auto_rows": null,
      "grid_column": null,
      "grid_gap": null,
      "grid_row": null,
      "grid_template_areas": null,
      "grid_template_columns": null,
      "grid_template_rows": null,
      "height": null,
      "justify_content": null,
      "justify_items": null,
      "left": null,
      "margin": null,
      "max_height": null,
      "max_width": null,
      "min_height": null,
      "min_width": null,
      "object_fit": null,
      "object_position": null,
      "order": null,
      "overflow": null,
      "overflow_x": null,
      "overflow_y": null,
      "padding": null,
      "right": null,
      "top": null,
      "visibility": null,
      "width": null
     }
    },
    "362304a98a1e462cb15f4989b1d6251f": {
     "model_module": "@jupyter-widgets/controls",
     "model_module_version": "1.5.0",
     "model_name": "ButtonModel",
     "state": {
      "_dom_classes": [],
      "_model_module": "@jupyter-widgets/controls",
      "_model_module_version": "1.5.0",
      "_model_name": "ButtonModel",
      "_view_count": null,
      "_view_module": "@jupyter-widgets/controls",
      "_view_module_version": "1.5.0",
      "_view_name": "ButtonView",
      "button_style": "",
      "description": "Use password",
      "disabled": false,
      "icon": "",
      "layout": "IPY_MODEL_4821e3c36adb45dc9c1f71fcfb695ad3",
      "style": "IPY_MODEL_4a9331ebb5fd4dcb966e2c7612491071",
      "tooltip": ""
     }
    },
    "364965ebe49048a5b966fe1cfe5797c0": {
     "model_module": "@jupyter-widgets/base",
     "model_module_version": "1.2.0",
     "model_name": "LayoutModel",
     "state": {
      "_model_module": "@jupyter-widgets/base",
      "_model_module_version": "1.2.0",
      "_model_name": "LayoutModel",
      "_view_count": null,
      "_view_module": "@jupyter-widgets/base",
      "_view_module_version": "1.2.0",
      "_view_name": "LayoutView",
      "align_content": null,
      "align_items": null,
      "align_self": null,
      "border": null,
      "bottom": null,
      "display": null,
      "flex": null,
      "flex_flow": null,
      "grid_area": null,
      "grid_auto_columns": null,
      "grid_auto_flow": null,
      "grid_auto_rows": null,
      "grid_column": null,
      "grid_gap": null,
      "grid_row": null,
      "grid_template_areas": null,
      "grid_template_columns": null,
      "grid_template_rows": null,
      "height": null,
      "justify_content": null,
      "justify_items": null,
      "left": null,
      "margin": null,
      "max_height": null,
      "max_width": null,
      "min_height": null,
      "min_width": null,
      "object_fit": null,
      "object_position": null,
      "order": null,
      "overflow": null,
      "overflow_x": null,
      "overflow_y": null,
      "padding": null,
      "right": null,
      "top": null,
      "visibility": null,
      "width": null
     }
    },
    "3699e681cc8d4478b0889120306026af": {
     "model_module": "@jupyter-widgets/controls",
     "model_module_version": "1.5.0",
     "model_name": "VBoxModel",
     "state": {
      "_dom_classes": [],
      "_model_module": "@jupyter-widgets/controls",
      "_model_module_version": "1.5.0",
      "_model_name": "VBoxModel",
      "_view_count": null,
      "_view_module": "@jupyter-widgets/controls",
      "_view_module_version": "1.5.0",
      "_view_name": "VBoxView",
      "box_style": "",
      "children": [
       "IPY_MODEL_3bf564b41a074e33bbfd360a65be60a1",
       "IPY_MODEL_9d093be42bd94aa4b4a18325d9da889f",
       "IPY_MODEL_a308d8eaddb943e6a395a22e49d77a88",
       "IPY_MODEL_dada550e652e408cac653a9a8e624dab",
       "IPY_MODEL_362304a98a1e462cb15f4989b1d6251f"
      ],
      "layout": "IPY_MODEL_615ede01c82044c7a714769286bc9dd1"
     }
    },
    "3bf564b41a074e33bbfd360a65be60a1": {
     "model_module": "@jupyter-widgets/controls",
     "model_module_version": "1.5.0",
     "model_name": "HTMLModel",
     "state": {
      "_dom_classes": [],
      "_model_module": "@jupyter-widgets/controls",
      "_model_module_version": "1.5.0",
      "_model_name": "HTMLModel",
      "_view_count": null,
      "_view_module": "@jupyter-widgets/controls",
      "_view_module_version": "1.5.0",
      "_view_name": "HTMLView",
      "description": "",
      "description_tooltip": null,
      "layout": "IPY_MODEL_8890fee0d7e94741a7990ad3439bf470",
      "placeholder": "​",
      "style": "IPY_MODEL_98aba13465f249a0b0ec8514fed3c5e7",
      "value": "<center> <img\nsrc=https://huggingface.co/front/assets/huggingface_logo-noborder.svg\nalt='Hugging Face'> <br> Copy a token from <a\nhref=\"https://huggingface.co/settings/tokens\" target=\"_blank\">your Hugging Face\ntokens page</a> and paste it below. <br> Immediately click login after copying\nyour token or it might be stored in plain text in this notebook file. </center>"
     }
    },
    "4821e3c36adb45dc9c1f71fcfb695ad3": {
     "model_module": "@jupyter-widgets/base",
     "model_module_version": "1.2.0",
     "model_name": "LayoutModel",
     "state": {
      "_model_module": "@jupyter-widgets/base",
      "_model_module_version": "1.2.0",
      "_model_name": "LayoutModel",
      "_view_count": null,
      "_view_module": "@jupyter-widgets/base",
      "_view_module_version": "1.2.0",
      "_view_name": "LayoutView",
      "align_content": null,
      "align_items": null,
      "align_self": null,
      "border": null,
      "bottom": null,
      "display": null,
      "flex": null,
      "flex_flow": null,
      "grid_area": null,
      "grid_auto_columns": null,
      "grid_auto_flow": null,
      "grid_auto_rows": null,
      "grid_column": null,
      "grid_gap": null,
      "grid_row": null,
      "grid_template_areas": null,
      "grid_template_columns": null,
      "grid_template_rows": null,
      "height": null,
      "justify_content": null,
      "justify_items": null,
      "left": null,
      "margin": null,
      "max_height": null,
      "max_width": null,
      "min_height": null,
      "min_width": null,
      "object_fit": null,
      "object_position": null,
      "order": null,
      "overflow": null,
      "overflow_x": null,
      "overflow_y": null,
      "padding": null,
      "right": null,
      "top": null,
      "visibility": null,
      "width": null
     }
    },
    "4a25fa1087e14ffb9661a687a2535d55": {
     "model_module": "@jupyter-widgets/controls",
     "model_module_version": "1.5.0",
     "model_name": "ButtonStyleModel",
     "state": {
      "_model_module": "@jupyter-widgets/controls",
      "_model_module_version": "1.5.0",
      "_model_name": "ButtonStyleModel",
      "_view_count": null,
      "_view_module": "@jupyter-widgets/base",
      "_view_module_version": "1.2.0",
      "_view_name": "StyleView",
      "button_color": null,
      "font_weight": ""
     }
    },
    "4a9331ebb5fd4dcb966e2c7612491071": {
     "model_module": "@jupyter-widgets/controls",
     "model_module_version": "1.5.0",
     "model_name": "ButtonStyleModel",
     "state": {
      "_model_module": "@jupyter-widgets/controls",
      "_model_module_version": "1.5.0",
      "_model_name": "ButtonStyleModel",
      "_view_count": null,
      "_view_module": "@jupyter-widgets/base",
      "_view_module_version": "1.2.0",
      "_view_name": "StyleView",
      "button_color": null,
      "font_weight": ""
     }
    },
    "570e98562746414ea6453cbbf8528bd2": {
     "model_module": "@jupyter-widgets/base",
     "model_module_version": "1.2.0",
     "model_name": "LayoutModel",
     "state": {
      "_model_module": "@jupyter-widgets/base",
      "_model_module_version": "1.2.0",
      "_model_name": "LayoutModel",
      "_view_count": null,
      "_view_module": "@jupyter-widgets/base",
      "_view_module_version": "1.2.0",
      "_view_name": "LayoutView",
      "align_content": null,
      "align_items": null,
      "align_self": null,
      "border": null,
      "bottom": null,
      "display": null,
      "flex": null,
      "flex_flow": null,
      "grid_area": null,
      "grid_auto_columns": null,
      "grid_auto_flow": null,
      "grid_auto_rows": null,
      "grid_column": null,
      "grid_gap": null,
      "grid_row": null,
      "grid_template_areas": null,
      "grid_template_columns": null,
      "grid_template_rows": null,
      "height": null,
      "justify_content": null,
      "justify_items": null,
      "left": null,
      "margin": null,
      "max_height": null,
      "max_width": null,
      "min_height": null,
      "min_width": null,
      "object_fit": null,
      "object_position": null,
      "order": null,
      "overflow": null,
      "overflow_x": null,
      "overflow_y": null,
      "padding": null,
      "right": null,
      "top": null,
      "visibility": null,
      "width": null
     }
    },
    "615ede01c82044c7a714769286bc9dd1": {
     "model_module": "@jupyter-widgets/base",
     "model_module_version": "1.2.0",
     "model_name": "LayoutModel",
     "state": {
      "_model_module": "@jupyter-widgets/base",
      "_model_module_version": "1.2.0",
      "_model_name": "LayoutModel",
      "_view_count": null,
      "_view_module": "@jupyter-widgets/base",
      "_view_module_version": "1.2.0",
      "_view_name": "LayoutView",
      "align_content": null,
      "align_items": "center",
      "align_self": null,
      "border": null,
      "bottom": null,
      "display": "flex",
      "flex": null,
      "flex_flow": "column",
      "grid_area": null,
      "grid_auto_columns": null,
      "grid_auto_flow": null,
      "grid_auto_rows": null,
      "grid_column": null,
      "grid_gap": null,
      "grid_row": null,
      "grid_template_areas": null,
      "grid_template_columns": null,
      "grid_template_rows": null,
      "height": null,
      "justify_content": null,
      "justify_items": null,
      "left": null,
      "margin": null,
      "max_height": null,
      "max_width": null,
      "min_height": null,
      "min_width": null,
      "object_fit": null,
      "object_position": null,
      "order": null,
      "overflow": null,
      "overflow_x": null,
      "overflow_y": null,
      "padding": null,
      "right": null,
      "top": null,
      "visibility": null,
      "width": "50%"
     }
    },
    "66b068907e944977abbe12594001fb5b": {
     "model_module": "@jupyter-widgets/controls",
     "model_module_version": "1.5.0",
     "model_name": "HTMLModel",
     "state": {
      "_dom_classes": [],
      "_model_module": "@jupyter-widgets/controls",
      "_model_module_version": "1.5.0",
      "_model_name": "HTMLModel",
      "_view_count": null,
      "_view_module": "@jupyter-widgets/controls",
      "_view_module_version": "1.5.0",
      "_view_name": "HTMLView",
      "description": "",
      "description_tooltip": null,
      "layout": "IPY_MODEL_74fa4c75463348f8b9abc172d2acfb82",
      "placeholder": "​",
      "style": "IPY_MODEL_bae484c44b064d13924cd58caef1c29a",
      "value": " 258M/258M [04:22&lt;00:00, 599kB/s]"
     }
    },
    "74fa4c75463348f8b9abc172d2acfb82": {
     "model_module": "@jupyter-widgets/base",
     "model_module_version": "1.2.0",
     "model_name": "LayoutModel",
     "state": {
      "_model_module": "@jupyter-widgets/base",
      "_model_module_version": "1.2.0",
      "_model_name": "LayoutModel",
      "_view_count": null,
      "_view_module": "@jupyter-widgets/base",
      "_view_module_version": "1.2.0",
      "_view_name": "LayoutView",
      "align_content": null,
      "align_items": null,
      "align_self": null,
      "border": null,
      "bottom": null,
      "display": null,
      "flex": null,
      "flex_flow": null,
      "grid_area": null,
      "grid_auto_columns": null,
      "grid_auto_flow": null,
      "grid_auto_rows": null,
      "grid_column": null,
      "grid_gap": null,
      "grid_row": null,
      "grid_template_areas": null,
      "grid_template_columns": null,
      "grid_template_rows": null,
      "height": null,
      "justify_content": null,
      "justify_items": null,
      "left": null,
      "margin": null,
      "max_height": null,
      "max_width": null,
      "min_height": null,
      "min_width": null,
      "object_fit": null,
      "object_position": null,
      "order": null,
      "overflow": null,
      "overflow_x": null,
      "overflow_y": null,
      "padding": null,
      "right": null,
      "top": null,
      "visibility": null,
      "width": null
     }
    },
    "8890fee0d7e94741a7990ad3439bf470": {
     "model_module": "@jupyter-widgets/base",
     "model_module_version": "1.2.0",
     "model_name": "LayoutModel",
     "state": {
      "_model_module": "@jupyter-widgets/base",
      "_model_module_version": "1.2.0",
      "_model_name": "LayoutModel",
      "_view_count": null,
      "_view_module": "@jupyter-widgets/base",
      "_view_module_version": "1.2.0",
      "_view_name": "LayoutView",
      "align_content": null,
      "align_items": null,
      "align_self": null,
      "border": null,
      "bottom": null,
      "display": null,
      "flex": null,
      "flex_flow": null,
      "grid_area": null,
      "grid_auto_columns": null,
      "grid_auto_flow": null,
      "grid_auto_rows": null,
      "grid_column": null,
      "grid_gap": null,
      "grid_row": null,
      "grid_template_areas": null,
      "grid_template_columns": null,
      "grid_template_rows": null,
      "height": null,
      "justify_content": null,
      "justify_items": null,
      "left": null,
      "margin": null,
      "max_height": null,
      "max_width": null,
      "min_height": null,
      "min_width": null,
      "object_fit": null,
      "object_position": null,
      "order": null,
      "overflow": null,
      "overflow_x": null,
      "overflow_y": null,
      "padding": null,
      "right": null,
      "top": null,
      "visibility": null,
      "width": null
     }
    },
    "98aba13465f249a0b0ec8514fed3c5e7": {
     "model_module": "@jupyter-widgets/controls",
     "model_module_version": "1.5.0",
     "model_name": "DescriptionStyleModel",
     "state": {
      "_model_module": "@jupyter-widgets/controls",
      "_model_module_version": "1.5.0",
      "_model_name": "DescriptionStyleModel",
      "_view_count": null,
      "_view_module": "@jupyter-widgets/base",
      "_view_module_version": "1.2.0",
      "_view_name": "StyleView",
      "description_width": ""
     }
    },
    "997312a2670f4776998fbebea80e41bd": {
     "model_module": "@jupyter-widgets/controls",
     "model_module_version": "1.5.0",
     "model_name": "FloatProgressModel",
     "state": {
      "_dom_classes": [],
      "_model_module": "@jupyter-widgets/controls",
      "_model_module_version": "1.5.0",
      "_model_name": "FloatProgressModel",
      "_view_count": null,
      "_view_module": "@jupyter-widgets/controls",
      "_view_module_version": "1.5.0",
      "_view_name": "ProgressView",
      "bar_style": "success",
      "description": "",
      "description_tooltip": null,
      "layout": "IPY_MODEL_f450be7231244265b1388bfc6a488d47",
      "max": 270991720,
      "min": 0,
      "orientation": "horizontal",
      "style": "IPY_MODEL_e3650557aeab4bd09adc4ec247e370b2",
      "value": 270991720
     }
    },
    "9d093be42bd94aa4b4a18325d9da889f": {
     "model_module": "@jupyter-widgets/controls",
     "model_module_version": "1.5.0",
     "model_name": "PasswordModel",
     "state": {
      "_dom_classes": [],
      "_model_module": "@jupyter-widgets/controls",
      "_model_module_version": "1.5.0",
      "_model_name": "PasswordModel",
      "_view_count": null,
      "_view_module": "@jupyter-widgets/controls",
      "_view_module_version": "1.5.0",
      "_view_name": "PasswordView",
      "continuous_update": true,
      "description": "Token:",
      "description_tooltip": null,
      "disabled": false,
      "layout": "IPY_MODEL_aa03084250a7447a92b750601e6d591c",
      "placeholder": "​",
      "style": "IPY_MODEL_03878898914844dfa67e0c69e68b9ece",
      "value": ""
     }
    },
    "a308d8eaddb943e6a395a22e49d77a88": {
     "model_module": "@jupyter-widgets/controls",
     "model_module_version": "1.5.0",
     "model_name": "ButtonModel",
     "state": {
      "_dom_classes": [],
      "_model_module": "@jupyter-widgets/controls",
      "_model_module_version": "1.5.0",
      "_model_name": "ButtonModel",
      "_view_count": null,
      "_view_module": "@jupyter-widgets/controls",
      "_view_module_version": "1.5.0",
      "_view_name": "ButtonView",
      "button_style": "",
      "description": "Login",
      "disabled": false,
      "icon": "",
      "layout": "IPY_MODEL_bdbadfcdd2ac4320a3ba00ee7293cc27",
      "style": "IPY_MODEL_4a25fa1087e14ffb9661a687a2535d55",
      "tooltip": ""
     }
    },
    "aa03084250a7447a92b750601e6d591c": {
     "model_module": "@jupyter-widgets/base",
     "model_module_version": "1.2.0",
     "model_name": "LayoutModel",
     "state": {
      "_model_module": "@jupyter-widgets/base",
      "_model_module_version": "1.2.0",
      "_model_name": "LayoutModel",
      "_view_count": null,
      "_view_module": "@jupyter-widgets/base",
      "_view_module_version": "1.2.0",
      "_view_name": "LayoutView",
      "align_content": null,
      "align_items": null,
      "align_self": null,
      "border": null,
      "bottom": null,
      "display": null,
      "flex": null,
      "flex_flow": null,
      "grid_area": null,
      "grid_auto_columns": null,
      "grid_auto_flow": null,
      "grid_auto_rows": null,
      "grid_column": null,
      "grid_gap": null,
      "grid_row": null,
      "grid_template_areas": null,
      "grid_template_columns": null,
      "grid_template_rows": null,
      "height": null,
      "justify_content": null,
      "justify_items": null,
      "left": null,
      "margin": null,
      "max_height": null,
      "max_width": null,
      "min_height": null,
      "min_width": null,
      "object_fit": null,
      "object_position": null,
      "order": null,
      "overflow": null,
      "overflow_x": null,
      "overflow_y": null,
      "padding": null,
      "right": null,
      "top": null,
      "visibility": null,
      "width": null
     }
    },
    "bae484c44b064d13924cd58caef1c29a": {
     "model_module": "@jupyter-widgets/controls",
     "model_module_version": "1.5.0",
     "model_name": "DescriptionStyleModel",
     "state": {
      "_model_module": "@jupyter-widgets/controls",
      "_model_module_version": "1.5.0",
      "_model_name": "DescriptionStyleModel",
      "_view_count": null,
      "_view_module": "@jupyter-widgets/base",
      "_view_module_version": "1.2.0",
      "_view_name": "StyleView",
      "description_width": ""
     }
    },
    "bdbadfcdd2ac4320a3ba00ee7293cc27": {
     "model_module": "@jupyter-widgets/base",
     "model_module_version": "1.2.0",
     "model_name": "LayoutModel",
     "state": {
      "_model_module": "@jupyter-widgets/base",
      "_model_module_version": "1.2.0",
      "_model_name": "LayoutModel",
      "_view_count": null,
      "_view_module": "@jupyter-widgets/base",
      "_view_module_version": "1.2.0",
      "_view_name": "LayoutView",
      "align_content": null,
      "align_items": null,
      "align_self": null,
      "border": null,
      "bottom": null,
      "display": null,
      "flex": null,
      "flex_flow": null,
      "grid_area": null,
      "grid_auto_columns": null,
      "grid_auto_flow": null,
      "grid_auto_rows": null,
      "grid_column": null,
      "grid_gap": null,
      "grid_row": null,
      "grid_template_areas": null,
      "grid_template_columns": null,
      "grid_template_rows": null,
      "height": null,
      "justify_content": null,
      "justify_items": null,
      "left": null,
      "margin": null,
      "max_height": null,
      "max_width": null,
      "min_height": null,
      "min_width": null,
      "object_fit": null,
      "object_position": null,
      "order": null,
      "overflow": null,
      "overflow_x": null,
      "overflow_y": null,
      "padding": null,
      "right": null,
      "top": null,
      "visibility": null,
      "width": null
     }
    },
    "dada550e652e408cac653a9a8e624dab": {
     "model_module": "@jupyter-widgets/controls",
     "model_module_version": "1.5.0",
     "model_name": "HTMLModel",
     "state": {
      "_dom_classes": [],
      "_model_module": "@jupyter-widgets/controls",
      "_model_module_version": "1.5.0",
      "_model_name": "HTMLModel",
      "_view_count": null,
      "_view_module": "@jupyter-widgets/controls",
      "_view_module_version": "1.5.0",
      "_view_name": "HTMLView",
      "description": "",
      "description_tooltip": null,
      "layout": "IPY_MODEL_33ffba3fe2b0429f88877b7d79451e81",
      "placeholder": "​",
      "style": "IPY_MODEL_02ffa87dacb3445fba2df4dc3ad65dcb",
      "value": "\n<b>Pro Tip:</b> If you don't already have one, you can create a dedicated\n'notebooks' token with 'write' access, that you can then easily reuse for all\nnotebooks. <br> <i>Logging in with your username and password is deprecated and\nwon't be possible anymore in the near future. You can still use them for now by\nclicking below.</i> </center>"
     }
    },
    "e3650557aeab4bd09adc4ec247e370b2": {
     "model_module": "@jupyter-widgets/controls",
     "model_module_version": "1.5.0",
     "model_name": "ProgressStyleModel",
     "state": {
      "_model_module": "@jupyter-widgets/controls",
      "_model_module_version": "1.5.0",
      "_model_name": "ProgressStyleModel",
      "_view_count": null,
      "_view_module": "@jupyter-widgets/base",
      "_view_module_version": "1.2.0",
      "_view_name": "StyleView",
      "bar_color": null,
      "description_width": ""
     }
    },
    "f450be7231244265b1388bfc6a488d47": {
     "model_module": "@jupyter-widgets/base",
     "model_module_version": "1.2.0",
     "model_name": "LayoutModel",
     "state": {
      "_model_module": "@jupyter-widgets/base",
      "_model_module_version": "1.2.0",
      "_model_name": "LayoutModel",
      "_view_count": null,
      "_view_module": "@jupyter-widgets/base",
      "_view_module_version": "1.2.0",
      "_view_name": "LayoutView",
      "align_content": null,
      "align_items": null,
      "align_self": null,
      "border": null,
      "bottom": null,
      "display": null,
      "flex": null,
      "flex_flow": null,
      "grid_area": null,
      "grid_auto_columns": null,
      "grid_auto_flow": null,
      "grid_auto_rows": null,
      "grid_column": null,
      "grid_gap": null,
      "grid_row": null,
      "grid_template_areas": null,
      "grid_template_columns": null,
      "grid_template_rows": null,
      "height": null,
      "justify_content": null,
      "justify_items": null,
      "left": null,
      "margin": null,
      "max_height": null,
      "max_width": null,
      "min_height": null,
      "min_width": null,
      "object_fit": null,
      "object_position": null,
      "order": null,
      "overflow": null,
      "overflow_x": null,
      "overflow_y": null,
      "padding": null,
      "right": null,
      "top": null,
      "visibility": null,
      "width": null
     }
    }
   }
  }
 },
 "nbformat": 4,
 "nbformat_minor": 5
}
