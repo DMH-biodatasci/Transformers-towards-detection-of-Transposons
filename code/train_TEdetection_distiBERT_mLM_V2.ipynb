{
 "cells": [
  {
   "cell_type": "markdown",
   "id": "69058e57",
   "metadata": {
    "id": "69058e57"
   },
   "source": [
    "## Load and Preprocess data"
   ]
  },
  {
   "cell_type": "code",
   "execution_count": null,
   "id": "w8GcfB62udba",
   "metadata": {
    "id": "w8GcfB62udba"
   },
   "outputs": [],
   "source": [
    "model_name = \"TEdetection_distiBERT_mLM_V2\""
   ]
  },
  {
   "cell_type": "code",
   "execution_count": 2,
   "id": "CZnyME3LW2t9",
   "metadata": {
    "colab": {
     "base_uri": "https://localhost:8080/"
    },
    "executionInfo": {
     "elapsed": 36,
     "status": "ok",
     "timestamp": 1654061892627,
     "user": {
      "displayName": "Friedrich Kerchnawe",
      "userId": "14877452091479911141"
     },
     "user_tz": -120
    },
    "id": "CZnyME3LW2t9",
    "outputId": "2f6cec4e-2058-418f-fd87-a0fd4a2dc4c5"
   },
   "outputs": [
    {
     "name": "stdout",
     "output_type": "stream",
     "text": [
      "Fri Jun  3 11:33:24 2022       \n",
      "+-----------------------------------------------------------------------------+\n",
      "| NVIDIA-SMI 455.32.00    Driver Version: 455.32.00    CUDA Version: 11.1     |\n",
      "|-------------------------------+----------------------+----------------------+\n",
      "| GPU  Name        Persistence-M| Bus-Id        Disp.A | Volatile Uncorr. ECC |\n",
      "| Fan  Temp  Perf  Pwr:Usage/Cap|         Memory-Usage | GPU-Util  Compute M. |\n",
      "|                               |                      |               MIG M. |\n",
      "|===============================+======================+======================|\n",
      "|   0  Tesla V100-SXM2...  Off  | 00000000:61:00.0 Off |                    0 |\n",
      "| N/A   37C    P0    55W / 300W |      0MiB / 32510MiB |      0%      Default |\n",
      "|                               |                      |                  N/A |\n",
      "+-------------------------------+----------------------+----------------------+\n",
      "|   1  Tesla V100-SXM2...  Off  | 00000000:62:00.0 Off |                    0 |\n",
      "| N/A   36C    P0    54W / 300W |      0MiB / 32510MiB |      0%      Default |\n",
      "|                               |                      |                  N/A |\n",
      "+-------------------------------+----------------------+----------------------+\n",
      "|   2  Tesla V100-SXM2...  Off  | 00000000:89:00.0 Off |                    0 |\n",
      "| N/A   37C    P0    54W / 300W |      0MiB / 32510MiB |      0%      Default |\n",
      "|                               |                      |                  N/A |\n",
      "+-------------------------------+----------------------+----------------------+\n",
      "|   3  Tesla V100-SXM2...  Off  | 00000000:8A:00.0 Off |                    0 |\n",
      "| N/A   38C    P0    55W / 300W |      0MiB / 32510MiB |      0%      Default |\n",
      "|                               |                      |                  N/A |\n",
      "+-------------------------------+----------------------+----------------------+\n",
      "                                                                               \n",
      "+-----------------------------------------------------------------------------+\n",
      "| Processes:                                                                  |\n",
      "|  GPU   GI   CI        PID   Type   Process name                  GPU Memory |\n",
      "|        ID   ID                                                   Usage      |\n",
      "|=============================================================================|\n",
      "|  No running processes found                                                 |\n",
      "+-----------------------------------------------------------------------------+\n"
     ]
    }
   ],
   "source": [
    "gpu_info = !nvidia-smi\n",
    "gpu_info = '\\n'.join(gpu_info)\n",
    "if gpu_info.find('failed') >= 0:\n",
    "  print('Not connected to a GPU')\n",
    "else:\n",
    "  print(gpu_info)"
   ]
  },
  {
   "cell_type": "code",
   "execution_count": null,
   "id": "OubQ0MwDu1hK",
   "metadata": {
    "colab": {
     "base_uri": "https://localhost:8080/"
    },
    "executionInfo": {
     "elapsed": 2284,
     "status": "ok",
     "timestamp": 1654061894898,
     "user": {
      "displayName": "Friedrich Kerchnawe",
      "userId": "14877452091479911141"
     },
     "user_tz": -120
    },
    "id": "OubQ0MwDu1hK",
    "outputId": "aa008d24-fdd0-4888-e114-6788d184de3f"
   },
   "outputs": [
    {
     "name": "stdout",
     "output_type": "stream",
     "text": [
      "Drive already mounted at /content/drive; to attempt to forcibly remount, call drive.mount(\"/content/drive\", force_remount=True).\n"
     ]
    }
   ],
   "source": [
    "from google.colab import drive\n",
    "drive.mount('/content/drive')"
   ]
  },
  {
   "cell_type": "code",
   "execution_count": null,
   "id": "JFDQteq9jOCC",
   "metadata": {
    "colab": {
     "base_uri": "https://localhost:8080/"
    },
    "executionInfo": {
     "elapsed": 6566,
     "status": "ok",
     "timestamp": 1654061901450,
     "user": {
      "displayName": "Friedrich Kerchnawe",
      "userId": "14877452091479911141"
     },
     "user_tz": -120
    },
    "id": "JFDQteq9jOCC",
    "outputId": "7831acd9-801c-4c97-eea4-aa1a7f6bbc3a"
   },
   "outputs": [
    {
     "name": "stdout",
     "output_type": "stream",
     "text": [
      "Looking in indexes: https://pypi.org/simple, https://us-python.pkg.dev/colab-wheels/public/simple/\n",
      "Requirement already satisfied: pyyaml in /usr/local/lib/python3.7/dist-packages (6.0)\n",
      "Requirement already satisfied: h5py in /usr/local/lib/python3.7/dist-packages (3.1.0)\n",
      "Requirement already satisfied: numpy>=1.14.5 in /usr/local/lib/python3.7/dist-packages (from h5py) (1.21.6)\n",
      "Requirement already satisfied: cached-property in /usr/local/lib/python3.7/dist-packages (from h5py) (1.5.2)\n"
     ]
    }
   ],
   "source": [
    "!pip install pyyaml h5py"
   ]
  },
  {
   "cell_type": "code",
   "execution_count": null,
   "id": "lKyLkXoG3EBR",
   "metadata": {
    "colab": {
     "base_uri": "https://localhost:8080/"
    },
    "executionInfo": {
     "elapsed": 3902,
     "status": "ok",
     "timestamp": 1654061905341,
     "user": {
      "displayName": "Friedrich Kerchnawe",
      "userId": "14877452091479911141"
     },
     "user_tz": -120
    },
    "id": "lKyLkXoG3EBR",
    "outputId": "715e1c57-3a82-44db-94a0-ffa2c09ae737"
   },
   "outputs": [
    {
     "name": "stdout",
     "output_type": "stream",
     "text": [
      "Looking in indexes: https://pypi.org/simple, https://us-python.pkg.dev/colab-wheels/public/simple/\n",
      "Requirement already satisfied: datasets in /usr/local/lib/python3.7/dist-packages (2.2.2)\n",
      "Requirement already satisfied: transformers[sentencepiece] in /usr/local/lib/python3.7/dist-packages (4.19.2)\n",
      "Requirement already satisfied: importlib-metadata in /usr/local/lib/python3.7/dist-packages (from datasets) (4.11.3)\n",
      "Requirement already satisfied: dill<0.3.5 in /usr/local/lib/python3.7/dist-packages (from datasets) (0.3.4)\n",
      "Requirement already satisfied: aiohttp in /usr/local/lib/python3.7/dist-packages (from datasets) (3.8.1)\n",
      "Requirement already satisfied: responses<0.19 in /usr/local/lib/python3.7/dist-packages (from datasets) (0.18.0)\n",
      "Requirement already satisfied: numpy>=1.17 in /usr/local/lib/python3.7/dist-packages (from datasets) (1.21.6)\n",
      "Requirement already satisfied: xxhash in /usr/local/lib/python3.7/dist-packages (from datasets) (3.0.0)\n",
      "Requirement already satisfied: huggingface-hub<1.0.0,>=0.1.0 in /usr/local/lib/python3.7/dist-packages (from datasets) (0.7.0)\n",
      "Requirement already satisfied: pandas in /usr/local/lib/python3.7/dist-packages (from datasets) (1.3.5)\n",
      "Requirement already satisfied: requests>=2.19.0 in /usr/local/lib/python3.7/dist-packages (from datasets) (2.23.0)\n",
      "Requirement already satisfied: fsspec[http]>=2021.05.0 in /usr/local/lib/python3.7/dist-packages (from datasets) (2022.5.0)\n",
      "Requirement already satisfied: pyarrow>=6.0.0 in /usr/local/lib/python3.7/dist-packages (from datasets) (6.0.1)\n",
      "Requirement already satisfied: multiprocess in /usr/local/lib/python3.7/dist-packages (from datasets) (0.70.12.2)\n",
      "Requirement already satisfied: tqdm>=4.62.1 in /usr/local/lib/python3.7/dist-packages (from datasets) (4.64.0)\n",
      "Requirement already satisfied: packaging in /usr/local/lib/python3.7/dist-packages (from datasets) (21.3)\n",
      "Requirement already satisfied: filelock in /usr/local/lib/python3.7/dist-packages (from huggingface-hub<1.0.0,>=0.1.0->datasets) (3.7.0)\n",
      "Requirement already satisfied: typing-extensions>=3.7.4.3 in /usr/local/lib/python3.7/dist-packages (from huggingface-hub<1.0.0,>=0.1.0->datasets) (4.2.0)\n",
      "Requirement already satisfied: pyyaml>=5.1 in /usr/local/lib/python3.7/dist-packages (from huggingface-hub<1.0.0,>=0.1.0->datasets) (6.0)\n",
      "Requirement already satisfied: pyparsing!=3.0.5,>=2.0.2 in /usr/local/lib/python3.7/dist-packages (from packaging->datasets) (3.0.9)\n",
      "Requirement already satisfied: chardet<4,>=3.0.2 in /usr/local/lib/python3.7/dist-packages (from requests>=2.19.0->datasets) (3.0.4)\n",
      "Requirement already satisfied: idna<3,>=2.5 in /usr/local/lib/python3.7/dist-packages (from requests>=2.19.0->datasets) (2.10)\n",
      "Requirement already satisfied: urllib3!=1.25.0,!=1.25.1,<1.26,>=1.21.1 in /usr/local/lib/python3.7/dist-packages (from requests>=2.19.0->datasets) (1.25.11)\n",
      "Requirement already satisfied: certifi>=2017.4.17 in /usr/local/lib/python3.7/dist-packages (from requests>=2.19.0->datasets) (2022.5.18.1)\n",
      "Requirement already satisfied: charset-normalizer<3.0,>=2.0 in /usr/local/lib/python3.7/dist-packages (from aiohttp->datasets) (2.0.12)\n",
      "Requirement already satisfied: multidict<7.0,>=4.5 in /usr/local/lib/python3.7/dist-packages (from aiohttp->datasets) (6.0.2)\n",
      "Requirement already satisfied: aiosignal>=1.1.2 in /usr/local/lib/python3.7/dist-packages (from aiohttp->datasets) (1.2.0)\n",
      "Requirement already satisfied: yarl<2.0,>=1.0 in /usr/local/lib/python3.7/dist-packages (from aiohttp->datasets) (1.7.2)\n",
      "Requirement already satisfied: attrs>=17.3.0 in /usr/local/lib/python3.7/dist-packages (from aiohttp->datasets) (21.4.0)\n",
      "Requirement already satisfied: async-timeout<5.0,>=4.0.0a3 in /usr/local/lib/python3.7/dist-packages (from aiohttp->datasets) (4.0.2)\n",
      "Requirement already satisfied: frozenlist>=1.1.1 in /usr/local/lib/python3.7/dist-packages (from aiohttp->datasets) (1.3.0)\n",
      "Requirement already satisfied: asynctest==0.13.0 in /usr/local/lib/python3.7/dist-packages (from aiohttp->datasets) (0.13.0)\n",
      "Requirement already satisfied: zipp>=0.5 in /usr/local/lib/python3.7/dist-packages (from importlib-metadata->datasets) (3.8.0)\n",
      "Requirement already satisfied: python-dateutil>=2.7.3 in /usr/local/lib/python3.7/dist-packages (from pandas->datasets) (2.8.2)\n",
      "Requirement already satisfied: pytz>=2017.3 in /usr/local/lib/python3.7/dist-packages (from pandas->datasets) (2022.1)\n",
      "Requirement already satisfied: six>=1.5 in /usr/local/lib/python3.7/dist-packages (from python-dateutil>=2.7.3->pandas->datasets) (1.15.0)\n",
      "Requirement already satisfied: tokenizers!=0.11.3,<0.13,>=0.11.1 in /usr/local/lib/python3.7/dist-packages (from transformers[sentencepiece]) (0.12.1)\n",
      "Requirement already satisfied: regex!=2019.12.17 in /usr/local/lib/python3.7/dist-packages (from transformers[sentencepiece]) (2019.12.20)\n",
      "Requirement already satisfied: sentencepiece!=0.1.92,>=0.1.91 in /usr/local/lib/python3.7/dist-packages (from transformers[sentencepiece]) (0.1.96)\n",
      "Requirement already satisfied: protobuf in /usr/local/lib/python3.7/dist-packages (from transformers[sentencepiece]) (3.17.3)\n"
     ]
    }
   ],
   "source": [
    "!pip install datasets transformers[sentencepiece]"
   ]
  },
  {
   "cell_type": "code",
   "execution_count": 1,
   "id": "ZdpLEhqhmrfJ",
   "metadata": {
    "colab": {
     "base_uri": "https://localhost:8080/"
    },
    "executionInfo": {
     "elapsed": 4328,
     "status": "ok",
     "timestamp": 1654061909650,
     "user": {
      "displayName": "Friedrich Kerchnawe",
      "userId": "14877452091479911141"
     },
     "user_tz": -120
    },
    "id": "ZdpLEhqhmrfJ",
    "outputId": "19d967e3-5381-4f84-d9c2-485115b5177f"
   },
   "outputs": [
    {
     "name": "stderr",
     "output_type": "stream",
     "text": [
      "2022-06-03 11:31:00.336674: I tensorflow/core/util/util.cc:169] oneDNN custom operations are on. You may see slightly different numerical results due to floating-point round-off errors from different computation orders. To turn them off, set the environment variable `TF_ENABLE_ONEDNN_OPTS=0`.\n"
     ]
    },
    {
     "name": "stdout",
     "output_type": "stream",
     "text": [
      "4.19.2\n"
     ]
    }
   ],
   "source": [
    "import transformers\n",
    "print(transformers.__version__)"
   ]
  },
  {
   "cell_type": "code",
   "execution_count": null,
   "id": "8b02a413",
   "metadata": {
    "id": "8b02a413"
   },
   "outputs": [],
   "source": [
    "import os\n",
    "import numpy as np\n",
    "import pandas as pd\n",
    "import tensorflow as tf\n",
    "from tensorflow import keras\n",
    "import shelve\n",
    "from datetime import datetime\n",
    "import matplotlib.pyplot as plt"
   ]
  },
  {
   "cell_type": "code",
   "execution_count": null,
   "id": "09ZQH9SBv1Wr",
   "metadata": {
    "colab": {
     "base_uri": "https://localhost:8080/"
    },
    "executionInfo": {
     "elapsed": 25359,
     "status": "ok",
     "timestamp": 1654061934992,
     "user": {
      "displayName": "Friedrich Kerchnawe",
      "userId": "14877452091479911141"
     },
     "user_tz": -120
    },
    "id": "09ZQH9SBv1Wr",
    "outputId": "d6061a56-5032-472a-9a23-bb7146d87d0b"
   },
   "outputs": [
    {
     "data": {
      "text/plain": [
       "<bound method Shelf.close of <shelve.DbfilenameShelf object at 0x7f76cac54790>>"
      ]
     },
     "execution_count": 8,
     "metadata": {},
     "output_type": "execute_result"
    }
   ],
   "source": [
    "results = shelve.open(os.path.join(\"drive\", \"MyDrive\", \"Project TE\", \"data\", \"prep_trainvalidationtest_1\"),'r')\n",
    "df = results[\"chunks\"]\n",
    "tok = results[\"tokenize_table\"]\n",
    "results.close"
   ]
  },
  {
   "cell_type": "code",
   "execution_count": null,
   "id": "R_waZT63yIsE",
   "metadata": {
    "id": "R_waZT63yIsE"
   },
   "outputs": [],
   "source": [
    "np.random.seed(4711)\n",
    "df = df.sample(frac=1).reset_index(drop=True) # shuffle data"
   ]
  },
  {
   "cell_type": "code",
   "execution_count": null,
   "id": "MVItmWjVivSX",
   "metadata": {
    "id": "MVItmWjVivSX"
   },
   "outputs": [],
   "source": [
    "# get length of each chunk\n",
    "l = []\n",
    "for row in list(df[\"attention_masks\"]):\n",
    "  l.append(sum(row))\n",
    "df[\"length\"] = l"
   ]
  },
  {
   "cell_type": "code",
   "execution_count": null,
   "id": "xMmcMVe9jhhh",
   "metadata": {
    "colab": {
     "base_uri": "https://localhost:8080/"
    },
    "executionInfo": {
     "elapsed": 37,
     "status": "ok",
     "timestamp": 1654061941258,
     "user": {
      "displayName": "Friedrich Kerchnawe",
      "userId": "14877452091479911141"
     },
     "user_tz": -120
    },
    "id": "xMmcMVe9jhhh",
    "outputId": "d763a0c4-d6e9-47e1-a949-a6f1befb77e6"
   },
   "outputs": [
    {
     "name": "stdout",
     "output_type": "stream",
     "text": [
      "number of chunks: 234563\n",
      "number of unique tokens in the data:  32634\n",
      "length of each chunk in the data:  150\n",
      "length of shortest chunk : 1\n"
     ]
    }
   ],
   "source": [
    "print(\"number of chunks:\", df.shape[0])\n",
    "print(\"number of unique tokens in the data: \", len(tok.keys()))\n",
    "print(\"length of each chunk in the data: \", len(df[\"token_ids\"].iloc[0]))\n",
    "print(\"length of shortest chunk :\", df[\"length\"].min())"
   ]
  },
  {
   "cell_type": "markdown",
   "id": "WPY5P-7ZiA4A",
   "metadata": {
    "id": "WPY5P-7ZiA4A"
   },
   "source": [
    "##eliminate all chunks with only one token\n",
    "\n",
    "without context an attention mechanism is useless"
   ]
  },
  {
   "cell_type": "code",
   "execution_count": null,
   "id": "KJwdRr0ElYR4",
   "metadata": {
    "id": "KJwdRr0ElYR4"
   },
   "outputs": [],
   "source": [
    "df = df[df[\"length\"] > 1]"
   ]
  },
  {
   "cell_type": "code",
   "execution_count": null,
   "id": "G4-m3G6JkcSv",
   "metadata": {
    "colab": {
     "base_uri": "https://localhost:8080/"
    },
    "executionInfo": {
     "elapsed": 33,
     "status": "ok",
     "timestamp": 1654061941260,
     "user": {
      "displayName": "Friedrich Kerchnawe",
      "userId": "14877452091479911141"
     },
     "user_tz": -120
    },
    "id": "G4-m3G6JkcSv",
    "outputId": "8fc674dd-840f-4617-d185-f0c3e118779c"
   },
   "outputs": [
    {
     "name": "stdout",
     "output_type": "stream",
     "text": [
      "number of chunks: 234404\n",
      "number of unique tokens in the data:  32634\n",
      "length of each chunk in the data:  150\n",
      "length of shortest chunk : 2\n"
     ]
    }
   ],
   "source": [
    "print(\"number of chunks:\", df.shape[0])\n",
    "print(\"number of unique tokens in the data: \", len(tok.keys()))\n",
    "print(\"length of each chunk in the data: \", len(df[\"token_ids\"].iloc[0]))\n",
    "print(\"length of shortest chunk :\", df[\"length\"].min())"
   ]
  },
  {
   "cell_type": "markdown",
   "id": "9e9132ee",
   "metadata": {
    "id": "9e9132ee"
   },
   "source": [
    "## Build masked training and validation data"
   ]
  },
  {
   "cell_type": "code",
   "execution_count": null,
   "id": "f610b739",
   "metadata": {
    "id": "f610b739"
   },
   "outputs": [],
   "source": [
    "mask_token_id = 1 # to be checked if the model requires another pre-defined token-id\n",
    "\n",
    "def get_masked_input_and_labels(encoded_texts):\n",
    "    # 15% BERT masking\n",
    "    inp_mask = np.random.rand(*encoded_texts.shape) < 0.15\n",
    "    # Do not mask special tokens\n",
    "    inp_mask[encoded_texts <= 11] = False\n",
    "    # Set targets to -1 by default, it means ignore\n",
    "    #labels = -1 * np.ones(encoded_texts.shape, dtype=int)\n",
    "    # Set labels for masked tokens\n",
    "    #labels[inp_mask] = encoded_texts[inp_mask]\n",
    "\n",
    "    # Prepare input\n",
    "    encoded_texts_masked = np.copy(encoded_texts)\n",
    "    encoded_texts_masked[inp_mask] = mask_token_id\n",
    "    \n",
    "    # y_labels would be same as encoded_texts i.e input tokens\n",
    "    y_labels = np.copy(encoded_texts)\n",
    "\n",
    "    return encoded_texts_masked, y_labels\n"
   ]
  },
  {
   "cell_type": "code",
   "execution_count": null,
   "id": "83b61940",
   "metadata": {
    "id": "83b61940"
   },
   "outputs": [],
   "source": [
    "df_training = df[df[\"set\"] == \"training\"][\"token_ids\"]\n",
    "df_validation = df[df[\"set\"] == \"validation\"][\"token_ids\"]"
   ]
  },
  {
   "cell_type": "code",
   "execution_count": null,
   "id": "46f7c6e5",
   "metadata": {
    "id": "46f7c6e5"
   },
   "outputs": [],
   "source": [
    "training_masked, training_labels = get_masked_input_and_labels(np.array([x for x in df_training.tolist()]))\n",
    "validation_masked, validation_labels = get_masked_input_and_labels(np.array([x for x in df_validation.tolist()]))"
   ]
  },
  {
   "cell_type": "code",
   "execution_count": null,
   "id": "5a8f44ef",
   "metadata": {
    "id": "5a8f44ef"
   },
   "outputs": [],
   "source": [
    "training_attention_mask = np.array([x for x in df[df[\"set\"] == \"training\"][\"attention_masks\"]])\n",
    "validation_attention_mask = np.array([x for x in df[df[\"set\"] == \"validation\"][\"attention_masks\"]])"
   ]
  },
  {
   "cell_type": "code",
   "execution_count": null,
   "id": "6739ab23",
   "metadata": {
    "colab": {
     "base_uri": "https://localhost:8080/"
    },
    "executionInfo": {
     "elapsed": 61,
     "status": "ok",
     "timestamp": 1654061942600,
     "user": {
      "displayName": "Friedrich Kerchnawe",
      "userId": "14877452091479911141"
     },
     "user_tz": -120
    },
    "id": "6739ab23",
    "outputId": "ed841c48-243d-40b1-dbde-ac4982ea272e"
   },
   "outputs": [
    {
     "data": {
      "text/plain": [
       "array([5100, 2507, 2508, 2509, 2510, 2511, 2512,    1, 2514, 2515, 2516,\n",
       "       2517, 2518, 5099, 2519, 2520, 2521, 2522, 2523, 2524,    1, 2526,\n",
       "       2683, 1856, 2529, 2530,    1, 2532, 2533, 2534, 2535, 2536, 5098,\n",
       "       2537, 2538, 2539,    1, 2541, 2542, 2543, 2544, 2545, 2546, 2547,\n",
       "          1, 2549, 2550,    1, 2552, 2553, 2554, 2555, 5097, 5095, 2559,\n",
       "       2560, 2561, 2562, 5094, 5093, 3776, 5092, 5091, 5090, 5089, 2563,\n",
       "       2564, 2565, 2566, 2567,    1, 2569, 2570, 2571, 2572, 2573, 2574,\n",
       "       2575, 5088, 2576, 5087, 5086,    1, 2578, 2579, 2580, 2581, 2582,\n",
       "       5085, 2583, 2584, 2585, 2586, 2587, 2588, 2589, 2590, 2591,    1,\n",
       "          1, 2595, 2596, 2597, 2598, 2599, 2600, 2601, 2603, 5082, 5081,\n",
       "          1,    1, 2607, 2608, 2609, 2610, 2611, 5080, 2614, 2643,    1,\n",
       "       2645, 2646, 2647, 2648, 2649,    1, 5078, 5077, 5076,    1, 5074,\n",
       "       6530, 5073, 5072, 5071, 7128,    1, 7130,    1, 2421, 5070, 5069,\n",
       "          1, 5067,    1, 5065, 5064, 5063,    1], dtype=int32)"
      ]
     },
     "execution_count": 19,
     "metadata": {},
     "output_type": "execute_result"
    }
   ],
   "source": [
    "training_masked[0]"
   ]
  },
  {
   "cell_type": "code",
   "execution_count": null,
   "id": "6fe78183",
   "metadata": {
    "colab": {
     "base_uri": "https://localhost:8080/"
    },
    "executionInfo": {
     "elapsed": 57,
     "status": "ok",
     "timestamp": 1654061942602,
     "user": {
      "displayName": "Friedrich Kerchnawe",
      "userId": "14877452091479911141"
     },
     "user_tz": -120
    },
    "id": "6fe78183",
    "outputId": "ad161b87-3099-4d74-ab23-bf6069eb03b7"
   },
   "outputs": [
    {
     "data": {
      "text/plain": [
       "array([5100, 2507, 2508, 2509, 2510, 2511, 2512, 2513, 2514, 2515, 2516,\n",
       "       2517, 2518, 5099, 2519, 2520, 2521, 2522, 2523, 2524, 2525, 2526,\n",
       "       2683, 1856, 2529, 2530, 2531, 2532, 2533, 2534, 2535, 2536, 5098,\n",
       "       2537, 2538, 2539, 2540, 2541, 2542, 2543, 2544, 2545, 2546, 2547,\n",
       "       2548, 2549, 2550, 2551, 2552, 2553, 2554, 2555, 5097, 5095, 2559,\n",
       "       2560, 2561, 2562, 5094, 5093, 3776, 5092, 5091, 5090, 5089, 2563,\n",
       "       2564, 2565, 2566, 2567, 2568, 2569, 2570, 2571, 2572, 2573, 2574,\n",
       "       2575, 5088, 2576, 5087, 5086, 2577, 2578, 2579, 2580, 2581, 2582,\n",
       "       5085, 2583, 2584, 2585, 2586, 2587, 2588, 2589, 2590, 2591, 2592,\n",
       "       2594, 2595, 2596, 2597, 2598, 2599, 2600, 2601, 2603, 5082, 5081,\n",
       "       2605, 2606, 2607, 2608, 2609, 2610, 2611, 5080, 2614, 2643, 2644,\n",
       "       2645, 2646, 2647, 2648, 2649, 5079, 5078, 5077, 5076, 5075, 5074,\n",
       "       6530, 5073, 5072, 5071, 7128, 7129, 7130, 7131, 2421, 5070, 5069,\n",
       "       5068, 5067, 5066, 5065, 5064, 5063, 5062], dtype=int32)"
      ]
     },
     "execution_count": 20,
     "metadata": {},
     "output_type": "execute_result"
    }
   ],
   "source": [
    "training_labels[0]"
   ]
  },
  {
   "cell_type": "code",
   "execution_count": null,
   "id": "a472e29f",
   "metadata": {
    "colab": {
     "base_uri": "https://localhost:8080/"
    },
    "executionInfo": {
     "elapsed": 49,
     "status": "ok",
     "timestamp": 1654061942604,
     "user": {
      "displayName": "Friedrich Kerchnawe",
      "userId": "14877452091479911141"
     },
     "user_tz": -120
    },
    "id": "a472e29f",
    "outputId": "756e691b-4e67-45c4-f551-31307fa061a9"
   },
   "outputs": [
    {
     "data": {
      "text/plain": [
       "array([1, 1, 1, 1, 1, 1, 1, 1, 1, 1, 1, 1, 1, 1, 1, 1, 1, 1, 1, 1, 1, 1,\n",
       "       1, 1, 1, 1, 1, 1, 1, 1, 1, 1, 1, 1, 1, 1, 1, 1, 1, 1, 1, 1, 1, 1,\n",
       "       1, 1, 1, 1, 1, 1, 1, 1, 1, 1, 1, 1, 1, 1, 1, 1, 1, 1, 1, 1, 1, 1,\n",
       "       1, 1, 1, 1, 1, 1, 1, 1, 1, 1, 1, 1, 1, 1, 1, 1, 1, 1, 1, 1, 1, 1,\n",
       "       1, 1, 1, 1, 1, 1, 1, 1, 1, 1, 1, 1, 1, 1, 1, 1, 1, 1, 1, 1, 1, 1,\n",
       "       1, 1, 1, 1, 1, 1, 1, 1, 1, 1, 1, 1, 1, 1, 1, 1, 1, 1, 1, 1, 1, 1,\n",
       "       1, 1, 1, 1, 1, 1, 1, 1, 1, 1, 1, 1, 1, 1, 1, 1, 1, 1], dtype=int32)"
      ]
     },
     "execution_count": 21,
     "metadata": {},
     "output_type": "execute_result"
    }
   ],
   "source": [
    "training_attention_mask[0]"
   ]
  },
  {
   "cell_type": "code",
   "execution_count": null,
   "id": "6f432f1d",
   "metadata": {
    "colab": {
     "base_uri": "https://localhost:8080/"
    },
    "executionInfo": {
     "elapsed": 40,
     "status": "ok",
     "timestamp": 1654061942605,
     "user": {
      "displayName": "Friedrich Kerchnawe",
      "userId": "14877452091479911141"
     },
     "user_tz": -120
    },
    "id": "6f432f1d",
    "outputId": "86c70f6e-795a-428a-c2cb-92782ab7409e"
   },
   "outputs": [
    {
     "data": {
      "text/plain": [
       "array([ 4691,  4690,   250,  8018, 15176, 13015,     1,  4689,  4687,\n",
       "        4686,  4685,     1,  4681,     1,  4679,  4678,  4677,  4676,\n",
       "        4675,  4674,  4673,  4672,     1,  4670,  4669,  4668,  4667,\n",
       "        4666,  4665,  4664,  4663,  4662,  4661,     1,  4659,  4658,\n",
       "        4657,  4656,  4655,  4654,  4653,  4652,  6648,  6649, 12748,\n",
       "        6651, 13529,     1,  5018, 15991, 15992, 15993,     1, 15994,\n",
       "           1, 15995,  6592, 15374,  9269, 15375, 11109,  9739,     1,\n",
       "       13524,     1,  6603,  6663,  6664,  6668,  6669,  4651, 13522,\n",
       "        4650,  4649,     1,  4647,  4646,  4645,  4644,  4643,  4642,\n",
       "           1,  4640,  4639,  4638,  4637,  4636,  4635,  4634,  4633,\n",
       "           1,  4631,  4630,     1,     1,  4627,  4626,  4625,  4624,\n",
       "        4623,  4622,  4621,  4620,  4619,  4591,  4590,  4589,  4588,\n",
       "           1,     1,  4585,  4584,  4583,  4582,  4581,  4580,  4579,\n",
       "        4578,  4577,  4576,     1,  4574,  4573,  4572,  4571,  4570,\n",
       "        4569,  4568,  4567,     1,  4565,  4564,  4563,  4562,  4561,\n",
       "        4560,  4559,     1,  4557,  4556,  4555,  5770,  4553,  4552,\n",
       "        4551,  4550,  4549,  4548,  4547,  4546], dtype=int32)"
      ]
     },
     "execution_count": 22,
     "metadata": {},
     "output_type": "execute_result"
    }
   ],
   "source": [
    "validation_masked[0]"
   ]
  },
  {
   "cell_type": "code",
   "execution_count": null,
   "id": "8a6eea4d",
   "metadata": {
    "colab": {
     "base_uri": "https://localhost:8080/"
    },
    "executionInfo": {
     "elapsed": 29,
     "status": "ok",
     "timestamp": 1654061942606,
     "user": {
      "displayName": "Friedrich Kerchnawe",
      "userId": "14877452091479911141"
     },
     "user_tz": -120
    },
    "id": "8a6eea4d",
    "outputId": "94928a27-689c-4c60-e6fe-b1a3e20ff060"
   },
   "outputs": [
    {
     "data": {
      "text/plain": [
       "array([[4691, 4690,  250, ..., 4548, 4547, 4546],\n",
       "       [4162, 4163, 4164, ..., 4306, 4307, 4308],\n",
       "       [1561, 1560, 1559, ..., 1337, 1336, 1335],\n",
       "       ...,\n",
       "       [3696, 3697, 6883, ..., 4024, 4025, 4026],\n",
       "       [4486, 4490, 4491, ..., 4643, 4645, 4646],\n",
       "       [2327, 2328, 2329, ..., 2504, 2505, 2506]], dtype=int32)"
      ]
     },
     "execution_count": 23,
     "metadata": {},
     "output_type": "execute_result"
    }
   ],
   "source": [
    "validation_labels"
   ]
  },
  {
   "cell_type": "markdown",
   "id": "d3305e1f",
   "metadata": {
    "id": "d3305e1f"
   },
   "source": [
    "### Convert the data dictionaries\n",
    "\n",
    "\n",
    "    there are three possibilities you can use to gather all the input Tensors in the first positional argument :\n",
    "\n",
    "    a single Tensor with input_ids only and nothing else: model(inputs_ids)\n",
    "    a list of varying length with one or several input Tensors IN THE ORDER given in the docstring: model([input_ids, attention_mask])\n",
    "    a dictionary with one or several input Tensors associated to the input names given in the docstring: model({\"input_ids\": input_ids})\n"
   ]
  },
  {
   "cell_type": "code",
   "execution_count": null,
   "id": "eef3f73e",
   "metadata": {
    "id": "eef3f73e"
   },
   "outputs": [],
   "source": [
    "# data has been reduced to first 100 rows for training and 20 rows for validation.\n",
    "# This should be changed to the full data as soon as we see the model.fit running without bugs\n",
    "\n",
    "tf_train_dict = { 'input_ids': tf.convert_to_tensor(training_masked), #[0:100]),\n",
    "           'attention_mask': tf.convert_to_tensor(training_attention_mask), #[0:100]),\n",
    "           'labels': tf.convert_to_tensor(training_labels) #[0:100])\n",
    "         }"
   ]
  },
  {
   "cell_type": "code",
   "execution_count": null,
   "id": "49525cad",
   "metadata": {
    "id": "49525cad"
   },
   "outputs": [],
   "source": [
    "tf_val_dict = { 'input_ids': tf.convert_to_tensor(validation_masked), #[0:20]),\n",
    "           'attention_mask': tf.convert_to_tensor(validation_attention_mask), #[0:20]),\n",
    "           'labels': tf.convert_to_tensor(validation_labels), #[0:20])\n",
    "         }"
   ]
  },
  {
   "cell_type": "markdown",
   "id": "vNVUIh2GuKe7",
   "metadata": {
    "id": "vNVUIh2GuKe7"
   },
   "source": [
    "## Functions for saving models and weights\n",
    "\n",
    "    # Restore the weights\n",
    "    model.load_weights(path)\n",
    "\n",
    "    # Evaluate the model\n",
    "    loss, acc = model.evaluate(test_images, test_labels, verbose=2)\n",
    "    print(\"Restored model, accuracy: {:5.2f}%\".format(100 * acc))"
   ]
  },
  {
   "cell_type": "code",
   "execution_count": null,
   "id": "_YNjhMr8uOVj",
   "metadata": {
    "id": "_YNjhMr8uOVj"
   },
   "outputs": [],
   "source": [
    "def save_my_model_weights():\n",
    "    d = str(datetime.now())\n",
    "    checkpoint_name = model_name + \"-\" + d[0:10] + \"-\" + d[11:13] + \"-\" + d[14:16]\n",
    "    checkpoint_dir = os.path.join(\"drive\", \"MyDrive\", \"Project TE\", \"models\", checkpoint_name)\n",
    "    model.save_weights(checkpoint_dir)\n",
    "    return"
   ]
  },
  {
   "cell_type": "markdown",
   "id": "08a10cb4",
   "metadata": {
    "id": "08a10cb4"
   },
   "source": [
    "## Initialize the model\n",
    "    freshly initialize a DistilBERT model. We’ll use the same configuration for our model as for the distilbert-base-uncased model, so we load the pretrained configuration, make sure that the tokenizer size matches the model vocabulary size and max length of embeddings matches length of our chunks. \n"
   ]
  },
  {
   "cell_type": "code",
   "execution_count": null,
   "id": "41eb11e9",
   "metadata": {
    "id": "41eb11e9"
   },
   "outputs": [],
   "source": [
    "from transformers import TFDistilBertForMaskedLM, AutoConfig\n",
    "\n",
    "config = AutoConfig.from_pretrained(\n",
    "    \"distilbert-base-uncased\",\n",
    "    vocab_size=len(tok.keys())+11,   # +11 for the reserved special tokens\n",
    "    max_position_embeddings=len(df[\"token_ids\"].iloc[0])\n",
    ")"
   ]
  },
  {
   "cell_type": "markdown",
   "id": "f64d0c01",
   "metadata": {
    "id": "f64d0c01"
   },
   "source": [
    "## Load a new (not pretrained) model\n",
    "Load a new model. Note that we don’t use the from_pretrained() function, since we’re actually initializing a model ourself:"
   ]
  },
  {
   "cell_type": "code",
   "execution_count": null,
   "id": "971aef06",
   "metadata": {
    "colab": {
     "base_uri": "https://localhost:8080/"
    },
    "executionInfo": {
     "elapsed": 776,
     "status": "ok",
     "timestamp": 1654103257915,
     "user": {
      "displayName": "Friedrich Kerchnawe",
      "userId": "14877452091479911141"
     },
     "user_tz": -120
    },
    "id": "971aef06",
    "outputId": "e3141c5c-47a7-448e-a0d4-1fc60fb21945"
   },
   "outputs": [
    {
     "name": "stdout",
     "output_type": "stream",
     "text": [
      "Model: \"tf_distil_bert_for_masked_lm_3\"\n",
      "_________________________________________________________________\n",
      " Layer (type)                Output Shape              Param #   \n",
      "=================================================================\n",
      " distilbert (TFDistilBertMai  multiple                 67715328  \n",
      " nLayer)                                                         \n",
      "                                                                 \n",
      " vocab_transform (Dense)     multiple                  590592    \n",
      "                                                                 \n",
      " vocab_layer_norm (LayerNorm  multiple                 1536      \n",
      " alization)                                                      \n",
      "                                                                 \n",
      " vocab_projector (TFDistilBe  multiple                 25220741  \n",
      " rtLMHead)                                                       \n",
      "                                                                 \n",
      "=================================================================\n",
      "Total params: 68,340,101\n",
      "Trainable params: 68,340,101\n",
      "Non-trainable params: 0\n",
      "_________________________________________________________________\n"
     ]
    }
   ],
   "source": [
    "model = TFDistilBertForMaskedLM(config)\n",
    "model(model.dummy_inputs)  # Builds the model\n",
    "model.summary()"
   ]
  },
  {
   "cell_type": "markdown",
   "id": "45877776",
   "metadata": {
    "id": "45877776"
   },
   "source": [
    "## Compile the model\n",
    "configure the training hyperparameters and call compile() and fit(). We’ll use a learning rate schedule with some warmup to improve the stability of training:"
   ]
  },
  {
   "cell_type": "code",
   "execution_count": null,
   "id": "aabd6b7b",
   "metadata": {
    "colab": {
     "base_uri": "https://localhost:8080/"
    },
    "executionInfo": {
     "elapsed": 44,
     "status": "ok",
     "timestamp": 1654061946877,
     "user": {
      "displayName": "Friedrich Kerchnawe",
      "userId": "14877452091479911141"
     },
     "user_tz": -120
    },
    "id": "aabd6b7b",
    "outputId": "b0af8c43-5c2f-4653-c39c-b4bd2ff8486f"
   },
   "outputs": [
    {
     "name": "stderr",
     "output_type": "stream",
     "text": [
      "No loss specified in compile() - the model's internal loss computation will be used as the loss. Don't panic - this is a common way to train TensorFlow models in Transformers! To disable this behaviour, please pass a loss argument, or explicitly pass `loss=None` if you do not want your model to compute a loss.\n"
     ]
    }
   ],
   "source": [
    "# with tensorflow\n",
    "\n",
    "from transformers import create_optimizer\n",
    "import tensorflow as tf\n",
    "\n",
    "num_train_steps = len(training_masked) #[0:100])   ## change this when training with the full data\n",
    "optimizer, schedule = create_optimizer(\n",
    "    init_lr=5e-5,\n",
    "    num_warmup_steps=1_000,\n",
    "    num_train_steps=num_train_steps,\n",
    "    weight_decay_rate=0.01,\n",
    ")\n",
    "model.compile(optimizer=optimizer)"
   ]
  },
  {
   "cell_type": "markdown",
   "id": "6b599b8a",
   "metadata": {
    "id": "6b599b8a"
   },
   "source": [
    "## Train the model"
   ]
  },
  {
   "cell_type": "code",
   "execution_count": null,
   "id": "7OGPZzhYplsM",
   "metadata": {
    "id": "7OGPZzhYplsM"
   },
   "outputs": [],
   "source": [
    "loss = []\n",
    "val_loss = []"
   ]
  },
  {
   "cell_type": "code",
   "execution_count": null,
   "id": "4HgWS5mBTNd2",
   "metadata": {
    "colab": {
     "base_uri": "https://localhost:8080/"
    },
    "executionInfo": {
     "elapsed": 36,
     "status": "ok",
     "timestamp": 1654061946883,
     "user": {
      "displayName": "Friedrich Kerchnawe",
      "userId": "14877452091479911141"
     },
     "user_tz": -120
    },
    "id": "4HgWS5mBTNd2",
    "outputId": "d2d13d47-84be-4291-cf8a-a42e1f471dc5"
   },
   "outputs": [
    {
     "data": {
      "text/plain": [
       "{'batch_size': 512,\n",
       " 'early_stop': 209018,\n",
       " 'epochs': 10,\n",
       " 'mini_batch_size': 32,\n",
       " 'nb_all_train_rows': 209018,\n",
       " 'start_row': 0,\n",
       " 'step_size': 1}"
      ]
     },
     "execution_count": 31,
     "metadata": {},
     "output_type": "execute_result"
    }
   ],
   "source": [
    "t_p = {   # training parameters\n",
    "        \"nb_all_train_rows\": len(training_masked), # rows in training data\n",
    "\n",
    "        \"mini_batch_size\": 32, # rows per mini_batch (tensorflow parameter)\n",
    "        \"batch_size\": 512, # mini_batches per batch (inner loop)\n",
    "        \"step_size\": 1, # batches per step (print progress)\n",
    "        \"epochs\": 10, # how many times full data will be processed (outer loop)\n",
    "\n",
    "        \"start_row\": 0, # for full data training: start_row = 0\n",
    "                          # for partial data training: early_stop = x (only from x. rows in data will be used for training)\n",
    "        \"early_stop\": 200, # for full data training: early_stop = nb_all_train_rows\n",
    "                           # for partial data training: early_stop = x (only x rows in data will be used for training)\n",
    "}\n",
    "t_p[\"early_stop\"] = t_p[\"nb_all_train_rows\"]\n",
    "t_p"
   ]
  },
  {
   "cell_type": "code",
   "execution_count": null,
   "id": "-s49DVl2TFBM",
   "metadata": {
    "colab": {
     "base_uri": "https://localhost:8080/"
    },
    "executionInfo": {
     "elapsed": 2439769,
     "status": "ok",
     "timestamp": 1654101621426,
     "user": {
      "displayName": "Friedrich Kerchnawe",
      "userId": "14877452091479911141"
     },
     "user_tz": -120
    },
    "id": "-s49DVl2TFBM",
    "outputId": "6b3d6c22-479a-4c4a-8c8e-fdcbf56f472d"
   },
   "outputs": [
    {
     "name": "stdout",
     "output_type": "stream",
     "text": [
      "epoch 1 / 10 , step 1 / 13\n",
      "start/end/length 0 / 16384 / 16384\n",
      "512/512 [==============================] - 293s 556ms/step - loss: 6.9761 - val_loss: 2.1796\n",
      "epoch 1 / 10 , step 2 / 13\n",
      "start/end/length 16384 / 32768 / 16384\n",
      "512/512 [==============================] - 283s 553ms/step - loss: 1.8086 - val_loss: 1.3930\n",
      "epoch 1 / 10 , step 3 / 13\n",
      "start/end/length 32768 / 49152 / 16384\n",
      "512/512 [==============================] - 283s 553ms/step - loss: 1.4177 - val_loss: 1.3575\n",
      "epoch 1 / 10 , step 4 / 13\n",
      "start/end/length 49152 / 65536 / 16384\n",
      "512/512 [==============================] - 283s 553ms/step - loss: 1.3706 - val_loss: 1.2835\n",
      "epoch 1 / 10 , step 5 / 13\n",
      "start/end/length 65536 / 81920 / 16384\n",
      "512/512 [==============================] - 283s 552ms/step - loss: 1.1685 - val_loss: 1.0409\n",
      "epoch 1 / 10 , step 6 / 13\n",
      "start/end/length 81920 / 98304 / 16384\n",
      "512/512 [==============================] - 283s 552ms/step - loss: 1.0080 - val_loss: 0.9608\n",
      "epoch 1 / 10 , step 7 / 13\n",
      "start/end/length 98304 / 114688 / 16384\n",
      "512/512 [==============================] - 283s 552ms/step - loss: 0.9535 - val_loss: 0.9230\n",
      "epoch 1 / 10 , step 8 / 13\n",
      "start/end/length 114688 / 131072 / 16384\n",
      "512/512 [==============================] - 283s 552ms/step - loss: 0.9148 - val_loss: 0.9005\n",
      "epoch 1 / 10 , step 9 / 13\n",
      "start/end/length 131072 / 147456 / 16384\n",
      "512/512 [==============================] - 283s 552ms/step - loss: 0.8976 - val_loss: 0.8845\n",
      "epoch 1 / 10 , step 10 / 13\n",
      "start/end/length 147456 / 163840 / 16384\n",
      "512/512 [==============================] - 283s 553ms/step - loss: 0.8831 - val_loss: 0.8723\n",
      "epoch 1 / 10 , step 11 / 13\n",
      "start/end/length 163840 / 180224 / 16384\n",
      "512/512 [==============================] - 283s 552ms/step - loss: 0.8701 - val_loss: 0.8619\n",
      "epoch 1 / 10 , step 12 / 13\n",
      "start/end/length 180224 / 196608 / 16384\n",
      "512/512 [==============================] - 283s 552ms/step - loss: 0.8611 - val_loss: 0.8532\n",
      "epoch 1 / 10 , step 13 / 13\n",
      "start/end/length 196608 / 209018 / 12410\n",
      "388/388 [==============================] - 238s 603ms/step - loss: 0.8519 - val_loss: 0.8474\n",
      "epoch 2 / 10 , step 1 / 13\n",
      "start/end/length 0 / 16384 / 16384\n",
      "512/512 [==============================] - 283s 552ms/step - loss: 0.8452 - val_loss: 0.8363\n",
      "epoch 2 / 10 , step 2 / 13\n",
      "start/end/length 16384 / 32768 / 16384\n",
      "512/512 [==============================] - 283s 552ms/step - loss: 0.7568 - val_loss: 0.6543\n",
      "epoch 2 / 10 , step 3 / 13\n",
      "start/end/length 32768 / 49152 / 16384\n",
      "512/512 [==============================] - 283s 552ms/step - loss: 0.6139 - val_loss: 0.5386\n",
      "epoch 2 / 10 , step 4 / 13\n",
      "start/end/length 49152 / 65536 / 16384\n",
      "512/512 [==============================] - 283s 552ms/step - loss: 0.5166 - val_loss: 0.4366\n",
      "epoch 2 / 10 , step 5 / 13\n",
      "start/end/length 65536 / 81920 / 16384\n",
      "512/512 [==============================] - 283s 552ms/step - loss: 0.4255 - val_loss: 0.3462\n",
      "epoch 2 / 10 , step 6 / 13\n",
      "start/end/length 81920 / 98304 / 16384\n",
      "512/512 [==============================] - 283s 552ms/step - loss: 0.3476 - val_loss: 0.2691\n",
      "epoch 2 / 10 , step 7 / 13\n",
      "start/end/length 98304 / 114688 / 16384\n",
      "512/512 [==============================] - 283s 552ms/step - loss: 0.2857 - val_loss: 0.2195\n",
      "epoch 2 / 10 , step 8 / 13\n",
      "start/end/length 114688 / 131072 / 16384\n",
      "512/512 [==============================] - 283s 552ms/step - loss: 0.2338 - val_loss: 0.1817\n",
      "epoch 2 / 10 , step 9 / 13\n",
      "start/end/length 131072 / 147456 / 16384\n",
      "512/512 [==============================] - 283s 552ms/step - loss: 0.2005 - val_loss: 0.1556\n",
      "epoch 2 / 10 , step 10 / 13\n",
      "start/end/length 147456 / 163840 / 16384\n",
      "512/512 [==============================] - 283s 552ms/step - loss: 0.1739 - val_loss: 0.1418\n",
      "epoch 2 / 10 , step 11 / 13\n",
      "start/end/length 163840 / 180224 / 16384\n",
      "512/512 [==============================] - 283s 552ms/step - loss: 0.1545 - val_loss: 0.1279\n",
      "epoch 2 / 10 , step 12 / 13\n",
      "start/end/length 180224 / 196608 / 16384\n",
      "512/512 [==============================] - 283s 552ms/step - loss: 0.1412 - val_loss: 0.1168\n",
      "epoch 2 / 10 , step 13 / 13\n",
      "start/end/length 196608 / 209018 / 12410\n",
      "388/388 [==============================] - 235s 605ms/step - loss: 0.1288 - val_loss: 0.1104\n",
      "epoch 3 / 10 , step 1 / 13\n",
      "start/end/length 0 / 16384 / 16384\n",
      "512/512 [==============================] - 283s 553ms/step - loss: 0.1217 - val_loss: 0.1036\n",
      "epoch 3 / 10 , step 2 / 13\n",
      "start/end/length 16384 / 32768 / 16384\n",
      "512/512 [==============================] - 283s 553ms/step - loss: 0.1134 - val_loss: 0.0995\n",
      "epoch 3 / 10 , step 3 / 13\n",
      "start/end/length 32768 / 49152 / 16384\n",
      "512/512 [==============================] - 283s 553ms/step - loss: 0.1043 - val_loss: 0.0935\n",
      "epoch 3 / 10 , step 4 / 13\n",
      "start/end/length 49152 / 65536 / 16384\n",
      "512/512 [==============================] - 283s 553ms/step - loss: 0.0987 - val_loss: 0.0874\n",
      "epoch 3 / 10 , step 5 / 13\n",
      "start/end/length 65536 / 81920 / 16384\n",
      "512/512 [==============================] - 283s 553ms/step - loss: 0.0939 - val_loss: 0.0823\n",
      "epoch 3 / 10 , step 6 / 13\n",
      "start/end/length 81920 / 98304 / 16384\n",
      "512/512 [==============================] - 283s 553ms/step - loss: 0.0887 - val_loss: 0.0785\n",
      "epoch 3 / 10 , step 7 / 13\n",
      "start/end/length 98304 / 114688 / 16384\n",
      "512/512 [==============================] - 283s 552ms/step - loss: 0.0847 - val_loss: 0.0750\n",
      "epoch 3 / 10 , step 8 / 13\n",
      "start/end/length 114688 / 131072 / 16384\n",
      "512/512 [==============================] - 283s 553ms/step - loss: 0.0801 - val_loss: 0.0726\n",
      "epoch 3 / 10 , step 9 / 13\n",
      "start/end/length 131072 / 147456 / 16384\n",
      "512/512 [==============================] - 283s 553ms/step - loss: 0.0769 - val_loss: 0.0692\n",
      "epoch 3 / 10 , step 10 / 13\n",
      "start/end/length 147456 / 163840 / 16384\n",
      "512/512 [==============================] - 283s 553ms/step - loss: 0.0742 - val_loss: 0.0692\n",
      "epoch 3 / 10 , step 11 / 13\n",
      "start/end/length 163840 / 180224 / 16384\n",
      "512/512 [==============================] - 283s 554ms/step - loss: 0.0705 - val_loss: 0.0645\n",
      "epoch 3 / 10 , step 12 / 13\n",
      "start/end/length 180224 / 196608 / 16384\n",
      "512/512 [==============================] - 283s 553ms/step - loss: 0.0683 - val_loss: 0.0642\n",
      "epoch 3 / 10 , step 13 / 13\n",
      "start/end/length 196608 / 209018 / 12410\n",
      "388/388 [==============================] - 234s 604ms/step - loss: 0.0654 - val_loss: 0.0611\n",
      "epoch 4 / 10 , step 1 / 13\n",
      "start/end/length 0 / 16384 / 16384\n",
      "512/512 [==============================] - 283s 553ms/step - loss: 0.0645 - val_loss: 0.0596\n",
      "epoch 4 / 10 , step 2 / 13\n",
      "start/end/length 16384 / 32768 / 16384\n",
      "512/512 [==============================] - 283s 553ms/step - loss: 0.0622 - val_loss: 0.0583\n",
      "epoch 4 / 10 , step 3 / 13\n",
      "start/end/length 32768 / 49152 / 16384\n",
      "512/512 [==============================] - 283s 552ms/step - loss: 0.0591 - val_loss: 0.0575\n",
      "epoch 4 / 10 , step 4 / 13\n",
      "start/end/length 49152 / 65536 / 16384\n",
      "512/512 [==============================] - 282s 552ms/step - loss: 0.0578 - val_loss: 0.0553\n",
      "epoch 4 / 10 , step 5 / 13\n",
      "start/end/length 65536 / 81920 / 16384\n",
      "512/512 [==============================] - 283s 552ms/step - loss: 0.0562 - val_loss: 0.0541\n",
      "epoch 4 / 10 , step 6 / 13\n",
      "start/end/length 81920 / 98304 / 16384\n",
      "512/512 [==============================] - 283s 552ms/step - loss: 0.0545 - val_loss: 0.0530\n",
      "epoch 4 / 10 , step 7 / 13\n",
      "start/end/length 98304 / 114688 / 16384\n",
      "512/512 [==============================] - 283s 552ms/step - loss: 0.0530 - val_loss: 0.0520\n",
      "epoch 4 / 10 , step 8 / 13\n",
      "start/end/length 114688 / 131072 / 16384\n",
      "512/512 [==============================] - 283s 553ms/step - loss: 0.0512 - val_loss: 0.0516\n",
      "epoch 4 / 10 , step 9 / 13\n",
      "start/end/length 131072 / 147456 / 16384\n",
      "512/512 [==============================] - 282s 552ms/step - loss: 0.0501 - val_loss: 0.0498\n",
      "epoch 4 / 10 , step 10 / 13\n",
      "start/end/length 147456 / 163840 / 16384\n",
      "512/512 [==============================] - 282s 552ms/step - loss: 0.0493 - val_loss: 0.0489\n",
      "epoch 4 / 10 , step 11 / 13\n",
      "start/end/length 163840 / 180224 / 16384\n",
      "512/512 [==============================] - 282s 552ms/step - loss: 0.0472 - val_loss: 0.0479\n",
      "epoch 4 / 10 , step 12 / 13\n",
      "start/end/length 180224 / 196608 / 16384\n",
      "512/512 [==============================] - 282s 551ms/step - loss: 0.0466 - val_loss: 0.0473\n",
      "epoch 4 / 10 , step 13 / 13\n",
      "start/end/length 196608 / 209018 / 12410\n",
      "388/388 [==============================] - 233s 602ms/step - loss: 0.0450 - val_loss: 0.0473\n",
      "epoch 5 / 10 , step 1 / 13\n",
      "start/end/length 0 / 16384 / 16384\n",
      "512/512 [==============================] - 282s 552ms/step - loss: 0.0447 - val_loss: 0.0458\n",
      "epoch 5 / 10 , step 2 / 13\n",
      "start/end/length 16384 / 32768 / 16384\n",
      "512/512 [==============================] - 282s 551ms/step - loss: 0.0433 - val_loss: 0.0450\n",
      "epoch 5 / 10 , step 3 / 13\n",
      "start/end/length 32768 / 49152 / 16384\n",
      "512/512 [==============================] - 282s 551ms/step - loss: 0.0417 - val_loss: 0.0442\n",
      "epoch 5 / 10 , step 4 / 13\n",
      "start/end/length 49152 / 65536 / 16384\n",
      "512/512 [==============================] - 282s 551ms/step - loss: 0.0408 - val_loss: 0.0437\n",
      "epoch 5 / 10 , step 5 / 13\n",
      "start/end/length 65536 / 81920 / 16384\n",
      "512/512 [==============================] - 282s 552ms/step - loss: 0.0400 - val_loss: 0.0428\n",
      "epoch 5 / 10 , step 6 / 13\n",
      "start/end/length 81920 / 98304 / 16384\n",
      "512/512 [==============================] - 282s 551ms/step - loss: 0.0389 - val_loss: 0.0422\n",
      "epoch 5 / 10 , step 7 / 13\n",
      "start/end/length 98304 / 114688 / 16384\n",
      "512/512 [==============================] - 282s 551ms/step - loss: 0.0382 - val_loss: 0.0423\n",
      "epoch 5 / 10 , step 8 / 13\n",
      "start/end/length 114688 / 131072 / 16384\n",
      "512/512 [==============================] - 282s 552ms/step - loss: 0.0370 - val_loss: 0.0408\n",
      "epoch 5 / 10 , step 9 / 13\n",
      "start/end/length 131072 / 147456 / 16384\n",
      "512/512 [==============================] - 282s 552ms/step - loss: 0.0362 - val_loss: 0.0408\n",
      "epoch 5 / 10 , step 10 / 13\n",
      "start/end/length 147456 / 163840 / 16384\n",
      "512/512 [==============================] - 282s 552ms/step - loss: 0.0358 - val_loss: 0.0406\n",
      "epoch 5 / 10 , step 11 / 13\n",
      "start/end/length 163840 / 180224 / 16384\n",
      "512/512 [==============================] - 282s 552ms/step - loss: 0.0345 - val_loss: 0.0399\n",
      "epoch 5 / 10 , step 12 / 13\n",
      "start/end/length 180224 / 196608 / 16384\n",
      "512/512 [==============================] - 282s 551ms/step - loss: 0.0343 - val_loss: 0.0394\n",
      "epoch 5 / 10 , step 13 / 13\n",
      "start/end/length 196608 / 209018 / 12410\n",
      "388/388 [==============================] - 233s 602ms/step - loss: 0.0330 - val_loss: 0.0391\n",
      "epoch 6 / 10 , step 1 / 13\n",
      "start/end/length 0 / 16384 / 16384\n",
      "512/512 [==============================] - 282s 552ms/step - loss: 0.0332 - val_loss: 0.0389\n",
      "epoch 6 / 10 , step 2 / 13\n",
      "start/end/length 16384 / 32768 / 16384\n",
      "512/512 [==============================] - 282s 552ms/step - loss: 0.0323 - val_loss: 0.0387\n",
      "epoch 6 / 10 , step 3 / 13\n",
      "start/end/length 32768 / 49152 / 16384\n",
      "512/512 [==============================] - 282s 552ms/step - loss: 0.0314 - val_loss: 0.0381\n",
      "epoch 6 / 10 , step 4 / 13\n",
      "start/end/length 49152 / 65536 / 16384\n",
      "512/512 [==============================] - 282s 552ms/step - loss: 0.0306 - val_loss: 0.0376\n",
      "epoch 6 / 10 , step 5 / 13\n",
      "start/end/length 65536 / 81920 / 16384\n",
      "512/512 [==============================] - 283s 552ms/step - loss: 0.0299 - val_loss: 0.0368\n",
      "epoch 6 / 10 , step 6 / 13\n",
      "start/end/length 81920 / 98304 / 16384\n",
      "512/512 [==============================] - 282s 552ms/step - loss: 0.0296 - val_loss: 0.0367\n",
      "epoch 6 / 10 , step 7 / 13\n",
      "start/end/length 98304 / 114688 / 16384\n",
      "512/512 [==============================] - 282s 552ms/step - loss: 0.0289 - val_loss: 0.0362\n",
      "epoch 6 / 10 , step 8 / 13\n",
      "start/end/length 114688 / 131072 / 16384\n",
      "512/512 [==============================] - 282s 552ms/step - loss: 0.0279 - val_loss: 0.0359\n",
      "epoch 6 / 10 , step 9 / 13\n",
      "start/end/length 131072 / 147456 / 16384\n",
      "512/512 [==============================] - 282s 552ms/step - loss: 0.0276 - val_loss: 0.0361\n",
      "epoch 6 / 10 , step 10 / 13\n",
      "start/end/length 147456 / 163840 / 16384\n",
      "512/512 [==============================] - 282s 552ms/step - loss: 0.0273 - val_loss: 0.0359\n",
      "epoch 6 / 10 , step 11 / 13\n",
      "start/end/length 163840 / 180224 / 16384\n",
      "512/512 [==============================] - 282s 552ms/step - loss: 0.0264 - val_loss: 0.0357\n",
      "epoch 6 / 10 , step 12 / 13\n",
      "start/end/length 180224 / 196608 / 16384\n",
      "512/512 [==============================] - 283s 552ms/step - loss: 0.0262 - val_loss: 0.0345\n",
      "epoch 6 / 10 , step 13 / 13\n",
      "start/end/length 196608 / 209018 / 12410\n",
      "388/388 [==============================] - 233s 602ms/step - loss: 0.0253 - val_loss: 0.0345\n",
      "epoch 7 / 10 , step 1 / 13\n",
      "start/end/length 0 / 16384 / 16384\n",
      "512/512 [==============================] - 282s 552ms/step - loss: 0.0256 - val_loss: 0.0342\n",
      "epoch 7 / 10 , step 2 / 13\n",
      "start/end/length 16384 / 32768 / 16384\n",
      "512/512 [==============================] - 282s 552ms/step - loss: 0.0249 - val_loss: 0.0345\n",
      "epoch 7 / 10 , step 3 / 13\n",
      "start/end/length 32768 / 49152 / 16384\n",
      "512/512 [==============================] - 283s 552ms/step - loss: 0.0241 - val_loss: 0.0341\n",
      "epoch 7 / 10 , step 4 / 13\n",
      "start/end/length 49152 / 65536 / 16384\n",
      "512/512 [==============================] - 283s 552ms/step - loss: 0.0238 - val_loss: 0.0335\n",
      "epoch 7 / 10 , step 5 / 13\n",
      "start/end/length 65536 / 81920 / 16384\n",
      "512/512 [==============================] - 283s 552ms/step - loss: 0.0231 - val_loss: 0.0332\n",
      "epoch 7 / 10 , step 6 / 13\n",
      "start/end/length 81920 / 98304 / 16384\n",
      "512/512 [==============================] - 282s 552ms/step - loss: 0.0229 - val_loss: 0.0336\n",
      "epoch 7 / 10 , step 7 / 13\n",
      "start/end/length 98304 / 114688 / 16384\n",
      "512/512 [==============================] - 282s 552ms/step - loss: 0.0225 - val_loss: 0.0326\n",
      "epoch 7 / 10 , step 8 / 13\n",
      "start/end/length 114688 / 131072 / 16384\n",
      "512/512 [==============================] - 283s 552ms/step - loss: 0.0218 - val_loss: 0.0329\n",
      "epoch 7 / 10 , step 9 / 13\n",
      "start/end/length 131072 / 147456 / 16384\n",
      "512/512 [==============================] - 282s 552ms/step - loss: 0.0216 - val_loss: 0.0329\n",
      "epoch 7 / 10 , step 10 / 13\n",
      "start/end/length 147456 / 163840 / 16384\n",
      "512/512 [==============================] - 282s 552ms/step - loss: 0.0213 - val_loss: 0.0325\n",
      "epoch 7 / 10 , step 11 / 13\n",
      "start/end/length 163840 / 180224 / 16384\n",
      "512/512 [==============================] - 282s 551ms/step - loss: 0.0206 - val_loss: 0.0328\n",
      "epoch 7 / 10 , step 12 / 13\n",
      "start/end/length 180224 / 196608 / 16384\n",
      "512/512 [==============================] - 282s 552ms/step - loss: 0.0205 - val_loss: 0.0321\n",
      "epoch 7 / 10 , step 13 / 13\n",
      "start/end/length 196608 / 209018 / 12410\n",
      "388/388 [==============================] - 234s 602ms/step - loss: 0.0199 - val_loss: 0.0317\n",
      "epoch 8 / 10 , step 1 / 13\n",
      "start/end/length 0 / 16384 / 16384\n",
      "512/512 [==============================] - 283s 552ms/step - loss: 0.0200 - val_loss: 0.0317\n",
      "epoch 8 / 10 , step 2 / 13\n",
      "start/end/length 16384 / 32768 / 16384\n",
      "512/512 [==============================] - 282s 552ms/step - loss: 0.0197 - val_loss: 0.0318\n",
      "epoch 8 / 10 , step 3 / 13\n",
      "start/end/length 32768 / 49152 / 16384\n",
      "512/512 [==============================] - 282s 552ms/step - loss: 0.0189 - val_loss: 0.0316\n",
      "epoch 8 / 10 , step 4 / 13\n",
      "start/end/length 49152 / 65536 / 16384\n",
      "512/512 [==============================] - 282s 552ms/step - loss: 0.0187 - val_loss: 0.0315\n",
      "epoch 8 / 10 , step 5 / 13\n",
      "start/end/length 65536 / 81920 / 16384\n",
      "512/512 [==============================] - 282s 552ms/step - loss: 0.0182 - val_loss: 0.0315\n",
      "epoch 8 / 10 , step 6 / 13\n",
      "start/end/length 81920 / 98304 / 16384\n",
      "512/512 [==============================] - 282s 552ms/step - loss: 0.0181 - val_loss: 0.0311\n",
      "epoch 8 / 10 , step 7 / 13\n",
      "start/end/length 98304 / 114688 / 16384\n",
      "512/512 [==============================] - 282s 552ms/step - loss: 0.0179 - val_loss: 0.0314\n",
      "epoch 8 / 10 , step 8 / 13\n",
      "start/end/length 114688 / 131072 / 16384\n",
      "512/512 [==============================] - 282s 551ms/step - loss: 0.0174 - val_loss: 0.0310\n",
      "epoch 8 / 10 , step 9 / 13\n",
      "start/end/length 131072 / 147456 / 16384\n",
      "512/512 [==============================] - 282s 552ms/step - loss: 0.0172 - val_loss: 0.0309\n",
      "epoch 8 / 10 , step 10 / 13\n",
      "start/end/length 147456 / 163840 / 16384\n",
      "512/512 [==============================] - 282s 552ms/step - loss: 0.0170 - val_loss: 0.0310\n",
      "epoch 8 / 10 , step 11 / 13\n",
      "start/end/length 163840 / 180224 / 16384\n",
      "512/512 [==============================] - 282s 552ms/step - loss: 0.0166 - val_loss: 0.0305\n",
      "epoch 8 / 10 , step 12 / 13\n",
      "start/end/length 180224 / 196608 / 16384\n",
      "512/512 [==============================] - 282s 552ms/step - loss: 0.0164 - val_loss: 0.0309\n",
      "epoch 8 / 10 , step 13 / 13\n",
      "start/end/length 196608 / 209018 / 12410\n",
      "388/388 [==============================] - 233s 602ms/step - loss: 0.0160 - val_loss: 0.0306\n",
      "epoch 9 / 10 , step 1 / 13\n",
      "start/end/length 0 / 16384 / 16384\n",
      "512/512 [==============================] - 283s 553ms/step - loss: 0.0160 - val_loss: 0.0306\n",
      "epoch 9 / 10 , step 2 / 13\n",
      "start/end/length 16384 / 32768 / 16384\n",
      "512/512 [==============================] - 283s 552ms/step - loss: 0.0156 - val_loss: 0.0304\n",
      "epoch 9 / 10 , step 3 / 13\n",
      "start/end/length 32768 / 49152 / 16384\n",
      "512/512 [==============================] - 283s 552ms/step - loss: 0.0153 - val_loss: 0.0301\n",
      "epoch 9 / 10 , step 4 / 13\n",
      "start/end/length 49152 / 65536 / 16384\n",
      "512/512 [==============================] - 283s 552ms/step - loss: 0.0148 - val_loss: 0.0300\n",
      "epoch 9 / 10 , step 5 / 13\n",
      "start/end/length 65536 / 81920 / 16384\n",
      "512/512 [==============================] - 283s 552ms/step - loss: 0.0146 - val_loss: 0.0300\n",
      "epoch 9 / 10 , step 6 / 13\n",
      "start/end/length 81920 / 98304 / 16384\n",
      "512/512 [==============================] - 283s 553ms/step - loss: 0.0145 - val_loss: 0.0303\n",
      "epoch 9 / 10 , step 7 / 13\n",
      "start/end/length 98304 / 114688 / 16384\n",
      "512/512 [==============================] - 283s 553ms/step - loss: 0.0143 - val_loss: 0.0301\n",
      "epoch 9 / 10 , step 8 / 13\n",
      "start/end/length 114688 / 131072 / 16384\n",
      "512/512 [==============================] - 283s 553ms/step - loss: 0.0141 - val_loss: 0.0298\n",
      "epoch 9 / 10 , step 9 / 13\n",
      "start/end/length 131072 / 147456 / 16384\n",
      "512/512 [==============================] - 283s 553ms/step - loss: 0.0137 - val_loss: 0.0300\n",
      "epoch 9 / 10 , step 10 / 13\n",
      "start/end/length 147456 / 163840 / 16384\n",
      "512/512 [==============================] - 283s 553ms/step - loss: 0.0137 - val_loss: 0.0299\n",
      "epoch 9 / 10 , step 11 / 13\n",
      "start/end/length 163840 / 180224 / 16384\n",
      "512/512 [==============================] - 283s 553ms/step - loss: 0.0132 - val_loss: 0.0296\n",
      "epoch 9 / 10 , step 12 / 13\n",
      "start/end/length 180224 / 196608 / 16384\n",
      "512/512 [==============================] - 283s 553ms/step - loss: 0.0132 - val_loss: 0.0297\n",
      "epoch 9 / 10 , step 13 / 13\n",
      "start/end/length 196608 / 209018 / 12410\n",
      "388/388 [==============================] - 234s 604ms/step - loss: 0.0128 - val_loss: 0.0295\n",
      "epoch 10 / 10 , step 1 / 13\n",
      "start/end/length 0 / 16384 / 16384\n",
      "512/512 [==============================] - 283s 553ms/step - loss: 0.0129 - val_loss: 0.0298\n",
      "epoch 10 / 10 , step 2 / 13\n",
      "start/end/length 16384 / 32768 / 16384\n",
      "512/512 [==============================] - 283s 553ms/step - loss: 0.0126 - val_loss: 0.0293\n",
      "epoch 10 / 10 , step 3 / 13\n",
      "start/end/length 32768 / 49152 / 16384\n",
      "512/512 [==============================] - 283s 553ms/step - loss: 0.0125 - val_loss: 0.0297\n",
      "epoch 10 / 10 , step 4 / 13\n",
      "start/end/length 49152 / 65536 / 16384\n",
      "512/512 [==============================] - 283s 553ms/step - loss: 0.0120 - val_loss: 0.0295\n",
      "epoch 10 / 10 , step 5 / 13\n",
      "start/end/length 65536 / 81920 / 16384\n",
      "512/512 [==============================] - 283s 553ms/step - loss: 0.0118 - val_loss: 0.0292\n",
      "epoch 10 / 10 , step 6 / 13\n",
      "start/end/length 81920 / 98304 / 16384\n",
      "512/512 [==============================] - 283s 553ms/step - loss: 0.0118 - val_loss: 0.0293\n",
      "epoch 10 / 10 , step 7 / 13\n",
      "start/end/length 98304 / 114688 / 16384\n",
      "512/512 [==============================] - 283s 553ms/step - loss: 0.0115 - val_loss: 0.0294\n",
      "epoch 10 / 10 , step 8 / 13\n",
      "start/end/length 114688 / 131072 / 16384\n",
      "512/512 [==============================] - 283s 553ms/step - loss: 0.0114 - val_loss: 0.0297\n",
      "epoch 10 / 10 , step 9 / 13\n",
      "start/end/length 131072 / 147456 / 16384\n",
      "512/512 [==============================] - 283s 553ms/step - loss: 0.0112 - val_loss: 0.0297\n",
      "epoch 10 / 10 , step 10 / 13\n",
      "start/end/length 147456 / 163840 / 16384\n",
      "512/512 [==============================] - 283s 553ms/step - loss: 0.0109 - val_loss: 0.0295\n",
      "epoch 10 / 10 , step 11 / 13\n",
      "start/end/length 163840 / 180224 / 16384\n",
      "512/512 [==============================] - 283s 553ms/step - loss: 0.0106 - val_loss: 0.0291\n",
      "epoch 10 / 10 , step 12 / 13\n",
      "start/end/length 180224 / 196608 / 16384\n",
      "512/512 [==============================] - 283s 553ms/step - loss: 0.0106 - val_loss: 0.0293\n",
      "epoch 10 / 10 , step 13 / 13\n",
      "start/end/length 196608 / 209018 / 12410\n",
      "388/388 [==============================] - 234s 604ms/step - loss: 0.0105 - val_loss: 0.0295\n",
      "--------------------------- end ---------------------------------\n"
     ]
    }
   ],
   "source": [
    "#from transformers.keras_callbacks import PushToHubCallback\n",
    "#callback = PushToHubCallback(output_dir=\"codeparrot-ds\", tokenizer=tokenizer)\n",
    "\n",
    "steps = (t_p[\"early_stop\"] - t_p[\"start_row\"]) / t_p[\"mini_batch_size\"] / t_p[\"batch_size\"] / t_p[\"step_size\"]\n",
    "if steps % 1 > 0:\n",
    "    steps = steps + 1\n",
    "steps = int(steps)\n",
    "\n",
    "for epoch in range(0,t_p[\"epochs\"]):\n",
    "    step = 0\n",
    "    for start in range(t_p[\"start_row\"], min(t_p[\"early_stop\"]+t_p[\"start_row\"], t_p[\"nb_all_train_rows\"]) , t_p[\"mini_batch_size\"] * t_p[\"batch_size\"]):\n",
    "        if step % t_p[\"step_size\"] == 0:\n",
    "            print(\"epoch\", epoch+1, \"/\", t_p[\"epochs\"], \", step\", (step // t_p[\"step_size\"]) + 1, \"/\", steps)\n",
    "        step = step + 1    \n",
    "        end = min(start + t_p[\"mini_batch_size\"] * t_p[\"batch_size\"], min(t_p[\"early_stop\"]+t_p[\"start_row\"], t_p[\"nb_all_train_rows\"])) \n",
    "        print (\"start/end/length\", start, \"/\", end, \"/\", end-start)\n",
    "        mini_batch = { 'input_ids': tf.convert_to_tensor(training_masked[start: end]),\n",
    "                      'attention_mask': tf.convert_to_tensor(training_attention_mask[start: end]),\n",
    "                      'labels': tf.convert_to_tensor(training_labels[start: end])\n",
    "         }\n",
    "\n",
    "        history = model.fit(mini_batch, validation_data=tf_val_dict, epochs=1, batch_size = t_p[\"mini_batch_size\"], verbose=1) #, callbacks=[callback])\n",
    "        loss.extend(list(history.history['loss']))\n",
    "        val_loss.extend(list(history.history['val_loss']))\n",
    "\n",
    "    save_my_model_weights() # save after each epoch\n",
    "\n",
    "print(\"--------------------------- end ---------------------------------\")"
   ]
  },
  {
   "cell_type": "markdown",
   "id": "39SNCxxIuMux",
   "metadata": {
    "id": "39SNCxxIuMux"
   },
   "source": [
    "####Plot training and validation loss per step"
   ]
  },
  {
   "cell_type": "code",
   "execution_count": null,
   "id": "K4bfxxaxthZM",
   "metadata": {
    "colab": {
     "base_uri": "https://localhost:8080/",
     "height": 606
    },
    "executionInfo": {
     "elapsed": 339,
     "status": "ok",
     "timestamp": 1654101621764,
     "user": {
      "displayName": "Friedrich Kerchnawe",
      "userId": "14877452091479911141"
     },
     "user_tz": -120
    },
    "id": "K4bfxxaxthZM",
    "outputId": "a7aecc90-2120-4cae-fcac-c76a0db16989"
   },
   "outputs": [
    {
     "data": {
      "image/png": "[encoded data removed]",
      "text/plain": [
       "<Figure size 1440x720 with 1 Axes>"
      ]
     },
     "metadata": {
      "needs_background": "light"
     },
     "output_type": "display_data"
    }
   ],
   "source": [
    "plt.rcParams[\"figure.figsize\"] = (20,10)\n",
    "plt.plot(range(1, len(loss)+1),loss)\n",
    "plt.plot(range(1, len(val_loss)+1),val_loss)\n",
    "plt.ylabel('loss')\n",
    "plt.xlabel('batches')\n",
    "plt.legend(['loss', 'val_loss'])\n",
    "plt.show()"
   ]
  },
  {
   "cell_type": "markdown",
   "id": "792279df",
   "metadata": {
    "id": "792279df"
   },
   "source": [
    "## Get an output from a pretrained model"
   ]
  },
  {
   "cell_type": "code",
   "execution_count": null,
   "id": "c809ff2a",
   "metadata": {
    "id": "c809ff2a"
   },
   "outputs": [],
   "source": [
    "def get_prediction(i, predictions):\n",
    "    probs = tf.nn.softmax(predictions[0, i])\n",
    "    result = tf.math.top_k(probs, k=3)\n",
    "    pred = [result.indices.numpy(), result.values.numpy()]\n",
    "\n",
    "    return pred"
   ]
  },
  {
   "cell_type": "markdown",
   "id": "jn-0VRwLNSXW",
   "metadata": {
    "id": "jn-0VRwLNSXW"
   },
   "source": [
    "####Restore model\n",
    "  run this only if necessary"
   ]
  },
  {
   "cell_type": "code",
   "execution_count": null,
   "id": "TSH5hwPUNigd",
   "metadata": {
    "colab": {
     "base_uri": "https://localhost:8080/",
     "height": 131
    },
    "executionInfo": {
     "elapsed": 275,
     "status": "error",
     "timestamp": 1654106912762,
     "user": {
      "displayName": "Friedrich Kerchnawe",
      "userId": "14877452091479911141"
     },
     "user_tz": -120
    },
    "id": "TSH5hwPUNigd",
    "outputId": "a9d3d0fe-d3a9-4905-9824-c82206c89e75"
   },
   "outputs": [
    {
     "ename": "SyntaxError",
     "evalue": "ignored",
     "output_type": "error",
     "traceback": [
      "\u001b[0;36m  File \u001b[0;32m\"<ipython-input-59-0b304e7d6d24>\"\u001b[0;36m, line \u001b[0;32m2\u001b[0m\n\u001b[0;31m    break # intensional break\u001b[0m\n\u001b[0m                             ^\u001b[0m\n\u001b[0;31mSyntaxError\u001b[0m\u001b[0;31m:\u001b[0m 'break' outside loop\n"
     ]
    }
   ],
   "source": [
    "# Restore the model\n",
    "break # intensional break\n",
    "\n",
    "checkpoint_name = \"TE_basic_V3-2022-06-01-15-34\" # copy paste checkpoint name \n",
    "checkpoint_dir = os.path.join(\"drive\", \"MyDrive\", \"Project TE\", \"models\", \".\", checkpoint_name)\n",
    "model.load_weights(checkpoint_dir)"
   ]
  },
  {
   "cell_type": "markdown",
   "id": "f3f10f9d",
   "metadata": {
    "id": "f3f10f9d"
   },
   "source": [
    "#### Define input: Select a single chunk input from data"
   ]
  },
  {
   "cell_type": "code",
   "execution_count": null,
   "id": "2e6d956a",
   "metadata": {
    "id": "2e6d956a"
   },
   "outputs": [],
   "source": [
    "test_element = 101\n",
    "input = validation_masked[test_element]\n",
    "target = validation_labels[test_element]"
   ]
  },
  {
   "cell_type": "markdown",
   "id": "ee2313e0",
   "metadata": {
    "id": "ee2313e0"
   },
   "source": [
    "#### Predict with the pretrained model"
   ]
  },
  {
   "cell_type": "code",
   "execution_count": null,
   "id": "8d9bc08b",
   "metadata": {
    "id": "8d9bc08b"
   },
   "outputs": [],
   "source": [
    "outputs = model(input)"
   ]
  },
  {
   "cell_type": "markdown",
   "id": "8947f1ec",
   "metadata": {
    "id": "8947f1ec"
   },
   "source": [
    "#### Evaluate the result"
   ]
  },
  {
   "cell_type": "code",
   "execution_count": null,
   "id": "35ca296e",
   "metadata": {
    "colab": {
     "base_uri": "https://localhost:8080/"
    },
    "executionInfo": {
     "elapsed": 292,
     "status": "ok",
     "timestamp": 1654103343733,
     "user": {
      "displayName": "Friedrich Kerchnawe",
      "userId": "14877452091479911141"
     },
     "user_tz": -120
    },
    "id": "35ca296e",
    "outputId": "4afa8db3-28e7-4389-c6d5-3d7a3d860cce"
   },
   "outputs": [
    {
     "data": {
      "text/plain": [
       "array([  583,   582,   581,   580,   579,     1,   577,   576,     1,\n",
       "         574,   573,   572,   571,   570,   569,   568,   567,   566,\n",
       "       10102, 17140, 10103,     1,   562,     1,  5588,   560,   559,\n",
       "         558,   557,   556,   555,   554,   553,   552,   551,   550,\n",
       "           1,   548,   547,   546,  5590,   545,     1,   543,   542,\n",
       "         541,   540,   539,     1,   537,     1,   535,   534,   533,\n",
       "           1,   531,   530,   528,   527,     1,   525,     1,   522,\n",
       "         521,   520,     1,   518,     1,   516,   515,   514,   513,\n",
       "         512,   511,   510,   509,   508,   507,   506,   505,     1,\n",
       "           1,   502,   501,   500,   499,   498,   497,     1,   495,\n",
       "         480,   479,   478,   477,   476,   475,   474,   473,   472,\n",
       "         471,   470,   469,   468,   467,     1,   465,   464,   463,\n",
       "         462,   461,   460,     1,   458,     1,   456,   455,   454,\n",
       "       10439, 10438, 10030, 10437, 10436, 10435,   453,   452,   451,\n",
       "         379,   378,   377,   376,   375,   374,   373,   372,   371,\n",
       "         370,   369,   368,   367,   366,   365,   364,  5615,  5616,\n",
       "        5617,     1,   362,   361,   360,   359], dtype=int32)"
      ]
     },
     "execution_count": 51,
     "metadata": {},
     "output_type": "execute_result"
    }
   ],
   "source": [
    "input"
   ]
  },
  {
   "cell_type": "code",
   "execution_count": null,
   "id": "8318467e",
   "metadata": {
    "colab": {
     "base_uri": "https://localhost:8080/"
    },
    "executionInfo": {
     "elapsed": 291,
     "status": "ok",
     "timestamp": 1654103346763,
     "user": {
      "displayName": "Friedrich Kerchnawe",
      "userId": "14877452091479911141"
     },
     "user_tz": -120
    },
    "id": "8318467e",
    "outputId": "fdd6326f-8c88-4206-b9ae-361fcab791e8"
   },
   "outputs": [
    {
     "data": {
      "text/plain": [
       "array([  583,   582,   581,   580,   579,   578,   577,   576,   575,\n",
       "         574,   573,   572,   571,   570,   569,   568,   567,   566,\n",
       "       10102, 17140, 10103,   564,   562,   561,  5588,   560,   559,\n",
       "         558,   557,   556,   555,   554,   553,   552,   551,   550,\n",
       "         549,   548,   547,   546,  5590,   545,   544,   543,   542,\n",
       "         541,   540,   539,   538,   537,   536,   535,   534,   533,\n",
       "         532,   531,   530,   528,   527,   526,   525,   524,   522,\n",
       "         521,   520,   519,   518,   517,   516,   515,   514,   513,\n",
       "         512,   511,   510,   509,   508,   507,   506,   505,   504,\n",
       "         503,   502,   501,   500,   499,   498,   497,   496,   495,\n",
       "         480,   479,   478,   477,   476,   475,   474,   473,   472,\n",
       "         471,   470,   469,   468,   467,   466,   465,   464,   463,\n",
       "         462,   461,   460,   459,   458,   457,   456,   455,   454,\n",
       "       10439, 10438, 10030, 10437, 10436, 10435,   453,   452,   451,\n",
       "         379,   378,   377,   376,   375,   374,   373,   372,   371,\n",
       "         370,   369,   368,   367,   366,   365,   364,  5615,  5616,\n",
       "        5617,   363,   362,   361,   360,   359], dtype=int32)"
      ]
     },
     "execution_count": 52,
     "metadata": {},
     "output_type": "execute_result"
    }
   ],
   "source": [
    "target"
   ]
  },
  {
   "cell_type": "code",
   "execution_count": null,
   "id": "7ee977e9",
   "metadata": {
    "colab": {
     "base_uri": "https://localhost:8080/"
    },
    "executionInfo": {
     "elapsed": 272,
     "status": "ok",
     "timestamp": 1654103350344,
     "user": {
      "displayName": "Friedrich Kerchnawe",
      "userId": "14877452091479911141"
     },
     "user_tz": -120
    },
    "id": "7ee977e9",
    "outputId": "bce50b70-2019-41ec-e275-54f4a2e51e89"
   },
   "outputs": [
    {
     "name": "stdout",
     "output_type": "stream",
     "text": [
      "at position:  5 \n",
      "\tprediction is: [ 578 7462  580] \n",
      "\tweight is: [9.9997699e-01 1.3225922e-05 2.3608502e-06] \n",
      "\ttarget was:  578\n",
      "at position:  8 \n",
      "\tprediction is: [ 575  572 6754] \n",
      "\tweight is: [9.9984205e-01 2.4215751e-05 1.8149080e-05] \n",
      "\ttarget was:  575\n",
      "at position:  21 \n",
      "\tprediction is: [  564   565 10102] \n",
      "\tweight is: [0.9384317  0.03020885 0.01044601] \n",
      "\ttarget was:  564\n",
      "at position:  23 \n",
      "\tprediction is: [ 561 1249  563] \n",
      "\tweight is: [0.99263424 0.00458285 0.00133898] \n",
      "\ttarget was:  561\n",
      "at position:  36 \n",
      "\tprediction is: [549 546 544] \n",
      "\tweight is: [9.9992681e-01 5.7362617e-05 8.8635232e-07] \n",
      "\ttarget was:  549\n",
      "at position:  42 \n",
      "\tprediction is: [ 544 5595 1207] \n",
      "\tweight is: [9.9993753e-01 2.9643656e-05 5.2396913e-06] \n",
      "\ttarget was:  544\n",
      "at position:  48 \n",
      "\tprediction is: [538 535 409] \n",
      "\tweight is: [9.9999917e-01 1.6845767e-07 1.6421546e-07] \n",
      "\ttarget was:  538\n",
      "at position:  50 \n",
      "\tprediction is: [536 533 538] \n",
      "\tweight is: [9.9999726e-01 8.5119842e-07 3.4050032e-07] \n",
      "\ttarget was:  536\n",
      "at position:  54 \n",
      "\tprediction is: [532 530 535] \n",
      "\tweight is: [9.9999642e-01 1.4066225e-06 6.8807043e-07] \n",
      "\ttarget was:  532\n",
      "at position:  59 \n",
      "\tprediction is: [  526   524 30434] \n",
      "\tweight is: [9.9983275e-01 1.2979915e-04 8.5820593e-06] \n",
      "\ttarget was:  526\n",
      "at position:  61 \n",
      "\tprediction is: [524 523 521] \n",
      "\tweight is: [7.8048927e-01 2.1927880e-01 9.6328200e-05] \n",
      "\ttarget was:  524\n",
      "at position:  65 \n",
      "\tprediction is: [ 519 1207  517] \n",
      "\tweight is: [9.999629e-01 9.406633e-06 8.203664e-06] \n",
      "\ttarget was:  519\n",
      "at position:  67 \n",
      "\tprediction is: [  517   519 14187] \n",
      "\tweight is: [9.997584e-01 1.865370e-04 3.114425e-05] \n",
      "\ttarget was:  517\n",
      "at position:  80 \n",
      "\tprediction is: [ 504  503 8631] \n",
      "\tweight is: [9.9732792e-01 2.6592733e-03 2.6608905e-06] \n",
      "\ttarget was:  504\n",
      "at position:  81 \n",
      "\tprediction is: [503 504 501] \n",
      "\tweight is: [9.9999619e-01 9.8120722e-07 5.7721815e-07] \n",
      "\ttarget was:  503\n",
      "at position:  88 \n",
      "\tprediction is: [  496  9208 10534] \n",
      "\tweight is: [9.9993443e-01 2.3078574e-05 1.1700360e-05] \n",
      "\ttarget was:  496\n",
      "at position:  104 \n",
      "\tprediction is: [466 468 464] \n",
      "\tweight is: [9.9998200e-01 1.6328459e-05 3.6144547e-07] \n",
      "\ttarget was:  466\n",
      "at position:  111 \n",
      "\tprediction is: [ 459 5943  457] \n",
      "\tweight is: [9.9987519e-01 4.1436215e-05 3.4724824e-05] \n",
      "\ttarget was:  459\n",
      "at position:  113 \n",
      "\tprediction is: [ 457 7462 6331] \n",
      "\tweight is: [9.9997544e-01 6.0457214e-06 3.3831825e-06] \n",
      "\ttarget was:  457\n",
      "at position:  145 \n",
      "\tprediction is: [  363 11736  6303] \n",
      "\tweight is: [9.9999321e-01 2.6247674e-06 8.1891102e-07] \n",
      "\ttarget was:  363\n"
     ]
    }
   ],
   "source": [
    "i = 0\n",
    "for x in input:\n",
    "    if x == 1:\n",
    "        print(\"at position: \", i, \n",
    "              \"\\n\\tprediction is:\", get_prediction(i, outputs[0])[0],\n",
    "              \"\\n\\tweight is:\", get_prediction(i, outputs[0])[1],\n",
    "              \"\\n\\ttarget was: \", target[i])\n",
    "    i = i+1\n",
    "            "
   ]
  },
  {
   "cell_type": "markdown",
   "id": "ca2e1763",
   "metadata": {
    "id": "ca2e1763"
   },
   "source": [
    "## Log in to huggingface"
   ]
  },
  {
   "cell_type": "markdown",
   "id": "c43a9295",
   "metadata": {
    "id": "c43a9295"
   },
   "source": [
    "from huggingface_hub import notebook_login\n",
    "\n",
    "notebook_login()"
   ]
  },
  {
   "cell_type": "code",
   "execution_count": null,
   "id": "SYcOj9jdP5ky",
   "metadata": {
    "colab": {
     "base_uri": "https://localhost:8080/",
     "height": 387,
     "referenced_widgets": [
      "01f6db34d65d4ca6894d3ff0c87862a3",
      "bc23dd8867e94617818f49ebb8fa23b2",
      "e84bfdd29dd54883a92efec2ce708b2c",
      "2f9d5271e12e432fa01b3af0cdf9a745",
      "80a9b310da8a4c6782a43601721c420f",
      "a0fdb777432c49f592979247173120e1",
      "68a1be4d729c4e48a31f191fd3e87335",
      "33d63377ddf2410a8f2f9fbe0628a215",
      "f3afd874255b485fbdc7946f65be5959",
      "c38f28a89a3742fba3f644a9d92e55b7",
      "ed953e50265a40bbbb3bbd6c8dd3a519",
      "530cca82fd47481fa3657907043c6a69",
      "fc0dc89877724ed6a21e622725580368",
      "125b80e8cfd5472789079037cd48653a",
      "6da0826233fc40e589c452940b097fff",
      "bbe2ddf4f4eb4f8fb736d58f453ac411",
      "a6ad3363164941eab1bc8ba9f41fbaf9"
     ]
    },
    "executionInfo": {
     "elapsed": 313,
     "status": "ok",
     "timestamp": 1654103364538,
     "user": {
      "displayName": "Friedrich Kerchnawe",
      "userId": "14877452091479911141"
     },
     "user_tz": -120
    },
    "id": "SYcOj9jdP5ky",
    "outputId": "8d760eca-a071-4f3d-9f0a-3049f41db4c5"
   },
   "outputs": [
    {
     "name": "stdout",
     "output_type": "stream",
     "text": [
      "Login successful\n",
      "Your token has been saved to /root/.huggingface/token\n",
      "\u001b[1m\u001b[31mAuthenticated through git-credential store but this isn't the helper defined on your machine.\n",
      "You might have to re-authenticate when pushing to the Hugging Face Hub. Run the following command in your terminal in case you want to set this credential helper as the default\n",
      "\n",
      "git config --global credential.helper store\u001b[0m\n"
     ]
    }
   ],
   "source": [
    "from huggingface_hub import notebook_login\n",
    "\n",
    "notebook_login()"
   ]
  },
  {
   "cell_type": "markdown",
   "id": "qfFLSrd7QMoS",
   "metadata": {
    "id": "qfFLSrd7QMoS"
   },
   "source": [
    "#### Push the model to hub"
   ]
  },
  {
   "cell_type": "code",
   "execution_count": null,
   "id": "00y9Um6JP8cj",
   "metadata": {
    "colab": {
     "base_uri": "https://localhost:8080/",
     "height": 261,
     "referenced_widgets": [
      "f0227269da10484b9e2f13fdd0f19370",
      "853dc9f08ba44a02b0fcd27b1ccb9181",
      "93d87fcf11b5423ca3657b2f587ae164",
      "89c97bbc1bf94ce6a948bd4a6e7aebd3",
      "02301f8eeb33460ea803b364f59c5ae1",
      "20d3c94222c34843b05518377890f17f",
      "c5d6bdb2649542f89a7600cf13458740",
      "5deacbeca75844a9bc9ad96a9134ce87",
      "59c6d860cd2c49058b72fdcaa01094d9",
      "2a8a51417ba44002997df5bc4cdf1fd0",
      "ee1a9a59641c4c02b18f34b2122d850e"
     ]
    },
    "executionInfo": {
     "elapsed": 314224,
     "status": "ok",
     "timestamp": 1654103743797,
     "user": {
      "displayName": "Friedrich Kerchnawe",
      "userId": "14877452091479911141"
     },
     "user_tz": -120
    },
    "id": "00y9Um6JP8cj",
    "outputId": "98ff3ef1-f9df-48dc-fe55-4d153a89c2c8"
   },
   "outputs": [
    {
     "name": "stderr",
     "output_type": "stream",
     "text": [
      "/usr/local/lib/python3.7/dist-packages/huggingface_hub/utils/_deprecation.py:43: FutureWarning: Pass token='TEdetection_distiBERT_mLM_V2' as keyword args. From version 0.8 passing these as positional arguments will result in an error\n",
      "  FutureWarning,\n",
      "/usr/local/lib/python3.7/dist-packages/huggingface_hub/hf_api.py:676: FutureWarning: `create_repo` now takes `token` as an optional positional argument. Be sure to adapt your code!\n",
      "  FutureWarning,\n",
      "Cloning https://huggingface.co/FritzOS/TEdetection_distiBERT_mLM_V2 into local empty directory.\n"
     ]
    },
    {
     "data": {
      "application/vnd.jupyter.widget-view+json": {
       "model_id": "f0227269da10484b9e2f13fdd0f19370",
       "version_major": 2,
       "version_minor": 0
      },
      "text/plain": [
       "Upload file tf_model.h5:   0%|          | 3.34k/357M [00:00<?, ?B/s]"
      ]
     },
     "metadata": {},
     "output_type": "display_data"
    },
    {
     "name": "stderr",
     "output_type": "stream",
     "text": [
      "remote: Enforcing permissions...        \n",
      "remote: Allowed refs: all        \n",
      "To https://huggingface.co/FritzOS/TEdetection_distiBERT_mLM_V2\n",
      "   e95f822..aaebda3  main -> main\n",
      "\n"
     ]
    },
    {
     "data": {
      "application/vnd.google.colaboratory.intrinsic+json": {
       "type": "string"
      },
      "text/plain": [
       "'https://huggingface.co/FritzOS/TEdetection_distiBERT_mLM_V2/commit/aaebda3b3f120ffd62ed8dbd3d9fd815c224e2b5'"
      ]
     },
     "execution_count": 57,
     "metadata": {},
     "output_type": "execute_result"
    }
   ],
   "source": [
    "from transformers import AutoModel\n",
    "\n",
    "# Push the model to your namespace with the name model_name and have a local clone in the\n",
    "# *model_name* folder.\n",
    "model.push_to_hub(model_name, use_auth_token=\"...\")"
   ]
  }
 ],
 "metadata": {
  "accelerator": "GPU",
  "colab": {
   "background_execution": "on",
   "collapsed_sections": [],
   "name": "train_TEdetection_distiBERT_mLM_V2.ipynb",
   "provenance": [
    {
     "file_id": "1FHIRGODDg-yA_yckehXKrkr5HQ48Yumx",
     "timestamp": 1654106979241
    },
    {
     "file_id": "1-5o-ERtt2pRedlWPah9rt90P0Oyg39H2",
     "timestamp": 1653673776612
    }
   ]
  },
  "kernelspec": {
   "display_name": "Python 3 (ipykernel)",
   "language": "python",
   "name": "python3"
  },
  "language_info": {
   "codemirror_mode": {
    "name": "ipython",
    "version": 3
   },
   "file_extension": ".py",
   "mimetype": "text/x-python",
   "name": "python",
   "nbconvert_exporter": "python",
   "pygments_lexer": "ipython3",
   "version": "3.10.4"
  },
  "widgets": {
   "application/vnd.jupyter.widget-state+json": {
    "01f6db34d65d4ca6894d3ff0c87862a3": {
     "model_module": "@jupyter-widgets/controls",
     "model_module_version": "1.5.0",
     "model_name": "VBoxModel",
     "state": {
      "_dom_classes": [],
      "_model_module": "@jupyter-widgets/controls",
      "_model_module_version": "1.5.0",
      "_model_name": "VBoxModel",
      "_view_count": null,
      "_view_module": "@jupyter-widgets/controls",
      "_view_module_version": "1.5.0",
      "_view_name": "VBoxView",
      "box_style": "",
      "children": [
       "IPY_MODEL_bc23dd8867e94617818f49ebb8fa23b2",
       "IPY_MODEL_e84bfdd29dd54883a92efec2ce708b2c",
       "IPY_MODEL_2f9d5271e12e432fa01b3af0cdf9a745",
       "IPY_MODEL_80a9b310da8a4c6782a43601721c420f",
       "IPY_MODEL_a0fdb777432c49f592979247173120e1"
      ],
      "layout": "IPY_MODEL_68a1be4d729c4e48a31f191fd3e87335"
     }
    },
    "02301f8eeb33460ea803b364f59c5ae1": {
     "model_module": "@jupyter-widgets/base",
     "model_module_version": "1.2.0",
     "model_name": "LayoutModel",
     "state": {
      "_model_module": "@jupyter-widgets/base",
      "_model_module_version": "1.2.0",
      "_model_name": "LayoutModel",
      "_view_count": null,
      "_view_module": "@jupyter-widgets/base",
      "_view_module_version": "1.2.0",
      "_view_name": "LayoutView",
      "align_content": null,
      "align_items": null,
      "align_self": null,
      "border": null,
      "bottom": null,
      "display": null,
      "flex": null,
      "flex_flow": null,
      "grid_area": null,
      "grid_auto_columns": null,
      "grid_auto_flow": null,
      "grid_auto_rows": null,
      "grid_column": null,
      "grid_gap": null,
      "grid_row": null,
      "grid_template_areas": null,
      "grid_template_columns": null,
      "grid_template_rows": null,
      "height": null,
      "justify_content": null,
      "justify_items": null,
      "left": null,
      "margin": null,
      "max_height": null,
      "max_width": null,
      "min_height": null,
      "min_width": null,
      "object_fit": null,
      "object_position": null,
      "order": null,
      "overflow": null,
      "overflow_x": null,
      "overflow_y": null,
      "padding": null,
      "right": null,
      "top": null,
      "visibility": null,
      "width": null
     }
    },
    "125b80e8cfd5472789079037cd48653a": {
     "model_module": "@jupyter-widgets/base",
     "model_module_version": "1.2.0",
     "model_name": "LayoutModel",
     "state": {
      "_model_module": "@jupyter-widgets/base",
      "_model_module_version": "1.2.0",
      "_model_name": "LayoutModel",
      "_view_count": null,
      "_view_module": "@jupyter-widgets/base",
      "_view_module_version": "1.2.0",
      "_view_name": "LayoutView",
      "align_content": null,
      "align_items": null,
      "align_self": null,
      "border": null,
      "bottom": null,
      "display": null,
      "flex": null,
      "flex_flow": null,
      "grid_area": null,
      "grid_auto_columns": null,
      "grid_auto_flow": null,
      "grid_auto_rows": null,
      "grid_column": null,
      "grid_gap": null,
      "grid_row": null,
      "grid_template_areas": null,
      "grid_template_columns": null,
      "grid_template_rows": null,
      "height": null,
      "justify_content": null,
      "justify_items": null,
      "left": null,
      "margin": null,
      "max_height": null,
      "max_width": null,
      "min_height": null,
      "min_width": null,
      "object_fit": null,
      "object_position": null,
      "order": null,
      "overflow": null,
      "overflow_x": null,
      "overflow_y": null,
      "padding": null,
      "right": null,
      "top": null,
      "visibility": null,
      "width": null
     }
    },
    "20d3c94222c34843b05518377890f17f": {
     "model_module": "@jupyter-widgets/base",
     "model_module_version": "1.2.0",
     "model_name": "LayoutModel",
     "state": {
      "_model_module": "@jupyter-widgets/base",
      "_model_module_version": "1.2.0",
      "_model_name": "LayoutModel",
      "_view_count": null,
      "_view_module": "@jupyter-widgets/base",
      "_view_module_version": "1.2.0",
      "_view_name": "LayoutView",
      "align_content": null,
      "align_items": null,
      "align_self": null,
      "border": null,
      "bottom": null,
      "display": null,
      "flex": null,
      "flex_flow": null,
      "grid_area": null,
      "grid_auto_columns": null,
      "grid_auto_flow": null,
      "grid_auto_rows": null,
      "grid_column": null,
      "grid_gap": null,
      "grid_row": null,
      "grid_template_areas": null,
      "grid_template_columns": null,
      "grid_template_rows": null,
      "height": null,
      "justify_content": null,
      "justify_items": null,
      "left": null,
      "margin": null,
      "max_height": null,
      "max_width": null,
      "min_height": null,
      "min_width": null,
      "object_fit": null,
      "object_position": null,
      "order": null,
      "overflow": null,
      "overflow_x": null,
      "overflow_y": null,
      "padding": null,
      "right": null,
      "top": null,
      "visibility": null,
      "width": null
     }
    },
    "2a8a51417ba44002997df5bc4cdf1fd0": {
     "model_module": "@jupyter-widgets/base",
     "model_module_version": "1.2.0",
     "model_name": "LayoutModel",
     "state": {
      "_model_module": "@jupyter-widgets/base",
      "_model_module_version": "1.2.0",
      "_model_name": "LayoutModel",
      "_view_count": null,
      "_view_module": "@jupyter-widgets/base",
      "_view_module_version": "1.2.0",
      "_view_name": "LayoutView",
      "align_content": null,
      "align_items": null,
      "align_self": null,
      "border": null,
      "bottom": null,
      "display": null,
      "flex": null,
      "flex_flow": null,
      "grid_area": null,
      "grid_auto_columns": null,
      "grid_auto_flow": null,
      "grid_auto_rows": null,
      "grid_column": null,
      "grid_gap": null,
      "grid_row": null,
      "grid_template_areas": null,
      "grid_template_columns": null,
      "grid_template_rows": null,
      "height": null,
      "justify_content": null,
      "justify_items": null,
      "left": null,
      "margin": null,
      "max_height": null,
      "max_width": null,
      "min_height": null,
      "min_width": null,
      "object_fit": null,
      "object_position": null,
      "order": null,
      "overflow": null,
      "overflow_x": null,
      "overflow_y": null,
      "padding": null,
      "right": null,
      "top": null,
      "visibility": null,
      "width": null
     }
    },
    "2f9d5271e12e432fa01b3af0cdf9a745": {
     "model_module": "@jupyter-widgets/controls",
     "model_module_version": "1.5.0",
     "model_name": "ButtonModel",
     "state": {
      "_dom_classes": [],
      "_model_module": "@jupyter-widgets/controls",
      "_model_module_version": "1.5.0",
      "_model_name": "ButtonModel",
      "_view_count": null,
      "_view_module": "@jupyter-widgets/controls",
      "_view_module_version": "1.5.0",
      "_view_name": "ButtonView",
      "button_style": "",
      "description": "Login",
      "disabled": false,
      "icon": "",
      "layout": "IPY_MODEL_530cca82fd47481fa3657907043c6a69",
      "style": "IPY_MODEL_fc0dc89877724ed6a21e622725580368",
      "tooltip": ""
     }
    },
    "33d63377ddf2410a8f2f9fbe0628a215": {
     "model_module": "@jupyter-widgets/base",
     "model_module_version": "1.2.0",
     "model_name": "LayoutModel",
     "state": {
      "_model_module": "@jupyter-widgets/base",
      "_model_module_version": "1.2.0",
      "_model_name": "LayoutModel",
      "_view_count": null,
      "_view_module": "@jupyter-widgets/base",
      "_view_module_version": "1.2.0",
      "_view_name": "LayoutView",
      "align_content": null,
      "align_items": null,
      "align_self": null,
      "border": null,
      "bottom": null,
      "display": null,
      "flex": null,
      "flex_flow": null,
      "grid_area": null,
      "grid_auto_columns": null,
      "grid_auto_flow": null,
      "grid_auto_rows": null,
      "grid_column": null,
      "grid_gap": null,
      "grid_row": null,
      "grid_template_areas": null,
      "grid_template_columns": null,
      "grid_template_rows": null,
      "height": null,
      "justify_content": null,
      "justify_items": null,
      "left": null,
      "margin": null,
      "max_height": null,
      "max_width": null,
      "min_height": null,
      "min_width": null,
      "object_fit": null,
      "object_position": null,
      "order": null,
      "overflow": null,
      "overflow_x": null,
      "overflow_y": null,
      "padding": null,
      "right": null,
      "top": null,
      "visibility": null,
      "width": null
     }
    },
    "530cca82fd47481fa3657907043c6a69": {
     "model_module": "@jupyter-widgets/base",
     "model_module_version": "1.2.0",
     "model_name": "LayoutModel",
     "state": {
      "_model_module": "@jupyter-widgets/base",
      "_model_module_version": "1.2.0",
      "_model_name": "LayoutModel",
      "_view_count": null,
      "_view_module": "@jupyter-widgets/base",
      "_view_module_version": "1.2.0",
      "_view_name": "LayoutView",
      "align_content": null,
      "align_items": null,
      "align_self": null,
      "border": null,
      "bottom": null,
      "display": null,
      "flex": null,
      "flex_flow": null,
      "grid_area": null,
      "grid_auto_columns": null,
      "grid_auto_flow": null,
      "grid_auto_rows": null,
      "grid_column": null,
      "grid_gap": null,
      "grid_row": null,
      "grid_template_areas": null,
      "grid_template_columns": null,
      "grid_template_rows": null,
      "height": null,
      "justify_content": null,
      "justify_items": null,
      "left": null,
      "margin": null,
      "max_height": null,
      "max_width": null,
      "min_height": null,
      "min_width": null,
      "object_fit": null,
      "object_position": null,
      "order": null,
      "overflow": null,
      "overflow_x": null,
      "overflow_y": null,
      "padding": null,
      "right": null,
      "top": null,
      "visibility": null,
      "width": null
     }
    },
    "59c6d860cd2c49058b72fdcaa01094d9": {
     "model_module": "@jupyter-widgets/controls",
     "model_module_version": "1.5.0",
     "model_name": "ProgressStyleModel",
     "state": {
      "_model_module": "@jupyter-widgets/controls",
      "_model_module_version": "1.5.0",
      "_model_name": "ProgressStyleModel",
      "_view_count": null,
      "_view_module": "@jupyter-widgets/base",
      "_view_module_version": "1.2.0",
      "_view_name": "StyleView",
      "bar_color": null,
      "description_width": ""
     }
    },
    "5deacbeca75844a9bc9ad96a9134ce87": {
     "model_module": "@jupyter-widgets/base",
     "model_module_version": "1.2.0",
     "model_name": "LayoutModel",
     "state": {
      "_model_module": "@jupyter-widgets/base",
      "_model_module_version": "1.2.0",
      "_model_name": "LayoutModel",
      "_view_count": null,
      "_view_module": "@jupyter-widgets/base",
      "_view_module_version": "1.2.0",
      "_view_name": "LayoutView",
      "align_content": null,
      "align_items": null,
      "align_self": null,
      "border": null,
      "bottom": null,
      "display": null,
      "flex": null,
      "flex_flow": null,
      "grid_area": null,
      "grid_auto_columns": null,
      "grid_auto_flow": null,
      "grid_auto_rows": null,
      "grid_column": null,
      "grid_gap": null,
      "grid_row": null,
      "grid_template_areas": null,
      "grid_template_columns": null,
      "grid_template_rows": null,
      "height": null,
      "justify_content": null,
      "justify_items": null,
      "left": null,
      "margin": null,
      "max_height": null,
      "max_width": null,
      "min_height": null,
      "min_width": null,
      "object_fit": null,
      "object_position": null,
      "order": null,
      "overflow": null,
      "overflow_x": null,
      "overflow_y": null,
      "padding": null,
      "right": null,
      "top": null,
      "visibility": null,
      "width": null
     }
    },
    "68a1be4d729c4e48a31f191fd3e87335": {
     "model_module": "@jupyter-widgets/base",
     "model_module_version": "1.2.0",
     "model_name": "LayoutModel",
     "state": {
      "_model_module": "@jupyter-widgets/base",
      "_model_module_version": "1.2.0",
      "_model_name": "LayoutModel",
      "_view_count": null,
      "_view_module": "@jupyter-widgets/base",
      "_view_module_version": "1.2.0",
      "_view_name": "LayoutView",
      "align_content": null,
      "align_items": "center",
      "align_self": null,
      "border": null,
      "bottom": null,
      "display": "flex",
      "flex": null,
      "flex_flow": "column",
      "grid_area": null,
      "grid_auto_columns": null,
      "grid_auto_flow": null,
      "grid_auto_rows": null,
      "grid_column": null,
      "grid_gap": null,
      "grid_row": null,
      "grid_template_areas": null,
      "grid_template_columns": null,
      "grid_template_rows": null,
      "height": null,
      "justify_content": null,
      "justify_items": null,
      "left": null,
      "margin": null,
      "max_height": null,
      "max_width": null,
      "min_height": null,
      "min_width": null,
      "object_fit": null,
      "object_position": null,
      "order": null,
      "overflow": null,
      "overflow_x": null,
      "overflow_y": null,
      "padding": null,
      "right": null,
      "top": null,
      "visibility": null,
      "width": "50%"
     }
    },
    "6da0826233fc40e589c452940b097fff": {
     "model_module": "@jupyter-widgets/controls",
     "model_module_version": "1.5.0",
     "model_name": "DescriptionStyleModel",
     "state": {
      "_model_module": "@jupyter-widgets/controls",
      "_model_module_version": "1.5.0",
      "_model_name": "DescriptionStyleModel",
      "_view_count": null,
      "_view_module": "@jupyter-widgets/base",
      "_view_module_version": "1.2.0",
      "_view_name": "StyleView",
      "description_width": ""
     }
    },
    "80a9b310da8a4c6782a43601721c420f": {
     "model_module": "@jupyter-widgets/controls",
     "model_module_version": "1.5.0",
     "model_name": "HTMLModel",
     "state": {
      "_dom_classes": [],
      "_model_module": "@jupyter-widgets/controls",
      "_model_module_version": "1.5.0",
      "_model_name": "HTMLModel",
      "_view_count": null,
      "_view_module": "@jupyter-widgets/controls",
      "_view_module_version": "1.5.0",
      "_view_name": "HTMLView",
      "description": "",
      "description_tooltip": null,
      "layout": "IPY_MODEL_125b80e8cfd5472789079037cd48653a",
      "placeholder": "​",
      "style": "IPY_MODEL_6da0826233fc40e589c452940b097fff",
      "value": "\n<b>Pro Tip:</b> If you don't already have one, you can create a dedicated\n'notebooks' token with 'write' access, that you can then easily reuse for all\nnotebooks. <br> <i>Logging in with your username and password is deprecated and\nwon't be possible anymore in the near future. You can still use them for now by\nclicking below.</i> </center>"
     }
    },
    "853dc9f08ba44a02b0fcd27b1ccb9181": {
     "model_module": "@jupyter-widgets/controls",
     "model_module_version": "1.5.0",
     "model_name": "HTMLModel",
     "state": {
      "_dom_classes": [],
      "_model_module": "@jupyter-widgets/controls",
      "_model_module_version": "1.5.0",
      "_model_name": "HTMLModel",
      "_view_count": null,
      "_view_module": "@jupyter-widgets/controls",
      "_view_module_version": "1.5.0",
      "_view_name": "HTMLView",
      "description": "",
      "description_tooltip": null,
      "layout": "IPY_MODEL_20d3c94222c34843b05518377890f17f",
      "placeholder": "​",
      "style": "IPY_MODEL_c5d6bdb2649542f89a7600cf13458740",
      "value": "Upload file tf_model.h5: 100%"
     }
    },
    "89c97bbc1bf94ce6a948bd4a6e7aebd3": {
     "model_module": "@jupyter-widgets/controls",
     "model_module_version": "1.5.0",
     "model_name": "HTMLModel",
     "state": {
      "_dom_classes": [],
      "_model_module": "@jupyter-widgets/controls",
      "_model_module_version": "1.5.0",
      "_model_name": "HTMLModel",
      "_view_count": null,
      "_view_module": "@jupyter-widgets/controls",
      "_view_module_version": "1.5.0",
      "_view_name": "HTMLView",
      "description": "",
      "description_tooltip": null,
      "layout": "IPY_MODEL_2a8a51417ba44002997df5bc4cdf1fd0",
      "placeholder": "​",
      "style": "IPY_MODEL_ee1a9a59641c4c02b18f34b2122d850e",
      "value": " 357M/357M [04:51&lt;00:00, 744kB/s]"
     }
    },
    "93d87fcf11b5423ca3657b2f587ae164": {
     "model_module": "@jupyter-widgets/controls",
     "model_module_version": "1.5.0",
     "model_name": "FloatProgressModel",
     "state": {
      "_dom_classes": [],
      "_model_module": "@jupyter-widgets/controls",
      "_model_module_version": "1.5.0",
      "_model_name": "FloatProgressModel",
      "_view_count": null,
      "_view_module": "@jupyter-widgets/controls",
      "_view_module_version": "1.5.0",
      "_view_name": "ProgressView",
      "bar_style": "success",
      "description": "",
      "description_tooltip": null,
      "layout": "IPY_MODEL_5deacbeca75844a9bc9ad96a9134ce87",
      "max": 374251756,
      "min": 0,
      "orientation": "horizontal",
      "style": "IPY_MODEL_59c6d860cd2c49058b72fdcaa01094d9",
      "value": 374251756
     }
    },
    "a0fdb777432c49f592979247173120e1": {
     "model_module": "@jupyter-widgets/controls",
     "model_module_version": "1.5.0",
     "model_name": "ButtonModel",
     "state": {
      "_dom_classes": [],
      "_model_module": "@jupyter-widgets/controls",
      "_model_module_version": "1.5.0",
      "_model_name": "ButtonModel",
      "_view_count": null,
      "_view_module": "@jupyter-widgets/controls",
      "_view_module_version": "1.5.0",
      "_view_name": "ButtonView",
      "button_style": "",
      "description": "Use password",
      "disabled": false,
      "icon": "",
      "layout": "IPY_MODEL_bbe2ddf4f4eb4f8fb736d58f453ac411",
      "style": "IPY_MODEL_a6ad3363164941eab1bc8ba9f41fbaf9",
      "tooltip": ""
     }
    },
    "a6ad3363164941eab1bc8ba9f41fbaf9": {
     "model_module": "@jupyter-widgets/controls",
     "model_module_version": "1.5.0",
     "model_name": "ButtonStyleModel",
     "state": {
      "_model_module": "@jupyter-widgets/controls",
      "_model_module_version": "1.5.0",
      "_model_name": "ButtonStyleModel",
      "_view_count": null,
      "_view_module": "@jupyter-widgets/base",
      "_view_module_version": "1.2.0",
      "_view_name": "StyleView",
      "button_color": null,
      "font_weight": ""
     }
    },
    "bbe2ddf4f4eb4f8fb736d58f453ac411": {
     "model_module": "@jupyter-widgets/base",
     "model_module_version": "1.2.0",
     "model_name": "LayoutModel",
     "state": {
      "_model_module": "@jupyter-widgets/base",
      "_model_module_version": "1.2.0",
      "_model_name": "LayoutModel",
      "_view_count": null,
      "_view_module": "@jupyter-widgets/base",
      "_view_module_version": "1.2.0",
      "_view_name": "LayoutView",
      "align_content": null,
      "align_items": null,
      "align_self": null,
      "border": null,
      "bottom": null,
      "display": null,
      "flex": null,
      "flex_flow": null,
      "grid_area": null,
      "grid_auto_columns": null,
      "grid_auto_flow": null,
      "grid_auto_rows": null,
      "grid_column": null,
      "grid_gap": null,
      "grid_row": null,
      "grid_template_areas": null,
      "grid_template_columns": null,
      "grid_template_rows": null,
      "height": null,
      "justify_content": null,
      "justify_items": null,
      "left": null,
      "margin": null,
      "max_height": null,
      "max_width": null,
      "min_height": null,
      "min_width": null,
      "object_fit": null,
      "object_position": null,
      "order": null,
      "overflow": null,
      "overflow_x": null,
      "overflow_y": null,
      "padding": null,
      "right": null,
      "top": null,
      "visibility": null,
      "width": null
     }
    },
    "bc23dd8867e94617818f49ebb8fa23b2": {
     "model_module": "@jupyter-widgets/controls",
     "model_module_version": "1.5.0",
     "model_name": "HTMLModel",
     "state": {
      "_dom_classes": [],
      "_model_module": "@jupyter-widgets/controls",
      "_model_module_version": "1.5.0",
      "_model_name": "HTMLModel",
      "_view_count": null,
      "_view_module": "@jupyter-widgets/controls",
      "_view_module_version": "1.5.0",
      "_view_name": "HTMLView",
      "description": "",
      "description_tooltip": null,
      "layout": "IPY_MODEL_33d63377ddf2410a8f2f9fbe0628a215",
      "placeholder": "​",
      "style": "IPY_MODEL_f3afd874255b485fbdc7946f65be5959",
      "value": "<center> <img\nsrc=https://huggingface.co/front/assets/huggingface_logo-noborder.svg\nalt='Hugging Face'> <br> Copy a token from <a\nhref=\"https://huggingface.co/settings/tokens\" target=\"_blank\">your Hugging Face\ntokens page</a> and paste it below. <br> Immediately click login after copying\nyour token or it might be stored in plain text in this notebook file. </center>"
     }
    },
    "c38f28a89a3742fba3f644a9d92e55b7": {
     "model_module": "@jupyter-widgets/base",
     "model_module_version": "1.2.0",
     "model_name": "LayoutModel",
     "state": {
      "_model_module": "@jupyter-widgets/base",
      "_model_module_version": "1.2.0",
      "_model_name": "LayoutModel",
      "_view_count": null,
      "_view_module": "@jupyter-widgets/base",
      "_view_module_version": "1.2.0",
      "_view_name": "LayoutView",
      "align_content": null,
      "align_items": null,
      "align_self": null,
      "border": null,
      "bottom": null,
      "display": null,
      "flex": null,
      "flex_flow": null,
      "grid_area": null,
      "grid_auto_columns": null,
      "grid_auto_flow": null,
      "grid_auto_rows": null,
      "grid_column": null,
      "grid_gap": null,
      "grid_row": null,
      "grid_template_areas": null,
      "grid_template_columns": null,
      "grid_template_rows": null,
      "height": null,
      "justify_content": null,
      "justify_items": null,
      "left": null,
      "margin": null,
      "max_height": null,
      "max_width": null,
      "min_height": null,
      "min_width": null,
      "object_fit": null,
      "object_position": null,
      "order": null,
      "overflow": null,
      "overflow_x": null,
      "overflow_y": null,
      "padding": null,
      "right": null,
      "top": null,
      "visibility": null,
      "width": null
     }
    },
    "c5d6bdb2649542f89a7600cf13458740": {
     "model_module": "@jupyter-widgets/controls",
     "model_module_version": "1.5.0",
     "model_name": "DescriptionStyleModel",
     "state": {
      "_model_module": "@jupyter-widgets/controls",
      "_model_module_version": "1.5.0",
      "_model_name": "DescriptionStyleModel",
      "_view_count": null,
      "_view_module": "@jupyter-widgets/base",
      "_view_module_version": "1.2.0",
      "_view_name": "StyleView",
      "description_width": ""
     }
    },
    "e84bfdd29dd54883a92efec2ce708b2c": {
     "model_module": "@jupyter-widgets/controls",
     "model_module_version": "1.5.0",
     "model_name": "PasswordModel",
     "state": {
      "_dom_classes": [],
      "_model_module": "@jupyter-widgets/controls",
      "_model_module_version": "1.5.0",
      "_model_name": "PasswordModel",
      "_view_count": null,
      "_view_module": "@jupyter-widgets/controls",
      "_view_module_version": "1.5.0",
      "_view_name": "PasswordView",
      "continuous_update": true,
      "description": "Token:",
      "description_tooltip": null,
      "disabled": false,
      "layout": "IPY_MODEL_c38f28a89a3742fba3f644a9d92e55b7",
      "placeholder": "​",
      "style": "IPY_MODEL_ed953e50265a40bbbb3bbd6c8dd3a519",
      "value": ""
     }
    },
    "ed953e50265a40bbbb3bbd6c8dd3a519": {
     "model_module": "@jupyter-widgets/controls",
     "model_module_version": "1.5.0",
     "model_name": "DescriptionStyleModel",
     "state": {
      "_model_module": "@jupyter-widgets/controls",
      "_model_module_version": "1.5.0",
      "_model_name": "DescriptionStyleModel",
      "_view_count": null,
      "_view_module": "@jupyter-widgets/base",
      "_view_module_version": "1.2.0",
      "_view_name": "StyleView",
      "description_width": ""
     }
    },
    "ee1a9a59641c4c02b18f34b2122d850e": {
     "model_module": "@jupyter-widgets/controls",
     "model_module_version": "1.5.0",
     "model_name": "DescriptionStyleModel",
     "state": {
      "_model_module": "@jupyter-widgets/controls",
      "_model_module_version": "1.5.0",
      "_model_name": "DescriptionStyleModel",
      "_view_count": null,
      "_view_module": "@jupyter-widgets/base",
      "_view_module_version": "1.2.0",
      "_view_name": "StyleView",
      "description_width": ""
     }
    },
    "f0227269da10484b9e2f13fdd0f19370": {
     "model_module": "@jupyter-widgets/controls",
     "model_module_version": "1.5.0",
     "model_name": "HBoxModel",
     "state": {
      "_dom_classes": [],
      "_model_module": "@jupyter-widgets/controls",
      "_model_module_version": "1.5.0",
      "_model_name": "HBoxModel",
      "_view_count": null,
      "_view_module": "@jupyter-widgets/controls",
      "_view_module_version": "1.5.0",
      "_view_name": "HBoxView",
      "box_style": "",
      "children": [
       "IPY_MODEL_853dc9f08ba44a02b0fcd27b1ccb9181",
       "IPY_MODEL_93d87fcf11b5423ca3657b2f587ae164",
       "IPY_MODEL_89c97bbc1bf94ce6a948bd4a6e7aebd3"
      ],
      "layout": "IPY_MODEL_02301f8eeb33460ea803b364f59c5ae1"
     }
    },
    "f3afd874255b485fbdc7946f65be5959": {
     "model_module": "@jupyter-widgets/controls",
     "model_module_version": "1.5.0",
     "model_name": "DescriptionStyleModel",
     "state": {
      "_model_module": "@jupyter-widgets/controls",
      "_model_module_version": "1.5.0",
      "_model_name": "DescriptionStyleModel",
      "_view_count": null,
      "_view_module": "@jupyter-widgets/base",
      "_view_module_version": "1.2.0",
      "_view_name": "StyleView",
      "description_width": ""
     }
    },
    "fc0dc89877724ed6a21e622725580368": {
     "model_module": "@jupyter-widgets/controls",
     "model_module_version": "1.5.0",
     "model_name": "ButtonStyleModel",
     "state": {
      "_model_module": "@jupyter-widgets/controls",
      "_model_module_version": "1.5.0",
      "_model_name": "ButtonStyleModel",
      "_view_count": null,
      "_view_module": "@jupyter-widgets/base",
      "_view_module_version": "1.2.0",
      "_view_name": "StyleView",
      "button_color": null,
      "font_weight": ""
     }
    }
   }
  }
 },
 "nbformat": 4,
 "nbformat_minor": 5
}
